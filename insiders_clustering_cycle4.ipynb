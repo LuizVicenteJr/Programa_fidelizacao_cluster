{
  "nbformat": 4,
  "nbformat_minor": 0,
  "metadata": {
    "colab": {
      "provenance": [],
      "collapsed_sections": [
        "-wBXiYIUTQ72",
        "vGi_LC-zTa4-",
        "Y64lCSbeWyFs",
        "s79k-1QFb1LQ",
        "yzebGYlnFWj0",
        "ksGgX5orDWUb",
        "_RVa96ETEMaE",
        "O1MOUcurFsg7",
        "LLVGwAHExKWN",
        "NtTSMOliF2Nq",
        "YBItnMfCJanm",
        "vnLM-2FhS0DI",
        "Mh1qude2kxb3",
        "4Z5gDtLLmrzw",
        "y0FxZObSwwPC",
        "sXaUWGlcb8BZ",
        "aEQoWmGlcAMY",
        "E5mlN58KcGh4",
        "DTNuCDyVfniS",
        "5ef2UQJPoe4Q"
      ],
      "authorship_tag": "ABX9TyPT7KnZZXwGFyF5SBqxBaR1",
      "include_colab_link": true
    },
    "kernelspec": {
      "name": "python3",
      "display_name": "Python 3"
    },
    "language_info": {
      "name": "python"
    },
    "widgets": {
      "application/vnd.jupyter.widget-state+json": {
        "5b5578d3c4ad49d6b0e1d90d70f08cd1": {
          "model_module": "@jupyter-widgets/controls",
          "model_name": "HBoxModel",
          "model_module_version": "1.5.0",
          "state": {
            "_dom_classes": [],
            "_model_module": "@jupyter-widgets/controls",
            "_model_module_version": "1.5.0",
            "_model_name": "HBoxModel",
            "_view_count": null,
            "_view_module": "@jupyter-widgets/controls",
            "_view_module_version": "1.5.0",
            "_view_name": "HBoxView",
            "box_style": "",
            "children": [
              "IPY_MODEL_7729adad9a0c4cecbc23b8d41ee7bea3",
              "IPY_MODEL_e08d34075f634f4391e1135d7a09b577",
              "IPY_MODEL_10120f72ec244e4cb0d8e7fa2e3bdc87"
            ],
            "layout": "IPY_MODEL_4a2e9aec5c9f47b18f19dd31eb7697bb"
          }
        },
        "7729adad9a0c4cecbc23b8d41ee7bea3": {
          "model_module": "@jupyter-widgets/controls",
          "model_name": "HTMLModel",
          "model_module_version": "1.5.0",
          "state": {
            "_dom_classes": [],
            "_model_module": "@jupyter-widgets/controls",
            "_model_module_version": "1.5.0",
            "_model_name": "HTMLModel",
            "_view_count": null,
            "_view_module": "@jupyter-widgets/controls",
            "_view_module_version": "1.5.0",
            "_view_name": "HTMLView",
            "description": "",
            "description_tooltip": null,
            "layout": "IPY_MODEL_92c41621cebb46d296fbbe3b0e31037e",
            "placeholder": "​",
            "style": "IPY_MODEL_96f65bbebf594f90bd38c5600aa645b4",
            "value": "Summarize dataset: 100%"
          }
        },
        "e08d34075f634f4391e1135d7a09b577": {
          "model_module": "@jupyter-widgets/controls",
          "model_name": "FloatProgressModel",
          "model_module_version": "1.5.0",
          "state": {
            "_dom_classes": [],
            "_model_module": "@jupyter-widgets/controls",
            "_model_module_version": "1.5.0",
            "_model_name": "FloatProgressModel",
            "_view_count": null,
            "_view_module": "@jupyter-widgets/controls",
            "_view_module_version": "1.5.0",
            "_view_name": "ProgressView",
            "bar_style": "success",
            "description": "",
            "description_tooltip": null,
            "layout": "IPY_MODEL_b92d42eb86634d67bf679feec99fd89e",
            "max": 5,
            "min": 0,
            "orientation": "horizontal",
            "style": "IPY_MODEL_f2987600d87043e98183712df992af79",
            "value": 5
          }
        },
        "10120f72ec244e4cb0d8e7fa2e3bdc87": {
          "model_module": "@jupyter-widgets/controls",
          "model_name": "HTMLModel",
          "model_module_version": "1.5.0",
          "state": {
            "_dom_classes": [],
            "_model_module": "@jupyter-widgets/controls",
            "_model_module_version": "1.5.0",
            "_model_name": "HTMLModel",
            "_view_count": null,
            "_view_module": "@jupyter-widgets/controls",
            "_view_module_version": "1.5.0",
            "_view_name": "HTMLView",
            "description": "",
            "description_tooltip": null,
            "layout": "IPY_MODEL_b37558e880594143a271f99b52fa77a7",
            "placeholder": "​",
            "style": "IPY_MODEL_8d8b399e85f540f9bf45279fba224692",
            "value": " 165/165 [00:28&lt;00:00,  5.99it/s, Completed]"
          }
        },
        "4a2e9aec5c9f47b18f19dd31eb7697bb": {
          "model_module": "@jupyter-widgets/base",
          "model_name": "LayoutModel",
          "model_module_version": "1.2.0",
          "state": {
            "_model_module": "@jupyter-widgets/base",
            "_model_module_version": "1.2.0",
            "_model_name": "LayoutModel",
            "_view_count": null,
            "_view_module": "@jupyter-widgets/base",
            "_view_module_version": "1.2.0",
            "_view_name": "LayoutView",
            "align_content": null,
            "align_items": null,
            "align_self": null,
            "border": null,
            "bottom": null,
            "display": null,
            "flex": null,
            "flex_flow": null,
            "grid_area": null,
            "grid_auto_columns": null,
            "grid_auto_flow": null,
            "grid_auto_rows": null,
            "grid_column": null,
            "grid_gap": null,
            "grid_row": null,
            "grid_template_areas": null,
            "grid_template_columns": null,
            "grid_template_rows": null,
            "height": null,
            "justify_content": null,
            "justify_items": null,
            "left": null,
            "margin": null,
            "max_height": null,
            "max_width": null,
            "min_height": null,
            "min_width": null,
            "object_fit": null,
            "object_position": null,
            "order": null,
            "overflow": null,
            "overflow_x": null,
            "overflow_y": null,
            "padding": null,
            "right": null,
            "top": null,
            "visibility": null,
            "width": null
          }
        },
        "92c41621cebb46d296fbbe3b0e31037e": {
          "model_module": "@jupyter-widgets/base",
          "model_name": "LayoutModel",
          "model_module_version": "1.2.0",
          "state": {
            "_model_module": "@jupyter-widgets/base",
            "_model_module_version": "1.2.0",
            "_model_name": "LayoutModel",
            "_view_count": null,
            "_view_module": "@jupyter-widgets/base",
            "_view_module_version": "1.2.0",
            "_view_name": "LayoutView",
            "align_content": null,
            "align_items": null,
            "align_self": null,
            "border": null,
            "bottom": null,
            "display": null,
            "flex": null,
            "flex_flow": null,
            "grid_area": null,
            "grid_auto_columns": null,
            "grid_auto_flow": null,
            "grid_auto_rows": null,
            "grid_column": null,
            "grid_gap": null,
            "grid_row": null,
            "grid_template_areas": null,
            "grid_template_columns": null,
            "grid_template_rows": null,
            "height": null,
            "justify_content": null,
            "justify_items": null,
            "left": null,
            "margin": null,
            "max_height": null,
            "max_width": null,
            "min_height": null,
            "min_width": null,
            "object_fit": null,
            "object_position": null,
            "order": null,
            "overflow": null,
            "overflow_x": null,
            "overflow_y": null,
            "padding": null,
            "right": null,
            "top": null,
            "visibility": null,
            "width": null
          }
        },
        "96f65bbebf594f90bd38c5600aa645b4": {
          "model_module": "@jupyter-widgets/controls",
          "model_name": "DescriptionStyleModel",
          "model_module_version": "1.5.0",
          "state": {
            "_model_module": "@jupyter-widgets/controls",
            "_model_module_version": "1.5.0",
            "_model_name": "DescriptionStyleModel",
            "_view_count": null,
            "_view_module": "@jupyter-widgets/base",
            "_view_module_version": "1.2.0",
            "_view_name": "StyleView",
            "description_width": ""
          }
        },
        "b92d42eb86634d67bf679feec99fd89e": {
          "model_module": "@jupyter-widgets/base",
          "model_name": "LayoutModel",
          "model_module_version": "1.2.0",
          "state": {
            "_model_module": "@jupyter-widgets/base",
            "_model_module_version": "1.2.0",
            "_model_name": "LayoutModel",
            "_view_count": null,
            "_view_module": "@jupyter-widgets/base",
            "_view_module_version": "1.2.0",
            "_view_name": "LayoutView",
            "align_content": null,
            "align_items": null,
            "align_self": null,
            "border": null,
            "bottom": null,
            "display": null,
            "flex": null,
            "flex_flow": null,
            "grid_area": null,
            "grid_auto_columns": null,
            "grid_auto_flow": null,
            "grid_auto_rows": null,
            "grid_column": null,
            "grid_gap": null,
            "grid_row": null,
            "grid_template_areas": null,
            "grid_template_columns": null,
            "grid_template_rows": null,
            "height": null,
            "justify_content": null,
            "justify_items": null,
            "left": null,
            "margin": null,
            "max_height": null,
            "max_width": null,
            "min_height": null,
            "min_width": null,
            "object_fit": null,
            "object_position": null,
            "order": null,
            "overflow": null,
            "overflow_x": null,
            "overflow_y": null,
            "padding": null,
            "right": null,
            "top": null,
            "visibility": null,
            "width": null
          }
        },
        "f2987600d87043e98183712df992af79": {
          "model_module": "@jupyter-widgets/controls",
          "model_name": "ProgressStyleModel",
          "model_module_version": "1.5.0",
          "state": {
            "_model_module": "@jupyter-widgets/controls",
            "_model_module_version": "1.5.0",
            "_model_name": "ProgressStyleModel",
            "_view_count": null,
            "_view_module": "@jupyter-widgets/base",
            "_view_module_version": "1.2.0",
            "_view_name": "StyleView",
            "bar_color": null,
            "description_width": ""
          }
        },
        "b37558e880594143a271f99b52fa77a7": {
          "model_module": "@jupyter-widgets/base",
          "model_name": "LayoutModel",
          "model_module_version": "1.2.0",
          "state": {
            "_model_module": "@jupyter-widgets/base",
            "_model_module_version": "1.2.0",
            "_model_name": "LayoutModel",
            "_view_count": null,
            "_view_module": "@jupyter-widgets/base",
            "_view_module_version": "1.2.0",
            "_view_name": "LayoutView",
            "align_content": null,
            "align_items": null,
            "align_self": null,
            "border": null,
            "bottom": null,
            "display": null,
            "flex": null,
            "flex_flow": null,
            "grid_area": null,
            "grid_auto_columns": null,
            "grid_auto_flow": null,
            "grid_auto_rows": null,
            "grid_column": null,
            "grid_gap": null,
            "grid_row": null,
            "grid_template_areas": null,
            "grid_template_columns": null,
            "grid_template_rows": null,
            "height": null,
            "justify_content": null,
            "justify_items": null,
            "left": null,
            "margin": null,
            "max_height": null,
            "max_width": null,
            "min_height": null,
            "min_width": null,
            "object_fit": null,
            "object_position": null,
            "order": null,
            "overflow": null,
            "overflow_x": null,
            "overflow_y": null,
            "padding": null,
            "right": null,
            "top": null,
            "visibility": null,
            "width": null
          }
        },
        "8d8b399e85f540f9bf45279fba224692": {
          "model_module": "@jupyter-widgets/controls",
          "model_name": "DescriptionStyleModel",
          "model_module_version": "1.5.0",
          "state": {
            "_model_module": "@jupyter-widgets/controls",
            "_model_module_version": "1.5.0",
            "_model_name": "DescriptionStyleModel",
            "_view_count": null,
            "_view_module": "@jupyter-widgets/base",
            "_view_module_version": "1.2.0",
            "_view_name": "StyleView",
            "description_width": ""
          }
        },
        "3bb033821a4a4f85aae7ef50dfc37e60": {
          "model_module": "@jupyter-widgets/controls",
          "model_name": "HBoxModel",
          "model_module_version": "1.5.0",
          "state": {
            "_dom_classes": [],
            "_model_module": "@jupyter-widgets/controls",
            "_model_module_version": "1.5.0",
            "_model_name": "HBoxModel",
            "_view_count": null,
            "_view_module": "@jupyter-widgets/controls",
            "_view_module_version": "1.5.0",
            "_view_name": "HBoxView",
            "box_style": "",
            "children": [
              "IPY_MODEL_a288a03c92e54888b83b42969401abb1",
              "IPY_MODEL_0f36d49518c84ac69a0277450712bc16",
              "IPY_MODEL_92bbbc60d866474aab4ab0f28eaddb5f"
            ],
            "layout": "IPY_MODEL_4114d86b3e8c499fa45191981be2dbca"
          }
        },
        "a288a03c92e54888b83b42969401abb1": {
          "model_module": "@jupyter-widgets/controls",
          "model_name": "HTMLModel",
          "model_module_version": "1.5.0",
          "state": {
            "_dom_classes": [],
            "_model_module": "@jupyter-widgets/controls",
            "_model_module_version": "1.5.0",
            "_model_name": "HTMLModel",
            "_view_count": null,
            "_view_module": "@jupyter-widgets/controls",
            "_view_module_version": "1.5.0",
            "_view_name": "HTMLView",
            "description": "",
            "description_tooltip": null,
            "layout": "IPY_MODEL_3689e71bbe394b94bceb66ddcc614636",
            "placeholder": "​",
            "style": "IPY_MODEL_4ca75d6174ad492180f496d61da6a45d",
            "value": "Generate report structure: 100%"
          }
        },
        "0f36d49518c84ac69a0277450712bc16": {
          "model_module": "@jupyter-widgets/controls",
          "model_name": "FloatProgressModel",
          "model_module_version": "1.5.0",
          "state": {
            "_dom_classes": [],
            "_model_module": "@jupyter-widgets/controls",
            "_model_module_version": "1.5.0",
            "_model_name": "FloatProgressModel",
            "_view_count": null,
            "_view_module": "@jupyter-widgets/controls",
            "_view_module_version": "1.5.0",
            "_view_name": "ProgressView",
            "bar_style": "success",
            "description": "",
            "description_tooltip": null,
            "layout": "IPY_MODEL_f43151bcb4f84286992868b6b30220c4",
            "max": 1,
            "min": 0,
            "orientation": "horizontal",
            "style": "IPY_MODEL_05ea1b96ec564a45a294d3dfec70cf89",
            "value": 1
          }
        },
        "92bbbc60d866474aab4ab0f28eaddb5f": {
          "model_module": "@jupyter-widgets/controls",
          "model_name": "HTMLModel",
          "model_module_version": "1.5.0",
          "state": {
            "_dom_classes": [],
            "_model_module": "@jupyter-widgets/controls",
            "_model_module_version": "1.5.0",
            "_model_name": "HTMLModel",
            "_view_count": null,
            "_view_module": "@jupyter-widgets/controls",
            "_view_module_version": "1.5.0",
            "_view_name": "HTMLView",
            "description": "",
            "description_tooltip": null,
            "layout": "IPY_MODEL_ba3f4050c5cd47b7b66296752bf27428",
            "placeholder": "​",
            "style": "IPY_MODEL_8794b00baacd43c4afdaa17fa9193d58",
            "value": " 1/1 [00:06&lt;00:00,  6.55s/it]"
          }
        },
        "4114d86b3e8c499fa45191981be2dbca": {
          "model_module": "@jupyter-widgets/base",
          "model_name": "LayoutModel",
          "model_module_version": "1.2.0",
          "state": {
            "_model_module": "@jupyter-widgets/base",
            "_model_module_version": "1.2.0",
            "_model_name": "LayoutModel",
            "_view_count": null,
            "_view_module": "@jupyter-widgets/base",
            "_view_module_version": "1.2.0",
            "_view_name": "LayoutView",
            "align_content": null,
            "align_items": null,
            "align_self": null,
            "border": null,
            "bottom": null,
            "display": null,
            "flex": null,
            "flex_flow": null,
            "grid_area": null,
            "grid_auto_columns": null,
            "grid_auto_flow": null,
            "grid_auto_rows": null,
            "grid_column": null,
            "grid_gap": null,
            "grid_row": null,
            "grid_template_areas": null,
            "grid_template_columns": null,
            "grid_template_rows": null,
            "height": null,
            "justify_content": null,
            "justify_items": null,
            "left": null,
            "margin": null,
            "max_height": null,
            "max_width": null,
            "min_height": null,
            "min_width": null,
            "object_fit": null,
            "object_position": null,
            "order": null,
            "overflow": null,
            "overflow_x": null,
            "overflow_y": null,
            "padding": null,
            "right": null,
            "top": null,
            "visibility": null,
            "width": null
          }
        },
        "3689e71bbe394b94bceb66ddcc614636": {
          "model_module": "@jupyter-widgets/base",
          "model_name": "LayoutModel",
          "model_module_version": "1.2.0",
          "state": {
            "_model_module": "@jupyter-widgets/base",
            "_model_module_version": "1.2.0",
            "_model_name": "LayoutModel",
            "_view_count": null,
            "_view_module": "@jupyter-widgets/base",
            "_view_module_version": "1.2.0",
            "_view_name": "LayoutView",
            "align_content": null,
            "align_items": null,
            "align_self": null,
            "border": null,
            "bottom": null,
            "display": null,
            "flex": null,
            "flex_flow": null,
            "grid_area": null,
            "grid_auto_columns": null,
            "grid_auto_flow": null,
            "grid_auto_rows": null,
            "grid_column": null,
            "grid_gap": null,
            "grid_row": null,
            "grid_template_areas": null,
            "grid_template_columns": null,
            "grid_template_rows": null,
            "height": null,
            "justify_content": null,
            "justify_items": null,
            "left": null,
            "margin": null,
            "max_height": null,
            "max_width": null,
            "min_height": null,
            "min_width": null,
            "object_fit": null,
            "object_position": null,
            "order": null,
            "overflow": null,
            "overflow_x": null,
            "overflow_y": null,
            "padding": null,
            "right": null,
            "top": null,
            "visibility": null,
            "width": null
          }
        },
        "4ca75d6174ad492180f496d61da6a45d": {
          "model_module": "@jupyter-widgets/controls",
          "model_name": "DescriptionStyleModel",
          "model_module_version": "1.5.0",
          "state": {
            "_model_module": "@jupyter-widgets/controls",
            "_model_module_version": "1.5.0",
            "_model_name": "DescriptionStyleModel",
            "_view_count": null,
            "_view_module": "@jupyter-widgets/base",
            "_view_module_version": "1.2.0",
            "_view_name": "StyleView",
            "description_width": ""
          }
        },
        "f43151bcb4f84286992868b6b30220c4": {
          "model_module": "@jupyter-widgets/base",
          "model_name": "LayoutModel",
          "model_module_version": "1.2.0",
          "state": {
            "_model_module": "@jupyter-widgets/base",
            "_model_module_version": "1.2.0",
            "_model_name": "LayoutModel",
            "_view_count": null,
            "_view_module": "@jupyter-widgets/base",
            "_view_module_version": "1.2.0",
            "_view_name": "LayoutView",
            "align_content": null,
            "align_items": null,
            "align_self": null,
            "border": null,
            "bottom": null,
            "display": null,
            "flex": null,
            "flex_flow": null,
            "grid_area": null,
            "grid_auto_columns": null,
            "grid_auto_flow": null,
            "grid_auto_rows": null,
            "grid_column": null,
            "grid_gap": null,
            "grid_row": null,
            "grid_template_areas": null,
            "grid_template_columns": null,
            "grid_template_rows": null,
            "height": null,
            "justify_content": null,
            "justify_items": null,
            "left": null,
            "margin": null,
            "max_height": null,
            "max_width": null,
            "min_height": null,
            "min_width": null,
            "object_fit": null,
            "object_position": null,
            "order": null,
            "overflow": null,
            "overflow_x": null,
            "overflow_y": null,
            "padding": null,
            "right": null,
            "top": null,
            "visibility": null,
            "width": null
          }
        },
        "05ea1b96ec564a45a294d3dfec70cf89": {
          "model_module": "@jupyter-widgets/controls",
          "model_name": "ProgressStyleModel",
          "model_module_version": "1.5.0",
          "state": {
            "_model_module": "@jupyter-widgets/controls",
            "_model_module_version": "1.5.0",
            "_model_name": "ProgressStyleModel",
            "_view_count": null,
            "_view_module": "@jupyter-widgets/base",
            "_view_module_version": "1.2.0",
            "_view_name": "StyleView",
            "bar_color": null,
            "description_width": ""
          }
        },
        "ba3f4050c5cd47b7b66296752bf27428": {
          "model_module": "@jupyter-widgets/base",
          "model_name": "LayoutModel",
          "model_module_version": "1.2.0",
          "state": {
            "_model_module": "@jupyter-widgets/base",
            "_model_module_version": "1.2.0",
            "_model_name": "LayoutModel",
            "_view_count": null,
            "_view_module": "@jupyter-widgets/base",
            "_view_module_version": "1.2.0",
            "_view_name": "LayoutView",
            "align_content": null,
            "align_items": null,
            "align_self": null,
            "border": null,
            "bottom": null,
            "display": null,
            "flex": null,
            "flex_flow": null,
            "grid_area": null,
            "grid_auto_columns": null,
            "grid_auto_flow": null,
            "grid_auto_rows": null,
            "grid_column": null,
            "grid_gap": null,
            "grid_row": null,
            "grid_template_areas": null,
            "grid_template_columns": null,
            "grid_template_rows": null,
            "height": null,
            "justify_content": null,
            "justify_items": null,
            "left": null,
            "margin": null,
            "max_height": null,
            "max_width": null,
            "min_height": null,
            "min_width": null,
            "object_fit": null,
            "object_position": null,
            "order": null,
            "overflow": null,
            "overflow_x": null,
            "overflow_y": null,
            "padding": null,
            "right": null,
            "top": null,
            "visibility": null,
            "width": null
          }
        },
        "8794b00baacd43c4afdaa17fa9193d58": {
          "model_module": "@jupyter-widgets/controls",
          "model_name": "DescriptionStyleModel",
          "model_module_version": "1.5.0",
          "state": {
            "_model_module": "@jupyter-widgets/controls",
            "_model_module_version": "1.5.0",
            "_model_name": "DescriptionStyleModel",
            "_view_count": null,
            "_view_module": "@jupyter-widgets/base",
            "_view_module_version": "1.2.0",
            "_view_name": "StyleView",
            "description_width": ""
          }
        },
        "7fa1eaeb7d844f789408117e9a083fba": {
          "model_module": "@jupyter-widgets/controls",
          "model_name": "HBoxModel",
          "model_module_version": "1.5.0",
          "state": {
            "_dom_classes": [],
            "_model_module": "@jupyter-widgets/controls",
            "_model_module_version": "1.5.0",
            "_model_name": "HBoxModel",
            "_view_count": null,
            "_view_module": "@jupyter-widgets/controls",
            "_view_module_version": "1.5.0",
            "_view_name": "HBoxView",
            "box_style": "",
            "children": [
              "IPY_MODEL_28b6ae7a27f84650bf6efa207559f9d6",
              "IPY_MODEL_09e05c79e8f94bc49069e14c0d0dc08e",
              "IPY_MODEL_5df63853813a4c07bdbf56bb5b27a72a"
            ],
            "layout": "IPY_MODEL_953c191332c440a1b924a5e49a908113"
          }
        },
        "28b6ae7a27f84650bf6efa207559f9d6": {
          "model_module": "@jupyter-widgets/controls",
          "model_name": "HTMLModel",
          "model_module_version": "1.5.0",
          "state": {
            "_dom_classes": [],
            "_model_module": "@jupyter-widgets/controls",
            "_model_module_version": "1.5.0",
            "_model_name": "HTMLModel",
            "_view_count": null,
            "_view_module": "@jupyter-widgets/controls",
            "_view_module_version": "1.5.0",
            "_view_name": "HTMLView",
            "description": "",
            "description_tooltip": null,
            "layout": "IPY_MODEL_4fff0d9fd5ef46a4a7d4f5c59e72ca28",
            "placeholder": "​",
            "style": "IPY_MODEL_3957a333314b4e8a9a1517422deaf574",
            "value": "Render HTML: 100%"
          }
        },
        "09e05c79e8f94bc49069e14c0d0dc08e": {
          "model_module": "@jupyter-widgets/controls",
          "model_name": "FloatProgressModel",
          "model_module_version": "1.5.0",
          "state": {
            "_dom_classes": [],
            "_model_module": "@jupyter-widgets/controls",
            "_model_module_version": "1.5.0",
            "_model_name": "FloatProgressModel",
            "_view_count": null,
            "_view_module": "@jupyter-widgets/controls",
            "_view_module_version": "1.5.0",
            "_view_name": "ProgressView",
            "bar_style": "success",
            "description": "",
            "description_tooltip": null,
            "layout": "IPY_MODEL_e5975bde620f4ad1ad558ec0dcb983a0",
            "max": 1,
            "min": 0,
            "orientation": "horizontal",
            "style": "IPY_MODEL_1584d72be79d4443a957982c84e2a744",
            "value": 1
          }
        },
        "5df63853813a4c07bdbf56bb5b27a72a": {
          "model_module": "@jupyter-widgets/controls",
          "model_name": "HTMLModel",
          "model_module_version": "1.5.0",
          "state": {
            "_dom_classes": [],
            "_model_module": "@jupyter-widgets/controls",
            "_model_module_version": "1.5.0",
            "_model_name": "HTMLModel",
            "_view_count": null,
            "_view_module": "@jupyter-widgets/controls",
            "_view_module_version": "1.5.0",
            "_view_name": "HTMLView",
            "description": "",
            "description_tooltip": null,
            "layout": "IPY_MODEL_cc5cb6ef152c427db898c16012669011",
            "placeholder": "​",
            "style": "IPY_MODEL_e898c374a1c845938e6ccf32260ff852",
            "value": " 1/1 [00:05&lt;00:00,  5.26s/it]"
          }
        },
        "953c191332c440a1b924a5e49a908113": {
          "model_module": "@jupyter-widgets/base",
          "model_name": "LayoutModel",
          "model_module_version": "1.2.0",
          "state": {
            "_model_module": "@jupyter-widgets/base",
            "_model_module_version": "1.2.0",
            "_model_name": "LayoutModel",
            "_view_count": null,
            "_view_module": "@jupyter-widgets/base",
            "_view_module_version": "1.2.0",
            "_view_name": "LayoutView",
            "align_content": null,
            "align_items": null,
            "align_self": null,
            "border": null,
            "bottom": null,
            "display": null,
            "flex": null,
            "flex_flow": null,
            "grid_area": null,
            "grid_auto_columns": null,
            "grid_auto_flow": null,
            "grid_auto_rows": null,
            "grid_column": null,
            "grid_gap": null,
            "grid_row": null,
            "grid_template_areas": null,
            "grid_template_columns": null,
            "grid_template_rows": null,
            "height": null,
            "justify_content": null,
            "justify_items": null,
            "left": null,
            "margin": null,
            "max_height": null,
            "max_width": null,
            "min_height": null,
            "min_width": null,
            "object_fit": null,
            "object_position": null,
            "order": null,
            "overflow": null,
            "overflow_x": null,
            "overflow_y": null,
            "padding": null,
            "right": null,
            "top": null,
            "visibility": null,
            "width": null
          }
        },
        "4fff0d9fd5ef46a4a7d4f5c59e72ca28": {
          "model_module": "@jupyter-widgets/base",
          "model_name": "LayoutModel",
          "model_module_version": "1.2.0",
          "state": {
            "_model_module": "@jupyter-widgets/base",
            "_model_module_version": "1.2.0",
            "_model_name": "LayoutModel",
            "_view_count": null,
            "_view_module": "@jupyter-widgets/base",
            "_view_module_version": "1.2.0",
            "_view_name": "LayoutView",
            "align_content": null,
            "align_items": null,
            "align_self": null,
            "border": null,
            "bottom": null,
            "display": null,
            "flex": null,
            "flex_flow": null,
            "grid_area": null,
            "grid_auto_columns": null,
            "grid_auto_flow": null,
            "grid_auto_rows": null,
            "grid_column": null,
            "grid_gap": null,
            "grid_row": null,
            "grid_template_areas": null,
            "grid_template_columns": null,
            "grid_template_rows": null,
            "height": null,
            "justify_content": null,
            "justify_items": null,
            "left": null,
            "margin": null,
            "max_height": null,
            "max_width": null,
            "min_height": null,
            "min_width": null,
            "object_fit": null,
            "object_position": null,
            "order": null,
            "overflow": null,
            "overflow_x": null,
            "overflow_y": null,
            "padding": null,
            "right": null,
            "top": null,
            "visibility": null,
            "width": null
          }
        },
        "3957a333314b4e8a9a1517422deaf574": {
          "model_module": "@jupyter-widgets/controls",
          "model_name": "DescriptionStyleModel",
          "model_module_version": "1.5.0",
          "state": {
            "_model_module": "@jupyter-widgets/controls",
            "_model_module_version": "1.5.0",
            "_model_name": "DescriptionStyleModel",
            "_view_count": null,
            "_view_module": "@jupyter-widgets/base",
            "_view_module_version": "1.2.0",
            "_view_name": "StyleView",
            "description_width": ""
          }
        },
        "e5975bde620f4ad1ad558ec0dcb983a0": {
          "model_module": "@jupyter-widgets/base",
          "model_name": "LayoutModel",
          "model_module_version": "1.2.0",
          "state": {
            "_model_module": "@jupyter-widgets/base",
            "_model_module_version": "1.2.0",
            "_model_name": "LayoutModel",
            "_view_count": null,
            "_view_module": "@jupyter-widgets/base",
            "_view_module_version": "1.2.0",
            "_view_name": "LayoutView",
            "align_content": null,
            "align_items": null,
            "align_self": null,
            "border": null,
            "bottom": null,
            "display": null,
            "flex": null,
            "flex_flow": null,
            "grid_area": null,
            "grid_auto_columns": null,
            "grid_auto_flow": null,
            "grid_auto_rows": null,
            "grid_column": null,
            "grid_gap": null,
            "grid_row": null,
            "grid_template_areas": null,
            "grid_template_columns": null,
            "grid_template_rows": null,
            "height": null,
            "justify_content": null,
            "justify_items": null,
            "left": null,
            "margin": null,
            "max_height": null,
            "max_width": null,
            "min_height": null,
            "min_width": null,
            "object_fit": null,
            "object_position": null,
            "order": null,
            "overflow": null,
            "overflow_x": null,
            "overflow_y": null,
            "padding": null,
            "right": null,
            "top": null,
            "visibility": null,
            "width": null
          }
        },
        "1584d72be79d4443a957982c84e2a744": {
          "model_module": "@jupyter-widgets/controls",
          "model_name": "ProgressStyleModel",
          "model_module_version": "1.5.0",
          "state": {
            "_model_module": "@jupyter-widgets/controls",
            "_model_module_version": "1.5.0",
            "_model_name": "ProgressStyleModel",
            "_view_count": null,
            "_view_module": "@jupyter-widgets/base",
            "_view_module_version": "1.2.0",
            "_view_name": "StyleView",
            "bar_color": null,
            "description_width": ""
          }
        },
        "cc5cb6ef152c427db898c16012669011": {
          "model_module": "@jupyter-widgets/base",
          "model_name": "LayoutModel",
          "model_module_version": "1.2.0",
          "state": {
            "_model_module": "@jupyter-widgets/base",
            "_model_module_version": "1.2.0",
            "_model_name": "LayoutModel",
            "_view_count": null,
            "_view_module": "@jupyter-widgets/base",
            "_view_module_version": "1.2.0",
            "_view_name": "LayoutView",
            "align_content": null,
            "align_items": null,
            "align_self": null,
            "border": null,
            "bottom": null,
            "display": null,
            "flex": null,
            "flex_flow": null,
            "grid_area": null,
            "grid_auto_columns": null,
            "grid_auto_flow": null,
            "grid_auto_rows": null,
            "grid_column": null,
            "grid_gap": null,
            "grid_row": null,
            "grid_template_areas": null,
            "grid_template_columns": null,
            "grid_template_rows": null,
            "height": null,
            "justify_content": null,
            "justify_items": null,
            "left": null,
            "margin": null,
            "max_height": null,
            "max_width": null,
            "min_height": null,
            "min_width": null,
            "object_fit": null,
            "object_position": null,
            "order": null,
            "overflow": null,
            "overflow_x": null,
            "overflow_y": null,
            "padding": null,
            "right": null,
            "top": null,
            "visibility": null,
            "width": null
          }
        },
        "e898c374a1c845938e6ccf32260ff852": {
          "model_module": "@jupyter-widgets/controls",
          "model_name": "DescriptionStyleModel",
          "model_module_version": "1.5.0",
          "state": {
            "_model_module": "@jupyter-widgets/controls",
            "_model_module_version": "1.5.0",
            "_model_name": "DescriptionStyleModel",
            "_view_count": null,
            "_view_module": "@jupyter-widgets/base",
            "_view_module_version": "1.2.0",
            "_view_name": "StyleView",
            "description_width": ""
          }
        },
        "03f7ee0cd9604d598f1463bac9a8e3e8": {
          "model_module": "@jupyter-widgets/controls",
          "model_name": "HBoxModel",
          "model_module_version": "1.5.0",
          "state": {
            "_dom_classes": [],
            "_model_module": "@jupyter-widgets/controls",
            "_model_module_version": "1.5.0",
            "_model_name": "HBoxModel",
            "_view_count": null,
            "_view_module": "@jupyter-widgets/controls",
            "_view_module_version": "1.5.0",
            "_view_name": "HBoxView",
            "box_style": "",
            "children": [
              "IPY_MODEL_5f94561cf5474a19a3007d466e43aabf",
              "IPY_MODEL_27ae88a1f1a046b383e86d3779384242",
              "IPY_MODEL_d707a855dc604dc4813d19ebbf146961"
            ],
            "layout": "IPY_MODEL_7506c3add76347489f91589ce6c73b15"
          }
        },
        "5f94561cf5474a19a3007d466e43aabf": {
          "model_module": "@jupyter-widgets/controls",
          "model_name": "HTMLModel",
          "model_module_version": "1.5.0",
          "state": {
            "_dom_classes": [],
            "_model_module": "@jupyter-widgets/controls",
            "_model_module_version": "1.5.0",
            "_model_name": "HTMLModel",
            "_view_count": null,
            "_view_module": "@jupyter-widgets/controls",
            "_view_module_version": "1.5.0",
            "_view_name": "HTMLView",
            "description": "",
            "description_tooltip": null,
            "layout": "IPY_MODEL_0ecee602f0a4483f8c7be72e6bb54202",
            "placeholder": "​",
            "style": "IPY_MODEL_9ec6849e5bfc40a498cde11cd8669c7d",
            "value": "Export report to file: 100%"
          }
        },
        "27ae88a1f1a046b383e86d3779384242": {
          "model_module": "@jupyter-widgets/controls",
          "model_name": "FloatProgressModel",
          "model_module_version": "1.5.0",
          "state": {
            "_dom_classes": [],
            "_model_module": "@jupyter-widgets/controls",
            "_model_module_version": "1.5.0",
            "_model_name": "FloatProgressModel",
            "_view_count": null,
            "_view_module": "@jupyter-widgets/controls",
            "_view_module_version": "1.5.0",
            "_view_name": "ProgressView",
            "bar_style": "success",
            "description": "",
            "description_tooltip": null,
            "layout": "IPY_MODEL_07b2bcd70be741f785ddd04cfaaceee0",
            "max": 1,
            "min": 0,
            "orientation": "horizontal",
            "style": "IPY_MODEL_6a71fd1c2ed64bc5867ed3f4196a0018",
            "value": 1
          }
        },
        "d707a855dc604dc4813d19ebbf146961": {
          "model_module": "@jupyter-widgets/controls",
          "model_name": "HTMLModel",
          "model_module_version": "1.5.0",
          "state": {
            "_dom_classes": [],
            "_model_module": "@jupyter-widgets/controls",
            "_model_module_version": "1.5.0",
            "_model_name": "HTMLModel",
            "_view_count": null,
            "_view_module": "@jupyter-widgets/controls",
            "_view_module_version": "1.5.0",
            "_view_name": "HTMLView",
            "description": "",
            "description_tooltip": null,
            "layout": "IPY_MODEL_b7ce8c9c2ed548df86e63971e39ebbf5",
            "placeholder": "​",
            "style": "IPY_MODEL_e5707e323f2f42a1ad6c559c5de83fc1",
            "value": " 1/1 [00:00&lt;00:00, 12.56it/s]"
          }
        },
        "7506c3add76347489f91589ce6c73b15": {
          "model_module": "@jupyter-widgets/base",
          "model_name": "LayoutModel",
          "model_module_version": "1.2.0",
          "state": {
            "_model_module": "@jupyter-widgets/base",
            "_model_module_version": "1.2.0",
            "_model_name": "LayoutModel",
            "_view_count": null,
            "_view_module": "@jupyter-widgets/base",
            "_view_module_version": "1.2.0",
            "_view_name": "LayoutView",
            "align_content": null,
            "align_items": null,
            "align_self": null,
            "border": null,
            "bottom": null,
            "display": null,
            "flex": null,
            "flex_flow": null,
            "grid_area": null,
            "grid_auto_columns": null,
            "grid_auto_flow": null,
            "grid_auto_rows": null,
            "grid_column": null,
            "grid_gap": null,
            "grid_row": null,
            "grid_template_areas": null,
            "grid_template_columns": null,
            "grid_template_rows": null,
            "height": null,
            "justify_content": null,
            "justify_items": null,
            "left": null,
            "margin": null,
            "max_height": null,
            "max_width": null,
            "min_height": null,
            "min_width": null,
            "object_fit": null,
            "object_position": null,
            "order": null,
            "overflow": null,
            "overflow_x": null,
            "overflow_y": null,
            "padding": null,
            "right": null,
            "top": null,
            "visibility": null,
            "width": null
          }
        },
        "0ecee602f0a4483f8c7be72e6bb54202": {
          "model_module": "@jupyter-widgets/base",
          "model_name": "LayoutModel",
          "model_module_version": "1.2.0",
          "state": {
            "_model_module": "@jupyter-widgets/base",
            "_model_module_version": "1.2.0",
            "_model_name": "LayoutModel",
            "_view_count": null,
            "_view_module": "@jupyter-widgets/base",
            "_view_module_version": "1.2.0",
            "_view_name": "LayoutView",
            "align_content": null,
            "align_items": null,
            "align_self": null,
            "border": null,
            "bottom": null,
            "display": null,
            "flex": null,
            "flex_flow": null,
            "grid_area": null,
            "grid_auto_columns": null,
            "grid_auto_flow": null,
            "grid_auto_rows": null,
            "grid_column": null,
            "grid_gap": null,
            "grid_row": null,
            "grid_template_areas": null,
            "grid_template_columns": null,
            "grid_template_rows": null,
            "height": null,
            "justify_content": null,
            "justify_items": null,
            "left": null,
            "margin": null,
            "max_height": null,
            "max_width": null,
            "min_height": null,
            "min_width": null,
            "object_fit": null,
            "object_position": null,
            "order": null,
            "overflow": null,
            "overflow_x": null,
            "overflow_y": null,
            "padding": null,
            "right": null,
            "top": null,
            "visibility": null,
            "width": null
          }
        },
        "9ec6849e5bfc40a498cde11cd8669c7d": {
          "model_module": "@jupyter-widgets/controls",
          "model_name": "DescriptionStyleModel",
          "model_module_version": "1.5.0",
          "state": {
            "_model_module": "@jupyter-widgets/controls",
            "_model_module_version": "1.5.0",
            "_model_name": "DescriptionStyleModel",
            "_view_count": null,
            "_view_module": "@jupyter-widgets/base",
            "_view_module_version": "1.2.0",
            "_view_name": "StyleView",
            "description_width": ""
          }
        },
        "07b2bcd70be741f785ddd04cfaaceee0": {
          "model_module": "@jupyter-widgets/base",
          "model_name": "LayoutModel",
          "model_module_version": "1.2.0",
          "state": {
            "_model_module": "@jupyter-widgets/base",
            "_model_module_version": "1.2.0",
            "_model_name": "LayoutModel",
            "_view_count": null,
            "_view_module": "@jupyter-widgets/base",
            "_view_module_version": "1.2.0",
            "_view_name": "LayoutView",
            "align_content": null,
            "align_items": null,
            "align_self": null,
            "border": null,
            "bottom": null,
            "display": null,
            "flex": null,
            "flex_flow": null,
            "grid_area": null,
            "grid_auto_columns": null,
            "grid_auto_flow": null,
            "grid_auto_rows": null,
            "grid_column": null,
            "grid_gap": null,
            "grid_row": null,
            "grid_template_areas": null,
            "grid_template_columns": null,
            "grid_template_rows": null,
            "height": null,
            "justify_content": null,
            "justify_items": null,
            "left": null,
            "margin": null,
            "max_height": null,
            "max_width": null,
            "min_height": null,
            "min_width": null,
            "object_fit": null,
            "object_position": null,
            "order": null,
            "overflow": null,
            "overflow_x": null,
            "overflow_y": null,
            "padding": null,
            "right": null,
            "top": null,
            "visibility": null,
            "width": null
          }
        },
        "6a71fd1c2ed64bc5867ed3f4196a0018": {
          "model_module": "@jupyter-widgets/controls",
          "model_name": "ProgressStyleModel",
          "model_module_version": "1.5.0",
          "state": {
            "_model_module": "@jupyter-widgets/controls",
            "_model_module_version": "1.5.0",
            "_model_name": "ProgressStyleModel",
            "_view_count": null,
            "_view_module": "@jupyter-widgets/base",
            "_view_module_version": "1.2.0",
            "_view_name": "StyleView",
            "bar_color": null,
            "description_width": ""
          }
        },
        "b7ce8c9c2ed548df86e63971e39ebbf5": {
          "model_module": "@jupyter-widgets/base",
          "model_name": "LayoutModel",
          "model_module_version": "1.2.0",
          "state": {
            "_model_module": "@jupyter-widgets/base",
            "_model_module_version": "1.2.0",
            "_model_name": "LayoutModel",
            "_view_count": null,
            "_view_module": "@jupyter-widgets/base",
            "_view_module_version": "1.2.0",
            "_view_name": "LayoutView",
            "align_content": null,
            "align_items": null,
            "align_self": null,
            "border": null,
            "bottom": null,
            "display": null,
            "flex": null,
            "flex_flow": null,
            "grid_area": null,
            "grid_auto_columns": null,
            "grid_auto_flow": null,
            "grid_auto_rows": null,
            "grid_column": null,
            "grid_gap": null,
            "grid_row": null,
            "grid_template_areas": null,
            "grid_template_columns": null,
            "grid_template_rows": null,
            "height": null,
            "justify_content": null,
            "justify_items": null,
            "left": null,
            "margin": null,
            "max_height": null,
            "max_width": null,
            "min_height": null,
            "min_width": null,
            "object_fit": null,
            "object_position": null,
            "order": null,
            "overflow": null,
            "overflow_x": null,
            "overflow_y": null,
            "padding": null,
            "right": null,
            "top": null,
            "visibility": null,
            "width": null
          }
        },
        "e5707e323f2f42a1ad6c559c5de83fc1": {
          "model_module": "@jupyter-widgets/controls",
          "model_name": "DescriptionStyleModel",
          "model_module_version": "1.5.0",
          "state": {
            "_model_module": "@jupyter-widgets/controls",
            "_model_module_version": "1.5.0",
            "_model_name": "DescriptionStyleModel",
            "_view_count": null,
            "_view_module": "@jupyter-widgets/base",
            "_view_module_version": "1.2.0",
            "_view_name": "StyleView",
            "description_width": ""
          }
        }
      }
    }
  },
  "cells": [
    {
      "cell_type": "markdown",
      "metadata": {
        "id": "view-in-github",
        "colab_type": "text"
      },
      "source": [
        "<a href=\"https://colab.research.google.com/github/LuizVicenteJr/insiders_clustering/blob/main/insiders_clustering_cycle4.ipynb\" target=\"_parent\"><img src=\"https://colab.research.google.com/assets/colab-badge.svg\" alt=\"Open In Colab\"/></a>"
      ]
    },
    {
      "cell_type": "markdown",
      "source": [
        "Planejamento da solução :\n",
        "\n",
        "* Problema de negócio -> Selecionar os clientes mais valiosos para integrar um programa de fidelização\n",
        "\n",
        "*Dataset -> Vendas de um e-commerce durante o período de um ano\n",
        "\n",
        "#Perguntas da equipe de negócios :    \n",
        "* Quantos clientes farão parte do grupo?\n",
        "* Quais as principais características desses clientes?\n",
        "* Qual a porcentagem de contribuição do faturamento vinda dos Insiders?\n",
        "* Qual a expectativa de faturamente deste grupo para os próximos meses?\n",
        "* Quais as condições para uma pessoa ser elegível ao Insiders?\n",
        "*  Quais as condições para uma pessoa ser removida do Insiders?\n",
        "* Qual a garantia que o programa Insiders é melhor que o restante da base?\n",
        "* Quais ações o time de marketing pode realizar para aumentar o faturamento\n",
        "\n",
        "\n"
      ],
      "metadata": {
        "id": "bHNJwogZMW4j"
      }
    },
    {
      "cell_type": "markdown",
      "source": [
        "# 0.0 IMPORTS"
      ],
      "metadata": {
        "id": "0_K-2_V9Si7c"
      }
    },
    {
      "cell_type": "code",
      "source": [
        "pip install umap-learn"
      ],
      "metadata": {
        "colab": {
          "base_uri": "https://localhost:8080/"
        },
        "id": "c8WwKkjIbaMb",
        "outputId": "995014cb-194b-40c9-f004-b020112b270e"
      },
      "execution_count": 1,
      "outputs": [
        {
          "output_type": "stream",
          "name": "stdout",
          "text": [
            "Looking in indexes: https://pypi.org/simple, https://us-python.pkg.dev/colab-wheels/public/simple/\n",
            "Requirement already satisfied: umap-learn in /usr/local/lib/python3.8/dist-packages (0.5.3)\n",
            "Requirement already satisfied: pynndescent>=0.5 in /usr/local/lib/python3.8/dist-packages (from umap-learn) (0.5.8)\n",
            "Requirement already satisfied: numpy>=1.17 in /usr/local/lib/python3.8/dist-packages (from umap-learn) (1.21.6)\n",
            "Requirement already satisfied: tqdm in /usr/local/lib/python3.8/dist-packages (from umap-learn) (4.64.1)\n",
            "Requirement already satisfied: scipy>=1.0 in /usr/local/lib/python3.8/dist-packages (from umap-learn) (1.7.3)\n",
            "Requirement already satisfied: numba>=0.49 in /usr/local/lib/python3.8/dist-packages (from umap-learn) (0.56.4)\n",
            "Requirement already satisfied: scikit-learn>=0.22 in /usr/local/lib/python3.8/dist-packages (from umap-learn) (1.0.2)\n",
            "Requirement already satisfied: setuptools in /usr/local/lib/python3.8/dist-packages (from numba>=0.49->umap-learn) (57.4.0)\n",
            "Requirement already satisfied: importlib-metadata in /usr/local/lib/python3.8/dist-packages (from numba>=0.49->umap-learn) (6.0.0)\n",
            "Requirement already satisfied: llvmlite<0.40,>=0.39.0dev0 in /usr/local/lib/python3.8/dist-packages (from numba>=0.49->umap-learn) (0.39.1)\n",
            "Requirement already satisfied: joblib>=0.11 in /usr/local/lib/python3.8/dist-packages (from pynndescent>=0.5->umap-learn) (1.2.0)\n",
            "Requirement already satisfied: threadpoolctl>=2.0.0 in /usr/local/lib/python3.8/dist-packages (from scikit-learn>=0.22->umap-learn) (3.1.0)\n",
            "Requirement already satisfied: zipp>=0.5 in /usr/local/lib/python3.8/dist-packages (from importlib-metadata->numba>=0.49->umap-learn) (3.11.0)\n"
          ]
        }
      ]
    },
    {
      "cell_type": "code",
      "execution_count": 2,
      "metadata": {
        "id": "Xh0HaTXrC0Rv"
      },
      "outputs": [],
      "source": [
        "import pandas as pd\n",
        "import numpy as np\n",
        "import seaborn as sns\n",
        "import umap.umap_ as umap \n",
        "import regex as re\n",
        "\n",
        "from matplotlib import pyplot as plt\n",
        "from IPython.display import Image\n",
        "from IPython.core.display import HTML\n",
        "\n",
        "\n",
        "\n",
        "from sklearn import cluster as c\n",
        "from sklearn import metrics as m\n",
        "from sklearn import preprocessing as pp\n",
        "from plotly import express as px\n",
        "from yellowbrick.cluster import KElbowVisualizer, SilhouetteVisualizer\n"
      ]
    },
    {
      "cell_type": "markdown",
      "source": [
        "## 0.1 HELPER FUNCTIONS"
      ],
      "metadata": {
        "id": "-wBXiYIUTQ72"
      }
    },
    {
      "cell_type": "code",
      "source": [
        "def jupyter_settings():\n",
        "  %matplotlib inline\n",
        "  %pylab inline\n",
        "  plt.style.use( 'bmh' )\n",
        "  plt.rcParams['figure.figsize'] = [25, 12]\n",
        "  plt.rcParams['font.size'] = 24\n",
        "  display( HTML( '') )\n",
        "  pd.options.display.max_columns = None\n",
        "  pd.options.display.max_rows = None\n",
        "  pd.set_option( 'display.expand_frame_repr', False )\n",
        "  sns.set()"
      ],
      "metadata": {
        "id": "khWSAC0zC5iP"
      },
      "execution_count": 3,
      "outputs": []
    },
    {
      "cell_type": "markdown",
      "source": [
        "## 0.2 LOAD DATASET"
      ],
      "metadata": {
        "id": "vGi_LC-zTa4-"
      }
    },
    {
      "cell_type": "code",
      "source": [
        "df_raw = pd.read_csv('/content/Ecommerce.csv',encoding='unicode_escape')\n",
        "\n",
        "#drop extra column\n",
        "df_raw= df_raw.drop(columns=['Unnamed: 8'],axis=1)"
      ],
      "metadata": {
        "id": "bKLRZokCTS3f"
      },
      "execution_count": 4,
      "outputs": []
    },
    {
      "cell_type": "markdown",
      "source": [
        "# 1.0 DATA DESCRIPTION"
      ],
      "metadata": {
        "id": "Y64lCSbeWyFs"
      }
    },
    {
      "cell_type": "code",
      "source": [
        "df1 = df_raw.copy()"
      ],
      "metadata": {
        "id": "evkinoFgdAYT"
      },
      "execution_count": 5,
      "outputs": []
    },
    {
      "cell_type": "markdown",
      "source": [
        "## 1.1 RENAME COLUMNS"
      ],
      "metadata": {
        "id": "iNZO8s6Yan3U"
      }
    },
    {
      "cell_type": "code",
      "source": [
        "df_raw.columns"
      ],
      "metadata": {
        "colab": {
          "base_uri": "https://localhost:8080/"
        },
        "id": "IujWtDoobE7n",
        "outputId": "6d2e73ad-dd70-4087-aab7-c3b8050138c8"
      },
      "execution_count": 6,
      "outputs": [
        {
          "output_type": "execute_result",
          "data": {
            "text/plain": [
              "Index(['InvoiceNo', 'StockCode', 'Description', 'Quantity', 'InvoiceDate',\n",
              "       'UnitPrice', 'CustomerID', 'Country'],\n",
              "      dtype='object')"
            ]
          },
          "metadata": {},
          "execution_count": 6
        }
      ]
    },
    {
      "cell_type": "code",
      "source": [
        "cols_new =['invoice_no', 'stock_code', 'description', 'quantity', 'invoice_date',\n",
        "       'unit_price', 'customer_id', 'country']\n",
        "\n",
        "df1.columns = cols_new"
      ],
      "metadata": {
        "id": "KqMvRkVPcaH1"
      },
      "execution_count": 7,
      "outputs": []
    },
    {
      "cell_type": "markdown",
      "source": [
        "## 1.2 DATA DIMENSIONS"
      ],
      "metadata": {
        "id": "VXNcaCgIasWl"
      }
    },
    {
      "cell_type": "code",
      "source": [
        "print('Number of rows : {}'.format(df1.shape[0]))\n",
        "print('Number of rows : {}'.format(df1.shape[1]))"
      ],
      "metadata": {
        "colab": {
          "base_uri": "https://localhost:8080/"
        },
        "id": "X3NTM7z5c8q7",
        "outputId": "22f04f5f-7c5b-44a2-d8cd-7116cec89eb3"
      },
      "execution_count": 8,
      "outputs": [
        {
          "output_type": "stream",
          "name": "stdout",
          "text": [
            "Number of rows : 541909\n",
            "Number of rows : 8\n"
          ]
        }
      ]
    },
    {
      "cell_type": "markdown",
      "source": [
        "## 1.3 DATA TYPES"
      ],
      "metadata": {
        "id": "OwBM9FsvauHo"
      }
    },
    {
      "cell_type": "code",
      "source": [
        "df1.dtypes"
      ],
      "metadata": {
        "colab": {
          "base_uri": "https://localhost:8080/"
        },
        "id": "_9j9dBwedco-",
        "outputId": "5716d215-abf0-402d-f6cb-a319b7b808cf"
      },
      "execution_count": 9,
      "outputs": [
        {
          "output_type": "execute_result",
          "data": {
            "text/plain": [
              "invoice_no       object\n",
              "stock_code       object\n",
              "description      object\n",
              "quantity          int64\n",
              "invoice_date     object\n",
              "unit_price      float64\n",
              "customer_id     float64\n",
              "country          object\n",
              "dtype: object"
            ]
          },
          "metadata": {},
          "execution_count": 9
        }
      ]
    },
    {
      "cell_type": "markdown",
      "source": [
        "## 1.4 CHECK NA"
      ],
      "metadata": {
        "id": "TkDK7c7Oa0h-"
      }
    },
    {
      "cell_type": "code",
      "source": [
        "df1.isna().sum()"
      ],
      "metadata": {
        "colab": {
          "base_uri": "https://localhost:8080/"
        },
        "id": "576nw2ZPd3wZ",
        "outputId": "c4c47c3b-4078-44e2-dd33-9037de94de14"
      },
      "execution_count": 10,
      "outputs": [
        {
          "output_type": "execute_result",
          "data": {
            "text/plain": [
              "invoice_no           0\n",
              "stock_code           0\n",
              "description       1454\n",
              "quantity             0\n",
              "invoice_date         0\n",
              "unit_price           0\n",
              "customer_id     135080\n",
              "country              0\n",
              "dtype: int64"
            ]
          },
          "metadata": {},
          "execution_count": 10
        }
      ]
    },
    {
      "cell_type": "markdown",
      "source": [
        "## 1.5 REPLACE NA"
      ],
      "metadata": {
        "id": "oOGn18_Xa2XM"
      }
    },
    {
      "cell_type": "code",
      "source": [
        "df_missing= df1.loc[df1['customer_id'].isna(),:]\n",
        "df_not_missing= df1.loc[~df1['customer_id'].isna(),:]"
      ],
      "metadata": {
        "id": "FrxR0shjSLWq"
      },
      "execution_count": 11,
      "outputs": []
    },
    {
      "cell_type": "code",
      "source": [
        "#create reference\n",
        "df_backup= pd.DataFrame(df_missing['invoice_no'].drop_duplicates())\n",
        "df_backup['customer_id']= np.arange(19000,19000 + len(df_backup),1)\n",
        "\n",
        "#merge\n",
        "df1=pd.merge(df1,df_backup,on='invoice_no',how='left')\n",
        "\n",
        "\n",
        "#coalesce\n",
        "df1['customer_id']= df1['customer_id_x'].combine_first(df1['customer_id_y'])  \n",
        "\n",
        "#drop extra columns\n",
        "df1= df1.drop(columns=['customer_id_x','customer_id_y'],axis=1)\n",
        "\n",
        "df1.head()"
      ],
      "metadata": {
        "colab": {
          "base_uri": "https://localhost:8080/",
          "height": 0
        },
        "id": "Jy2RNwGkPr_4",
        "outputId": "0ad21efb-431e-4afa-f605-f6a2befa171f"
      },
      "execution_count": 12,
      "outputs": [
        {
          "output_type": "execute_result",
          "data": {
            "text/plain": [
              "  invoice_no stock_code                          description  quantity  \\\n",
              "0     536365     85123A   WHITE HANGING HEART T-LIGHT HOLDER         6   \n",
              "1     536365      71053                  WHITE METAL LANTERN         6   \n",
              "2     536365     84406B       CREAM CUPID HEARTS COAT HANGER         8   \n",
              "3     536365     84029G  KNITTED UNION FLAG HOT WATER BOTTLE         6   \n",
              "4     536365     84029E       RED WOOLLY HOTTIE WHITE HEART.         6   \n",
              "\n",
              "  invoice_date  unit_price         country  customer_id  \n",
              "0    29-Nov-16        2.55  United Kingdom      17850.0  \n",
              "1    29-Nov-16        3.39  United Kingdom      17850.0  \n",
              "2    29-Nov-16        2.75  United Kingdom      17850.0  \n",
              "3    29-Nov-16        3.39  United Kingdom      17850.0  \n",
              "4    29-Nov-16        3.39  United Kingdom      17850.0  "
            ],
            "text/html": [
              "\n",
              "  <div id=\"df-13dfe725-8ce3-4116-9d9d-87cb85c3c6bf\">\n",
              "    <div class=\"colab-df-container\">\n",
              "      <div>\n",
              "<style scoped>\n",
              "    .dataframe tbody tr th:only-of-type {\n",
              "        vertical-align: middle;\n",
              "    }\n",
              "\n",
              "    .dataframe tbody tr th {\n",
              "        vertical-align: top;\n",
              "    }\n",
              "\n",
              "    .dataframe thead th {\n",
              "        text-align: right;\n",
              "    }\n",
              "</style>\n",
              "<table border=\"1\" class=\"dataframe\">\n",
              "  <thead>\n",
              "    <tr style=\"text-align: right;\">\n",
              "      <th></th>\n",
              "      <th>invoice_no</th>\n",
              "      <th>stock_code</th>\n",
              "      <th>description</th>\n",
              "      <th>quantity</th>\n",
              "      <th>invoice_date</th>\n",
              "      <th>unit_price</th>\n",
              "      <th>country</th>\n",
              "      <th>customer_id</th>\n",
              "    </tr>\n",
              "  </thead>\n",
              "  <tbody>\n",
              "    <tr>\n",
              "      <th>0</th>\n",
              "      <td>536365</td>\n",
              "      <td>85123A</td>\n",
              "      <td>WHITE HANGING HEART T-LIGHT HOLDER</td>\n",
              "      <td>6</td>\n",
              "      <td>29-Nov-16</td>\n",
              "      <td>2.55</td>\n",
              "      <td>United Kingdom</td>\n",
              "      <td>17850.0</td>\n",
              "    </tr>\n",
              "    <tr>\n",
              "      <th>1</th>\n",
              "      <td>536365</td>\n",
              "      <td>71053</td>\n",
              "      <td>WHITE METAL LANTERN</td>\n",
              "      <td>6</td>\n",
              "      <td>29-Nov-16</td>\n",
              "      <td>3.39</td>\n",
              "      <td>United Kingdom</td>\n",
              "      <td>17850.0</td>\n",
              "    </tr>\n",
              "    <tr>\n",
              "      <th>2</th>\n",
              "      <td>536365</td>\n",
              "      <td>84406B</td>\n",
              "      <td>CREAM CUPID HEARTS COAT HANGER</td>\n",
              "      <td>8</td>\n",
              "      <td>29-Nov-16</td>\n",
              "      <td>2.75</td>\n",
              "      <td>United Kingdom</td>\n",
              "      <td>17850.0</td>\n",
              "    </tr>\n",
              "    <tr>\n",
              "      <th>3</th>\n",
              "      <td>536365</td>\n",
              "      <td>84029G</td>\n",
              "      <td>KNITTED UNION FLAG HOT WATER BOTTLE</td>\n",
              "      <td>6</td>\n",
              "      <td>29-Nov-16</td>\n",
              "      <td>3.39</td>\n",
              "      <td>United Kingdom</td>\n",
              "      <td>17850.0</td>\n",
              "    </tr>\n",
              "    <tr>\n",
              "      <th>4</th>\n",
              "      <td>536365</td>\n",
              "      <td>84029E</td>\n",
              "      <td>RED WOOLLY HOTTIE WHITE HEART.</td>\n",
              "      <td>6</td>\n",
              "      <td>29-Nov-16</td>\n",
              "      <td>3.39</td>\n",
              "      <td>United Kingdom</td>\n",
              "      <td>17850.0</td>\n",
              "    </tr>\n",
              "  </tbody>\n",
              "</table>\n",
              "</div>\n",
              "      <button class=\"colab-df-convert\" onclick=\"convertToInteractive('df-13dfe725-8ce3-4116-9d9d-87cb85c3c6bf')\"\n",
              "              title=\"Convert this dataframe to an interactive table.\"\n",
              "              style=\"display:none;\">\n",
              "        \n",
              "  <svg xmlns=\"http://www.w3.org/2000/svg\" height=\"24px\"viewBox=\"0 0 24 24\"\n",
              "       width=\"24px\">\n",
              "    <path d=\"M0 0h24v24H0V0z\" fill=\"none\"/>\n",
              "    <path d=\"M18.56 5.44l.94 2.06.94-2.06 2.06-.94-2.06-.94-.94-2.06-.94 2.06-2.06.94zm-11 1L8.5 8.5l.94-2.06 2.06-.94-2.06-.94L8.5 2.5l-.94 2.06-2.06.94zm10 10l.94 2.06.94-2.06 2.06-.94-2.06-.94-.94-2.06-.94 2.06-2.06.94z\"/><path d=\"M17.41 7.96l-1.37-1.37c-.4-.4-.92-.59-1.43-.59-.52 0-1.04.2-1.43.59L10.3 9.45l-7.72 7.72c-.78.78-.78 2.05 0 2.83L4 21.41c.39.39.9.59 1.41.59.51 0 1.02-.2 1.41-.59l7.78-7.78 2.81-2.81c.8-.78.8-2.07 0-2.86zM5.41 20L4 18.59l7.72-7.72 1.47 1.35L5.41 20z\"/>\n",
              "  </svg>\n",
              "      </button>\n",
              "      \n",
              "  <style>\n",
              "    .colab-df-container {\n",
              "      display:flex;\n",
              "      flex-wrap:wrap;\n",
              "      gap: 12px;\n",
              "    }\n",
              "\n",
              "    .colab-df-convert {\n",
              "      background-color: #E8F0FE;\n",
              "      border: none;\n",
              "      border-radius: 50%;\n",
              "      cursor: pointer;\n",
              "      display: none;\n",
              "      fill: #1967D2;\n",
              "      height: 32px;\n",
              "      padding: 0 0 0 0;\n",
              "      width: 32px;\n",
              "    }\n",
              "\n",
              "    .colab-df-convert:hover {\n",
              "      background-color: #E2EBFA;\n",
              "      box-shadow: 0px 1px 2px rgba(60, 64, 67, 0.3), 0px 1px 3px 1px rgba(60, 64, 67, 0.15);\n",
              "      fill: #174EA6;\n",
              "    }\n",
              "\n",
              "    [theme=dark] .colab-df-convert {\n",
              "      background-color: #3B4455;\n",
              "      fill: #D2E3FC;\n",
              "    }\n",
              "\n",
              "    [theme=dark] .colab-df-convert:hover {\n",
              "      background-color: #434B5C;\n",
              "      box-shadow: 0px 1px 3px 1px rgba(0, 0, 0, 0.15);\n",
              "      filter: drop-shadow(0px 1px 2px rgba(0, 0, 0, 0.3));\n",
              "      fill: #FFFFFF;\n",
              "    }\n",
              "  </style>\n",
              "\n",
              "      <script>\n",
              "        const buttonEl =\n",
              "          document.querySelector('#df-13dfe725-8ce3-4116-9d9d-87cb85c3c6bf button.colab-df-convert');\n",
              "        buttonEl.style.display =\n",
              "          google.colab.kernel.accessAllowed ? 'block' : 'none';\n",
              "\n",
              "        async function convertToInteractive(key) {\n",
              "          const element = document.querySelector('#df-13dfe725-8ce3-4116-9d9d-87cb85c3c6bf');\n",
              "          const dataTable =\n",
              "            await google.colab.kernel.invokeFunction('convertToInteractive',\n",
              "                                                     [key], {});\n",
              "          if (!dataTable) return;\n",
              "\n",
              "          const docLinkHtml = 'Like what you see? Visit the ' +\n",
              "            '<a target=\"_blank\" href=https://colab.research.google.com/notebooks/data_table.ipynb>data table notebook</a>'\n",
              "            + ' to learn more about interactive tables.';\n",
              "          element.innerHTML = '';\n",
              "          dataTable['output_type'] = 'display_data';\n",
              "          await google.colab.output.renderOutput(dataTable, element);\n",
              "          const docLink = document.createElement('div');\n",
              "          docLink.innerHTML = docLinkHtml;\n",
              "          element.appendChild(docLink);\n",
              "        }\n",
              "      </script>\n",
              "    </div>\n",
              "  </div>\n",
              "  "
            ]
          },
          "metadata": {},
          "execution_count": 12
        }
      ]
    },
    {
      "cell_type": "markdown",
      "source": [
        "## 1.6 CHANGE DTYPES"
      ],
      "metadata": {
        "id": "7vi8g8M9a4s9"
      }
    },
    {
      "cell_type": "code",
      "source": [
        "df1.dtypes"
      ],
      "metadata": {
        "colab": {
          "base_uri": "https://localhost:8080/"
        },
        "id": "TWxX7wZu_btG",
        "outputId": "869e4727-4230-43f0-e2dd-40d6ed0ecd4f"
      },
      "execution_count": 13,
      "outputs": [
        {
          "output_type": "execute_result",
          "data": {
            "text/plain": [
              "invoice_no       object\n",
              "stock_code       object\n",
              "description      object\n",
              "quantity          int64\n",
              "invoice_date     object\n",
              "unit_price      float64\n",
              "country          object\n",
              "customer_id     float64\n",
              "dtype: object"
            ]
          },
          "metadata": {},
          "execution_count": 13
        }
      ]
    },
    {
      "cell_type": "code",
      "source": [
        "# invoice date\n",
        "df1['invoice_date'] = pd.to_datetime( df1['invoice_date'], format='%d-%b-%y' )\n",
        "\n",
        "# customer id\n",
        "df1['customer_id'] = df1['customer_id'].astype( int )"
      ],
      "metadata": {
        "id": "CpAxM2E9FQ7z"
      },
      "execution_count": 14,
      "outputs": []
    },
    {
      "cell_type": "markdown",
      "source": [
        "## 1.7 DESCRIPTIVE STATISTICS"
      ],
      "metadata": {
        "id": "Wi0yHCjNa60M"
      }
    },
    {
      "cell_type": "code",
      "source": [
        "num_attributes= df1.select_dtypes(include=['int64','float64'])\n",
        "cat_attributes= df1.select_dtypes(exclude=['int64','float64','datetime64[ns]'])"
      ],
      "metadata": {
        "id": "opoKoBHxGwLO"
      },
      "execution_count": 15,
      "outputs": []
    },
    {
      "cell_type": "markdown",
      "source": [
        "### 1.7.1 Numerical Attributes"
      ],
      "metadata": {
        "id": "olWyoAD_HQLT"
      }
    },
    {
      "cell_type": "code",
      "source": [
        "#central tendency\n",
        "ct1= pd.DataFrame(num_attributes.apply(np.mean)).T\n",
        "ct2= pd.DataFrame(num_attributes.apply(np.median)).T\n",
        "\n",
        "#dispersion\n",
        "d1= pd.DataFrame(num_attributes.apply(np.std)).T\n",
        "d2= pd.DataFrame(num_attributes.apply(np.min)).T\n",
        "d3= pd.DataFrame(num_attributes.apply(np.max)).T\n",
        "d4= pd.DataFrame(num_attributes.apply(lambda x: x.max() - x.min())).T\n",
        "d5= pd.DataFrame(num_attributes.apply(lambda x: x.skew())).T\n",
        "d6= pd.DataFrame(num_attributes.apply(lambda x: x.kurtosis())).T\n",
        "\n",
        "#concatenate\n",
        "m=pd.concat([d2,d3,d4,ct1,ct2,d1,d5,d6]).T.reset_index()\n",
        "m.columns=['attributes','min','max','range','mean','median','std','skew','kurtosis']\n",
        "\n",
        "m"
      ],
      "metadata": {
        "id": "4TyBIQeHHZ8F",
        "colab": {
          "base_uri": "https://localhost:8080/",
          "height": 0
        },
        "outputId": "9941c4a3-b9bc-428a-f599-b191940e2472"
      },
      "execution_count": 16,
      "outputs": [
        {
          "output_type": "execute_result",
          "data": {
            "text/plain": [
              "    attributes       min      max      range          mean    median  \\\n",
              "0     quantity -80995.00  80995.0  161990.00      9.552250      3.00   \n",
              "1   unit_price -11062.06  38970.0   50032.06      4.611114      2.08   \n",
              "2  customer_id  12346.00  22709.0   10363.00  16688.840453  16249.00   \n",
              "\n",
              "           std        skew       kurtosis  \n",
              "0   218.080957   -0.264076  119769.160031  \n",
              "1    96.759764  186.506972   59005.719097  \n",
              "2  2911.408666    0.487449      -0.804287  "
            ],
            "text/html": [
              "\n",
              "  <div id=\"df-b0cdb2c9-1404-48b9-99c0-692f3cd0bb9a\">\n",
              "    <div class=\"colab-df-container\">\n",
              "      <div>\n",
              "<style scoped>\n",
              "    .dataframe tbody tr th:only-of-type {\n",
              "        vertical-align: middle;\n",
              "    }\n",
              "\n",
              "    .dataframe tbody tr th {\n",
              "        vertical-align: top;\n",
              "    }\n",
              "\n",
              "    .dataframe thead th {\n",
              "        text-align: right;\n",
              "    }\n",
              "</style>\n",
              "<table border=\"1\" class=\"dataframe\">\n",
              "  <thead>\n",
              "    <tr style=\"text-align: right;\">\n",
              "      <th></th>\n",
              "      <th>attributes</th>\n",
              "      <th>min</th>\n",
              "      <th>max</th>\n",
              "      <th>range</th>\n",
              "      <th>mean</th>\n",
              "      <th>median</th>\n",
              "      <th>std</th>\n",
              "      <th>skew</th>\n",
              "      <th>kurtosis</th>\n",
              "    </tr>\n",
              "  </thead>\n",
              "  <tbody>\n",
              "    <tr>\n",
              "      <th>0</th>\n",
              "      <td>quantity</td>\n",
              "      <td>-80995.00</td>\n",
              "      <td>80995.0</td>\n",
              "      <td>161990.00</td>\n",
              "      <td>9.552250</td>\n",
              "      <td>3.00</td>\n",
              "      <td>218.080957</td>\n",
              "      <td>-0.264076</td>\n",
              "      <td>119769.160031</td>\n",
              "    </tr>\n",
              "    <tr>\n",
              "      <th>1</th>\n",
              "      <td>unit_price</td>\n",
              "      <td>-11062.06</td>\n",
              "      <td>38970.0</td>\n",
              "      <td>50032.06</td>\n",
              "      <td>4.611114</td>\n",
              "      <td>2.08</td>\n",
              "      <td>96.759764</td>\n",
              "      <td>186.506972</td>\n",
              "      <td>59005.719097</td>\n",
              "    </tr>\n",
              "    <tr>\n",
              "      <th>2</th>\n",
              "      <td>customer_id</td>\n",
              "      <td>12346.00</td>\n",
              "      <td>22709.0</td>\n",
              "      <td>10363.00</td>\n",
              "      <td>16688.840453</td>\n",
              "      <td>16249.00</td>\n",
              "      <td>2911.408666</td>\n",
              "      <td>0.487449</td>\n",
              "      <td>-0.804287</td>\n",
              "    </tr>\n",
              "  </tbody>\n",
              "</table>\n",
              "</div>\n",
              "      <button class=\"colab-df-convert\" onclick=\"convertToInteractive('df-b0cdb2c9-1404-48b9-99c0-692f3cd0bb9a')\"\n",
              "              title=\"Convert this dataframe to an interactive table.\"\n",
              "              style=\"display:none;\">\n",
              "        \n",
              "  <svg xmlns=\"http://www.w3.org/2000/svg\" height=\"24px\"viewBox=\"0 0 24 24\"\n",
              "       width=\"24px\">\n",
              "    <path d=\"M0 0h24v24H0V0z\" fill=\"none\"/>\n",
              "    <path d=\"M18.56 5.44l.94 2.06.94-2.06 2.06-.94-2.06-.94-.94-2.06-.94 2.06-2.06.94zm-11 1L8.5 8.5l.94-2.06 2.06-.94-2.06-.94L8.5 2.5l-.94 2.06-2.06.94zm10 10l.94 2.06.94-2.06 2.06-.94-2.06-.94-.94-2.06-.94 2.06-2.06.94z\"/><path d=\"M17.41 7.96l-1.37-1.37c-.4-.4-.92-.59-1.43-.59-.52 0-1.04.2-1.43.59L10.3 9.45l-7.72 7.72c-.78.78-.78 2.05 0 2.83L4 21.41c.39.39.9.59 1.41.59.51 0 1.02-.2 1.41-.59l7.78-7.78 2.81-2.81c.8-.78.8-2.07 0-2.86zM5.41 20L4 18.59l7.72-7.72 1.47 1.35L5.41 20z\"/>\n",
              "  </svg>\n",
              "      </button>\n",
              "      \n",
              "  <style>\n",
              "    .colab-df-container {\n",
              "      display:flex;\n",
              "      flex-wrap:wrap;\n",
              "      gap: 12px;\n",
              "    }\n",
              "\n",
              "    .colab-df-convert {\n",
              "      background-color: #E8F0FE;\n",
              "      border: none;\n",
              "      border-radius: 50%;\n",
              "      cursor: pointer;\n",
              "      display: none;\n",
              "      fill: #1967D2;\n",
              "      height: 32px;\n",
              "      padding: 0 0 0 0;\n",
              "      width: 32px;\n",
              "    }\n",
              "\n",
              "    .colab-df-convert:hover {\n",
              "      background-color: #E2EBFA;\n",
              "      box-shadow: 0px 1px 2px rgba(60, 64, 67, 0.3), 0px 1px 3px 1px rgba(60, 64, 67, 0.15);\n",
              "      fill: #174EA6;\n",
              "    }\n",
              "\n",
              "    [theme=dark] .colab-df-convert {\n",
              "      background-color: #3B4455;\n",
              "      fill: #D2E3FC;\n",
              "    }\n",
              "\n",
              "    [theme=dark] .colab-df-convert:hover {\n",
              "      background-color: #434B5C;\n",
              "      box-shadow: 0px 1px 3px 1px rgba(0, 0, 0, 0.15);\n",
              "      filter: drop-shadow(0px 1px 2px rgba(0, 0, 0, 0.3));\n",
              "      fill: #FFFFFF;\n",
              "    }\n",
              "  </style>\n",
              "\n",
              "      <script>\n",
              "        const buttonEl =\n",
              "          document.querySelector('#df-b0cdb2c9-1404-48b9-99c0-692f3cd0bb9a button.colab-df-convert');\n",
              "        buttonEl.style.display =\n",
              "          google.colab.kernel.accessAllowed ? 'block' : 'none';\n",
              "\n",
              "        async function convertToInteractive(key) {\n",
              "          const element = document.querySelector('#df-b0cdb2c9-1404-48b9-99c0-692f3cd0bb9a');\n",
              "          const dataTable =\n",
              "            await google.colab.kernel.invokeFunction('convertToInteractive',\n",
              "                                                     [key], {});\n",
              "          if (!dataTable) return;\n",
              "\n",
              "          const docLinkHtml = 'Like what you see? Visit the ' +\n",
              "            '<a target=\"_blank\" href=https://colab.research.google.com/notebooks/data_table.ipynb>data table notebook</a>'\n",
              "            + ' to learn more about interactive tables.';\n",
              "          element.innerHTML = '';\n",
              "          dataTable['output_type'] = 'display_data';\n",
              "          await google.colab.output.renderOutput(dataTable, element);\n",
              "          const docLink = document.createElement('div');\n",
              "          docLink.innerHTML = docLinkHtml;\n",
              "          element.appendChild(docLink);\n",
              "        }\n",
              "      </script>\n",
              "    </div>\n",
              "  </div>\n",
              "  "
            ]
          },
          "metadata": {},
          "execution_count": 16
        }
      ]
    },
    {
      "cell_type": "markdown",
      "source": [
        "### <font color='red'> 1.7.1.1 Investigating</font>\n",
        "* \"quantity\" negativa(pode ser devolução)\n",
        "* \"preço unitário igual a zero(pode ser algum tipo de promoção)"
      ],
      "metadata": {
        "id": "JT42x6A0JJrG"
      }
    },
    {
      "cell_type": "markdown",
      "source": [
        "### 1.7.2 Categorical Attributes"
      ],
      "metadata": {
        "id": "IPkYtco8HVsi"
      }
    },
    {
      "cell_type": "markdown",
      "source": [
        "### invoice_no"
      ],
      "metadata": {
        "id": "1aNNPwd_1qQT"
      }
    },
    {
      "cell_type": "code",
      "source": [
        "df_letter_invoices= df1.loc[df1['invoice_no'].apply(lambda x: bool(re.search('[^0-9]+',x))),:]\n",
        "df_letter_invoices.head()\n",
        "\n",
        "print('Total number of invoices: {}'.format( len(df_letter_invoices)))\n",
        "print('Total number of negative quantity: {}'.format(len(df_letter_invoices[df_letter_invoices['quantity']< 0])))"
      ],
      "metadata": {
        "colab": {
          "base_uri": "https://localhost:8080/"
        },
        "id": "D54azmgR1spE",
        "outputId": "d4c4ca30-80c5-4774-ab9e-e63f3287deeb"
      },
      "execution_count": 17,
      "outputs": [
        {
          "output_type": "stream",
          "name": "stdout",
          "text": [
            "Total number of invoices: 9291\n",
            "Total number of negative quantity: 9288\n"
          ]
        }
      ]
    },
    {
      "cell_type": "markdown",
      "source": [
        "### stock code"
      ],
      "metadata": {
        "id": "Ylwa7Vdp3kXW"
      }
    },
    {
      "cell_type": "code",
      "source": [
        "#check stock code only characters\n",
        "df1.loc[df1['stock_code'].apply(lambda x: bool(re.search('^[a-zA-Z]+$',x) ) ),'stock_code'].unique()\n",
        "\n",
        "#Remove stock code in ['POST', 'D', 'M', 'PADS', 'DOT', 'CRUK']"
      ],
      "metadata": {
        "colab": {
          "base_uri": "https://localhost:8080/"
        },
        "id": "J75ec6LD3mff",
        "outputId": "9d211afa-c876-4f78-d75c-61d93e0496e9"
      },
      "execution_count": 18,
      "outputs": [
        {
          "output_type": "execute_result",
          "data": {
            "text/plain": [
              "array(['POST', 'D', 'DOT', 'M', 'S', 'AMAZONFEE', 'm', 'DCGSSBOY',\n",
              "       'DCGSSGIRL', 'PADS', 'B', 'CRUK'], dtype=object)"
            ]
          },
          "metadata": {},
          "execution_count": 18
        }
      ]
    },
    {
      "cell_type": "markdown",
      "source": [
        "### description"
      ],
      "metadata": {
        "id": "5HQSYRtH5rQ4"
      }
    },
    {
      "cell_type": "code",
      "source": [
        "#ação: delete description"
      ],
      "metadata": {
        "id": "gIux8iE3RpFx"
      },
      "execution_count": 19,
      "outputs": []
    },
    {
      "cell_type": "markdown",
      "source": [
        "### country"
      ],
      "metadata": {
        "id": "WqeeMPOFT_2e"
      }
    },
    {
      "cell_type": "code",
      "source": [
        "df1['country'].unique()"
      ],
      "metadata": {
        "colab": {
          "base_uri": "https://localhost:8080/"
        },
        "id": "D3M1Q7V4UDUK",
        "outputId": "6d117153-b9e5-4190-b975-16ae66d1365b"
      },
      "execution_count": 20,
      "outputs": [
        {
          "output_type": "execute_result",
          "data": {
            "text/plain": [
              "array(['United Kingdom', 'France', 'Australia', 'Netherlands', 'Germany',\n",
              "       'Norway', 'EIRE', 'Switzerland', 'Spain', 'Poland', 'Portugal',\n",
              "       'Italy', 'Belgium', 'Lithuania', 'Japan', 'Iceland',\n",
              "       'Channel Islands', 'Denmark', 'Cyprus', 'Sweden', 'Austria',\n",
              "       'Israel', 'Finland', 'Bahrain', 'Greece', 'Hong Kong', 'Singapore',\n",
              "       'Lebanon', 'United Arab Emirates', 'Saudi Arabia',\n",
              "       'Czech Republic', 'Canada', 'Unspecified', 'Brazil', 'USA',\n",
              "       'European Community', 'Malta', 'RSA'], dtype=object)"
            ]
          },
          "metadata": {},
          "execution_count": 20
        }
      ]
    },
    {
      "cell_type": "code",
      "source": [
        "df1['country'].value_counts(normalize=True)"
      ],
      "metadata": {
        "colab": {
          "base_uri": "https://localhost:8080/"
        },
        "id": "3j_7o4MqUdEB",
        "outputId": "d248e762-2077-4874-ad1d-1a7b66a24bfe"
      },
      "execution_count": 21,
      "outputs": [
        {
          "output_type": "execute_result",
          "data": {
            "text/plain": [
              "United Kingdom          0.914320\n",
              "Germany                 0.017521\n",
              "France                  0.015790\n",
              "EIRE                    0.015124\n",
              "Spain                   0.004674\n",
              "Netherlands             0.004375\n",
              "Belgium                 0.003818\n",
              "Switzerland             0.003694\n",
              "Portugal                0.002803\n",
              "Australia               0.002323\n",
              "Norway                  0.002004\n",
              "Italy                   0.001482\n",
              "Channel Islands         0.001399\n",
              "Finland                 0.001283\n",
              "Cyprus                  0.001148\n",
              "Sweden                  0.000853\n",
              "Unspecified             0.000823\n",
              "Austria                 0.000740\n",
              "Denmark                 0.000718\n",
              "Japan                   0.000661\n",
              "Poland                  0.000629\n",
              "Israel                  0.000548\n",
              "USA                     0.000537\n",
              "Hong Kong               0.000531\n",
              "Singapore               0.000423\n",
              "Iceland                 0.000336\n",
              "Canada                  0.000279\n",
              "Greece                  0.000269\n",
              "Malta                   0.000234\n",
              "United Arab Emirates    0.000125\n",
              "European Community      0.000113\n",
              "RSA                     0.000107\n",
              "Lebanon                 0.000083\n",
              "Lithuania               0.000065\n",
              "Brazil                  0.000059\n",
              "Czech Republic          0.000055\n",
              "Bahrain                 0.000035\n",
              "Saudi Arabia            0.000018\n",
              "Name: country, dtype: float64"
            ]
          },
          "metadata": {},
          "execution_count": 21
        }
      ]
    },
    {
      "cell_type": "code",
      "source": [
        "df1[['customer_id','country']].drop_duplicates().groupby('country').count().reset_index().sort_values('customer_id',ascending=False)"
      ],
      "metadata": {
        "colab": {
          "base_uri": "https://localhost:8080/",
          "height": 0
        },
        "id": "EqUm9vFtU5Ji",
        "outputId": "c6636867-da6b-4871-d6fb-1d32d14409cb"
      },
      "execution_count": 22,
      "outputs": [
        {
          "output_type": "execute_result",
          "data": {
            "text/plain": [
              "                 country  customer_id\n",
              "36        United Kingdom         7587\n",
              "14               Germany           95\n",
              "13                France           90\n",
              "10                  EIRE           44\n",
              "31                 Spain           31\n",
              "3                Belgium           25\n",
              "33           Switzerland           24\n",
              "27              Portugal           20\n",
              "19                 Italy           15\n",
              "16             Hong Kong           15\n",
              "12               Finland           12\n",
              "1                Austria           11\n",
              "25                Norway           10\n",
              "24           Netherlands            9\n",
              "0              Australia            9\n",
              "37           Unspecified            9\n",
              "9                Denmark            9\n",
              "6        Channel Islands            9\n",
              "7                 Cyprus            8\n",
              "32                Sweden            8\n",
              "20                 Japan            8\n",
              "18                Israel            7\n",
              "26                Poland            6\n",
              "5                 Canada            4\n",
              "34                   USA            4\n",
              "2                Bahrain            4\n",
              "15                Greece            4\n",
              "23                 Malta            2\n",
              "35  United Arab Emirates            2\n",
              "8         Czech Republic            1\n",
              "22             Lithuania            1\n",
              "11    European Community            1\n",
              "21               Lebanon            1\n",
              "28                   RSA            1\n",
              "29          Saudi Arabia            1\n",
              "30             Singapore            1\n",
              "17               Iceland            1\n",
              "4                 Brazil            1"
            ],
            "text/html": [
              "\n",
              "  <div id=\"df-6d5df680-68b3-4804-b361-74f1415a2f82\">\n",
              "    <div class=\"colab-df-container\">\n",
              "      <div>\n",
              "<style scoped>\n",
              "    .dataframe tbody tr th:only-of-type {\n",
              "        vertical-align: middle;\n",
              "    }\n",
              "\n",
              "    .dataframe tbody tr th {\n",
              "        vertical-align: top;\n",
              "    }\n",
              "\n",
              "    .dataframe thead th {\n",
              "        text-align: right;\n",
              "    }\n",
              "</style>\n",
              "<table border=\"1\" class=\"dataframe\">\n",
              "  <thead>\n",
              "    <tr style=\"text-align: right;\">\n",
              "      <th></th>\n",
              "      <th>country</th>\n",
              "      <th>customer_id</th>\n",
              "    </tr>\n",
              "  </thead>\n",
              "  <tbody>\n",
              "    <tr>\n",
              "      <th>36</th>\n",
              "      <td>United Kingdom</td>\n",
              "      <td>7587</td>\n",
              "    </tr>\n",
              "    <tr>\n",
              "      <th>14</th>\n",
              "      <td>Germany</td>\n",
              "      <td>95</td>\n",
              "    </tr>\n",
              "    <tr>\n",
              "      <th>13</th>\n",
              "      <td>France</td>\n",
              "      <td>90</td>\n",
              "    </tr>\n",
              "    <tr>\n",
              "      <th>10</th>\n",
              "      <td>EIRE</td>\n",
              "      <td>44</td>\n",
              "    </tr>\n",
              "    <tr>\n",
              "      <th>31</th>\n",
              "      <td>Spain</td>\n",
              "      <td>31</td>\n",
              "    </tr>\n",
              "    <tr>\n",
              "      <th>3</th>\n",
              "      <td>Belgium</td>\n",
              "      <td>25</td>\n",
              "    </tr>\n",
              "    <tr>\n",
              "      <th>33</th>\n",
              "      <td>Switzerland</td>\n",
              "      <td>24</td>\n",
              "    </tr>\n",
              "    <tr>\n",
              "      <th>27</th>\n",
              "      <td>Portugal</td>\n",
              "      <td>20</td>\n",
              "    </tr>\n",
              "    <tr>\n",
              "      <th>19</th>\n",
              "      <td>Italy</td>\n",
              "      <td>15</td>\n",
              "    </tr>\n",
              "    <tr>\n",
              "      <th>16</th>\n",
              "      <td>Hong Kong</td>\n",
              "      <td>15</td>\n",
              "    </tr>\n",
              "    <tr>\n",
              "      <th>12</th>\n",
              "      <td>Finland</td>\n",
              "      <td>12</td>\n",
              "    </tr>\n",
              "    <tr>\n",
              "      <th>1</th>\n",
              "      <td>Austria</td>\n",
              "      <td>11</td>\n",
              "    </tr>\n",
              "    <tr>\n",
              "      <th>25</th>\n",
              "      <td>Norway</td>\n",
              "      <td>10</td>\n",
              "    </tr>\n",
              "    <tr>\n",
              "      <th>24</th>\n",
              "      <td>Netherlands</td>\n",
              "      <td>9</td>\n",
              "    </tr>\n",
              "    <tr>\n",
              "      <th>0</th>\n",
              "      <td>Australia</td>\n",
              "      <td>9</td>\n",
              "    </tr>\n",
              "    <tr>\n",
              "      <th>37</th>\n",
              "      <td>Unspecified</td>\n",
              "      <td>9</td>\n",
              "    </tr>\n",
              "    <tr>\n",
              "      <th>9</th>\n",
              "      <td>Denmark</td>\n",
              "      <td>9</td>\n",
              "    </tr>\n",
              "    <tr>\n",
              "      <th>6</th>\n",
              "      <td>Channel Islands</td>\n",
              "      <td>9</td>\n",
              "    </tr>\n",
              "    <tr>\n",
              "      <th>7</th>\n",
              "      <td>Cyprus</td>\n",
              "      <td>8</td>\n",
              "    </tr>\n",
              "    <tr>\n",
              "      <th>32</th>\n",
              "      <td>Sweden</td>\n",
              "      <td>8</td>\n",
              "    </tr>\n",
              "    <tr>\n",
              "      <th>20</th>\n",
              "      <td>Japan</td>\n",
              "      <td>8</td>\n",
              "    </tr>\n",
              "    <tr>\n",
              "      <th>18</th>\n",
              "      <td>Israel</td>\n",
              "      <td>7</td>\n",
              "    </tr>\n",
              "    <tr>\n",
              "      <th>26</th>\n",
              "      <td>Poland</td>\n",
              "      <td>6</td>\n",
              "    </tr>\n",
              "    <tr>\n",
              "      <th>5</th>\n",
              "      <td>Canada</td>\n",
              "      <td>4</td>\n",
              "    </tr>\n",
              "    <tr>\n",
              "      <th>34</th>\n",
              "      <td>USA</td>\n",
              "      <td>4</td>\n",
              "    </tr>\n",
              "    <tr>\n",
              "      <th>2</th>\n",
              "      <td>Bahrain</td>\n",
              "      <td>4</td>\n",
              "    </tr>\n",
              "    <tr>\n",
              "      <th>15</th>\n",
              "      <td>Greece</td>\n",
              "      <td>4</td>\n",
              "    </tr>\n",
              "    <tr>\n",
              "      <th>23</th>\n",
              "      <td>Malta</td>\n",
              "      <td>2</td>\n",
              "    </tr>\n",
              "    <tr>\n",
              "      <th>35</th>\n",
              "      <td>United Arab Emirates</td>\n",
              "      <td>2</td>\n",
              "    </tr>\n",
              "    <tr>\n",
              "      <th>8</th>\n",
              "      <td>Czech Republic</td>\n",
              "      <td>1</td>\n",
              "    </tr>\n",
              "    <tr>\n",
              "      <th>22</th>\n",
              "      <td>Lithuania</td>\n",
              "      <td>1</td>\n",
              "    </tr>\n",
              "    <tr>\n",
              "      <th>11</th>\n",
              "      <td>European Community</td>\n",
              "      <td>1</td>\n",
              "    </tr>\n",
              "    <tr>\n",
              "      <th>21</th>\n",
              "      <td>Lebanon</td>\n",
              "      <td>1</td>\n",
              "    </tr>\n",
              "    <tr>\n",
              "      <th>28</th>\n",
              "      <td>RSA</td>\n",
              "      <td>1</td>\n",
              "    </tr>\n",
              "    <tr>\n",
              "      <th>29</th>\n",
              "      <td>Saudi Arabia</td>\n",
              "      <td>1</td>\n",
              "    </tr>\n",
              "    <tr>\n",
              "      <th>30</th>\n",
              "      <td>Singapore</td>\n",
              "      <td>1</td>\n",
              "    </tr>\n",
              "    <tr>\n",
              "      <th>17</th>\n",
              "      <td>Iceland</td>\n",
              "      <td>1</td>\n",
              "    </tr>\n",
              "    <tr>\n",
              "      <th>4</th>\n",
              "      <td>Brazil</td>\n",
              "      <td>1</td>\n",
              "    </tr>\n",
              "  </tbody>\n",
              "</table>\n",
              "</div>\n",
              "      <button class=\"colab-df-convert\" onclick=\"convertToInteractive('df-6d5df680-68b3-4804-b361-74f1415a2f82')\"\n",
              "              title=\"Convert this dataframe to an interactive table.\"\n",
              "              style=\"display:none;\">\n",
              "        \n",
              "  <svg xmlns=\"http://www.w3.org/2000/svg\" height=\"24px\"viewBox=\"0 0 24 24\"\n",
              "       width=\"24px\">\n",
              "    <path d=\"M0 0h24v24H0V0z\" fill=\"none\"/>\n",
              "    <path d=\"M18.56 5.44l.94 2.06.94-2.06 2.06-.94-2.06-.94-.94-2.06-.94 2.06-2.06.94zm-11 1L8.5 8.5l.94-2.06 2.06-.94-2.06-.94L8.5 2.5l-.94 2.06-2.06.94zm10 10l.94 2.06.94-2.06 2.06-.94-2.06-.94-.94-2.06-.94 2.06-2.06.94z\"/><path d=\"M17.41 7.96l-1.37-1.37c-.4-.4-.92-.59-1.43-.59-.52 0-1.04.2-1.43.59L10.3 9.45l-7.72 7.72c-.78.78-.78 2.05 0 2.83L4 21.41c.39.39.9.59 1.41.59.51 0 1.02-.2 1.41-.59l7.78-7.78 2.81-2.81c.8-.78.8-2.07 0-2.86zM5.41 20L4 18.59l7.72-7.72 1.47 1.35L5.41 20z\"/>\n",
              "  </svg>\n",
              "      </button>\n",
              "      \n",
              "  <style>\n",
              "    .colab-df-container {\n",
              "      display:flex;\n",
              "      flex-wrap:wrap;\n",
              "      gap: 12px;\n",
              "    }\n",
              "\n",
              "    .colab-df-convert {\n",
              "      background-color: #E8F0FE;\n",
              "      border: none;\n",
              "      border-radius: 50%;\n",
              "      cursor: pointer;\n",
              "      display: none;\n",
              "      fill: #1967D2;\n",
              "      height: 32px;\n",
              "      padding: 0 0 0 0;\n",
              "      width: 32px;\n",
              "    }\n",
              "\n",
              "    .colab-df-convert:hover {\n",
              "      background-color: #E2EBFA;\n",
              "      box-shadow: 0px 1px 2px rgba(60, 64, 67, 0.3), 0px 1px 3px 1px rgba(60, 64, 67, 0.15);\n",
              "      fill: #174EA6;\n",
              "    }\n",
              "\n",
              "    [theme=dark] .colab-df-convert {\n",
              "      background-color: #3B4455;\n",
              "      fill: #D2E3FC;\n",
              "    }\n",
              "\n",
              "    [theme=dark] .colab-df-convert:hover {\n",
              "      background-color: #434B5C;\n",
              "      box-shadow: 0px 1px 3px 1px rgba(0, 0, 0, 0.15);\n",
              "      filter: drop-shadow(0px 1px 2px rgba(0, 0, 0, 0.3));\n",
              "      fill: #FFFFFF;\n",
              "    }\n",
              "  </style>\n",
              "\n",
              "      <script>\n",
              "        const buttonEl =\n",
              "          document.querySelector('#df-6d5df680-68b3-4804-b361-74f1415a2f82 button.colab-df-convert');\n",
              "        buttonEl.style.display =\n",
              "          google.colab.kernel.accessAllowed ? 'block' : 'none';\n",
              "\n",
              "        async function convertToInteractive(key) {\n",
              "          const element = document.querySelector('#df-6d5df680-68b3-4804-b361-74f1415a2f82');\n",
              "          const dataTable =\n",
              "            await google.colab.kernel.invokeFunction('convertToInteractive',\n",
              "                                                     [key], {});\n",
              "          if (!dataTable) return;\n",
              "\n",
              "          const docLinkHtml = 'Like what you see? Visit the ' +\n",
              "            '<a target=\"_blank\" href=https://colab.research.google.com/notebooks/data_table.ipynb>data table notebook</a>'\n",
              "            + ' to learn more about interactive tables.';\n",
              "          element.innerHTML = '';\n",
              "          dataTable['output_type'] = 'display_data';\n",
              "          await google.colab.output.renderOutput(dataTable, element);\n",
              "          const docLink = document.createElement('div');\n",
              "          docLink.innerHTML = docLinkHtml;\n",
              "          element.appendChild(docLink);\n",
              "        }\n",
              "      </script>\n",
              "    </div>\n",
              "  </div>\n",
              "  "
            ]
          },
          "metadata": {},
          "execution_count": 22
        }
      ]
    },
    {
      "cell_type": "markdown",
      "source": [
        "# 2.0 DATA FILTER"
      ],
      "metadata": {
        "id": "s79k-1QFb1LQ"
      }
    },
    {
      "cell_type": "code",
      "source": [
        "df2 = df1.copy()"
      ],
      "metadata": {
        "id": "I3eP7gqWaD2n"
      },
      "execution_count": 23,
      "outputs": []
    },
    {
      "cell_type": "code",
      "source": [
        "###====  Numerical Attributes====###\n",
        "#unit_price\n",
        "df2= df2.loc[df2['unit_price']>= 0.04,:]\n",
        "\n",
        "###====Categorical Attributes====###\n",
        "#stock code\n",
        "df2= df2[~df2['stock_code'].isin(['POST', 'D', 'DOT', 'M', 'S', 'AMAZONFEE', 'm', 'DCGSSBOY',\n",
        "                                  'DCGSSGIRL', 'PADS', 'B', 'CRUK'])]\n",
        "\n",
        "#description\n",
        "df2= df2.drop(columns='description',axis=1)\n",
        "\n",
        "#map\n",
        "df2=df2[~df2['country'].isin(['European Community','Unspecified'])]\n",
        "\n",
        "#quantity\n",
        "df2_returns= df2.loc[df2['quantity']< 0, :]\n",
        "df2_purchases= df2.loc[df2['quantity']> 0, :]"
      ],
      "metadata": {
        "id": "taN5IfkMENhQ"
      },
      "execution_count": 24,
      "outputs": []
    },
    {
      "cell_type": "markdown",
      "source": [
        "# 3.0 FEATURE ENGINEERING\n",
        "* Invoice_no = compra = purchase\n",
        "* Stock Code = código do produto\n",
        "* Quantity = quantidade do item\n",
        "* Basket Size = quantidade de produtos por compra\n"
      ],
      "metadata": {
        "id": "yzebGYlnFWj0"
      }
    },
    {
      "cell_type": "code",
      "source": [
        "df3 = df2.copy()"
      ],
      "metadata": {
        "id": "0mL5qRKO_WGs"
      },
      "execution_count": 25,
      "outputs": []
    },
    {
      "cell_type": "markdown",
      "source": [
        "## 3.1 Feature Creation"
      ],
      "metadata": {
        "id": "x3SrFZFNC3Yb"
      }
    },
    {
      "cell_type": "code",
      "source": [
        "df_ref= df3.drop(['invoice_no','stock_code','quantity',\n",
        "                  'invoice_date','unit_price','country'],axis=1).drop_duplicates(ignore_index=True)"
      ],
      "metadata": {
        "id": "UfRA5uzIFb_7"
      },
      "execution_count": 26,
      "outputs": []
    },
    {
      "cell_type": "markdown",
      "source": [
        "### 3.1.1 Gross Revenue"
      ],
      "metadata": {
        "id": "ksGgX5orDWUb"
      }
    },
    {
      "cell_type": "code",
      "source": [
        "#gross revenue \n",
        "df2_purchases.loc[:,'gross_revenue'] = df2_purchases.loc[:,'quantity'] * df2_purchases.loc[:,'unit_price']\n",
        "\n",
        "\n",
        "#monetary\n",
        "df_monetary= df2_purchases.loc[:,['customer_id','gross_revenue']].groupby('customer_id').sum().reset_index()\n",
        "\n",
        "df_ref= pd.merge(df_ref,df_monetary,on='customer_id',how='left')\n",
        "\n",
        "df_ref.isna().sum()"
      ],
      "metadata": {
        "colab": {
          "base_uri": "https://localhost:8080/"
        },
        "id": "1TQBYNqdC6vo",
        "outputId": "ccd87d6d-ab9b-44b4-c8e0-d9bbca6bc36d"
      },
      "execution_count": 27,
      "outputs": [
        {
          "output_type": "stream",
          "name": "stderr",
          "text": [
            "/usr/local/lib/python3.8/dist-packages/pandas/core/indexing.py:1667: SettingWithCopyWarning: \n",
            "A value is trying to be set on a copy of a slice from a DataFrame.\n",
            "Try using .loc[row_indexer,col_indexer] = value instead\n",
            "\n",
            "See the caveats in the documentation: https://pandas.pydata.org/pandas-docs/stable/user_guide/indexing.html#returning-a-view-versus-a-copy\n",
            "  self.obj[key] = value\n"
          ]
        },
        {
          "output_type": "execute_result",
          "data": {
            "text/plain": [
              "customer_id       0\n",
              "gross_revenue    91\n",
              "dtype: int64"
            ]
          },
          "metadata": {},
          "execution_count": 27
        }
      ]
    },
    {
      "cell_type": "markdown",
      "source": [
        "### 3.1.2 Recency"
      ],
      "metadata": {
        "id": "_RVa96ETEMaE"
      }
    },
    {
      "cell_type": "code",
      "source": [
        "#recency\n",
        "df_recency= df2_purchases.loc[:,['customer_id','invoice_date']].groupby('customer_id').max().reset_index()\n",
        "df_recency['recency_days']= (df2['invoice_date'].max() - df_recency['invoice_date']).dt.days\n",
        "df_recency= df_recency[['customer_id','recency_days']].copy()\n",
        "\n",
        "df_ref= pd.merge(df_ref,df_recency,on='customer_id',how='left')\n",
        "\n",
        "df_ref.isna().sum()"
      ],
      "metadata": {
        "id": "afvyuBHkKcWC",
        "colab": {
          "base_uri": "https://localhost:8080/"
        },
        "outputId": "04ee485d-3878-4eea-e871-323b8d2fc852"
      },
      "execution_count": 28,
      "outputs": [
        {
          "output_type": "execute_result",
          "data": {
            "text/plain": [
              "customer_id       0\n",
              "gross_revenue    91\n",
              "recency_days     91\n",
              "dtype: int64"
            ]
          },
          "metadata": {},
          "execution_count": 28
        }
      ]
    },
    {
      "cell_type": "markdown",
      "source": [
        "### 3.1.3 quantity of purchased"
      ],
      "metadata": {
        "id": "O1MOUcurFsg7"
      }
    },
    {
      "cell_type": "code",
      "source": [
        "#frequency\n",
        "df_freq= (df2_purchases.loc[:,['customer_id','invoice_no']].drop_duplicates()\n",
        "                                                          .groupby('customer_id')\n",
        "                                                          .count().reset_index()\n",
        "                                                          .rename(columns={'invoice_no':'qtde_invoices'}))\n",
        "\n",
        "df_ref= pd.merge(df_ref,df_freq,on='customer_id',how='left')\n",
        "\n",
        "df_ref.isna().sum()"
      ],
      "metadata": {
        "id": "qcDaDdjgKdwI",
        "colab": {
          "base_uri": "https://localhost:8080/"
        },
        "outputId": "0b51fef5-e9d5-4d08-a71f-61a50b7dda5a"
      },
      "execution_count": 41,
      "outputs": [
        {
          "output_type": "execute_result",
          "data": {
            "text/plain": [
              "customer_id                  0\n",
              "gross_revenue               91\n",
              "recency_days                91\n",
              "invoice_no                  91\n",
              "qtde_items                  91\n",
              "avg_ticket                  91\n",
              "qtde_products               91\n",
              "avg_recency_days          2816\n",
              "frequency                   91\n",
              "qtde_returns                 0\n",
              "avg_basket_size             91\n",
              "avg_unique_basket_size      91\n",
              "qtde_invoices               91\n",
              "dtype: int64"
            ]
          },
          "metadata": {},
          "execution_count": 41
        }
      ]
    },
    {
      "cell_type": "markdown",
      "source": [
        "### 3.1.4 Quantity of items purchased"
      ],
      "metadata": {
        "id": "LLVGwAHExKWN"
      }
    },
    {
      "cell_type": "code",
      "source": [
        "\n",
        "df_freq = (df2_purchases.loc[:, ['customer_id', 'quantity']].groupby( 'customer_id' ).sum()\n",
        "                                                           .reset_index()\n",
        "                                                           .rename( columns={'quantity': 'qtde_items'} ) )\n",
        "df_ref = pd.merge( df_ref, df_freq, on='customer_id', how='left' )\n",
        "df_ref.isna().sum()\n",
        "\n",
        "\n",
        "df_freq = (df2_purchases.loc[:, ['customer_id', 'stock_code']].groupby( 'customer_id' ).count()\n",
        "                                                           .reset_index()\n",
        "                                                           .rename( columns={'stock_code': 'qtde_products'} ) )\n",
        "df_ref = pd.merge( df_ref, df_freq, on='customer_id', how='left' )\n",
        "df_ref.isna().sum()"
      ],
      "metadata": {
        "colab": {
          "base_uri": "https://localhost:8080/"
        },
        "id": "HG-6GZsRxOpM",
        "outputId": "52f84069-ba98-4280-d0be-6904bae28917"
      },
      "execution_count": 30,
      "outputs": [
        {
          "output_type": "execute_result",
          "data": {
            "text/plain": [
              "customer_id       0\n",
              "gross_revenue    91\n",
              "recency_days     91\n",
              "invoice_no       91\n",
              "qtde_items       91\n",
              "dtype: int64"
            ]
          },
          "metadata": {},
          "execution_count": 30
        }
      ]
    },
    {
      "cell_type": "markdown",
      "source": [
        "### 3.1.5 Average Ticket Value"
      ],
      "metadata": {
        "id": "NtTSMOliF2Nq"
      }
    },
    {
      "cell_type": "code",
      "source": [
        "#average ticket\n",
        "df_avg_ticket= df2_purchases.loc[:,['customer_id','gross_revenue']].groupby('customer_id').mean().reset_index().rename(columns={'gross_revenue':'avg_ticket'})\n",
        "\n",
        "df_ref= pd.merge(df_ref,df_avg_ticket,on='customer_id',how='left')\n",
        "\n",
        "\n",
        "\n",
        " # Numero de produtos\n",
        "df_freq = (df2_purchases.loc[:, ['customer_id', 'stock_code']].groupby( 'customer_id' ).count()\n",
        "                                                           .reset_index()\n",
        "                                                           .rename( columns={'stock_code': 'qtde_products'} ) )\n",
        "df_ref = pd.merge( df_ref, df_freq, on='customer_id', how='left' )\n",
        "df_ref.isna().sum()"
      ],
      "metadata": {
        "id": "5YZtnB78KfA4",
        "colab": {
          "base_uri": "https://localhost:8080/"
        },
        "outputId": "f69440eb-6c6d-4b85-eee5-542c6ae320be"
      },
      "execution_count": 31,
      "outputs": [
        {
          "output_type": "execute_result",
          "data": {
            "text/plain": [
              "customer_id       0\n",
              "gross_revenue    91\n",
              "recency_days     91\n",
              "invoice_no       91\n",
              "qtde_items       91\n",
              "avg_ticket       91\n",
              "qtde_products    91\n",
              "dtype: int64"
            ]
          },
          "metadata": {},
          "execution_count": 31
        }
      ]
    },
    {
      "cell_type": "markdown",
      "source": [
        "### 3.1.6 Average Recency Days"
      ],
      "metadata": {
        "id": "YBItnMfCJanm"
      }
    },
    {
      "cell_type": "code",
      "source": [
        "# Average recency days\n",
        "df_aux = df2[['customer_id', 'invoice_date']].drop_duplicates().sort_values( ['customer_id', 'invoice_date'], ascending=['False', 'False'] )\n",
        "df_aux['next_customer_id'] = df_aux['customer_id'].shift() # next customer\n",
        "df_aux['previous_date'] = df_aux['invoice_date'].shift() # next invoince date\n",
        "\n",
        "df_aux['avg_recency_days'] = df_aux.apply( lambda x: ( x['invoice_date'] - x['previous_date'] ).days if x['customer_id'] == x['next_customer_id'] else np.nan, axis=1 )\n",
        "\n",
        "df_aux = df_aux.drop( ['invoice_date', 'next_customer_id', 'previous_date'], axis=1 ).dropna()\n",
        "\n",
        "\n",
        "df_avg_recency_days = df_aux.groupby( 'customer_id' ).mean().reset_index()\n",
        "\n",
        "#merge\n",
        "df_ref = pd.merge( df_ref, df_avg_recency_days, on='customer_id', how='left' )\n",
        "df_ref.isna().sum()"
      ],
      "metadata": {
        "colab": {
          "base_uri": "https://localhost:8080/"
        },
        "id": "eR9JCs_HJdyg",
        "outputId": "cf15df1a-944d-475f-8d24-b85f303dd1ee"
      },
      "execution_count": 32,
      "outputs": [
        {
          "output_type": "execute_result",
          "data": {
            "text/plain": [
              "customer_id            0\n",
              "gross_revenue         91\n",
              "recency_days          91\n",
              "invoice_no            91\n",
              "qtde_items            91\n",
              "avg_ticket            91\n",
              "qtde_products         91\n",
              "avg_recency_days    2816\n",
              "dtype: int64"
            ]
          },
          "metadata": {},
          "execution_count": 32
        }
      ]
    },
    {
      "cell_type": "markdown",
      "source": [
        "### 3.1.7 Frequency Purchase"
      ],
      "metadata": {
        "id": "vnLM-2FhS0DI"
      }
    },
    {
      "cell_type": "code",
      "source": [
        "df_aux= (df2_purchases[['customer_id', 'invoice_no', 'invoice_date']].drop_duplicates()\n",
        "                                                             .groupby( 'customer_id')\n",
        "                                                             .agg( max_ = ( 'invoice_date', 'max' ), \n",
        "                                                                   min_ = ( 'invoice_date', 'min' ),\n",
        "                                                                   days_= ( 'invoice_date', lambda x: ( ( x.max() - x.min() ).days ) + 1 ),\n",
        "                                                                   buy_ = ( 'invoice_no', 'count' ) ) ).reset_index()\n",
        "\n",
        "# Frequency\n",
        "df_aux['frequency'] = df_aux[['buy_', 'days_']].apply( lambda x: x['buy_'] / x['days_'] if  x['days_'] != 0 else 0, axis=1 )\n",
        "\n",
        "# Merge\n",
        "df_ref = pd.merge( df_ref, df_aux[['customer_id', 'frequency']], on='customer_id', how='left' )\n",
        "\n",
        "df_ref.isna().sum()"
      ],
      "metadata": {
        "colab": {
          "base_uri": "https://localhost:8080/"
        },
        "id": "6dl4HIEJbpAQ",
        "outputId": "19d64e19-c777-4a4b-b6f1-3ff52d238e88"
      },
      "execution_count": 33,
      "outputs": [
        {
          "output_type": "execute_result",
          "data": {
            "text/plain": [
              "customer_id            0\n",
              "gross_revenue         91\n",
              "recency_days          91\n",
              "invoice_no            91\n",
              "qtde_items            91\n",
              "avg_ticket            91\n",
              "qtde_products         91\n",
              "avg_recency_days    2816\n",
              "frequency             91\n",
              "dtype: int64"
            ]
          },
          "metadata": {},
          "execution_count": 33
        }
      ]
    },
    {
      "cell_type": "markdown",
      "source": [
        "### 3.1.8 Number of Returns"
      ],
      "metadata": {
        "id": "Mh1qude2kxb3"
      }
    },
    {
      "cell_type": "code",
      "source": [
        " # Number of Returns\n",
        "df_returns = df2_returns[['customer_id', 'quantity']].groupby( 'customer_id' ).sum().reset_index().rename( columns={'quantity':'qtde_returns'} )\n",
        "df_returns['qtde_returns'] = df_returns['qtde_returns'] * -1\n",
        "\n",
        "df_ref = pd.merge( df_ref, df_returns, how='left', on='customer_id' )\n",
        "df_ref.loc[df_ref['qtde_returns'].isna(), 'qtde_returns'] = 0\n",
        "\n",
        "df_ref.isna().sum()"
      ],
      "metadata": {
        "colab": {
          "base_uri": "https://localhost:8080/"
        },
        "id": "iw10eTyTkzUF",
        "outputId": "6addeb30-9668-4cd7-fc3c-918c95ab4a92"
      },
      "execution_count": 34,
      "outputs": [
        {
          "output_type": "execute_result",
          "data": {
            "text/plain": [
              "customer_id            0\n",
              "gross_revenue         91\n",
              "recency_days          91\n",
              "invoice_no            91\n",
              "qtde_items            91\n",
              "avg_ticket            91\n",
              "qtde_products         91\n",
              "avg_recency_days    2816\n",
              "frequency             91\n",
              "qtde_returns           0\n",
              "dtype: int64"
            ]
          },
          "metadata": {},
          "execution_count": 34
        }
      ]
    },
    {
      "cell_type": "markdown",
      "source": [
        "### 3.1.9 Basket Size"
      ],
      "metadata": {
        "id": "4Z5gDtLLmrzw"
      }
    },
    {
      "cell_type": "code",
      "source": [
        "df_aux = ( df2_purchases.loc[:, ['customer_id', 'invoice_no', 'quantity']].groupby( 'customer_id' )\n",
        "                                                                            .agg( n_purchase=( 'invoice_no', 'nunique'),\n",
        "                                                                                  n_products=( 'quantity', 'sum' ) )\n",
        "                                                                            .reset_index() )\n",
        "\n",
        "\n",
        "# calculation\n",
        "df_aux['avg_basket_size'] = df_aux['n_products'] / df_aux['n_purchase']\n",
        "\n",
        "# merge\n",
        "df_ref = pd.merge( df_ref, df_aux[['customer_id', 'avg_basket_size']], how='left', on='customer_id' )\n",
        "df_ref.isna().sum()"
      ],
      "metadata": {
        "colab": {
          "base_uri": "https://localhost:8080/"
        },
        "id": "BWZPxBHpnyKY",
        "outputId": "6492e9fd-26ee-4a88-a647-580d2e9c691d"
      },
      "execution_count": 35,
      "outputs": [
        {
          "output_type": "execute_result",
          "data": {
            "text/plain": [
              "customer_id            0\n",
              "gross_revenue         91\n",
              "recency_days          91\n",
              "invoice_no            91\n",
              "qtde_items            91\n",
              "avg_ticket            91\n",
              "qtde_products         91\n",
              "avg_recency_days    2816\n",
              "frequency             91\n",
              "qtde_returns           0\n",
              "avg_basket_size       91\n",
              "dtype: int64"
            ]
          },
          "metadata": {},
          "execution_count": 35
        }
      ]
    },
    {
      "cell_type": "markdown",
      "source": [
        " ### 3.1.10. Unique Basket Size "
      ],
      "metadata": {
        "id": "y0FxZObSwwPC"
      }
    },
    {
      "cell_type": "code",
      "source": [
        "df_aux = ( df2_purchases.loc[:, ['customer_id', 'invoice_no', 'stock_code']].groupby( 'customer_id' )\n",
        "                                                                            .agg( n_purchase=( 'invoice_no', 'nunique'),\n",
        "                                                                                   n_products=( 'stock_code', 'nunique' ) )\n",
        "                                                                            .reset_index() )\n",
        "\n",
        "# calculation\n",
        "df_aux['avg_unique_basket_size'] = df_aux['n_products'] / df_aux['n_purchase']\n",
        "\n",
        "# merge\n",
        "df_ref = pd.merge( df_ref, df_aux[['customer_id', 'avg_unique_basket_size']], how='left', on='customer_id' )\n",
        "df_ref.isna().sum()"
      ],
      "metadata": {
        "colab": {
          "base_uri": "https://localhost:8080/"
        },
        "id": "6dpAfR1AwyK4",
        "outputId": "8b85fa7b-9344-4503-9935-395196f3f5e5"
      },
      "execution_count": 36,
      "outputs": [
        {
          "output_type": "execute_result",
          "data": {
            "text/plain": [
              "customer_id                  0\n",
              "gross_revenue               91\n",
              "recency_days                91\n",
              "invoice_no                  91\n",
              "qtde_items                  91\n",
              "avg_ticket                  91\n",
              "qtde_products               91\n",
              "avg_recency_days          2816\n",
              "frequency                   91\n",
              "qtde_returns                 0\n",
              "avg_basket_size             91\n",
              "avg_unique_basket_size      91\n",
              "dtype: int64"
            ]
          },
          "metadata": {},
          "execution_count": 36
        }
      ]
    },
    {
      "cell_type": "markdown",
      "source": [
        "# 4.0 EDA\n"
      ],
      "metadata": {
        "id": "6PErmvAwb4D7"
      }
    },
    {
      "cell_type": "code",
      "source": [
        "df4 = df_ref.dropna()\n",
        "df4.isna().sum()"
      ],
      "metadata": {
        "id": "LQi_hT19b3ZM",
        "colab": {
          "base_uri": "https://localhost:8080/"
        },
        "outputId": "ed94683f-f35d-4c3c-bab0-e82eebf8ff41"
      },
      "execution_count": 37,
      "outputs": [
        {
          "output_type": "execute_result",
          "data": {
            "text/plain": [
              "customer_id               0\n",
              "gross_revenue             0\n",
              "recency_days              0\n",
              "invoice_no                0\n",
              "qtde_items                0\n",
              "avg_ticket                0\n",
              "qtde_products             0\n",
              "avg_recency_days          0\n",
              "frequency                 0\n",
              "qtde_returns              0\n",
              "avg_basket_size           0\n",
              "avg_unique_basket_size    0\n",
              "dtype: int64"
            ]
          },
          "metadata": {},
          "execution_count": 37
        }
      ]
    },
    {
      "cell_type": "markdown",
      "source": [
        "## 4.1 Univariate Analysis"
      ],
      "metadata": {
        "id": "C_nOjw1tLR08"
      }
    },
    {
      "cell_type": "code",
      "source": [
        "! pip install https://github.com/pandas-profiling/pandas-profiling/archive/master.zip "
      ],
      "metadata": {
        "colab": {
          "base_uri": "https://localhost:8080/"
        },
        "id": "lz8OXddI7utU",
        "outputId": "f67b55b0-eca6-4a5e-ab7b-7b62cef65979"
      },
      "execution_count": 38,
      "outputs": [
        {
          "output_type": "stream",
          "name": "stdout",
          "text": [
            "Looking in indexes: https://pypi.org/simple, https://us-python.pkg.dev/colab-wheels/public/simple/\n",
            "Collecting https://github.com/pandas-profiling/pandas-profiling/archive/master.zip\n",
            "  Using cached https://github.com/pandas-profiling/pandas-profiling/archive/master.zip\n",
            "  Preparing metadata (setup.py) ... \u001b[?25l\u001b[?25hdone\n",
            "Requirement already satisfied: scipy<1.10,>=1.4.1 in /usr/local/lib/python3.8/dist-packages (from pandas-profiling===dev) (1.7.3)\n",
            "Requirement already satisfied: pandas!=1.4.0,<1.6,>1.1 in /usr/local/lib/python3.8/dist-packages (from pandas-profiling===dev) (1.3.5)\n",
            "Requirement already satisfied: matplotlib<3.7,>=3.2 in /usr/local/lib/python3.8/dist-packages (from pandas-profiling===dev) (3.2.2)\n",
            "Requirement already satisfied: pydantic<1.11,>=1.8.1 in /usr/local/lib/python3.8/dist-packages (from pandas-profiling===dev) (1.10.4)\n",
            "Requirement already satisfied: PyYAML<6.1,>=5.0.0 in /usr/local/lib/python3.8/dist-packages (from pandas-profiling===dev) (6.0)\n",
            "Requirement already satisfied: jinja2<3.2,>=2.11.1 in /usr/local/lib/python3.8/dist-packages (from pandas-profiling===dev) (2.11.3)\n",
            "Requirement already satisfied: visions[type_image_path]==0.7.5 in /usr/local/lib/python3.8/dist-packages (from pandas-profiling===dev) (0.7.5)\n",
            "Requirement already satisfied: numpy<1.24,>=1.16.0 in /usr/local/lib/python3.8/dist-packages (from pandas-profiling===dev) (1.21.6)\n",
            "Requirement already satisfied: htmlmin==0.1.12 in /usr/local/lib/python3.8/dist-packages (from pandas-profiling===dev) (0.1.12)\n",
            "Requirement already satisfied: phik<0.13,>=0.11.1 in /usr/local/lib/python3.8/dist-packages (from pandas-profiling===dev) (0.12.3)\n",
            "Requirement already satisfied: requests<2.29,>=2.24.0 in /usr/local/lib/python3.8/dist-packages (from pandas-profiling===dev) (2.25.1)\n",
            "Requirement already satisfied: tqdm<4.65,>=4.48.2 in /usr/local/lib/python3.8/dist-packages (from pandas-profiling===dev) (4.64.1)\n",
            "Requirement already satisfied: seaborn<0.13,>=0.10.1 in /usr/local/lib/python3.8/dist-packages (from pandas-profiling===dev) (0.11.2)\n",
            "Requirement already satisfied: multimethod<1.10,>=1.4 in /usr/local/lib/python3.8/dist-packages (from pandas-profiling===dev) (1.9.1)\n",
            "Requirement already satisfied: statsmodels<0.14,>=0.13.2 in /usr/local/lib/python3.8/dist-packages (from pandas-profiling===dev) (0.13.5)\n",
            "Requirement already satisfied: typeguard<2.14,>=2.13.2 in /usr/local/lib/python3.8/dist-packages (from pandas-profiling===dev) (2.13.3)\n",
            "Requirement already satisfied: attrs>=19.3.0 in /usr/local/lib/python3.8/dist-packages (from visions[type_image_path]==0.7.5->pandas-profiling===dev) (22.2.0)\n",
            "Requirement already satisfied: networkx>=2.4 in /usr/local/lib/python3.8/dist-packages (from visions[type_image_path]==0.7.5->pandas-profiling===dev) (2.8.8)\n",
            "Requirement already satisfied: tangled-up-in-unicode>=0.0.4 in /usr/local/lib/python3.8/dist-packages (from visions[type_image_path]==0.7.5->pandas-profiling===dev) (0.2.0)\n",
            "Requirement already satisfied: Pillow in /usr/local/lib/python3.8/dist-packages (from visions[type_image_path]==0.7.5->pandas-profiling===dev) (7.1.2)\n",
            "Requirement already satisfied: imagehash in /usr/local/lib/python3.8/dist-packages (from visions[type_image_path]==0.7.5->pandas-profiling===dev) (4.3.1)\n",
            "Requirement already satisfied: MarkupSafe>=0.23 in /usr/local/lib/python3.8/dist-packages (from jinja2<3.2,>=2.11.1->pandas-profiling===dev) (2.0.1)\n",
            "Requirement already satisfied: kiwisolver>=1.0.1 in /usr/local/lib/python3.8/dist-packages (from matplotlib<3.7,>=3.2->pandas-profiling===dev) (1.4.4)\n",
            "Requirement already satisfied: pyparsing!=2.0.4,!=2.1.2,!=2.1.6,>=2.0.1 in /usr/local/lib/python3.8/dist-packages (from matplotlib<3.7,>=3.2->pandas-profiling===dev) (3.0.9)\n",
            "Requirement already satisfied: python-dateutil>=2.1 in /usr/local/lib/python3.8/dist-packages (from matplotlib<3.7,>=3.2->pandas-profiling===dev) (2.8.2)\n",
            "Requirement already satisfied: cycler>=0.10 in /usr/local/lib/python3.8/dist-packages (from matplotlib<3.7,>=3.2->pandas-profiling===dev) (0.11.0)\n",
            "Requirement already satisfied: pytz>=2017.3 in /usr/local/lib/python3.8/dist-packages (from pandas!=1.4.0,<1.6,>1.1->pandas-profiling===dev) (2022.7)\n",
            "Requirement already satisfied: joblib>=0.14.1 in /usr/local/lib/python3.8/dist-packages (from phik<0.13,>=0.11.1->pandas-profiling===dev) (1.2.0)\n",
            "Requirement already satisfied: typing-extensions>=4.2.0 in /usr/local/lib/python3.8/dist-packages (from pydantic<1.11,>=1.8.1->pandas-profiling===dev) (4.4.0)\n",
            "Requirement already satisfied: certifi>=2017.4.17 in /usr/local/lib/python3.8/dist-packages (from requests<2.29,>=2.24.0->pandas-profiling===dev) (2022.12.7)\n",
            "Requirement already satisfied: chardet<5,>=3.0.2 in /usr/local/lib/python3.8/dist-packages (from requests<2.29,>=2.24.0->pandas-profiling===dev) (4.0.0)\n",
            "Requirement already satisfied: idna<3,>=2.5 in /usr/local/lib/python3.8/dist-packages (from requests<2.29,>=2.24.0->pandas-profiling===dev) (2.10)\n",
            "Requirement already satisfied: urllib3<1.27,>=1.21.1 in /usr/local/lib/python3.8/dist-packages (from requests<2.29,>=2.24.0->pandas-profiling===dev) (1.24.3)\n",
            "Requirement already satisfied: packaging>=21.3 in /usr/local/lib/python3.8/dist-packages (from statsmodels<0.14,>=0.13.2->pandas-profiling===dev) (21.3)\n",
            "Requirement already satisfied: patsy>=0.5.2 in /usr/local/lib/python3.8/dist-packages (from statsmodels<0.14,>=0.13.2->pandas-profiling===dev) (0.5.3)\n",
            "Requirement already satisfied: six in /usr/local/lib/python3.8/dist-packages (from patsy>=0.5.2->statsmodels<0.14,>=0.13.2->pandas-profiling===dev) (1.15.0)\n",
            "Requirement already satisfied: PyWavelets in /usr/local/lib/python3.8/dist-packages (from imagehash->visions[type_image_path]==0.7.5->pandas-profiling===dev) (1.4.1)\n"
          ]
        }
      ]
    },
    {
      "cell_type": "code",
      "source": [
        "from pandas_profiling import ProfileReport"
      ],
      "metadata": {
        "id": "36YQb09n4u1d"
      },
      "execution_count": 39,
      "outputs": []
    },
    {
      "cell_type": "code",
      "source": [
        "profile = ProfileReport( df4 )\n",
        "profile.to_file( 'output_v3.html' )"
      ],
      "metadata": {
        "colab": {
          "base_uri": "https://localhost:8080/",
          "height": 232,
          "referenced_widgets": [
            "5b5578d3c4ad49d6b0e1d90d70f08cd1",
            "7729adad9a0c4cecbc23b8d41ee7bea3",
            "e08d34075f634f4391e1135d7a09b577",
            "10120f72ec244e4cb0d8e7fa2e3bdc87",
            "4a2e9aec5c9f47b18f19dd31eb7697bb",
            "92c41621cebb46d296fbbe3b0e31037e",
            "96f65bbebf594f90bd38c5600aa645b4",
            "b92d42eb86634d67bf679feec99fd89e",
            "f2987600d87043e98183712df992af79",
            "b37558e880594143a271f99b52fa77a7",
            "8d8b399e85f540f9bf45279fba224692",
            "3bb033821a4a4f85aae7ef50dfc37e60",
            "a288a03c92e54888b83b42969401abb1",
            "0f36d49518c84ac69a0277450712bc16",
            "92bbbc60d866474aab4ab0f28eaddb5f",
            "4114d86b3e8c499fa45191981be2dbca",
            "3689e71bbe394b94bceb66ddcc614636",
            "4ca75d6174ad492180f496d61da6a45d",
            "f43151bcb4f84286992868b6b30220c4",
            "05ea1b96ec564a45a294d3dfec70cf89",
            "ba3f4050c5cd47b7b66296752bf27428",
            "8794b00baacd43c4afdaa17fa9193d58",
            "7fa1eaeb7d844f789408117e9a083fba",
            "28b6ae7a27f84650bf6efa207559f9d6",
            "09e05c79e8f94bc49069e14c0d0dc08e",
            "5df63853813a4c07bdbf56bb5b27a72a",
            "953c191332c440a1b924a5e49a908113",
            "4fff0d9fd5ef46a4a7d4f5c59e72ca28",
            "3957a333314b4e8a9a1517422deaf574",
            "e5975bde620f4ad1ad558ec0dcb983a0",
            "1584d72be79d4443a957982c84e2a744",
            "cc5cb6ef152c427db898c16012669011",
            "e898c374a1c845938e6ccf32260ff852",
            "03f7ee0cd9604d598f1463bac9a8e3e8",
            "5f94561cf5474a19a3007d466e43aabf",
            "27ae88a1f1a046b383e86d3779384242",
            "d707a855dc604dc4813d19ebbf146961",
            "7506c3add76347489f91589ce6c73b15",
            "0ecee602f0a4483f8c7be72e6bb54202",
            "9ec6849e5bfc40a498cde11cd8669c7d",
            "07b2bcd70be741f785ddd04cfaaceee0",
            "6a71fd1c2ed64bc5867ed3f4196a0018",
            "b7ce8c9c2ed548df86e63971e39ebbf5",
            "e5707e323f2f42a1ad6c559c5de83fc1"
          ]
        },
        "id": "ZziPlTUv4086",
        "outputId": "aa3b64bf-c857-4c9e-f0ed-7eadec1c38d2"
      },
      "execution_count": 40,
      "outputs": [
        {
          "output_type": "stream",
          "name": "stderr",
          "text": [
            "/usr/local/lib/python3.8/dist-packages/pandas/core/frame.py:5039: SettingWithCopyWarning: \n",
            "A value is trying to be set on a copy of a slice from a DataFrame\n",
            "\n",
            "See the caveats in the documentation: https://pandas.pydata.org/pandas-docs/stable/user_guide/indexing.html#returning-a-view-versus-a-copy\n",
            "  return super().rename(\n"
          ]
        },
        {
          "output_type": "display_data",
          "data": {
            "text/plain": [
              "Summarize dataset:   0%|          | 0/5 [00:00<?, ?it/s]"
            ],
            "application/vnd.jupyter.widget-view+json": {
              "version_major": 2,
              "version_minor": 0,
              "model_id": "5b5578d3c4ad49d6b0e1d90d70f08cd1"
            }
          },
          "metadata": {}
        },
        {
          "output_type": "display_data",
          "data": {
            "text/plain": [
              "Generate report structure:   0%|          | 0/1 [00:00<?, ?it/s]"
            ],
            "application/vnd.jupyter.widget-view+json": {
              "version_major": 2,
              "version_minor": 0,
              "model_id": "3bb033821a4a4f85aae7ef50dfc37e60"
            }
          },
          "metadata": {}
        },
        {
          "output_type": "display_data",
          "data": {
            "text/plain": [
              "Render HTML:   0%|          | 0/1 [00:00<?, ?it/s]"
            ],
            "application/vnd.jupyter.widget-view+json": {
              "version_major": 2,
              "version_minor": 0,
              "model_id": "7fa1eaeb7d844f789408117e9a083fba"
            }
          },
          "metadata": {}
        },
        {
          "output_type": "display_data",
          "data": {
            "text/plain": [
              "Export report to file:   0%|          | 0/1 [00:00<?, ?it/s]"
            ],
            "application/vnd.jupyter.widget-view+json": {
              "version_major": 2,
              "version_minor": 0,
              "model_id": "03f7ee0cd9604d598f1463bac9a8e3e8"
            }
          },
          "metadata": {}
        }
      ]
    },
    {
      "cell_type": "markdown",
      "source": [
        "# 5.0 DATA PREPARATION"
      ],
      "metadata": {
        "id": "sXaUWGlcb8BZ"
      }
    },
    {
      "cell_type": "code",
      "source": [
        "df5 = df4.copy()"
      ],
      "metadata": {
        "id": "Dk8GjxwUb7Xg"
      },
      "execution_count": null,
      "outputs": []
    },
    {
      "cell_type": "code",
      "source": [
        "## Standard Scaler\n",
        "ss= pp.StandardScaler()\n",
        "\n",
        "df5['gross_revenue']= ss.fit_transform(df5[['gross_revenue']])\n",
        "df5['recency_days']= ss.fit_transform(df5[['recency_days']])\n",
        "df5['invoice_no']= ss.fit_transform(df5[['invoice_no']])\n",
        "df5['avg_ticket']= ss.fit_transform(df5[['avg_ticket']])\n"
      ],
      "metadata": {
        "id": "msJGQFpXnV8K"
      },
      "execution_count": null,
      "outputs": []
    },
    {
      "cell_type": "code",
      "source": [
        "df5.head()"
      ],
      "metadata": {
        "colab": {
          "base_uri": "https://localhost:8080/"
        },
        "id": "XlR-VApypBhx",
        "outputId": "a77e57eb-cff7-4aa5-acaf-70b1951c3466"
      },
      "execution_count": null,
      "outputs": [
        {
          "output_type": "execute_result",
          "data": {
            "text/plain": [
              "   customer_id  gross_revenue  recency_days  invoice_no  avg_ticket\n",
              "0        17850       0.378073      2.791512    3.893141   -0.033934\n",
              "1        13047       0.135815     -0.361004    0.621632   -0.033422\n",
              "2        12583       0.525560     -0.899726    1.406794   -0.026617\n",
              "3        13748      -0.120552      0.028072    0.098191   -0.023239\n",
              "4        15100      -0.128660      2.402435   -0.163530    0.152448"
            ],
            "text/html": [
              "\n",
              "  <div id=\"df-16241967-eebe-4978-aae5-c9b23f115768\">\n",
              "    <div class=\"colab-df-container\">\n",
              "      <div>\n",
              "<style scoped>\n",
              "    .dataframe tbody tr th:only-of-type {\n",
              "        vertical-align: middle;\n",
              "    }\n",
              "\n",
              "    .dataframe tbody tr th {\n",
              "        vertical-align: top;\n",
              "    }\n",
              "\n",
              "    .dataframe thead th {\n",
              "        text-align: right;\n",
              "    }\n",
              "</style>\n",
              "<table border=\"1\" class=\"dataframe\">\n",
              "  <thead>\n",
              "    <tr style=\"text-align: right;\">\n",
              "      <th></th>\n",
              "      <th>customer_id</th>\n",
              "      <th>gross_revenue</th>\n",
              "      <th>recency_days</th>\n",
              "      <th>invoice_no</th>\n",
              "      <th>avg_ticket</th>\n",
              "    </tr>\n",
              "  </thead>\n",
              "  <tbody>\n",
              "    <tr>\n",
              "      <th>0</th>\n",
              "      <td>17850</td>\n",
              "      <td>0.378073</td>\n",
              "      <td>2.791512</td>\n",
              "      <td>3.893141</td>\n",
              "      <td>-0.033934</td>\n",
              "    </tr>\n",
              "    <tr>\n",
              "      <th>1</th>\n",
              "      <td>13047</td>\n",
              "      <td>0.135815</td>\n",
              "      <td>-0.361004</td>\n",
              "      <td>0.621632</td>\n",
              "      <td>-0.033422</td>\n",
              "    </tr>\n",
              "    <tr>\n",
              "      <th>2</th>\n",
              "      <td>12583</td>\n",
              "      <td>0.525560</td>\n",
              "      <td>-0.899726</td>\n",
              "      <td>1.406794</td>\n",
              "      <td>-0.026617</td>\n",
              "    </tr>\n",
              "    <tr>\n",
              "      <th>3</th>\n",
              "      <td>13748</td>\n",
              "      <td>-0.120552</td>\n",
              "      <td>0.028072</td>\n",
              "      <td>0.098191</td>\n",
              "      <td>-0.023239</td>\n",
              "    </tr>\n",
              "    <tr>\n",
              "      <th>4</th>\n",
              "      <td>15100</td>\n",
              "      <td>-0.128660</td>\n",
              "      <td>2.402435</td>\n",
              "      <td>-0.163530</td>\n",
              "      <td>0.152448</td>\n",
              "    </tr>\n",
              "  </tbody>\n",
              "</table>\n",
              "</div>\n",
              "      <button class=\"colab-df-convert\" onclick=\"convertToInteractive('df-16241967-eebe-4978-aae5-c9b23f115768')\"\n",
              "              title=\"Convert this dataframe to an interactive table.\"\n",
              "              style=\"display:none;\">\n",
              "        \n",
              "  <svg xmlns=\"http://www.w3.org/2000/svg\" height=\"24px\"viewBox=\"0 0 24 24\"\n",
              "       width=\"24px\">\n",
              "    <path d=\"M0 0h24v24H0V0z\" fill=\"none\"/>\n",
              "    <path d=\"M18.56 5.44l.94 2.06.94-2.06 2.06-.94-2.06-.94-.94-2.06-.94 2.06-2.06.94zm-11 1L8.5 8.5l.94-2.06 2.06-.94-2.06-.94L8.5 2.5l-.94 2.06-2.06.94zm10 10l.94 2.06.94-2.06 2.06-.94-2.06-.94-.94-2.06-.94 2.06-2.06.94z\"/><path d=\"M17.41 7.96l-1.37-1.37c-.4-.4-.92-.59-1.43-.59-.52 0-1.04.2-1.43.59L10.3 9.45l-7.72 7.72c-.78.78-.78 2.05 0 2.83L4 21.41c.39.39.9.59 1.41.59.51 0 1.02-.2 1.41-.59l7.78-7.78 2.81-2.81c.8-.78.8-2.07 0-2.86zM5.41 20L4 18.59l7.72-7.72 1.47 1.35L5.41 20z\"/>\n",
              "  </svg>\n",
              "      </button>\n",
              "      \n",
              "  <style>\n",
              "    .colab-df-container {\n",
              "      display:flex;\n",
              "      flex-wrap:wrap;\n",
              "      gap: 12px;\n",
              "    }\n",
              "\n",
              "    .colab-df-convert {\n",
              "      background-color: #E8F0FE;\n",
              "      border: none;\n",
              "      border-radius: 50%;\n",
              "      cursor: pointer;\n",
              "      display: none;\n",
              "      fill: #1967D2;\n",
              "      height: 32px;\n",
              "      padding: 0 0 0 0;\n",
              "      width: 32px;\n",
              "    }\n",
              "\n",
              "    .colab-df-convert:hover {\n",
              "      background-color: #E2EBFA;\n",
              "      box-shadow: 0px 1px 2px rgba(60, 64, 67, 0.3), 0px 1px 3px 1px rgba(60, 64, 67, 0.15);\n",
              "      fill: #174EA6;\n",
              "    }\n",
              "\n",
              "    [theme=dark] .colab-df-convert {\n",
              "      background-color: #3B4455;\n",
              "      fill: #D2E3FC;\n",
              "    }\n",
              "\n",
              "    [theme=dark] .colab-df-convert:hover {\n",
              "      background-color: #434B5C;\n",
              "      box-shadow: 0px 1px 3px 1px rgba(0, 0, 0, 0.15);\n",
              "      filter: drop-shadow(0px 1px 2px rgba(0, 0, 0, 0.3));\n",
              "      fill: #FFFFFF;\n",
              "    }\n",
              "  </style>\n",
              "\n",
              "      <script>\n",
              "        const buttonEl =\n",
              "          document.querySelector('#df-16241967-eebe-4978-aae5-c9b23f115768 button.colab-df-convert');\n",
              "        buttonEl.style.display =\n",
              "          google.colab.kernel.accessAllowed ? 'block' : 'none';\n",
              "\n",
              "        async function convertToInteractive(key) {\n",
              "          const element = document.querySelector('#df-16241967-eebe-4978-aae5-c9b23f115768');\n",
              "          const dataTable =\n",
              "            await google.colab.kernel.invokeFunction('convertToInteractive',\n",
              "                                                     [key], {});\n",
              "          if (!dataTable) return;\n",
              "\n",
              "          const docLinkHtml = 'Like what you see? Visit the ' +\n",
              "            '<a target=\"_blank\" href=https://colab.research.google.com/notebooks/data_table.ipynb>data table notebook</a>'\n",
              "            + ' to learn more about interactive tables.';\n",
              "          element.innerHTML = '';\n",
              "          dataTable['output_type'] = 'display_data';\n",
              "          await google.colab.output.renderOutput(dataTable, element);\n",
              "          const docLink = document.createElement('div');\n",
              "          docLink.innerHTML = docLinkHtml;\n",
              "          element.appendChild(docLink);\n",
              "        }\n",
              "      </script>\n",
              "    </div>\n",
              "  </div>\n",
              "  "
            ]
          },
          "metadata": {},
          "execution_count": 38
        }
      ]
    },
    {
      "cell_type": "code",
      "source": [
        "sns.distplot(np.log(df5['gross_revenue']))"
      ],
      "metadata": {
        "colab": {
          "base_uri": "https://localhost:8080/"
        },
        "id": "fC0qv4C5pJ-x",
        "outputId": "8a0f2272-788c-4b59-fbe1-6c3ff8f481bd"
      },
      "execution_count": null,
      "outputs": [
        {
          "output_type": "stream",
          "name": "stderr",
          "text": [
            "/usr/local/lib/python3.8/dist-packages/pandas/core/arraylike.py:364: RuntimeWarning: invalid value encountered in log\n",
            "  result = getattr(ufunc, method)(*inputs, **kwargs)\n",
            "/usr/local/lib/python3.8/dist-packages/seaborn/distributions.py:2619: FutureWarning: `distplot` is a deprecated function and will be removed in a future version. Please adapt your code to use either `displot` (a figure-level function with similar flexibility) or `histplot` (an axes-level function for histograms).\n",
            "  warnings.warn(msg, FutureWarning)\n"
          ]
        },
        {
          "output_type": "execute_result",
          "data": {
            "text/plain": [
              "<matplotlib.axes._subplots.AxesSubplot at 0x7f230d772640>"
            ]
          },
          "metadata": {},
          "execution_count": 39
        },
        {
          "output_type": "display_data",
          "data": {
            "text/plain": [
              "<Figure size 576x396 with 1 Axes>"
            ],
            "image/png": "[encoded data removed]"
          },
          "metadata": {}
        }
      ]
    },
    {
      "cell_type": "markdown",
      "source": [
        "# 6.0 FEATURE SELECTION"
      ],
      "metadata": {
        "id": "aEQoWmGlcAMY"
      }
    },
    {
      "cell_type": "code",
      "source": [
        "df6= df5.copy()"
      ],
      "metadata": {
        "id": "XZfp9dl8b_E2"
      },
      "execution_count": null,
      "outputs": []
    },
    {
      "cell_type": "markdown",
      "source": [
        "#7.0 Hyperparameter Fine-Tuning"
      ],
      "metadata": {
        "id": "E5mlN58KcGh4"
      }
    },
    {
      "cell_type": "code",
      "source": [
        "X= df6.drop(columns=['customer_id'])"
      ],
      "metadata": {
        "id": "dwx9dRNHcDpu"
      },
      "execution_count": null,
      "outputs": []
    },
    {
      "cell_type": "code",
      "source": [
        "X.head()"
      ],
      "metadata": {
        "colab": {
          "base_uri": "https://localhost:8080/"
        },
        "id": "p_tFcKTISdgC",
        "outputId": "53e54e84-c397-4b80-dbeb-42ad19eda0a5"
      },
      "execution_count": null,
      "outputs": [
        {
          "output_type": "execute_result",
          "data": {
            "text/plain": [
              "   gross_revenue  recency_days  invoice_no  avg_ticket\n",
              "0       0.378073      2.791512    3.893141   -0.033934\n",
              "1       0.135815     -0.361004    0.621632   -0.033422\n",
              "2       0.525560     -0.899726    1.406794   -0.026617\n",
              "3      -0.120552      0.028072    0.098191   -0.023239\n",
              "4      -0.128660      2.402435   -0.163530    0.152448"
            ],
            "text/html": [
              "\n",
              "  <div id=\"df-bd3f0dcd-c610-4f7b-ac17-58c82dc1b447\">\n",
              "    <div class=\"colab-df-container\">\n",
              "      <div>\n",
              "<style scoped>\n",
              "    .dataframe tbody tr th:only-of-type {\n",
              "        vertical-align: middle;\n",
              "    }\n",
              "\n",
              "    .dataframe tbody tr th {\n",
              "        vertical-align: top;\n",
              "    }\n",
              "\n",
              "    .dataframe thead th {\n",
              "        text-align: right;\n",
              "    }\n",
              "</style>\n",
              "<table border=\"1\" class=\"dataframe\">\n",
              "  <thead>\n",
              "    <tr style=\"text-align: right;\">\n",
              "      <th></th>\n",
              "      <th>gross_revenue</th>\n",
              "      <th>recency_days</th>\n",
              "      <th>invoice_no</th>\n",
              "      <th>avg_ticket</th>\n",
              "    </tr>\n",
              "  </thead>\n",
              "  <tbody>\n",
              "    <tr>\n",
              "      <th>0</th>\n",
              "      <td>0.378073</td>\n",
              "      <td>2.791512</td>\n",
              "      <td>3.893141</td>\n",
              "      <td>-0.033934</td>\n",
              "    </tr>\n",
              "    <tr>\n",
              "      <th>1</th>\n",
              "      <td>0.135815</td>\n",
              "      <td>-0.361004</td>\n",
              "      <td>0.621632</td>\n",
              "      <td>-0.033422</td>\n",
              "    </tr>\n",
              "    <tr>\n",
              "      <th>2</th>\n",
              "      <td>0.525560</td>\n",
              "      <td>-0.899726</td>\n",
              "      <td>1.406794</td>\n",
              "      <td>-0.026617</td>\n",
              "    </tr>\n",
              "    <tr>\n",
              "      <th>3</th>\n",
              "      <td>-0.120552</td>\n",
              "      <td>0.028072</td>\n",
              "      <td>0.098191</td>\n",
              "      <td>-0.023239</td>\n",
              "    </tr>\n",
              "    <tr>\n",
              "      <th>4</th>\n",
              "      <td>-0.128660</td>\n",
              "      <td>2.402435</td>\n",
              "      <td>-0.163530</td>\n",
              "      <td>0.152448</td>\n",
              "    </tr>\n",
              "  </tbody>\n",
              "</table>\n",
              "</div>\n",
              "      <button class=\"colab-df-convert\" onclick=\"convertToInteractive('df-bd3f0dcd-c610-4f7b-ac17-58c82dc1b447')\"\n",
              "              title=\"Convert this dataframe to an interactive table.\"\n",
              "              style=\"display:none;\">\n",
              "        \n",
              "  <svg xmlns=\"http://www.w3.org/2000/svg\" height=\"24px\"viewBox=\"0 0 24 24\"\n",
              "       width=\"24px\">\n",
              "    <path d=\"M0 0h24v24H0V0z\" fill=\"none\"/>\n",
              "    <path d=\"M18.56 5.44l.94 2.06.94-2.06 2.06-.94-2.06-.94-.94-2.06-.94 2.06-2.06.94zm-11 1L8.5 8.5l.94-2.06 2.06-.94-2.06-.94L8.5 2.5l-.94 2.06-2.06.94zm10 10l.94 2.06.94-2.06 2.06-.94-2.06-.94-.94-2.06-.94 2.06-2.06.94z\"/><path d=\"M17.41 7.96l-1.37-1.37c-.4-.4-.92-.59-1.43-.59-.52 0-1.04.2-1.43.59L10.3 9.45l-7.72 7.72c-.78.78-.78 2.05 0 2.83L4 21.41c.39.39.9.59 1.41.59.51 0 1.02-.2 1.41-.59l7.78-7.78 2.81-2.81c.8-.78.8-2.07 0-2.86zM5.41 20L4 18.59l7.72-7.72 1.47 1.35L5.41 20z\"/>\n",
              "  </svg>\n",
              "      </button>\n",
              "      \n",
              "  <style>\n",
              "    .colab-df-container {\n",
              "      display:flex;\n",
              "      flex-wrap:wrap;\n",
              "      gap: 12px;\n",
              "    }\n",
              "\n",
              "    .colab-df-convert {\n",
              "      background-color: #E8F0FE;\n",
              "      border: none;\n",
              "      border-radius: 50%;\n",
              "      cursor: pointer;\n",
              "      display: none;\n",
              "      fill: #1967D2;\n",
              "      height: 32px;\n",
              "      padding: 0 0 0 0;\n",
              "      width: 32px;\n",
              "    }\n",
              "\n",
              "    .colab-df-convert:hover {\n",
              "      background-color: #E2EBFA;\n",
              "      box-shadow: 0px 1px 2px rgba(60, 64, 67, 0.3), 0px 1px 3px 1px rgba(60, 64, 67, 0.15);\n",
              "      fill: #174EA6;\n",
              "    }\n",
              "\n",
              "    [theme=dark] .colab-df-convert {\n",
              "      background-color: #3B4455;\n",
              "      fill: #D2E3FC;\n",
              "    }\n",
              "\n",
              "    [theme=dark] .colab-df-convert:hover {\n",
              "      background-color: #434B5C;\n",
              "      box-shadow: 0px 1px 3px 1px rgba(0, 0, 0, 0.15);\n",
              "      filter: drop-shadow(0px 1px 2px rgba(0, 0, 0, 0.3));\n",
              "      fill: #FFFFFF;\n",
              "    }\n",
              "  </style>\n",
              "\n",
              "      <script>\n",
              "        const buttonEl =\n",
              "          document.querySelector('#df-bd3f0dcd-c610-4f7b-ac17-58c82dc1b447 button.colab-df-convert');\n",
              "        buttonEl.style.display =\n",
              "          google.colab.kernel.accessAllowed ? 'block' : 'none';\n",
              "\n",
              "        async function convertToInteractive(key) {\n",
              "          const element = document.querySelector('#df-bd3f0dcd-c610-4f7b-ac17-58c82dc1b447');\n",
              "          const dataTable =\n",
              "            await google.colab.kernel.invokeFunction('convertToInteractive',\n",
              "                                                     [key], {});\n",
              "          if (!dataTable) return;\n",
              "\n",
              "          const docLinkHtml = 'Like what you see? Visit the ' +\n",
              "            '<a target=\"_blank\" href=https://colab.research.google.com/notebooks/data_table.ipynb>data table notebook</a>'\n",
              "            + ' to learn more about interactive tables.';\n",
              "          element.innerHTML = '';\n",
              "          dataTable['output_type'] = 'display_data';\n",
              "          await google.colab.output.renderOutput(dataTable, element);\n",
              "          const docLink = document.createElement('div');\n",
              "          docLink.innerHTML = docLinkHtml;\n",
              "          element.appendChild(docLink);\n",
              "        }\n",
              "      </script>\n",
              "    </div>\n",
              "  </div>\n",
              "  "
            ]
          },
          "metadata": {},
          "execution_count": 42
        }
      ]
    },
    {
      "cell_type": "code",
      "source": [
        "clusters= [2,3,4,5,6,7]"
      ],
      "metadata": {
        "id": "o2asHxjNiYw6"
      },
      "execution_count": null,
      "outputs": []
    },
    {
      "cell_type": "code",
      "source": [
        "#wss=[]\n",
        "#for k in clusters:\n",
        "  ##model definition\n",
        "  #kmeans= c.KMeans(init='random',n_clusters=k,n_init=10,max_iter=300,random_state=42)\n",
        "\n",
        "  ##model training\n",
        "  #kmeans.fit(X)\n",
        "\n",
        "  ##validation\n",
        "  #wss.append(kmeans.inertia_)\n",
        "\n",
        "##plot wss - elbow method\n",
        "#plt.plot(clusters,wss,linestyle='--',marker= 'o',color= 'b')\n",
        "#plt.xlabel('K');\n",
        "#plt.ylabel('Within-Cluster Sum of Square'); \n",
        "#plt.title('WSS vs K');"
      ],
      "metadata": {
        "id": "IfSBvQc-knBb"
      },
      "execution_count": null,
      "outputs": []
    },
    {
      "cell_type": "code",
      "source": [
        "from yellowbrick.cluster import KElbowVisualizer\n",
        "\n",
        "kmeans= KElbowVisualizer(c.KMeans(), k=clusters,timings=False)\n",
        "kmeans.fit(X)\n",
        "kmeans.show()"
      ],
      "metadata": {
        "colab": {
          "base_uri": "https://localhost:8080/"
        },
        "id": "Yy8mc0e1r8-4",
        "outputId": "ab86e816-98ff-4539-b6a5-3ff98fa3fe82"
      },
      "execution_count": null,
      "outputs": [
        {
          "output_type": "display_data",
          "data": {
            "text/plain": [
              "<Figure size 576x396 with 1 Axes>"
            ],
            "image/png": "[encoded data removed]"
          },
          "metadata": {}
        },
        {
          "output_type": "execute_result",
          "data": {
            "text/plain": [
              "<matplotlib.axes._subplots.AxesSubplot at 0x7f230b649a60>"
            ]
          },
          "metadata": {},
          "execution_count": 45
        }
      ]
    },
    {
      "cell_type": "code",
      "source": [
        "from yellowbrick.cluster import KElbowVisualizer\n",
        "kmeans= KElbowVisualizer(c.KMeans(),k=clusters,metric='silhouette',timings=False)\n",
        "kmeans.fit(X)\n",
        "kmeans.show()"
      ],
      "metadata": {
        "colab": {
          "base_uri": "https://localhost:8080/"
        },
        "id": "oA5cbd3x2Mzl",
        "outputId": "32505de4-9883-4928-e8bd-bf472500e743"
      },
      "execution_count": null,
      "outputs": [
        {
          "output_type": "display_data",
          "data": {
            "text/plain": [
              "<Figure size 576x396 with 1 Axes>"
            ],
            "image/png": "[encoded data removed]"
          },
          "metadata": {}
        },
        {
          "output_type": "execute_result",
          "data": {
            "text/plain": [
              "<matplotlib.axes._subplots.AxesSubplot at 0x7f230b6490a0>"
            ]
          },
          "metadata": {},
          "execution_count": 46
        }
      ]
    },
    {
      "cell_type": "markdown",
      "source": [
        "## 7.1 Silhouette Analysis"
      ],
      "metadata": {
        "id": "E_Pt99g3JGk9"
      }
    },
    {
      "cell_type": "code",
      "source": [
        "fig,ax= plt.subplots(3,2,figsize=(25,18))\n",
        "for k in clusters: \n",
        "  km= c.KMeans(n_clusters= k, init='random',n_init=10, max_iter=100, random_state=42)\n",
        "  q,mod= divmod(k,2)\n",
        "  visualizer= SilhouetteVisualizer(km, colors='yellowbrick',ax= ax[q-1][mod])\n",
        "  visualizer.fit(X)\n",
        "  visualizer.finalize()"
      ],
      "metadata": {
        "colab": {
          "base_uri": "https://localhost:8080/"
        },
        "id": "qvgccKoBJOrM",
        "outputId": "cfd4c546-8537-4555-d593-ccd910e851ea"
      },
      "execution_count": null,
      "outputs": [
        {
          "output_type": "display_data",
          "data": {
            "text/plain": [
              "<Figure size 1800x1296 with 6 Axes>"
            ],
            "image/png": "[encoded data removed]"
          },
          "metadata": {}
        }
      ]
    },
    {
      "cell_type": "markdown",
      "source": [
        "# 8.0 MODEL TRAINING"
      ],
      "metadata": {
        "id": "DTNuCDyVfniS"
      }
    },
    {
      "cell_type": "markdown",
      "source": [
        "## 8.1 K-MEANS"
      ],
      "metadata": {
        "id": "2-1W44EDKk96"
      }
    },
    {
      "cell_type": "code",
      "source": [
        "#model definition\n",
        "k=3\n",
        "kmeans= c.KMeans(init='random', n_clusters= k, n_init= 10, max_iter= 300)\n",
        "#model training\n",
        "kmeans.fit(X)\n",
        "\n",
        "#clustering\n",
        "labels= kmeans.labels_"
      ],
      "metadata": {
        "id": "XYt8G1eccbyZ"
      },
      "execution_count": null,
      "outputs": []
    },
    {
      "cell_type": "markdown",
      "source": [
        "## 8.2 Cluster Validation"
      ],
      "metadata": {
        "id": "Yls19dVRUKQ6"
      }
    },
    {
      "cell_type": "code",
      "source": [
        "from sklearn import metrics as m"
      ],
      "metadata": {
        "id": "43x3TyUEURwK"
      },
      "execution_count": null,
      "outputs": []
    },
    {
      "cell_type": "code",
      "source": [
        "#WSS\n",
        "print('WSS value: {}'.format(kmeans.inertia_))\n",
        " \n",
        "#SS\n",
        "print('SS value: {}'.format(m.silhouette_score(X,labels,metric='euclidean')))"
      ],
      "metadata": {
        "colab": {
          "base_uri": "https://localhost:8080/"
        },
        "id": "OWQiSJVIKdkF",
        "outputId": "60548a96-d8cd-41f8-9f8c-22c25e282544"
      },
      "execution_count": null,
      "outputs": [
        {
          "output_type": "stream",
          "name": "stdout",
          "text": [
            "WSS value: 9408.255050647289\n",
            "SS value: 0.5893633811956627\n"
          ]
        }
      ]
    },
    {
      "cell_type": "markdown",
      "source": [
        "# 9.0 Cluster Analysis"
      ],
      "metadata": {
        "id": "5ef2UQJPoe4Q"
      }
    },
    {
      "cell_type": "code",
      "source": [
        "df9 = df6.copy()\n",
        "df9['cluster']= labels\n",
        "df9.head()"
      ],
      "metadata": {
        "id": "l2FXANpyLhkA",
        "colab": {
          "base_uri": "https://localhost:8080/"
        },
        "outputId": "7ff578c8-280a-41bf-8bff-72abfaaf6dc4"
      },
      "execution_count": null,
      "outputs": [
        {
          "output_type": "execute_result",
          "data": {
            "text/plain": [
              "   customer_id  gross_revenue  recency_days  invoice_no  avg_ticket  cluster\n",
              "0        17850       0.378073      2.791512    3.893141   -0.033934        2\n",
              "1        13047       0.135815     -0.361004    0.621632   -0.033422        1\n",
              "2        12583       0.525560     -0.899726    1.406794   -0.026617        1\n",
              "3        13748      -0.120552      0.028072    0.098191   -0.023239        1\n",
              "4        15100      -0.128660      2.402435   -0.163530    0.152448        2"
            ],
            "text/html": [
              "\n",
              "  <div id=\"df-850e89d3-9999-4563-9276-b7de1d8b6c6d\">\n",
              "    <div class=\"colab-df-container\">\n",
              "      <div>\n",
              "<style scoped>\n",
              "    .dataframe tbody tr th:only-of-type {\n",
              "        vertical-align: middle;\n",
              "    }\n",
              "\n",
              "    .dataframe tbody tr th {\n",
              "        vertical-align: top;\n",
              "    }\n",
              "\n",
              "    .dataframe thead th {\n",
              "        text-align: right;\n",
              "    }\n",
              "</style>\n",
              "<table border=\"1\" class=\"dataframe\">\n",
              "  <thead>\n",
              "    <tr style=\"text-align: right;\">\n",
              "      <th></th>\n",
              "      <th>customer_id</th>\n",
              "      <th>gross_revenue</th>\n",
              "      <th>recency_days</th>\n",
              "      <th>invoice_no</th>\n",
              "      <th>avg_ticket</th>\n",
              "      <th>cluster</th>\n",
              "    </tr>\n",
              "  </thead>\n",
              "  <tbody>\n",
              "    <tr>\n",
              "      <th>0</th>\n",
              "      <td>17850</td>\n",
              "      <td>0.378073</td>\n",
              "      <td>2.791512</td>\n",
              "      <td>3.893141</td>\n",
              "      <td>-0.033934</td>\n",
              "      <td>2</td>\n",
              "    </tr>\n",
              "    <tr>\n",
              "      <th>1</th>\n",
              "      <td>13047</td>\n",
              "      <td>0.135815</td>\n",
              "      <td>-0.361004</td>\n",
              "      <td>0.621632</td>\n",
              "      <td>-0.033422</td>\n",
              "      <td>1</td>\n",
              "    </tr>\n",
              "    <tr>\n",
              "      <th>2</th>\n",
              "      <td>12583</td>\n",
              "      <td>0.525560</td>\n",
              "      <td>-0.899726</td>\n",
              "      <td>1.406794</td>\n",
              "      <td>-0.026617</td>\n",
              "      <td>1</td>\n",
              "    </tr>\n",
              "    <tr>\n",
              "      <th>3</th>\n",
              "      <td>13748</td>\n",
              "      <td>-0.120552</td>\n",
              "      <td>0.028072</td>\n",
              "      <td>0.098191</td>\n",
              "      <td>-0.023239</td>\n",
              "      <td>1</td>\n",
              "    </tr>\n",
              "    <tr>\n",
              "      <th>4</th>\n",
              "      <td>15100</td>\n",
              "      <td>-0.128660</td>\n",
              "      <td>2.402435</td>\n",
              "      <td>-0.163530</td>\n",
              "      <td>0.152448</td>\n",
              "      <td>2</td>\n",
              "    </tr>\n",
              "  </tbody>\n",
              "</table>\n",
              "</div>\n",
              "      <button class=\"colab-df-convert\" onclick=\"convertToInteractive('df-850e89d3-9999-4563-9276-b7de1d8b6c6d')\"\n",
              "              title=\"Convert this dataframe to an interactive table.\"\n",
              "              style=\"display:none;\">\n",
              "        \n",
              "  <svg xmlns=\"http://www.w3.org/2000/svg\" height=\"24px\"viewBox=\"0 0 24 24\"\n",
              "       width=\"24px\">\n",
              "    <path d=\"M0 0h24v24H0V0z\" fill=\"none\"/>\n",
              "    <path d=\"M18.56 5.44l.94 2.06.94-2.06 2.06-.94-2.06-.94-.94-2.06-.94 2.06-2.06.94zm-11 1L8.5 8.5l.94-2.06 2.06-.94-2.06-.94L8.5 2.5l-.94 2.06-2.06.94zm10 10l.94 2.06.94-2.06 2.06-.94-2.06-.94-.94-2.06-.94 2.06-2.06.94z\"/><path d=\"M17.41 7.96l-1.37-1.37c-.4-.4-.92-.59-1.43-.59-.52 0-1.04.2-1.43.59L10.3 9.45l-7.72 7.72c-.78.78-.78 2.05 0 2.83L4 21.41c.39.39.9.59 1.41.59.51 0 1.02-.2 1.41-.59l7.78-7.78 2.81-2.81c.8-.78.8-2.07 0-2.86zM5.41 20L4 18.59l7.72-7.72 1.47 1.35L5.41 20z\"/>\n",
              "  </svg>\n",
              "      </button>\n",
              "      \n",
              "  <style>\n",
              "    .colab-df-container {\n",
              "      display:flex;\n",
              "      flex-wrap:wrap;\n",
              "      gap: 12px;\n",
              "    }\n",
              "\n",
              "    .colab-df-convert {\n",
              "      background-color: #E8F0FE;\n",
              "      border: none;\n",
              "      border-radius: 50%;\n",
              "      cursor: pointer;\n",
              "      display: none;\n",
              "      fill: #1967D2;\n",
              "      height: 32px;\n",
              "      padding: 0 0 0 0;\n",
              "      width: 32px;\n",
              "    }\n",
              "\n",
              "    .colab-df-convert:hover {\n",
              "      background-color: #E2EBFA;\n",
              "      box-shadow: 0px 1px 2px rgba(60, 64, 67, 0.3), 0px 1px 3px 1px rgba(60, 64, 67, 0.15);\n",
              "      fill: #174EA6;\n",
              "    }\n",
              "\n",
              "    [theme=dark] .colab-df-convert {\n",
              "      background-color: #3B4455;\n",
              "      fill: #D2E3FC;\n",
              "    }\n",
              "\n",
              "    [theme=dark] .colab-df-convert:hover {\n",
              "      background-color: #434B5C;\n",
              "      box-shadow: 0px 1px 3px 1px rgba(0, 0, 0, 0.15);\n",
              "      filter: drop-shadow(0px 1px 2px rgba(0, 0, 0, 0.3));\n",
              "      fill: #FFFFFF;\n",
              "    }\n",
              "  </style>\n",
              "\n",
              "      <script>\n",
              "        const buttonEl =\n",
              "          document.querySelector('#df-850e89d3-9999-4563-9276-b7de1d8b6c6d button.colab-df-convert');\n",
              "        buttonEl.style.display =\n",
              "          google.colab.kernel.accessAllowed ? 'block' : 'none';\n",
              "\n",
              "        async function convertToInteractive(key) {\n",
              "          const element = document.querySelector('#df-850e89d3-9999-4563-9276-b7de1d8b6c6d');\n",
              "          const dataTable =\n",
              "            await google.colab.kernel.invokeFunction('convertToInteractive',\n",
              "                                                     [key], {});\n",
              "          if (!dataTable) return;\n",
              "\n",
              "          const docLinkHtml = 'Like what you see? Visit the ' +\n",
              "            '<a target=\"_blank\" href=https://colab.research.google.com/notebooks/data_table.ipynb>data table notebook</a>'\n",
              "            + ' to learn more about interactive tables.';\n",
              "          element.innerHTML = '';\n",
              "          dataTable['output_type'] = 'display_data';\n",
              "          await google.colab.output.renderOutput(dataTable, element);\n",
              "          const docLink = document.createElement('div');\n",
              "          docLink.innerHTML = docLinkHtml;\n",
              "          element.appendChild(docLink);\n",
              "        }\n",
              "      </script>\n",
              "    </div>\n",
              "  </div>\n",
              "  "
            ]
          },
          "metadata": {},
          "execution_count": 51
        }
      ]
    },
    {
      "cell_type": "markdown",
      "source": [
        "## 9.1 Visualization Inspection"
      ],
      "metadata": {
        "id": "FOFcPAYwoiiH"
      }
    },
    {
      "cell_type": "code",
      "source": [
        "visualizer= SilhouetteVisualizer(kmeans,colors='yellowbrick')\n",
        "visualizer.fit(X)\n",
        "visualizer.finalize()"
      ],
      "metadata": {
        "id": "q7TudPVt0J32",
        "colab": {
          "base_uri": "https://localhost:8080/"
        },
        "outputId": "39b52295-b171-4719-bb0e-9a43f1434a8b"
      },
      "execution_count": null,
      "outputs": [
        {
          "output_type": "stream",
          "name": "stderr",
          "text": [
            "/usr/local/lib/python3.8/dist-packages/sklearn/base.py:450: UserWarning: X does not have valid feature names, but KMeans was fitted with feature names\n",
            "  warnings.warn(\n"
          ]
        },
        {
          "output_type": "display_data",
          "data": {
            "text/plain": [
              "<Figure size 576x396 with 1 Axes>"
            ],
            "image/png": "[encoded data removed]"
          },
          "metadata": {}
        }
      ]
    },
    {
      "cell_type": "markdown",
      "source": [
        "## 9.2 2dplot"
      ],
      "metadata": {
        "id": "-orVU8GO1Z9V"
      }
    },
    {
      "cell_type": "code",
      "source": [
        "df_viz= df9.drop(columns='customer_id',axis=1)\n",
        "sns.pairplot(df_viz,hue='cluster')"
      ],
      "metadata": {
        "id": "6GDxpuAR1dx3",
        "colab": {
          "base_uri": "https://localhost:8080/"
        },
        "outputId": "bed74cb0-92c6-4e0e-e3ff-77be39426add"
      },
      "execution_count": null,
      "outputs": [
        {
          "output_type": "execute_result",
          "data": {
            "text/plain": [
              "<seaborn.axisgrid.PairGrid at 0x7f23044ff670>"
            ]
          },
          "metadata": {},
          "execution_count": 53
        },
        {
          "output_type": "display_data",
          "data": {
            "text/plain": [
              "<Figure size 763.375x720 with 20 Axes>"
            ],
            "image/png": "[encoded data removed]"
          },
          "metadata": {}
        }
      ]
    },
    {
      "cell_type": "markdown",
      "source": [
        "## 9.3 UMAP"
      ],
      "metadata": {
        "id": "VQwIGG5gZjKG"
      }
    },
    {
      "cell_type": "code",
      "source": [
        "reducer= umap.UMAP(n_neighbors=35,random_state=42)\n",
        "embedding= reducer.fit_transform(X)\n",
        "\n",
        "#embedding\n",
        "df_viz['embedding_x']= embedding[:,0]\n",
        "df_viz['embedding_y']= embedding[:,1]\n",
        "\n",
        "#plot UMAP\n",
        "sns.scatterplot(x='embedding_x',y='embedding_y',\n",
        "                hue='cluster',\n",
        "                palette=sns.color_palette('hls',n_colors=len(df_viz['cluster'].unique())),\n",
        "                data= df_viz)"
      ],
      "metadata": {
        "id": "WCGvjde1ZrKU",
        "colab": {
          "base_uri": "https://localhost:8080/"
        },
        "outputId": "701af01f-85e0-4d15-a82d-a478633b9f3f"
      },
      "execution_count": null,
      "outputs": [
        {
          "output_type": "execute_result",
          "data": {
            "text/plain": [
              "<matplotlib.axes._subplots.AxesSubplot at 0x7f2300ff95b0>"
            ]
          },
          "metadata": {},
          "execution_count": 54
        },
        {
          "output_type": "display_data",
          "data": {
            "text/plain": [
              "<Figure size 576x396 with 1 Axes>"
            ],
            "image/png": "[encoded data removed]"
          },
          "metadata": {}
        }
      ]
    },
    {
      "cell_type": "code",
      "source": [],
      "metadata": {
        "id": "-ADCGDhGl4IX"
      },
      "execution_count": null,
      "outputs": []
    }
  ]
}