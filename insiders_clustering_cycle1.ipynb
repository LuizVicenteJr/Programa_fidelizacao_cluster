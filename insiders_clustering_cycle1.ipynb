{
  "nbformat": 4,
  "nbformat_minor": 0,
  "metadata": {
    "colab": {
      "provenance": [],
      "collapsed_sections": [
        "-wBXiYIUTQ72",
        "Y64lCSbeWyFs",
        "yzebGYlnFWj0",
        "s79k-1QFb1LQ",
        "6PErmvAwb4D7",
        "sXaUWGlcb8BZ",
        "aEQoWmGlcAMY"
      ],
      "authorship_tag": "ABX9TyNMPfH1qFR/Kyu8rtcU9sH9",
      "include_colab_link": true
    },
    "kernelspec": {
      "name": "python3",
      "display_name": "Python 3"
    },
    "language_info": {
      "name": "python"
    }
  },
  "cells": [
    {
      "cell_type": "markdown",
      "metadata": {
        "id": "view-in-github",
        "colab_type": "text"
      },
      "source": [
        "<a href=\"https://colab.research.google.com/github/LuizVicenteJr/insiders_clustering/blob/main/insiders_clustering_cycle1.ipynb\" target=\"_parent\"><img src=\"https://colab.research.google.com/assets/colab-badge.svg\" alt=\"Open In Colab\"/></a>"
      ]
    },
    {
      "cell_type": "markdown",
      "source": [
        "Planejamento da solução :\n",
        "\n",
        "* Problema de negócio -> Selecionar os clientes mais valiosos para integrar um programa de fidelização\n",
        "\n",
        "*Dataset -> Vendas de um e-commerce durante o período de um ano\n",
        "\n",
        "#Perguntas da equipe de negócios :    \n",
        "* Quantos clientes farão parte do grupo?\n",
        "* Quais as principais características desses clientes?\n",
        "* Qual a porcentagem de contribuição do faturamento vinda dos Insiders?\n",
        "* Qual a expectativa de faturamente deste grupo para os próximos meses?\n",
        "* Quais as condições para uma pessoa ser elegível ao Insiders?\n",
        "*  Quais as condições para uma pessoa ser removida do Insiders?\n",
        "* Qual a garantia que o programa Insiders é melhor que o restante da base?\n",
        "* Quais ações o time de marketing pode realizar para aumentar o faturamento\n",
        "\n",
        "\n"
      ],
      "metadata": {
        "id": "bHNJwogZMW4j"
      }
    },
    {
      "cell_type": "markdown",
      "source": [
        "# 0.0 IMPORTS"
      ],
      "metadata": {
        "id": "0_K-2_V9Si7c"
      }
    },
    {
      "cell_type": "code",
      "execution_count": 2,
      "metadata": {
        "id": "Xh0HaTXrC0Rv"
      },
      "outputs": [],
      "source": [
        "import pandas as pd\n",
        "import numpy as np\n",
        "import seaborn as sns\n",
        "\n",
        "from matplotlib import pyplot as plt\n",
        "from IPython.display import Image\n",
        "from IPython.core.display import HTML\n",
        "\n",
        "from sklearn import cluster as c\n",
        "from sklearn import metrics as m\n",
        "from plotly import express as px"
      ]
    },
    {
      "cell_type": "markdown",
      "source": [
        "## 0.1 HELPER FUNCTIONS"
      ],
      "metadata": {
        "id": "-wBXiYIUTQ72"
      }
    },
    {
      "cell_type": "code",
      "source": [
        "def jupyter_settings():\n",
        "  %matplotlib inline\n",
        "  %pylab inline\n",
        "  plt.style.use( 'bmh' )\n",
        "  plt.rcParams['figure.figsize'] = [25, 12]\n",
        "  plt.rcParams['font.size'] = 24\n",
        "  display( HTML( '') )\n",
        "  pd.options.display.max_columns = None\n",
        "  pd.options.display.max_rows = None\n",
        "  pd.set_option( 'display.expand_frame_repr', False )\n",
        "  sns.set()"
      ],
      "metadata": {
        "id": "khWSAC0zC5iP"
      },
      "execution_count": 3,
      "outputs": []
    },
    {
      "cell_type": "markdown",
      "source": [
        "## 0.2 LOAD DATASET"
      ],
      "metadata": {
        "id": "vGi_LC-zTa4-"
      }
    },
    {
      "cell_type": "code",
      "source": [
        "df_raw = pd.read_csv('/content/Ecommerce.csv',encoding='unicode_escape')\n",
        "\n",
        "#drop extra column\n",
        "df_raw= df_raw.drop(columns=['Unnamed: 8'],axis=1)"
      ],
      "metadata": {
        "id": "bKLRZokCTS3f"
      },
      "execution_count": 4,
      "outputs": []
    },
    {
      "cell_type": "markdown",
      "source": [
        "# 1.0 DATA DESCRIPTION"
      ],
      "metadata": {
        "id": "Y64lCSbeWyFs"
      }
    },
    {
      "cell_type": "code",
      "source": [
        "df1 = df_raw.copy()"
      ],
      "metadata": {
        "id": "evkinoFgdAYT"
      },
      "execution_count": 5,
      "outputs": []
    },
    {
      "cell_type": "markdown",
      "source": [
        "## 1.1 RENAME COLUMNS"
      ],
      "metadata": {
        "id": "iNZO8s6Yan3U"
      }
    },
    {
      "cell_type": "code",
      "source": [
        "df_raw.columns"
      ],
      "metadata": {
        "colab": {
          "base_uri": "https://localhost:8080/"
        },
        "id": "IujWtDoobE7n",
        "outputId": "969002b8-1e20-4370-b52a-d00ebea96613"
      },
      "execution_count": 6,
      "outputs": [
        {
          "output_type": "execute_result",
          "data": {
            "text/plain": [
              "Index(['InvoiceNo', 'StockCode', 'Description', 'Quantity', 'InvoiceDate',\n",
              "       'UnitPrice', 'CustomerID', 'Country'],\n",
              "      dtype='object')"
            ]
          },
          "metadata": {},
          "execution_count": 6
        }
      ]
    },
    {
      "cell_type": "code",
      "source": [
        "cols_new =['invoice_no', 'stock_code', 'description', 'quantity', 'invoice_date',\n",
        "       'unit_price', 'customer_id', 'country']\n",
        "\n",
        "df1.columns = cols_new"
      ],
      "metadata": {
        "id": "KqMvRkVPcaH1"
      },
      "execution_count": 7,
      "outputs": []
    },
    {
      "cell_type": "markdown",
      "source": [
        "## 1.2 DATA DIMENSIONS"
      ],
      "metadata": {
        "id": "VXNcaCgIasWl"
      }
    },
    {
      "cell_type": "code",
      "source": [
        "print('Number of rows : {}'.format(df1.shape[0]))\n",
        "print('Number of rows : {}'.format(df1.shape[1]))"
      ],
      "metadata": {
        "colab": {
          "base_uri": "https://localhost:8080/"
        },
        "id": "X3NTM7z5c8q7",
        "outputId": "483658a4-5b0d-46b7-e8dd-d0ef43ead220"
      },
      "execution_count": 8,
      "outputs": [
        {
          "output_type": "stream",
          "name": "stdout",
          "text": [
            "Number of rows : 541909\n",
            "Number of rows : 8\n"
          ]
        }
      ]
    },
    {
      "cell_type": "markdown",
      "source": [
        "## 1.3 DATA TYPES"
      ],
      "metadata": {
        "id": "OwBM9FsvauHo"
      }
    },
    {
      "cell_type": "code",
      "source": [
        "df1.dtypes"
      ],
      "metadata": {
        "colab": {
          "base_uri": "https://localhost:8080/"
        },
        "id": "_9j9dBwedco-",
        "outputId": "bf320cf3-744f-4024-ade1-1752fcf54bb8"
      },
      "execution_count": 9,
      "outputs": [
        {
          "output_type": "execute_result",
          "data": {
            "text/plain": [
              "invoice_no       object\n",
              "stock_code       object\n",
              "description      object\n",
              "quantity          int64\n",
              "invoice_date     object\n",
              "unit_price      float64\n",
              "customer_id     float64\n",
              "country          object\n",
              "dtype: object"
            ]
          },
          "metadata": {},
          "execution_count": 9
        }
      ]
    },
    {
      "cell_type": "markdown",
      "source": [
        "## 1.4 CHECK NA"
      ],
      "metadata": {
        "id": "TkDK7c7Oa0h-"
      }
    },
    {
      "cell_type": "code",
      "source": [
        "df1.isna().sum()"
      ],
      "metadata": {
        "colab": {
          "base_uri": "https://localhost:8080/"
        },
        "id": "576nw2ZPd3wZ",
        "outputId": "890cfe2a-6b72-42d2-d9e5-25ad4334ae2b"
      },
      "execution_count": 10,
      "outputs": [
        {
          "output_type": "execute_result",
          "data": {
            "text/plain": [
              "invoice_no           0\n",
              "stock_code           0\n",
              "description       1454\n",
              "quantity             0\n",
              "invoice_date         0\n",
              "unit_price           0\n",
              "customer_id     135080\n",
              "country              0\n",
              "dtype: int64"
            ]
          },
          "metadata": {},
          "execution_count": 10
        }
      ]
    },
    {
      "cell_type": "markdown",
      "source": [
        "## 1.5 REPLACE NA"
      ],
      "metadata": {
        "id": "oOGn18_Xa2XM"
      }
    },
    {
      "cell_type": "code",
      "source": [
        "df1 = df1.dropna(subset=['description','customer_id'])\n",
        "\n",
        "print('Removed data: {:.2f}'.format(1-(df1.shape[0]/df_raw.shape[0])))\n"
      ],
      "metadata": {
        "colab": {
          "base_uri": "https://localhost:8080/"
        },
        "id": "SGXZadFR_Z3l",
        "outputId": "35448e72-114b-43c1-d16e-ecbaaf4799f5"
      },
      "execution_count": 11,
      "outputs": [
        {
          "output_type": "stream",
          "name": "stdout",
          "text": [
            "Removed data: 0.25\n"
          ]
        }
      ]
    },
    {
      "cell_type": "markdown",
      "source": [
        "## 1.6 CHANGE DTYPES"
      ],
      "metadata": {
        "id": "7vi8g8M9a4s9"
      }
    },
    {
      "cell_type": "code",
      "source": [
        "df1.dtypes"
      ],
      "metadata": {
        "colab": {
          "base_uri": "https://localhost:8080/"
        },
        "id": "TWxX7wZu_btG",
        "outputId": "31c3219e-b750-4008-959b-902ac3b45a91"
      },
      "execution_count": 12,
      "outputs": [
        {
          "output_type": "execute_result",
          "data": {
            "text/plain": [
              "invoice_no       object\n",
              "stock_code       object\n",
              "description      object\n",
              "quantity          int64\n",
              "invoice_date     object\n",
              "unit_price      float64\n",
              "customer_id     float64\n",
              "country          object\n",
              "dtype: object"
            ]
          },
          "metadata": {},
          "execution_count": 12
        }
      ]
    },
    {
      "cell_type": "code",
      "source": [
        "df1.head()"
      ],
      "metadata": {
        "colab": {
          "base_uri": "https://localhost:8080/",
          "height": 0
        },
        "id": "2bSYUaFXAHNV",
        "outputId": "104e75bb-eaf4-46f8-9f09-a76f54e2a5f5"
      },
      "execution_count": 13,
      "outputs": [
        {
          "output_type": "execute_result",
          "data": {
            "text/plain": [
              "  invoice_no stock_code                          description  quantity  \\\n",
              "0     536365     85123A   WHITE HANGING HEART T-LIGHT HOLDER         6   \n",
              "1     536365      71053                  WHITE METAL LANTERN         6   \n",
              "2     536365     84406B       CREAM CUPID HEARTS COAT HANGER         8   \n",
              "3     536365     84029G  KNITTED UNION FLAG HOT WATER BOTTLE         6   \n",
              "4     536365     84029E       RED WOOLLY HOTTIE WHITE HEART.         6   \n",
              "\n",
              "  invoice_date  unit_price  customer_id         country  \n",
              "0    29-Nov-16        2.55      17850.0  United Kingdom  \n",
              "1    29-Nov-16        3.39      17850.0  United Kingdom  \n",
              "2    29-Nov-16        2.75      17850.0  United Kingdom  \n",
              "3    29-Nov-16        3.39      17850.0  United Kingdom  \n",
              "4    29-Nov-16        3.39      17850.0  United Kingdom  "
            ],
            "text/html": [
              "\n",
              "  <div id=\"df-fc66edd1-4d37-4fb6-8ec1-f2d3a9f1c878\">\n",
              "    <div class=\"colab-df-container\">\n",
              "      <div>\n",
              "<style scoped>\n",
              "    .dataframe tbody tr th:only-of-type {\n",
              "        vertical-align: middle;\n",
              "    }\n",
              "\n",
              "    .dataframe tbody tr th {\n",
              "        vertical-align: top;\n",
              "    }\n",
              "\n",
              "    .dataframe thead th {\n",
              "        text-align: right;\n",
              "    }\n",
              "</style>\n",
              "<table border=\"1\" class=\"dataframe\">\n",
              "  <thead>\n",
              "    <tr style=\"text-align: right;\">\n",
              "      <th></th>\n",
              "      <th>invoice_no</th>\n",
              "      <th>stock_code</th>\n",
              "      <th>description</th>\n",
              "      <th>quantity</th>\n",
              "      <th>invoice_date</th>\n",
              "      <th>unit_price</th>\n",
              "      <th>customer_id</th>\n",
              "      <th>country</th>\n",
              "    </tr>\n",
              "  </thead>\n",
              "  <tbody>\n",
              "    <tr>\n",
              "      <th>0</th>\n",
              "      <td>536365</td>\n",
              "      <td>85123A</td>\n",
              "      <td>WHITE HANGING HEART T-LIGHT HOLDER</td>\n",
              "      <td>6</td>\n",
              "      <td>29-Nov-16</td>\n",
              "      <td>2.55</td>\n",
              "      <td>17850.0</td>\n",
              "      <td>United Kingdom</td>\n",
              "    </tr>\n",
              "    <tr>\n",
              "      <th>1</th>\n",
              "      <td>536365</td>\n",
              "      <td>71053</td>\n",
              "      <td>WHITE METAL LANTERN</td>\n",
              "      <td>6</td>\n",
              "      <td>29-Nov-16</td>\n",
              "      <td>3.39</td>\n",
              "      <td>17850.0</td>\n",
              "      <td>United Kingdom</td>\n",
              "    </tr>\n",
              "    <tr>\n",
              "      <th>2</th>\n",
              "      <td>536365</td>\n",
              "      <td>84406B</td>\n",
              "      <td>CREAM CUPID HEARTS COAT HANGER</td>\n",
              "      <td>8</td>\n",
              "      <td>29-Nov-16</td>\n",
              "      <td>2.75</td>\n",
              "      <td>17850.0</td>\n",
              "      <td>United Kingdom</td>\n",
              "    </tr>\n",
              "    <tr>\n",
              "      <th>3</th>\n",
              "      <td>536365</td>\n",
              "      <td>84029G</td>\n",
              "      <td>KNITTED UNION FLAG HOT WATER BOTTLE</td>\n",
              "      <td>6</td>\n",
              "      <td>29-Nov-16</td>\n",
              "      <td>3.39</td>\n",
              "      <td>17850.0</td>\n",
              "      <td>United Kingdom</td>\n",
              "    </tr>\n",
              "    <tr>\n",
              "      <th>4</th>\n",
              "      <td>536365</td>\n",
              "      <td>84029E</td>\n",
              "      <td>RED WOOLLY HOTTIE WHITE HEART.</td>\n",
              "      <td>6</td>\n",
              "      <td>29-Nov-16</td>\n",
              "      <td>3.39</td>\n",
              "      <td>17850.0</td>\n",
              "      <td>United Kingdom</td>\n",
              "    </tr>\n",
              "  </tbody>\n",
              "</table>\n",
              "</div>\n",
              "      <button class=\"colab-df-convert\" onclick=\"convertToInteractive('df-fc66edd1-4d37-4fb6-8ec1-f2d3a9f1c878')\"\n",
              "              title=\"Convert this dataframe to an interactive table.\"\n",
              "              style=\"display:none;\">\n",
              "        \n",
              "  <svg xmlns=\"http://www.w3.org/2000/svg\" height=\"24px\"viewBox=\"0 0 24 24\"\n",
              "       width=\"24px\">\n",
              "    <path d=\"M0 0h24v24H0V0z\" fill=\"none\"/>\n",
              "    <path d=\"M18.56 5.44l.94 2.06.94-2.06 2.06-.94-2.06-.94-.94-2.06-.94 2.06-2.06.94zm-11 1L8.5 8.5l.94-2.06 2.06-.94-2.06-.94L8.5 2.5l-.94 2.06-2.06.94zm10 10l.94 2.06.94-2.06 2.06-.94-2.06-.94-.94-2.06-.94 2.06-2.06.94z\"/><path d=\"M17.41 7.96l-1.37-1.37c-.4-.4-.92-.59-1.43-.59-.52 0-1.04.2-1.43.59L10.3 9.45l-7.72 7.72c-.78.78-.78 2.05 0 2.83L4 21.41c.39.39.9.59 1.41.59.51 0 1.02-.2 1.41-.59l7.78-7.78 2.81-2.81c.8-.78.8-2.07 0-2.86zM5.41 20L4 18.59l7.72-7.72 1.47 1.35L5.41 20z\"/>\n",
              "  </svg>\n",
              "      </button>\n",
              "      \n",
              "  <style>\n",
              "    .colab-df-container {\n",
              "      display:flex;\n",
              "      flex-wrap:wrap;\n",
              "      gap: 12px;\n",
              "    }\n",
              "\n",
              "    .colab-df-convert {\n",
              "      background-color: #E8F0FE;\n",
              "      border: none;\n",
              "      border-radius: 50%;\n",
              "      cursor: pointer;\n",
              "      display: none;\n",
              "      fill: #1967D2;\n",
              "      height: 32px;\n",
              "      padding: 0 0 0 0;\n",
              "      width: 32px;\n",
              "    }\n",
              "\n",
              "    .colab-df-convert:hover {\n",
              "      background-color: #E2EBFA;\n",
              "      box-shadow: 0px 1px 2px rgba(60, 64, 67, 0.3), 0px 1px 3px 1px rgba(60, 64, 67, 0.15);\n",
              "      fill: #174EA6;\n",
              "    }\n",
              "\n",
              "    [theme=dark] .colab-df-convert {\n",
              "      background-color: #3B4455;\n",
              "      fill: #D2E3FC;\n",
              "    }\n",
              "\n",
              "    [theme=dark] .colab-df-convert:hover {\n",
              "      background-color: #434B5C;\n",
              "      box-shadow: 0px 1px 3px 1px rgba(0, 0, 0, 0.15);\n",
              "      filter: drop-shadow(0px 1px 2px rgba(0, 0, 0, 0.3));\n",
              "      fill: #FFFFFF;\n",
              "    }\n",
              "  </style>\n",
              "\n",
              "      <script>\n",
              "        const buttonEl =\n",
              "          document.querySelector('#df-fc66edd1-4d37-4fb6-8ec1-f2d3a9f1c878 button.colab-df-convert');\n",
              "        buttonEl.style.display =\n",
              "          google.colab.kernel.accessAllowed ? 'block' : 'none';\n",
              "\n",
              "        async function convertToInteractive(key) {\n",
              "          const element = document.querySelector('#df-fc66edd1-4d37-4fb6-8ec1-f2d3a9f1c878');\n",
              "          const dataTable =\n",
              "            await google.colab.kernel.invokeFunction('convertToInteractive',\n",
              "                                                     [key], {});\n",
              "          if (!dataTable) return;\n",
              "\n",
              "          const docLinkHtml = 'Like what you see? Visit the ' +\n",
              "            '<a target=\"_blank\" href=https://colab.research.google.com/notebooks/data_table.ipynb>data table notebook</a>'\n",
              "            + ' to learn more about interactive tables.';\n",
              "          element.innerHTML = '';\n",
              "          dataTable['output_type'] = 'display_data';\n",
              "          await google.colab.output.renderOutput(dataTable, element);\n",
              "          const docLink = document.createElement('div');\n",
              "          docLink.innerHTML = docLinkHtml;\n",
              "          element.appendChild(docLink);\n",
              "        }\n",
              "      </script>\n",
              "    </div>\n",
              "  </div>\n",
              "  "
            ]
          },
          "metadata": {},
          "execution_count": 13
        }
      ]
    },
    {
      "cell_type": "code",
      "source": [
        "#invoice date\n",
        "df1['invoice_date']= pd.to_datetime(df1['invoice_date'],format= '%d-%b-%y')\n",
        "\n",
        "#customer_id\n",
        "df1['customer_id'] = df1['customer_id'].astype(int)\n",
        "\n",
        "df1.head()"
      ],
      "metadata": {
        "colab": {
          "base_uri": "https://localhost:8080/",
          "height": 0
        },
        "id": "DISdNhMMAIxF",
        "outputId": "1e932de0-6e53-4107-fed5-75dcf383b72d"
      },
      "execution_count": 14,
      "outputs": [
        {
          "output_type": "execute_result",
          "data": {
            "text/plain": [
              "  invoice_no stock_code                          description  quantity  \\\n",
              "0     536365     85123A   WHITE HANGING HEART T-LIGHT HOLDER         6   \n",
              "1     536365      71053                  WHITE METAL LANTERN         6   \n",
              "2     536365     84406B       CREAM CUPID HEARTS COAT HANGER         8   \n",
              "3     536365     84029G  KNITTED UNION FLAG HOT WATER BOTTLE         6   \n",
              "4     536365     84029E       RED WOOLLY HOTTIE WHITE HEART.         6   \n",
              "\n",
              "  invoice_date  unit_price  customer_id         country  \n",
              "0   2016-11-29        2.55        17850  United Kingdom  \n",
              "1   2016-11-29        3.39        17850  United Kingdom  \n",
              "2   2016-11-29        2.75        17850  United Kingdom  \n",
              "3   2016-11-29        3.39        17850  United Kingdom  \n",
              "4   2016-11-29        3.39        17850  United Kingdom  "
            ],
            "text/html": [
              "\n",
              "  <div id=\"df-714b19e9-9770-4a9a-88c8-7aa7d3f37d00\">\n",
              "    <div class=\"colab-df-container\">\n",
              "      <div>\n",
              "<style scoped>\n",
              "    .dataframe tbody tr th:only-of-type {\n",
              "        vertical-align: middle;\n",
              "    }\n",
              "\n",
              "    .dataframe tbody tr th {\n",
              "        vertical-align: top;\n",
              "    }\n",
              "\n",
              "    .dataframe thead th {\n",
              "        text-align: right;\n",
              "    }\n",
              "</style>\n",
              "<table border=\"1\" class=\"dataframe\">\n",
              "  <thead>\n",
              "    <tr style=\"text-align: right;\">\n",
              "      <th></th>\n",
              "      <th>invoice_no</th>\n",
              "      <th>stock_code</th>\n",
              "      <th>description</th>\n",
              "      <th>quantity</th>\n",
              "      <th>invoice_date</th>\n",
              "      <th>unit_price</th>\n",
              "      <th>customer_id</th>\n",
              "      <th>country</th>\n",
              "    </tr>\n",
              "  </thead>\n",
              "  <tbody>\n",
              "    <tr>\n",
              "      <th>0</th>\n",
              "      <td>536365</td>\n",
              "      <td>85123A</td>\n",
              "      <td>WHITE HANGING HEART T-LIGHT HOLDER</td>\n",
              "      <td>6</td>\n",
              "      <td>2016-11-29</td>\n",
              "      <td>2.55</td>\n",
              "      <td>17850</td>\n",
              "      <td>United Kingdom</td>\n",
              "    </tr>\n",
              "    <tr>\n",
              "      <th>1</th>\n",
              "      <td>536365</td>\n",
              "      <td>71053</td>\n",
              "      <td>WHITE METAL LANTERN</td>\n",
              "      <td>6</td>\n",
              "      <td>2016-11-29</td>\n",
              "      <td>3.39</td>\n",
              "      <td>17850</td>\n",
              "      <td>United Kingdom</td>\n",
              "    </tr>\n",
              "    <tr>\n",
              "      <th>2</th>\n",
              "      <td>536365</td>\n",
              "      <td>84406B</td>\n",
              "      <td>CREAM CUPID HEARTS COAT HANGER</td>\n",
              "      <td>8</td>\n",
              "      <td>2016-11-29</td>\n",
              "      <td>2.75</td>\n",
              "      <td>17850</td>\n",
              "      <td>United Kingdom</td>\n",
              "    </tr>\n",
              "    <tr>\n",
              "      <th>3</th>\n",
              "      <td>536365</td>\n",
              "      <td>84029G</td>\n",
              "      <td>KNITTED UNION FLAG HOT WATER BOTTLE</td>\n",
              "      <td>6</td>\n",
              "      <td>2016-11-29</td>\n",
              "      <td>3.39</td>\n",
              "      <td>17850</td>\n",
              "      <td>United Kingdom</td>\n",
              "    </tr>\n",
              "    <tr>\n",
              "      <th>4</th>\n",
              "      <td>536365</td>\n",
              "      <td>84029E</td>\n",
              "      <td>RED WOOLLY HOTTIE WHITE HEART.</td>\n",
              "      <td>6</td>\n",
              "      <td>2016-11-29</td>\n",
              "      <td>3.39</td>\n",
              "      <td>17850</td>\n",
              "      <td>United Kingdom</td>\n",
              "    </tr>\n",
              "  </tbody>\n",
              "</table>\n",
              "</div>\n",
              "      <button class=\"colab-df-convert\" onclick=\"convertToInteractive('df-714b19e9-9770-4a9a-88c8-7aa7d3f37d00')\"\n",
              "              title=\"Convert this dataframe to an interactive table.\"\n",
              "              style=\"display:none;\">\n",
              "        \n",
              "  <svg xmlns=\"http://www.w3.org/2000/svg\" height=\"24px\"viewBox=\"0 0 24 24\"\n",
              "       width=\"24px\">\n",
              "    <path d=\"M0 0h24v24H0V0z\" fill=\"none\"/>\n",
              "    <path d=\"M18.56 5.44l.94 2.06.94-2.06 2.06-.94-2.06-.94-.94-2.06-.94 2.06-2.06.94zm-11 1L8.5 8.5l.94-2.06 2.06-.94-2.06-.94L8.5 2.5l-.94 2.06-2.06.94zm10 10l.94 2.06.94-2.06 2.06-.94-2.06-.94-.94-2.06-.94 2.06-2.06.94z\"/><path d=\"M17.41 7.96l-1.37-1.37c-.4-.4-.92-.59-1.43-.59-.52 0-1.04.2-1.43.59L10.3 9.45l-7.72 7.72c-.78.78-.78 2.05 0 2.83L4 21.41c.39.39.9.59 1.41.59.51 0 1.02-.2 1.41-.59l7.78-7.78 2.81-2.81c.8-.78.8-2.07 0-2.86zM5.41 20L4 18.59l7.72-7.72 1.47 1.35L5.41 20z\"/>\n",
              "  </svg>\n",
              "      </button>\n",
              "      \n",
              "  <style>\n",
              "    .colab-df-container {\n",
              "      display:flex;\n",
              "      flex-wrap:wrap;\n",
              "      gap: 12px;\n",
              "    }\n",
              "\n",
              "    .colab-df-convert {\n",
              "      background-color: #E8F0FE;\n",
              "      border: none;\n",
              "      border-radius: 50%;\n",
              "      cursor: pointer;\n",
              "      display: none;\n",
              "      fill: #1967D2;\n",
              "      height: 32px;\n",
              "      padding: 0 0 0 0;\n",
              "      width: 32px;\n",
              "    }\n",
              "\n",
              "    .colab-df-convert:hover {\n",
              "      background-color: #E2EBFA;\n",
              "      box-shadow: 0px 1px 2px rgba(60, 64, 67, 0.3), 0px 1px 3px 1px rgba(60, 64, 67, 0.15);\n",
              "      fill: #174EA6;\n",
              "    }\n",
              "\n",
              "    [theme=dark] .colab-df-convert {\n",
              "      background-color: #3B4455;\n",
              "      fill: #D2E3FC;\n",
              "    }\n",
              "\n",
              "    [theme=dark] .colab-df-convert:hover {\n",
              "      background-color: #434B5C;\n",
              "      box-shadow: 0px 1px 3px 1px rgba(0, 0, 0, 0.15);\n",
              "      filter: drop-shadow(0px 1px 2px rgba(0, 0, 0, 0.3));\n",
              "      fill: #FFFFFF;\n",
              "    }\n",
              "  </style>\n",
              "\n",
              "      <script>\n",
              "        const buttonEl =\n",
              "          document.querySelector('#df-714b19e9-9770-4a9a-88c8-7aa7d3f37d00 button.colab-df-convert');\n",
              "        buttonEl.style.display =\n",
              "          google.colab.kernel.accessAllowed ? 'block' : 'none';\n",
              "\n",
              "        async function convertToInteractive(key) {\n",
              "          const element = document.querySelector('#df-714b19e9-9770-4a9a-88c8-7aa7d3f37d00');\n",
              "          const dataTable =\n",
              "            await google.colab.kernel.invokeFunction('convertToInteractive',\n",
              "                                                     [key], {});\n",
              "          if (!dataTable) return;\n",
              "\n",
              "          const docLinkHtml = 'Like what you see? Visit the ' +\n",
              "            '<a target=\"_blank\" href=https://colab.research.google.com/notebooks/data_table.ipynb>data table notebook</a>'\n",
              "            + ' to learn more about interactive tables.';\n",
              "          element.innerHTML = '';\n",
              "          dataTable['output_type'] = 'display_data';\n",
              "          await google.colab.output.renderOutput(dataTable, element);\n",
              "          const docLink = document.createElement('div');\n",
              "          docLink.innerHTML = docLinkHtml;\n",
              "          element.appendChild(docLink);\n",
              "        }\n",
              "      </script>\n",
              "    </div>\n",
              "  </div>\n",
              "  "
            ]
          },
          "metadata": {},
          "execution_count": 14
        }
      ]
    },
    {
      "cell_type": "markdown",
      "source": [
        "## 1.7 DESCRIPTIVE STATISTICS"
      ],
      "metadata": {
        "id": "Wi0yHCjNa60M"
      }
    },
    {
      "cell_type": "markdown",
      "source": [
        "# 2.0 FEATURE ENGINEERING"
      ],
      "metadata": {
        "id": "yzebGYlnFWj0"
      }
    },
    {
      "cell_type": "code",
      "source": [
        "df2 = df1.copy()"
      ],
      "metadata": {
        "id": "0mL5qRKO_WGs"
      },
      "execution_count": 15,
      "outputs": []
    },
    {
      "cell_type": "code",
      "source": [
        "df_ref= df2.drop(['invoice_no','stock_code','description','quantity','invoice_date','unit_price','country'],axis=1).drop_duplicates(ignore_index=True)\n",
        "df_ref.head()"
      ],
      "metadata": {
        "colab": {
          "base_uri": "https://localhost:8080/",
          "height": 0
        },
        "id": "UfRA5uzIFb_7",
        "outputId": "94e191e5-f7c0-44cf-ab92-73842a80965f"
      },
      "execution_count": 16,
      "outputs": [
        {
          "output_type": "execute_result",
          "data": {
            "text/plain": [
              "   customer_id\n",
              "0        17850\n",
              "1        13047\n",
              "2        12583\n",
              "3        13748\n",
              "4        15100"
            ],
            "text/html": [
              "\n",
              "  <div id=\"df-5dc922d0-1532-44b4-911d-53e1bdaeb033\">\n",
              "    <div class=\"colab-df-container\">\n",
              "      <div>\n",
              "<style scoped>\n",
              "    .dataframe tbody tr th:only-of-type {\n",
              "        vertical-align: middle;\n",
              "    }\n",
              "\n",
              "    .dataframe tbody tr th {\n",
              "        vertical-align: top;\n",
              "    }\n",
              "\n",
              "    .dataframe thead th {\n",
              "        text-align: right;\n",
              "    }\n",
              "</style>\n",
              "<table border=\"1\" class=\"dataframe\">\n",
              "  <thead>\n",
              "    <tr style=\"text-align: right;\">\n",
              "      <th></th>\n",
              "      <th>customer_id</th>\n",
              "    </tr>\n",
              "  </thead>\n",
              "  <tbody>\n",
              "    <tr>\n",
              "      <th>0</th>\n",
              "      <td>17850</td>\n",
              "    </tr>\n",
              "    <tr>\n",
              "      <th>1</th>\n",
              "      <td>13047</td>\n",
              "    </tr>\n",
              "    <tr>\n",
              "      <th>2</th>\n",
              "      <td>12583</td>\n",
              "    </tr>\n",
              "    <tr>\n",
              "      <th>3</th>\n",
              "      <td>13748</td>\n",
              "    </tr>\n",
              "    <tr>\n",
              "      <th>4</th>\n",
              "      <td>15100</td>\n",
              "    </tr>\n",
              "  </tbody>\n",
              "</table>\n",
              "</div>\n",
              "      <button class=\"colab-df-convert\" onclick=\"convertToInteractive('df-5dc922d0-1532-44b4-911d-53e1bdaeb033')\"\n",
              "              title=\"Convert this dataframe to an interactive table.\"\n",
              "              style=\"display:none;\">\n",
              "        \n",
              "  <svg xmlns=\"http://www.w3.org/2000/svg\" height=\"24px\"viewBox=\"0 0 24 24\"\n",
              "       width=\"24px\">\n",
              "    <path d=\"M0 0h24v24H0V0z\" fill=\"none\"/>\n",
              "    <path d=\"M18.56 5.44l.94 2.06.94-2.06 2.06-.94-2.06-.94-.94-2.06-.94 2.06-2.06.94zm-11 1L8.5 8.5l.94-2.06 2.06-.94-2.06-.94L8.5 2.5l-.94 2.06-2.06.94zm10 10l.94 2.06.94-2.06 2.06-.94-2.06-.94-.94-2.06-.94 2.06-2.06.94z\"/><path d=\"M17.41 7.96l-1.37-1.37c-.4-.4-.92-.59-1.43-.59-.52 0-1.04.2-1.43.59L10.3 9.45l-7.72 7.72c-.78.78-.78 2.05 0 2.83L4 21.41c.39.39.9.59 1.41.59.51 0 1.02-.2 1.41-.59l7.78-7.78 2.81-2.81c.8-.78.8-2.07 0-2.86zM5.41 20L4 18.59l7.72-7.72 1.47 1.35L5.41 20z\"/>\n",
              "  </svg>\n",
              "      </button>\n",
              "      \n",
              "  <style>\n",
              "    .colab-df-container {\n",
              "      display:flex;\n",
              "      flex-wrap:wrap;\n",
              "      gap: 12px;\n",
              "    }\n",
              "\n",
              "    .colab-df-convert {\n",
              "      background-color: #E8F0FE;\n",
              "      border: none;\n",
              "      border-radius: 50%;\n",
              "      cursor: pointer;\n",
              "      display: none;\n",
              "      fill: #1967D2;\n",
              "      height: 32px;\n",
              "      padding: 0 0 0 0;\n",
              "      width: 32px;\n",
              "    }\n",
              "\n",
              "    .colab-df-convert:hover {\n",
              "      background-color: #E2EBFA;\n",
              "      box-shadow: 0px 1px 2px rgba(60, 64, 67, 0.3), 0px 1px 3px 1px rgba(60, 64, 67, 0.15);\n",
              "      fill: #174EA6;\n",
              "    }\n",
              "\n",
              "    [theme=dark] .colab-df-convert {\n",
              "      background-color: #3B4455;\n",
              "      fill: #D2E3FC;\n",
              "    }\n",
              "\n",
              "    [theme=dark] .colab-df-convert:hover {\n",
              "      background-color: #434B5C;\n",
              "      box-shadow: 0px 1px 3px 1px rgba(0, 0, 0, 0.15);\n",
              "      filter: drop-shadow(0px 1px 2px rgba(0, 0, 0, 0.3));\n",
              "      fill: #FFFFFF;\n",
              "    }\n",
              "  </style>\n",
              "\n",
              "      <script>\n",
              "        const buttonEl =\n",
              "          document.querySelector('#df-5dc922d0-1532-44b4-911d-53e1bdaeb033 button.colab-df-convert');\n",
              "        buttonEl.style.display =\n",
              "          google.colab.kernel.accessAllowed ? 'block' : 'none';\n",
              "\n",
              "        async function convertToInteractive(key) {\n",
              "          const element = document.querySelector('#df-5dc922d0-1532-44b4-911d-53e1bdaeb033');\n",
              "          const dataTable =\n",
              "            await google.colab.kernel.invokeFunction('convertToInteractive',\n",
              "                                                     [key], {});\n",
              "          if (!dataTable) return;\n",
              "\n",
              "          const docLinkHtml = 'Like what you see? Visit the ' +\n",
              "            '<a target=\"_blank\" href=https://colab.research.google.com/notebooks/data_table.ipynb>data table notebook</a>'\n",
              "            + ' to learn more about interactive tables.';\n",
              "          element.innerHTML = '';\n",
              "          dataTable['output_type'] = 'display_data';\n",
              "          await google.colab.output.renderOutput(dataTable, element);\n",
              "          const docLink = document.createElement('div');\n",
              "          docLink.innerHTML = docLinkHtml;\n",
              "          element.appendChild(docLink);\n",
              "        }\n",
              "      </script>\n",
              "    </div>\n",
              "  </div>\n",
              "  "
            ]
          },
          "metadata": {},
          "execution_count": 16
        }
      ]
    },
    {
      "cell_type": "markdown",
      "source": [
        "## 2.1 Feature Creation"
      ],
      "metadata": {
        "id": "Mcj9vOTbMPwD"
      }
    },
    {
      "cell_type": "code",
      "source": [
        "#gross revenue \n",
        "df2['gross_revenue'] = df2['quantity'] * df2['unit_price']\n",
        "\n",
        "#monetary\n",
        "df_monetary= df2[['customer_id','gross_revenue']].groupby('customer_id').sum().reset_index()\n",
        "df_ref= pd.merge(df_ref,df_monetary,on='customer_id',how='left')\n",
        "\n",
        "#recency\n",
        "df_recency= df2[['customer_id','invoice_date']].groupby('customer_id').max().reset_index()\n",
        "df_recency['recency_days']= (df2['invoice_date'].max() - df_recency['invoice_date']).dt.days\n",
        "df_recency= df_recency[['customer_id','recency_days']].copy()\n",
        "\n",
        "df_ref= pd.merge(df_ref,df_recency,on='customer_id',how='left')\n",
        "\n",
        "#frequency\n",
        "df_freq= df2[['customer_id','invoice_no']].drop_duplicates().groupby('customer_id').count().reset_index()\n",
        "df_ref= pd.merge(df_ref,df_freq,on='customer_id',how='left')"
      ],
      "metadata": {
        "id": "bR7JrYnPJq6h"
      },
      "execution_count": 17,
      "outputs": []
    },
    {
      "cell_type": "code",
      "source": [
        "df_ref.head()"
      ],
      "metadata": {
        "colab": {
          "base_uri": "https://localhost:8080/",
          "height": 0
        },
        "id": "rifZZm6YaCc9",
        "outputId": "f4ac368e-6f61-457b-fe25-0c1092e4d875"
      },
      "execution_count": 18,
      "outputs": [
        {
          "output_type": "execute_result",
          "data": {
            "text/plain": [
              "   customer_id  gross_revenue  recency_days  invoice_no\n",
              "0        17850        5288.63           302          35\n",
              "1        13047        3079.10            31          18\n",
              "2        12583        7187.34             2          18\n",
              "3        13748         948.25            95           5\n",
              "4        15100         635.10           330           6"
            ],
            "text/html": [
              "\n",
              "  <div id=\"df-57e8e7ea-da97-414e-ab29-aa8101fcabc7\">\n",
              "    <div class=\"colab-df-container\">\n",
              "      <div>\n",
              "<style scoped>\n",
              "    .dataframe tbody tr th:only-of-type {\n",
              "        vertical-align: middle;\n",
              "    }\n",
              "\n",
              "    .dataframe tbody tr th {\n",
              "        vertical-align: top;\n",
              "    }\n",
              "\n",
              "    .dataframe thead th {\n",
              "        text-align: right;\n",
              "    }\n",
              "</style>\n",
              "<table border=\"1\" class=\"dataframe\">\n",
              "  <thead>\n",
              "    <tr style=\"text-align: right;\">\n",
              "      <th></th>\n",
              "      <th>customer_id</th>\n",
              "      <th>gross_revenue</th>\n",
              "      <th>recency_days</th>\n",
              "      <th>invoice_no</th>\n",
              "    </tr>\n",
              "  </thead>\n",
              "  <tbody>\n",
              "    <tr>\n",
              "      <th>0</th>\n",
              "      <td>17850</td>\n",
              "      <td>5288.63</td>\n",
              "      <td>302</td>\n",
              "      <td>35</td>\n",
              "    </tr>\n",
              "    <tr>\n",
              "      <th>1</th>\n",
              "      <td>13047</td>\n",
              "      <td>3079.10</td>\n",
              "      <td>31</td>\n",
              "      <td>18</td>\n",
              "    </tr>\n",
              "    <tr>\n",
              "      <th>2</th>\n",
              "      <td>12583</td>\n",
              "      <td>7187.34</td>\n",
              "      <td>2</td>\n",
              "      <td>18</td>\n",
              "    </tr>\n",
              "    <tr>\n",
              "      <th>3</th>\n",
              "      <td>13748</td>\n",
              "      <td>948.25</td>\n",
              "      <td>95</td>\n",
              "      <td>5</td>\n",
              "    </tr>\n",
              "    <tr>\n",
              "      <th>4</th>\n",
              "      <td>15100</td>\n",
              "      <td>635.10</td>\n",
              "      <td>330</td>\n",
              "      <td>6</td>\n",
              "    </tr>\n",
              "  </tbody>\n",
              "</table>\n",
              "</div>\n",
              "      <button class=\"colab-df-convert\" onclick=\"convertToInteractive('df-57e8e7ea-da97-414e-ab29-aa8101fcabc7')\"\n",
              "              title=\"Convert this dataframe to an interactive table.\"\n",
              "              style=\"display:none;\">\n",
              "        \n",
              "  <svg xmlns=\"http://www.w3.org/2000/svg\" height=\"24px\"viewBox=\"0 0 24 24\"\n",
              "       width=\"24px\">\n",
              "    <path d=\"M0 0h24v24H0V0z\" fill=\"none\"/>\n",
              "    <path d=\"M18.56 5.44l.94 2.06.94-2.06 2.06-.94-2.06-.94-.94-2.06-.94 2.06-2.06.94zm-11 1L8.5 8.5l.94-2.06 2.06-.94-2.06-.94L8.5 2.5l-.94 2.06-2.06.94zm10 10l.94 2.06.94-2.06 2.06-.94-2.06-.94-.94-2.06-.94 2.06-2.06.94z\"/><path d=\"M17.41 7.96l-1.37-1.37c-.4-.4-.92-.59-1.43-.59-.52 0-1.04.2-1.43.59L10.3 9.45l-7.72 7.72c-.78.78-.78 2.05 0 2.83L4 21.41c.39.39.9.59 1.41.59.51 0 1.02-.2 1.41-.59l7.78-7.78 2.81-2.81c.8-.78.8-2.07 0-2.86zM5.41 20L4 18.59l7.72-7.72 1.47 1.35L5.41 20z\"/>\n",
              "  </svg>\n",
              "      </button>\n",
              "      \n",
              "  <style>\n",
              "    .colab-df-container {\n",
              "      display:flex;\n",
              "      flex-wrap:wrap;\n",
              "      gap: 12px;\n",
              "    }\n",
              "\n",
              "    .colab-df-convert {\n",
              "      background-color: #E8F0FE;\n",
              "      border: none;\n",
              "      border-radius: 50%;\n",
              "      cursor: pointer;\n",
              "      display: none;\n",
              "      fill: #1967D2;\n",
              "      height: 32px;\n",
              "      padding: 0 0 0 0;\n",
              "      width: 32px;\n",
              "    }\n",
              "\n",
              "    .colab-df-convert:hover {\n",
              "      background-color: #E2EBFA;\n",
              "      box-shadow: 0px 1px 2px rgba(60, 64, 67, 0.3), 0px 1px 3px 1px rgba(60, 64, 67, 0.15);\n",
              "      fill: #174EA6;\n",
              "    }\n",
              "\n",
              "    [theme=dark] .colab-df-convert {\n",
              "      background-color: #3B4455;\n",
              "      fill: #D2E3FC;\n",
              "    }\n",
              "\n",
              "    [theme=dark] .colab-df-convert:hover {\n",
              "      background-color: #434B5C;\n",
              "      box-shadow: 0px 1px 3px 1px rgba(0, 0, 0, 0.15);\n",
              "      filter: drop-shadow(0px 1px 2px rgba(0, 0, 0, 0.3));\n",
              "      fill: #FFFFFF;\n",
              "    }\n",
              "  </style>\n",
              "\n",
              "      <script>\n",
              "        const buttonEl =\n",
              "          document.querySelector('#df-57e8e7ea-da97-414e-ab29-aa8101fcabc7 button.colab-df-convert');\n",
              "        buttonEl.style.display =\n",
              "          google.colab.kernel.accessAllowed ? 'block' : 'none';\n",
              "\n",
              "        async function convertToInteractive(key) {\n",
              "          const element = document.querySelector('#df-57e8e7ea-da97-414e-ab29-aa8101fcabc7');\n",
              "          const dataTable =\n",
              "            await google.colab.kernel.invokeFunction('convertToInteractive',\n",
              "                                                     [key], {});\n",
              "          if (!dataTable) return;\n",
              "\n",
              "          const docLinkHtml = 'Like what you see? Visit the ' +\n",
              "            '<a target=\"_blank\" href=https://colab.research.google.com/notebooks/data_table.ipynb>data table notebook</a>'\n",
              "            + ' to learn more about interactive tables.';\n",
              "          element.innerHTML = '';\n",
              "          dataTable['output_type'] = 'display_data';\n",
              "          await google.colab.output.renderOutput(dataTable, element);\n",
              "          const docLink = document.createElement('div');\n",
              "          docLink.innerHTML = docLinkHtml;\n",
              "          element.appendChild(docLink);\n",
              "        }\n",
              "      </script>\n",
              "    </div>\n",
              "  </div>\n",
              "  "
            ]
          },
          "metadata": {},
          "execution_count": 18
        }
      ]
    },
    {
      "cell_type": "markdown",
      "source": [
        "# 3.0 DATA FILTER"
      ],
      "metadata": {
        "id": "s79k-1QFb1LQ"
      }
    },
    {
      "cell_type": "code",
      "source": [
        "df3 = df_ref.copy()"
      ],
      "metadata": {
        "id": "I3eP7gqWaD2n"
      },
      "execution_count": 19,
      "outputs": []
    },
    {
      "cell_type": "markdown",
      "source": [
        "# 4.0 EDA\n"
      ],
      "metadata": {
        "id": "6PErmvAwb4D7"
      }
    },
    {
      "cell_type": "code",
      "source": [
        "df4= df3.copy()"
      ],
      "metadata": {
        "id": "LQi_hT19b3ZM"
      },
      "execution_count": 20,
      "outputs": []
    },
    {
      "cell_type": "markdown",
      "source": [
        "# 5.0 DATA PREPARATION"
      ],
      "metadata": {
        "id": "sXaUWGlcb8BZ"
      }
    },
    {
      "cell_type": "code",
      "source": [
        "df5 = df4.copy()"
      ],
      "metadata": {
        "id": "Dk8GjxwUb7Xg"
      },
      "execution_count": 21,
      "outputs": []
    },
    {
      "cell_type": "markdown",
      "source": [
        "# 6.0 FEATURE SELECTION"
      ],
      "metadata": {
        "id": "aEQoWmGlcAMY"
      }
    },
    {
      "cell_type": "code",
      "source": [
        "df6= df5.copy()"
      ],
      "metadata": {
        "id": "XZfp9dl8b_E2"
      },
      "execution_count": 22,
      "outputs": []
    },
    {
      "cell_type": "markdown",
      "source": [
        "#7.0 Hyperparameter Fine-Tuning"
      ],
      "metadata": {
        "id": "E5mlN58KcGh4"
      }
    },
    {
      "cell_type": "code",
      "source": [
        "X= df6.drop(columns=['customer_id'])"
      ],
      "metadata": {
        "id": "dwx9dRNHcDpu"
      },
      "execution_count": 23,
      "outputs": []
    },
    {
      "cell_type": "code",
      "source": [
        "clusters= [2,3,4,5,6]"
      ],
      "metadata": {
        "id": "o2asHxjNiYw6"
      },
      "execution_count": 24,
      "outputs": []
    },
    {
      "cell_type": "markdown",
      "source": [
        "## 7.1 Within-Cluster Sum of Square"
      ],
      "metadata": {
        "id": "1PFrD562iR9w"
      }
    },
    {
      "cell_type": "code",
      "source": [
        "wss=[]\n",
        "for k in clusters:\n",
        "  #model definition\n",
        "  kmeans= c.KMeans(init='random',n_clusters=k,n_init=10,max_iter=300,random_state=42)\n",
        "\n",
        "  #model training\n",
        "  kmeans.fit(X)\n",
        "\n",
        "  #validation\n",
        "  wss.append(kmeans.inertia_)\n",
        "\n",
        "#plot wss - elbow method\n",
        "plt.plot(clusters,wss,linestyle='--',marker= 'o',color= 'b')\n",
        "plt.xlabel('K');\n",
        "plt.ylabel('Within-Cluster Sum of Square'); \n",
        "plt.title('WSS vs K');"
      ],
      "metadata": {
        "colab": {
          "base_uri": "https://localhost:8080/",
          "height": 295
        },
        "id": "IfSBvQc-knBb",
        "outputId": "60bcdbe8-d34d-46c7-ddbe-7f925046fa22"
      },
      "execution_count": 25,
      "outputs": [
        {
          "output_type": "display_data",
          "data": {
            "text/plain": [
              "<Figure size 432x288 with 1 Axes>"
            ],
            "image/png": "[encoded data removed]"
          },
          "metadata": {
            "needs_background": "light"
          }
        }
      ]
    },
    {
      "cell_type": "code",
      "source": [
        "from yellowbrick.cluster import KElbowVisualizer\n",
        "\n",
        "kmeans= KElbowVisualizer(c.KMeans(), k=clusters,timings=False)\n",
        "kmeans.fit(X)\n",
        "kmeans.show()"
      ],
      "metadata": {
        "colab": {
          "base_uri": "https://localhost:8080/",
          "height": 393
        },
        "id": "Yy8mc0e1r8-4",
        "outputId": "afb27cbd-e8ab-4b5a-a9de-95d3d3e4ae6c"
      },
      "execution_count": 26,
      "outputs": [
        {
          "output_type": "display_data",
          "data": {
            "text/plain": [
              "<Figure size 576x396 with 1 Axes>"
            ],
            "image/png": "[encoded data removed]"
          },
          "metadata": {}
        },
        {
          "output_type": "execute_result",
          "data": {
            "text/plain": [
              "<matplotlib.axes._subplots.AxesSubplot at 0x7f7ef184c790>"
            ]
          },
          "metadata": {},
          "execution_count": 26
        }
      ]
    },
    {
      "cell_type": "markdown",
      "source": [
        "## 7.2 Sillhouette Score"
      ],
      "metadata": {
        "id": "yMBJn2hniVeG"
      }
    },
    {
      "cell_type": "code",
      "source": [
        "from yellowbrick.cluster import KElbowVisualizer\n",
        "kmeans= KElbowVisualizer(c.KMeans(),k=clusters,metric='silhouette',timings=False)\n",
        "kmeans.fit(X)\n",
        "kmeans.show()"
      ],
      "metadata": {
        "colab": {
          "base_uri": "https://localhost:8080/",
          "height": 393
        },
        "id": "oA5cbd3x2Mzl",
        "outputId": "656cd9c8-2f6c-44be-dcac-bc62ed2cac2b"
      },
      "execution_count": 27,
      "outputs": [
        {
          "output_type": "display_data",
          "data": {
            "text/plain": [
              "<Figure size 576x396 with 1 Axes>"
            ],
            "image/png": "[encoded data removed]"
          },
          "metadata": {}
        },
        {
          "output_type": "execute_result",
          "data": {
            "text/plain": [
              "<matplotlib.axes._subplots.AxesSubplot at 0x7f7eeeef3610>"
            ]
          },
          "metadata": {},
          "execution_count": 27
        }
      ]
    },
    {
      "cell_type": "markdown",
      "source": [
        "# 8.0 MODEL TRAINING"
      ],
      "metadata": {
        "id": "DTNuCDyVfniS"
      }
    },
    {
      "cell_type": "markdown",
      "source": [
        "## 8.1 K-MEANS"
      ],
      "metadata": {
        "id": "2-1W44EDKk96"
      }
    },
    {
      "cell_type": "code",
      "source": [
        "#model definition\n",
        "k=3\n",
        "kmeans= c.KMeans(init='random', n_clusters= k, n_init= 10, max_iter= 300, random_state= 42)\n",
        "\n",
        "#model training\n",
        "kmeans.fit(X)\n",
        "\n",
        "#clustering\n",
        "labels= kmeans.labels_"
      ],
      "metadata": {
        "id": "XYt8G1eccbyZ"
      },
      "execution_count": 28,
      "outputs": []
    },
    {
      "cell_type": "code",
      "source": [
        "#WSS\n",
        "print('WSS value: {}'.format(kmeans.inertia_))\n",
        " \n",
        "#SS\n",
        "print('SS value: {}'.format(m.silhouette_score(X,labels,metric='euclidean')))"
      ],
      "metadata": {
        "colab": {
          "base_uri": "https://localhost:8080/"
        },
        "id": "OWQiSJVIKdkF",
        "outputId": "5e8037c1-8e9e-4bf0-e58a-2f3fa16dd5f7"
      },
      "execution_count": 29,
      "outputs": [
        {
          "output_type": "stream",
          "name": "stdout",
          "text": [
            "WSS value: 52830442008.0069\n",
            "SS value: 0.9494677566681542\n"
          ]
        }
      ]
    },
    {
      "cell_type": "markdown",
      "source": [
        "# 9.0 Cluster Analysis"
      ],
      "metadata": {
        "id": "5ef2UQJPoe4Q"
      }
    },
    {
      "cell_type": "code",
      "source": [
        "df9 = df6.copy()\n",
        "df9['cluster']= labels\n",
        "df9.head()"
      ],
      "metadata": {
        "id": "l2FXANpyLhkA",
        "colab": {
          "base_uri": "https://localhost:8080/",
          "height": 206
        },
        "outputId": "ff8870a5-f873-413f-ac43-331e00a233ba"
      },
      "execution_count": 33,
      "outputs": [
        {
          "output_type": "execute_result",
          "data": {
            "text/plain": [
              "   customer_id  gross_revenue  recency_days  invoice_no  cluster\n",
              "0        17850        5288.63           302          35        0\n",
              "1        13047        3079.10            31          18        0\n",
              "2        12583        7187.34             2          18        0\n",
              "3        13748         948.25            95           5        0\n",
              "4        15100         635.10           330           6        0"
            ],
            "text/html": [
              "\n",
              "  <div id=\"df-f87cec11-59d6-4c96-b7c9-e8fa51b48a92\">\n",
              "    <div class=\"colab-df-container\">\n",
              "      <div>\n",
              "<style scoped>\n",
              "    .dataframe tbody tr th:only-of-type {\n",
              "        vertical-align: middle;\n",
              "    }\n",
              "\n",
              "    .dataframe tbody tr th {\n",
              "        vertical-align: top;\n",
              "    }\n",
              "\n",
              "    .dataframe thead th {\n",
              "        text-align: right;\n",
              "    }\n",
              "</style>\n",
              "<table border=\"1\" class=\"dataframe\">\n",
              "  <thead>\n",
              "    <tr style=\"text-align: right;\">\n",
              "      <th></th>\n",
              "      <th>customer_id</th>\n",
              "      <th>gross_revenue</th>\n",
              "      <th>recency_days</th>\n",
              "      <th>invoice_no</th>\n",
              "      <th>cluster</th>\n",
              "    </tr>\n",
              "  </thead>\n",
              "  <tbody>\n",
              "    <tr>\n",
              "      <th>0</th>\n",
              "      <td>17850</td>\n",
              "      <td>5288.63</td>\n",
              "      <td>302</td>\n",
              "      <td>35</td>\n",
              "      <td>0</td>\n",
              "    </tr>\n",
              "    <tr>\n",
              "      <th>1</th>\n",
              "      <td>13047</td>\n",
              "      <td>3079.10</td>\n",
              "      <td>31</td>\n",
              "      <td>18</td>\n",
              "      <td>0</td>\n",
              "    </tr>\n",
              "    <tr>\n",
              "      <th>2</th>\n",
              "      <td>12583</td>\n",
              "      <td>7187.34</td>\n",
              "      <td>2</td>\n",
              "      <td>18</td>\n",
              "      <td>0</td>\n",
              "    </tr>\n",
              "    <tr>\n",
              "      <th>3</th>\n",
              "      <td>13748</td>\n",
              "      <td>948.25</td>\n",
              "      <td>95</td>\n",
              "      <td>5</td>\n",
              "      <td>0</td>\n",
              "    </tr>\n",
              "    <tr>\n",
              "      <th>4</th>\n",
              "      <td>15100</td>\n",
              "      <td>635.10</td>\n",
              "      <td>330</td>\n",
              "      <td>6</td>\n",
              "      <td>0</td>\n",
              "    </tr>\n",
              "  </tbody>\n",
              "</table>\n",
              "</div>\n",
              "      <button class=\"colab-df-convert\" onclick=\"convertToInteractive('df-f87cec11-59d6-4c96-b7c9-e8fa51b48a92')\"\n",
              "              title=\"Convert this dataframe to an interactive table.\"\n",
              "              style=\"display:none;\">\n",
              "        \n",
              "  <svg xmlns=\"http://www.w3.org/2000/svg\" height=\"24px\"viewBox=\"0 0 24 24\"\n",
              "       width=\"24px\">\n",
              "    <path d=\"M0 0h24v24H0V0z\" fill=\"none\"/>\n",
              "    <path d=\"M18.56 5.44l.94 2.06.94-2.06 2.06-.94-2.06-.94-.94-2.06-.94 2.06-2.06.94zm-11 1L8.5 8.5l.94-2.06 2.06-.94-2.06-.94L8.5 2.5l-.94 2.06-2.06.94zm10 10l.94 2.06.94-2.06 2.06-.94-2.06-.94-.94-2.06-.94 2.06-2.06.94z\"/><path d=\"M17.41 7.96l-1.37-1.37c-.4-.4-.92-.59-1.43-.59-.52 0-1.04.2-1.43.59L10.3 9.45l-7.72 7.72c-.78.78-.78 2.05 0 2.83L4 21.41c.39.39.9.59 1.41.59.51 0 1.02-.2 1.41-.59l7.78-7.78 2.81-2.81c.8-.78.8-2.07 0-2.86zM5.41 20L4 18.59l7.72-7.72 1.47 1.35L5.41 20z\"/>\n",
              "  </svg>\n",
              "      </button>\n",
              "      \n",
              "  <style>\n",
              "    .colab-df-container {\n",
              "      display:flex;\n",
              "      flex-wrap:wrap;\n",
              "      gap: 12px;\n",
              "    }\n",
              "\n",
              "    .colab-df-convert {\n",
              "      background-color: #E8F0FE;\n",
              "      border: none;\n",
              "      border-radius: 50%;\n",
              "      cursor: pointer;\n",
              "      display: none;\n",
              "      fill: #1967D2;\n",
              "      height: 32px;\n",
              "      padding: 0 0 0 0;\n",
              "      width: 32px;\n",
              "    }\n",
              "\n",
              "    .colab-df-convert:hover {\n",
              "      background-color: #E2EBFA;\n",
              "      box-shadow: 0px 1px 2px rgba(60, 64, 67, 0.3), 0px 1px 3px 1px rgba(60, 64, 67, 0.15);\n",
              "      fill: #174EA6;\n",
              "    }\n",
              "\n",
              "    [theme=dark] .colab-df-convert {\n",
              "      background-color: #3B4455;\n",
              "      fill: #D2E3FC;\n",
              "    }\n",
              "\n",
              "    [theme=dark] .colab-df-convert:hover {\n",
              "      background-color: #434B5C;\n",
              "      box-shadow: 0px 1px 3px 1px rgba(0, 0, 0, 0.15);\n",
              "      filter: drop-shadow(0px 1px 2px rgba(0, 0, 0, 0.3));\n",
              "      fill: #FFFFFF;\n",
              "    }\n",
              "  </style>\n",
              "\n",
              "      <script>\n",
              "        const buttonEl =\n",
              "          document.querySelector('#df-f87cec11-59d6-4c96-b7c9-e8fa51b48a92 button.colab-df-convert');\n",
              "        buttonEl.style.display =\n",
              "          google.colab.kernel.accessAllowed ? 'block' : 'none';\n",
              "\n",
              "        async function convertToInteractive(key) {\n",
              "          const element = document.querySelector('#df-f87cec11-59d6-4c96-b7c9-e8fa51b48a92');\n",
              "          const dataTable =\n",
              "            await google.colab.kernel.invokeFunction('convertToInteractive',\n",
              "                                                     [key], {});\n",
              "          if (!dataTable) return;\n",
              "\n",
              "          const docLinkHtml = 'Like what you see? Visit the ' +\n",
              "            '<a target=\"_blank\" href=https://colab.research.google.com/notebooks/data_table.ipynb>data table notebook</a>'\n",
              "            + ' to learn more about interactive tables.';\n",
              "          element.innerHTML = '';\n",
              "          dataTable['output_type'] = 'display_data';\n",
              "          await google.colab.output.renderOutput(dataTable, element);\n",
              "          const docLink = document.createElement('div');\n",
              "          docLink.innerHTML = docLinkHtml;\n",
              "          element.appendChild(docLink);\n",
              "        }\n",
              "      </script>\n",
              "    </div>\n",
              "  </div>\n",
              "  "
            ]
          },
          "metadata": {},
          "execution_count": 33
        }
      ]
    },
    {
      "cell_type": "markdown",
      "source": [
        "## 9.1 Visualization Inspection"
      ],
      "metadata": {
        "id": "FOFcPAYwoiiH"
      }
    },
    {
      "cell_type": "code",
      "source": [
        "fig= px.scatter_3d(df9,x='recency_days',y='invoice_no',z='gross_revenue',color='cluster')\n",
        "fig.show()"
      ],
      "metadata": {
        "colab": {
          "base_uri": "https://localhost:8080/",
          "height": 542
        },
        "id": "MitBgAPMpIXs",
        "outputId": "c217dca1-2634-4a2a-c794-0dc520c2daec"
      },
      "execution_count": 34,
      "outputs": [
        {
          "output_type": "display_data",
          "data": {
            "text/html": [
              "<html>\n",
              "<head><meta charset=\"utf-8\" /></head>\n",
              "<body>\n",
              "    <div>            <script src=\"https://cdnjs.cloudflare.com/ajax/libs/mathjax/2.7.5/MathJax.js?config=TeX-AMS-MML_SVG\"></script><script type=\"text/javascript\">if (window.MathJax) {MathJax.Hub.Config({SVG: {font: \"STIX-Web\"}});}</script>                <script type=\"text/javascript\">window.PlotlyConfig = {MathJaxConfig: 'local'};</script>\n",
              "        <script src=\"https://cdn.plot.ly/plotly-2.8.3.min.js\"></script>                <div id=\"18e2488d-f4f6-4637-9aa7-78999d2b2f47\" class=\"plotly-graph-div\" style=\"height:525px; width:100%;\"></div>            <script type=\"text/javascript\">                                    window.PLOTLYENV=window.PLOTLYENV || {};                                    if (document.getElementById(\"18e2488d-f4f6-4637-9aa7-78999d2b2f47\")) {                    Plotly.newPlot(                        \"18e2488d-f4f6-4637-9aa7-78999d2b2f47\",                        [{\"hovertemplate\":\"recency_days=%{x}<br>invoice_no=%{y}<br>gross_revenue=%{z}<br>cluster=%{marker.color}<extra></extra>\",\"legendgroup\":\"\",\"marker\":{\"color\":[0,0,0,0,0,0,0,0,2,0,0,0,0,2,0,0,2,0,0,0,2,0,0,0,0,0,0,0,0,0,0,0,0,0,0,0,0,2,0,0,0,2,0,0,0,0,0,0,2,0,0,0,0,0,0,0,0,0,0,0,0,0,0,0,0,0,0,1,0,2,0,0,0,0,0,0,0,0,0,0,0,0,0,0,0,2,0,0,0,0,0,0,0,0,0,0,0,0,0,0,0,0,0,0,0,0,0,0,0,0,0,0,0,0,0,0,0,0,0,0,0,0,0,0,0,0,0,0,0,0,0,0,0,0,0,0,0,0,0,0,0,0,0,0,0,0,0,0,0,0,0,0,2,0,0,0,0,0,0,0,0,0,0,2,0,0,0,0,0,0,0,0,0,0,0,0,0,0,0,0,0,1,0,0,0,0,0,0,2,0,0,0,0,0,0,0,0,0,0,0,0,0,0,0,0,0,0,0,0,0,0,0,0,0,0,0,0,0,0,0,0,0,0,2,0,0,0,0,0,0,0,2,2,0,0,0,0,0,0,0,0,0,0,0,0,0,2,0,0,0,0,0,0,2,0,0,0,0,2,0,0,0,0,0,0,0,0,0,0,0,0,0,0,0,0,0,0,0,0,0,0,0,0,0,0,0,0,0,0,0,0,0,0,0,0,0,0,0,0,0,0,0,0,0,0,0,0,0,0,0,0,0,0,0,2,0,0,0,0,0,0,0,0,0,0,0,0,0,0,0,0,0,0,0,0,0,0,0,0,0,0,0,0,0,0,0,0,0,0,0,0,0,0,0,0,0,0,0,0,0,0,0,0,0,0,0,0,0,0,0,0,0,0,0,0,0,0,0,0,0,0,0,0,0,0,0,0,0,0,0,0,0,0,0,0,0,0,0,0,0,0,0,1,0,0,0,0,0,0,0,0,0,0,0,0,0,0,0,0,0,0,0,0,0,0,0,0,0,0,0,0,0,0,0,0,0,0,0,0,0,0,0,0,0,0,0,0,0,0,0,1,0,0,0,0,0,0,0,0,0,0,0,0,0,0,0,0,0,0,0,0,0,0,0,0,0,0,0,0,0,0,0,0,0,0,0,0,0,0,0,0,0,0,0,0,0,0,0,0,0,0,0,0,0,0,0,0,0,0,0,0,0,0,0,0,0,0,0,0,0,0,0,0,0,0,0,0,0,0,0,0,0,0,0,0,0,0,0,0,0,0,0,0,0,0,0,0,0,0,0,0,0,0,0,0,0,0,2,0,0,0,0,0,0,0,0,0,0,0,0,0,0,0,0,0,0,0,0,0,0,0,0,0,0,0,0,0,0,0,0,0,0,0,0,0,0,0,0,0,0,0,0,0,0,0,0,0,0,0,0,0,0,0,0,0,0,0,0,0,0,0,0,0,0,0,0,0,0,0,0,0,0,0,0,0,0,0,0,0,0,0,0,0,0,0,0,0,0,0,0,0,0,0,0,0,0,0,0,0,0,0,0,0,0,0,0,0,2,0,0,0,0,0,0,0,0,0,0,0,0,0,0,0,0,0,0,0,0,0,0,0,0,0,0,0,0,0,0,0,0,0,0,0,0,0,0,0,0,0,0,0,0,0,0,0,0,0,0,0,0,0,0,0,0,0,0,0,0,0,0,0,0,0,0,0,0,0,0,0,0,0,0,0,0,0,0,0,0,0,0,0,0,2,0,0,0,0,2,0,0,0,0,0,0,0,0,0,0,0,0,0,0,0,0,0,0,0,0,0,0,0,0,0,0,0,0,0,0,0,0,0,0,0,0,0,0,0,0,0,0,0,0,0,0,0,0,0,0,0,0,0,0,0,0,0,0,0,0,0,0,0,0,0,0,0,0,0,0,0,0,0,0,0,0,0,0,0,0,0,0,0,0,0,0,0,0,0,0,0,0,0,0,0,0,0,0,0,0,0,0,0,0,0,2,0,0,0,0,0,0,0,0,0,0,0,0,0,2,0,0,0,0,0,0,0,0,0,0,0,0,0,0,0,0,0,0,0,0,0,0,0,0,0,0,0,0,0,0,1,0,0,0,0,0,0,0,0,0,0,0,0,0,0,0,0,0,0,0,0,0,0,0,0,0,0,0,0,0,0,0,0,0,0,0,0,0,0,0,0,0,0,0,0,0,0,0,0,0,0,0,0,0,2,0,0,0,0,0,0,0,0,0,0,0,0,0,0,0,0,1,0,0,0,0,0,0,0,0,0,0,0,0,0,0,0,0,0,0,0,0,0,0,0,0,0,0,0,0,0,0,0,0,0,0,0,0,0,0,0,0,0,0,0,0,0,0,0,0,0,0,0,0,0,0,0,0,0,0,0,0,0,0,0,0,0,0,0,0,0,0,0,0,0,0,0,0,0,0,0,0,0,0,0,0,0,0,0,0,0,0,0,0,0,0,0,0,2,0,0,0,0,0,0,0,0,0,0,0,0,0,0,0,0,0,0,0,0,0,0,0,0,0,0,0,0,0,0,0,0,0,0,0,0,0,0,0,0,0,0,0,0,0,0,0,0,0,0,0,0,0,0,0,0,0,0,0,0,0,0,0,0,0,0,0,0,0,0,0,0,0,0,0,0,0,0,0,0,0,0,0,0,0,0,0,0,0,0,0,0,0,0,0,0,0,0,0,0,0,0,0,0,0,0,0,0,0,0,0,0,0,0,0,0,0,0,0,0,0,0,0,0,0,0,0,0,0,0,0,0,0,0,0,2,0,0,0,0,0,0,0,0,0,0,0,0,0,0,0,0,0,0,0,0,0,0,0,0,0,0,0,0,0,0,0,0,0,0,0,0,0,0,0,0,0,0,0,0,0,0,0,0,0,0,0,0,0,0,0,0,0,0,0,0,0,0,0,0,0,0,0,0,0,0,0,0,0,0,0,0,0,0,0,0,0,0,2,0,0,0,0,0,0,0,0,0,0,0,0,0,0,0,0,0,0,0,0,0,0,0,0,0,0,0,0,0,0,0,0,0,0,0,0,0,0,0,0,0,0,0,0,0,0,0,0,0,0,0,0,0,0,0,0,0,0,0,0,0,0,0,0,0,0,0,0,0,0,0,0,0,0,0,0,0,0,0,0,0,0,0,0,0,0,0,0,0,0,0,0,0,0,0,0,0,0,0,0,0,0,0,0,0,0,0,0,0,0,0,0,0,0,0,0,0,0,0,0,0,0,0,0,0,0,0,0,0,0,0,0,2,0,0,0,0,0,0,0,0,0,0,0,0,0,0,0,0,0,0,0,0,0,0,0,0,0,0,0,0,0,0,0,0,0,0,0,0,0,0,0,0,0,0,0,0,0,0,0,0,0,0,0,0,0,0,0,0,0,0,0,0,0,0,0,0,0,0,0,0,0,0,0,0,0,0,0,0,0,0,0,0,0,0,0,0,0,0,0,0,0,0,0,0,0,0,0,0,0,0,0,0,0,0,0,0,0,0,0,0,0,0,0,0,0,0,0,0,0,0,0,0,0,0,0,0,0,0,0,0,0,0,0,0,0,0,0,0,0,0,0,0,0,0,0,0,0,0,0,0,0,0,0,0,0,0,0,0,0,0,0,0,0,0,0,0,0,0,0,0,0,0,0,0,0,0,0,0,0,0,0,0,0,0,0,0,0,0,0,0,0,0,0,0,0,0,0,0,0,0,0,0,0,0,0,0,0,0,0,0,0,0,0,0,0,0,0,0,0,0,0,0,0,0,0,0,0,0,0,0,0,0,0,0,0,0,0,0,0,0,0,0,0,0,0,0,0,0,0,0,0,0,0,0,0,0,0,0,0,0,0,0,0,0,0,0,0,0,0,0,0,0,0,0,0,0,0,0,0,0,0,0,0,0,0,0,0,0,0,0,0,0,0,0,0,0,0,0,0,0,0,0,0,0,0,0,0,0,0,0,0,0,0,0,0,0,0,0,0,0,0,0,0,0,0,0,0,0,0,0,0,0,0,0,0,0,0,0,0,0,0,0,0,0,0,0,0,0,0,0,0,0,0,0,0,0,0,0,0,0,0,0,0,0,0,0,0,0,0,0,0,0,0,0,0,0,0,0,0,0,0,0,0,0,0,0,0,0,0,0,0,0,0,0,0,0,0,0,0,0,0,0,0,0,0,0,0,0,0,0,0,0,0,0,0,0,0,0,0,0,0,0,0,0,0,0,0,0,0,0,0,0,0,0,0,0,0,0,0,0,0,0,0,0,0,0,0,0,0,0,0,0,0,0,0,0,0,0,0,0,0,0,0,0,0,0,0,0,0,0,0,0,0,0,0,0,0,0,0,0,0,0,0,0,0,0,0,0,0,0,0,0,0,0,0,0,0,0,0,0,0,0,0,0,0,0,0,0,0,0,0,0,0,0,0,0,0,0,0,0,0,0,0,0,0,0,0,0,0,0,0,0,0,0,0,0,0,0,0,0,0,0,0,0,0,0,0,0,0,0,0,0,0,0,0,0,0,0,0,0,0,0,0,0,0,0,0,0,0,0,0,0,0,0,0,0,0,0,0,0,0,0,0,0,0,0,0,0,0,0,0,0,0,0,0,0,0,0,0,0,0,0,0,0,0,0,0,0,0,0,0,0,0,0,0,0,0,0,0,0,0,0,0,0,0,0,0,0,0,0,0,0,0,0,0,0,0,0,0,0,0,0,0,0,0,0,0,0,0,0,0,0,0,0,0,0,0,0,0,0,0,0,0,0,0,0,0,0,0,0,0,0,0,0,0,0,0,0,0,0,0,0,0,0,0,0,0,0,0,0,0,0,0,0,0,0,0,0,0,0,0,0,0,0,0,0,0,0,0,0,0,0,0,0,0,0,0,0,0,0,0,0,0,0,0,0,0,0,0,0,0,0,0,0,0,0,0,0,0,0,0,0,0,0,0,0,0,0,0,0,0,0,0,0,0,0,0,0,0,0,0,0,0,0,0,0,0,0,0,0,0,0,0,0,0,0,0,0,0,0,0,0,0,0,0,0,0,0,0,0,0,0,0,0,0,0,0,0,0,0,0,0,0,0,0,0,0,0,0,0,0,0,0,0,0,0,0,0,0,0,0,0,0,0,0,0,0,0,0,0,0,0,0,0,0,0,0,0,0,0,0,0,0,0,0,0,0,0,0,0,0,0,0,0,0,0,0,0,0,0,0,0,0,0,0,0,0,0,0,0,0,0,0,0,0,0,0,0,0,0,0,0,0,0,0,0,0,0,0,0,0,0,0,0,0,0,0,0,0,0,0,0,0,0,0,0,0,0,0,0,0,0,0,0,0,0,0,0,0,0,0,0,0,0,0,0,0,0,0,0,0,0,0,0,0,0,0,0,0,0,0,0,0,0,0,0,0,0,0,0,0,0,0,0,0,0,0,0,0,0,0,0,0,0,0,0,0,0,0,0,0,0,0,0,0,0,0,0,0,0,0,0,0,0,0,0,0,0,0,0,0,0,0,0,0,0,0,0,0,0,0,0,0,0,0,0,0,0,0,0,0,0,0,0,0,0,0,0,0,0,0,0,0,0,0,0,0,0,0,0,0,0,0,0,0,0,0,0,0,0,0,0,0,0,0,0,0,0,0,0,0,0,0,0,0,0,0,0,0,0,0,0,0,0,0,0,0,0,0,0,0,0,0,0,0,0,0,0,0,0,0,0,0,0,0,0,0,0,0,0,0,0,0,0,0,0,0,0,0,0,0,0,0,0,0,0,0,0,0,0,0,0,0,0,0,0,0,0,0,0,0,0,0,0,0,0,0,0,0,0,0,0,0,0,0,0,0,0,0,0,0,0,0,0,0,0,0,0,0,0,0,0,0,0,0,0,0,0,0,0,0,0,0,0,0,0,0,0,0,0,0,0,0,0,0,0,0,0,0,0,0,0,0,0,0,0,0,0,0,0,0,0,0,0,0,0,0,0,0,0,0,0,0,0,0,0,0,0,0,0,0,0,0,0,0,0,0,0,0,0,0,0,0,0,0,0,0,0,0,0,0,0,0,0,0,0,0,0,0,0,0,0,0,0,0,0,0,0,0,0,0,0,0,0,0,0,0,0,0,0,0,0,0,0,0,0,0,0,0,0,0,0,0,0,0,0,0,0,0,0,0,0,0,0,0,0,0,0,0,0,0,0,0,0,0,0,0,0,0,0,0,0,0,0,0,0,0,0,0,0,0,0,0,0,0,0,0,0,0,0,0,0,0,0,0,0,0,0,0,0,0,0,0,0,0,0,0,0,0,0,0,0,0,0,0,0,0,0,0,0,0,0,0,0,0,0,0,0,0,0,0,0,0,0,0,0,0,0,0,0,0,0,0,0,0,0,0,0,0,0,0,0,0,0,0,0,0,0,0,0,0,0,0,0,0,0,0,0,0,0,0,0,0,0,0,0,0,0,0,0,0,0,0,0,0,0,0,0,0,0,0,0,0,0,0,0,0,0,0,0,0,0,0,0,0,0,0,0,0,0,0,0,0,0,0,0,0,0,0,0,0,0,0,0,0,0,0,0,0,0,0,0,0,0,0,0,0,0,0,0,0,0,0,0,0,0,0,0,0,0,0,0,0,0,0,0,0,0,0,0,0,0,0,0,0,0,0,0,0,0,0,0,0,0,0,0,0,0,0,0,0,0,0,0,0,0,0,0,0,0,0,0,0,0,0,0,0,0,0,0,0,0,0,0,0,0,0,0,0,0,0,0,0,0,0,0,0,0,0,0,0,0,0,0,0,0,0,0,0,0,0,0,0,0,0,0,0,0,0,0,0,0,0,0,0,0,0,0,0,0,0,0,0,0,0,0,0,0,0,0,0,0,0,0,0,0,0,0,0,0,0,0,0,0,0,0,0,0,0,0,0,0,0,0,0,0,0,0,0,0,0,0,0,0,0,0,0,0,0,0,0,0,0,0,0,0,0,0,0,0,0,0,0,0,0,0,0,0,0,0,0,0,0,0,0,0,0,0,0,0,0,0,0,0,0,0,0,0,0,0,0,0,0,0,0,0,0,0,0,0,0,0,0,0,0,0,0,0,0,0,0,0,0,0,0,0,0,0,0,0,0,0,0,0,0,0,0,0,0,0,0,0,0,0,0,0,0,0,0,0,0,0,0,0,0,0,0,0,0,0,0,0,0,0,0,0,0,0,0,0,0,0,0,0,0,0,0,0,0,0,0,0,0,0,0,0,0,0,0,0,0,0,0,0,0,0,0,0,0,0,0,0,0,0,0,0,0,0,0,0,0,0,0,0,0,0,0,0,0,0,0,0,0,0,0,0,0,0,0,0,0,0,0,0,0,0,0,0,0,0,0,0,0,0,0,0,0,0,0,0,0,0,0,0,0,0,0,0,0,0,0,0,0,0,0,0,0,0,0,0,0,0,0,0,0,0,0,0,0,0,0,0,0,0,0,0,0,0,0,0,0,0,0,0,0,0,0,0,0,0,0,0,0,0,0,0,0,0,0,0,0,0,0,0,0,0,0,0,0,0,0,0,0,0,0,0,0,0,0,0,0,0,0,0,0,0,0,0,0,0,0,0,0,0,0,0,0,0,0,0,0,0,0,0,2,0,0,0,0,0,0,0,0,0,0,0,0,0,0,0,0,0,0,0,0,0,0,0,0,0,0,0,0,0,0,0,0,0,0,0,0,0,0,0,0,0,0,0,0,0,0,0,0,0,0,0,0,0,0,0,0,0,0,0,0,0,0,0,0,0,0,0,0,0,0,0,0,0,0,0,0,0,0,0,0,0,0,0,0,0,0,0,0,0,0,0,0,0,0,0,0,0,0,0,0,0,0,0,0,0,0,0,0,0,0,0,0,0,0,0,0,0,0,0,0,0,0,0,0,0,0,0,0,0,0,0,0,0,0,0,0,0,0,0,0,0,0,0,0,0,0,0,0,0,0,0,0,0,0,0,0,0,0,0,0,0,0,0,0,0,0,0,0,0,0,0,0,0,0,0,0,0,0,0,0,0,0,0,0,0,0,0,0,0,0,0,0,0,0,0,0,0,0,0,0,0,0,0,0,0,0,0,0,0,0,0,0,0,0,0,0,0,0,0,0,0,0,0,0,0,0,0,0,0,0,0,0,0,0,0,0,0,0,0,0,0,0,0,0,0,0,0,0,0,0,0,0,0,0,0,0,0,0,0,0,0,0,0,0,0,0,0,0,0,0,0,0,0,0,0,0,0,0,0,0,0,0,0,0,0,0,0,0,0,0,0,0,0,0,0,0,0,0,0,0,0,0,0,0,0,0,0,0,0,0,0,0,0,0,0,0,0,0,0,0,0,0,0,0,0,0,0,0,0,0,0,0,0,0,0,0,0,0,0,0,0,0,0,0,0,0,0,0,0,0,0,0,0,0,0,0,0,0,0,0,0,0,0,0,0,0,0,0,0,0,0,0,0,0,0,0,0,0,0,0,0,0,0,0,0,0,0,0,0,0,0,0,0,0,0,0,0,0,0,0,0,0,0,0,0,0,0,0,0,0,0,0,0,0,0,0,0,0,0,0,0,0,0,0,0,0,0,0,0,0,0,0,0,0,0,0,0,0,0,0,0,0,0,0,0,0,0,0,0,0,0,0,0,0,0,0,0,0,0,0,0,0,0,0,0,0,0,0,0,0,0,0,0,0,0,0,0,0,0,0,0,0,0,0,0,0,0,0,0,0,0,0,0,0,0,0,0,0,0,0,0,0,0,0,0,0,0,0,0,0,0,0,0,0,0,0,0,0,0,0,0,0,0,0,0,0,0,0,0,0,0,0,0,0,0,0,0,0,0,0,0,0,0,0,0,0,0,0,0,0,0,0,0,0,0,0,0,0,0,0,0,0,0,0,0,0,0,0,0,0,0,0,0,0,0,0,0,0,0,0,0,0,0,0,0,0,0,0,0,0,0,0,0,0,0,0,0,0,0,0,0,0,0,0,0,0,0,0,0,0,0,0,0,0,0,0,0,0,0,0,0,0,0,0,0,0,0,0,0,0,0,0,0,0,0,0,0,0,0,0,0,0,0,0,0,0,0,0,0,0,0,0,0,0,0,0,0,0,0,0,0,0,0,0,0,0,0,0,0,0,0,0,0,0,0,0,0,0,0,0,0,0,0,0,0,0,0,0,0,0,0,0,0,0,0,0,0,0,0,0,0,0,0,0,0,0,0,0,0,0,0,0,0,0,0,0,0,0,0,0,0,0,0,0,0,0,0,0,0,0,0,0,0,0,0,0,0,0,0,0,0,0,0,0,0,0,0,0,0,0,0,0,0,0,0,0,0,0,0,0,0,0,0,0,0,0,0,0,0,0,0,0,0,0,0,0,0,0,0,0,0,0,0,0,0,0,0,0,0,0,0,0,0,0,0,0,0,0,0,0,0,0,0,0,0,0,0,0,0,0,0,0,0,0,0,0,0,0,0,0,0,0,0,0,0,0,0,0,0,0,0,0,0,0,0,0,0,0,0,0,0,0,0,0,0,0,0,0,0,0,0,0,0,0,0,0,0,0,0,0,0,0,0,0,0,0,0,0,0,0,0,0,0,0,0,0,0,0,0,0,0,0,0,0,0,0,0,0,0,0,0,0,0,0,0,0,0,0,0,0,0,0,0,0,0,0,0,0,0,0,0,0,0,0,0,0,0,0,0,0,0,0,0,0,0,0,0,0,0,0,0,0,0,0,0,0,0,0,0,0,0,0,0,0,0,0,0,0,0,0,0,0,0,0,0,0,0,0,0,0,0,0,0,0,0,0,0,0,0,0,0,0,0,0,0,0,0,0,0,0,0,0,0,0,0,0,0,0,0,0,0,0,0,0,0,0,0,0,0,0,0,0,0,0,0,0,0,0,0,0,0,0,0,0,0,0,0,0,0,0],\"coloraxis\":\"coloraxis\",\"symbol\":\"circle\"},\"mode\":\"markers\",\"name\":\"\",\"scene\":\"scene\",\"showlegend\":false,\"x\":[302,31,2,95,330,25,7,16,0,2,87,373,50,38,261,35,2,217,7,373,1,2,1,16,8,31,373,29,109,88,373,4,33,3,373,330,11,3,22,21,373,1,172,23,242,57,39,373,0,53,185,71,101,45,0,2,373,71,30,0,184,373,36,7,372,7,373,1,99,1,30,3,373,80,267,3,1,21,80,85,373,311,4,2,60,0,30,143,78,11,373,28,373,1,128,217,10,373,8,0,11,281,7,372,372,39,372,8,372,21,2,1,372,2,11,11,8,190,8,11,11,24,372,211,29,10,290,100,4,175,4,372,372,26,241,148,8,18,22,8,73,10,21,23,31,29,25,372,82,311,372,18,11,365,372,51,22,16,0,212,22,337,7,3,58,4,177,57,26,15,29,2,7,58,3,70,3,67,157,372,53,9,372,127,176,1,185,372,1,169,154,359,372,222,218,372,39,2,7,18,372,38,42,80,21,179,16,39,371,3,371,371,44,3,366,187,58,4,5,11,371,1,371,25,3,16,4,1,91,63,28,3,1,21,371,152,3,10,5,71,22,8,52,23,2,334,7,65,23,371,302,15,63,1,54,1,19,40,2,5,5,12,7,43,1,0,9,47,8,10,5,14,1,369,22,313,366,40,3,10,16,312,40,145,12,366,12,29,14,26,185,7,369,369,306,5,2,215,59,19,264,3,4,19,22,253,5,17,12,54,156,15,3,2,17,2,15,138,267,37,33,14,16,12,1,45,17,0,1,366,2,3,29,22,74,36,21,368,29,1,358,18,9,19,282,40,2,60,185,127,17,14,65,50,2,26,3,368,23,7,2,368,33,8,156,148,11,26,17,198,10,19,108,2,10,368,12,31,310,2,11,28,3,71,141,59,368,45,7,17,4,12,11,8,100,10,4,107,144,311,8,308,8,2,44,173,336,14,3,2,65,26,38,9,2,297,5,254,367,1,3,17,0,3,17,36,115,17,9,1,2,4,59,367,21,4,15,367,2,2,8,11,10,213,56,73,2,367,367,22,0,17,2,366,29,1,2,9,3,4,337,1,2,1,31,8,16,330,2,29,58,366,3,2,4,56,2,46,15,73,4,235,0,18,366,22,24,3,96,17,156,0,16,71,60,256,40,21,0,163,24,1,52,8,24,4,366,358,3,2,150,33,366,15,120,9,256,71,366,9,10,1,8,205,92,108,143,37,366,9,26,88,18,366,15,8,8,10,9,8,8,212,143,131,25,2,4,22,31,1,257,4,249,8,360,354,9,3,12,365,9,15,365,1,204,8,96,253,365,32,186,365,66,4,1,10,30,7,39,43,365,365,25,36,4,16,15,219,107,21,326,94,9,360,2,119,0,354,365,8,29,72,2,365,365,17,38,16,50,173,365,35,60,100,225,29,8,9,1,4,7,1,23,38,36,5,9,364,106,26,23,10,364,310,364,22,176,254,3,9,67,1,113,5,29,3,51,312,2,364,12,75,30,24,364,4,9,18,32,9,362,362,12,19,152,358,12,3,12,40,37,143,45,245,123,2,25,11,7,36,362,362,79,362,362,19,8,4,5,17,154,10,19,3,361,119,11,30,10,42,4,8,115,236,24,17,12,22,95,26,361,52,3,178,361,1,8,322,190,17,166,1,10,241,8,32,138,360,323,239,360,1,23,35,8,31,360,84,192,10,26,2,100,360,273,23,3,26,4,360,2,51,3,32,1,7,22,4,66,173,106,11,11,322,32,26,4,24,4,8,5,35,10,89,0,192,2,264,26,1,155,359,7,18,29,70,0,8,86,240,60,127,3,21,359,359,35,359,105,89,60,283,71,35,16,165,4,359,10,35,8,359,31,11,191,50,106,358,17,64,1,0,238,30,15,269,53,16,17,0,51,91,8,155,4,12,29,105,3,9,1,169,8,9,15,3,3,64,50,358,21,2,252,4,218,358,353,75,3,2,1,25,103,4,16,21,170,8,247,358,172,81,306,75,198,11,7,21,59,357,4,2,183,3,0,3,28,357,18,50,357,154,357,28,123,8,15,15,58,7,103,303,47,7,355,354,49,315,1,35,75,16,3,3,169,113,21,4,354,18,7,354,15,0,42,1,10,3,30,353,57,353,126,3,7,24,352,29,312,236,184,351,50,351,29,234,46,351,22,64,339,4,63,72,1,17,68,126,8,42,19,156,0,21,64,143,23,4,317,17,338,1,33,109,9,126,338,38,173,24,337,23,9,32,256,36,33,191,3,315,70,164,66,46,122,17,11,337,194,196,59,95,194,164,53,315,336,239,336,185,4,32,9,60,74,336,28,234,108,122,7,22,64,9,5,40,5,334,58,19,334,78,1,37,17,9,10,19,75,334,26,2,22,23,58,21,9,4,333,10,333,218,301,51,44,49,25,58,332,60,206,72,113,332,189,332,332,40,128,40,196,12,1,241,312,64,235,10,103,71,332,9,5,18,29,40,331,324,1,17,7,3,7,89,18,24,331,1,40,322,61,324,39,115,0,322,4,8,44,192,32,273,330,330,72,60,330,24,18,8,72,5,329,329,74,8,318,51,329,4,8,1,54,12,88,50,26,12,14,26,33,42,58,40,88,23,57,15,33,33,326,5,44,11,3,4,73,326,3,169,17,326,326,7,1,325,40,234,22,325,325,138,288,81,325,142,325,1,7,10,95,187,324,57,58,8,70,2,3,16,26,112,67,42,280,72,323,323,1,323,56,323,232,23,322,7,37,206,322,8,31,227,10,318,137,7,212,1,320,138,12,180,23,197,320,1,110,16,1,10,320,10,319,17,310,301,64,319,3,319,10,319,63,16,120,211,21,2,52,58,319,15,113,319,319,318,312,72,94,51,10,23,2,23,318,78,22,70,58,8,318,66,51,318,45,36,211,31,33,318,78,318,3,64,150,74,16,37,107,211,317,242,43,17,218,1,78,317,85,316,36,151,36,22,44,49,66,1,8,316,78,0,3,68,10,33,143,30,39,8,43,29,316,77,22,28,56,275,315,92,66,107,43,114,129,1,8,84,25,267,3,14,15,299,68,19,313,313,313,16,19,9,312,24,40,12,17,58,8,51,302,12,312,19,107,217,115,312,25,22,3,32,311,311,22,59,23,86,29,311,122,112,245,25,52,311,199,17,311,24,45,70,31,266,24,311,17,60,310,252,310,94,310,110,8,36,122,247,22,32,301,15,8,81,58,176,217,52,31,310,10,151,302,8,119,239,1,95,7,309,26,309,43,10,309,9,85,92,301,261,58,301,22,8,235,301,11,127,308,308,10,49,7,70,218,308,308,59,57,4,35,306,159,306,306,25,15,305,14,22,82,154,28,96,305,33,151,28,277,71,304,35,304,29,3,123,149,273,304,303,109,303,11,29,303,2,303,302,49,7,298,35,302,246,93,91,210,302,64,1,57,30,127,3,98,204,28,4,31,301,301,222,301,301,53,18,16,130,29,96,8,191,40,299,66,134,50,21,298,191,298,32,49,9,23,50,3,297,85,53,14,297,28,30,120,213,85,119,297,291,19,294,7,78,296,296,73,25,296,148,29,72,133,74,36,71,296,59,296,16,44,39,3,16,246,14,44,203,10,157,9,29,295,44,53,295,108,290,66,9,72,105,9,37,1,294,116,176,294,14,15,185,33,9,173,103,162,95,292,15,291,81,50,49,75,49,37,37,255,164,291,8,291,67,35,1,121,80,73,35,290,290,290,290,267,15,119,73,40,95,23,14,134,30,289,289,88,165,50,10,58,52,8,44,8,14,289,4,256,289,289,192,43,15,100,19,39,1,281,238,179,30,77,50,288,288,288,288,197,288,288,38,95,242,58,276,2,16,4,9,3,11,77,36,287,60,287,164,66,25,287,44,275,285,268,277,49,1,8,15,5,19,36,12,112,21,284,4,201,71,9,151,26,15,68,8,63,31,284,284,284,38,263,1,45,260,61,284,51,204,191,64,25,283,9,9,283,66,24,215,52,283,19,281,169,7,283,282,53,64,282,2,282,120,72,78,17,198,3,74,166,179,282,4,89,282,282,235,19,4,239,3,149,281,84,1,4,206,281,281,218,281,29,25,178,281,16,2,280,85,29,280,51,280,18,28,190,197,280,38,21,18,280,81,3,280,92,21,26,25,47,4,32,278,277,85,59,277,277,67,51,44,30,277,197,277,80,277,200,50,8,277,4,276,81,46,49,227,276,45,276,107,79,116,31,1,276,8,60,9,276,2,3,16,23,52,2,10,110,156,93,22,1,275,12,9,275,127,275,57,1,15,17,16,274,218,274,86,78,274,29,270,274,270,108,81,274,74,40,99,88,53,79,273,50,43,53,273,163,32,273,253,157,36,47,68,5,271,190,18,270,142,25,22,8,259,32,12,270,23,17,269,67,269,22,269,17,170,269,17,269,28,269,212,4,268,36,65,9,268,31,154,268,74,213,19,71,79,1,77,79,22,267,267,267,16,182,17,79,15,50,267,267,267,267,1,99,0,204,16,12,266,266,3,266,2,21,257,64,266,161,0,266,38,21,64,266,266,46,15,18,266,32,30,266,16,264,3,106,179,264,46,31,264,49,46,264,4,35,52,65,10,264,264,29,92,253,263,263,40,89,263,176,263,136,87,263,263,194,262,183,9,18,42,262,262,262,23,10,191,66,11,262,31,262,119,38,261,84,261,26,261,144,9,79,178,261,148,261,106,134,261,37,261,15,92,166,4,3,37,1,36,57,260,260,3,260,150,5,260,10,260,0,32,260,260,260,63,31,35,16,75,144,259,85,233,2,217,100,2,151,18,257,80,257,23,150,256,158,256,256,31,54,116,178,46,64,23,155,138,31,60,185,37,134,255,114,19,31,255,214,15,44,36,116,73,85,254,19,9,254,37,123,80,95,248,73,88,254,98,254,144,28,247,253,16,253,28,73,12,39,16,226,72,50,253,49,253,159,252,252,15,100,183,23,38,252,252,30,58,2,63,252,252,201,250,19,7,42,249,60,249,57,225,31,189,29,249,249,61,247,1,53,248,248,4,248,81,59,50,65,135,4,248,14,184,72,245,72,247,147,113,247,78,247,92,130,2,64,247,2,246,219,246,16,21,11,124,26,0,88,50,246,107,23,173,246,45,17,3,239,15,245,110,19,31,245,44,245,240,245,196,151,21,32,147,81,245,28,107,96,243,243,243,12,243,24,168,197,233,23,44,17,1,242,14,18,225,234,239,79,51,51,109,25,9,9,91,234,239,114,23,25,9,14,31,95,241,46,63,241,239,36,170,241,241,4,29,240,44,239,14,91,39,8,72,60,240,94,8,234,94,17,32,218,51,207,81,168,1,33,52,4,65,35,239,18,87,85,239,239,183,58,233,103,211,238,238,21,114,45,238,32,30,238,236,110,78,123,236,8,24,8,236,236,236,25,235,95,235,151,203,235,19,32,100,133,189,29,9,15,198,24,99,234,15,17,234,234,75,234,12,234,53,154,233,7,8,3,23,233,233,8,233,186,178,232,10,100,4,16,67,11,232,1,73,232,169,200,157,29,232,232,44,232,187,227,227,141,12,15,227,1,227,185,219,1,226,143,226,226,52,225,44,50,115,32,30,225,225,107,225,33,219,225,225,225,82,40,3,130,220,212,220,1,18,24,189,140,165,219,67,24,40,198,60,219,219,10,45,23,19,218,204,108,218,120,218,17,218,53,218,119,218,218,1,31,14,218,190,26,45,9,217,217,65,217,8,217,46,71,71,63,184,168,217,33,217,9,11,57,151,215,14,215,140,47,32,16,25,19,215,7,105,214,136,7,214,214,127,214,214,64,70,33,72,40,213,0,112,7,212,213,92,15,213,3,172,30,87,212,58,1,198,177,47,15,1,212,211,18,4,211,18,211,71,57,205,211,22,108,211,64,29,22,190,8,10,50,67,206,45,15,211,210,51,3,7,21,210,208,54,3,208,5,208,12,11,4,84,78,207,207,58,17,85,206,18,65,73,7,161,205,0,205,5,10,205,198,11,98,95,3,4,85,17,16,169,45,204,23,204,78,14,26,8,12,21,43,9,204,204,18,38,133,203,203,22,168,203,103,203,42,32,43,73,7,70,201,10,201,89,187,30,24,201,96,201,201,200,189,52,12,200,57,8,114,200,56,108,199,24,199,52,154,0,21,8,185,198,8,147,24,198,169,197,73,197,186,80,165,81,114,18,196,196,15,196,158,148,57,196,194,60,180,194,194,194,9,25,192,192,192,64,192,18,71,22,29,39,11,49,191,173,29,29,190,164,14,28,190,120,56,88,189,124,189,189,189,30,5,23,148,4,1,187,187,9,94,22,158,186,183,9,22,91,113,186,116,185,38,21,155,31,2,59,28,185,185,185,185,8,16,43,184,182,75,77,1,29,100,17,1,22,183,2,9,50,36,79,183,70,17,65,24,182,155,22,182,22,182,78,26,8,182,180,19,77,138,40,108,31,39,11,1,50,59,171,75,84,179,30,72,14,4,179,179,179,179,3,67,30,10,46,17,168,177,172,106,177,177,128,11,177,176,0,172,176,35,176,21,119,95,158,23,7,10,176,43,29,22,173,173,173,173,14,156,156,173,21,11,172,11,173,172,147,172,12,58,172,39,18,172,42,172,172,21,37,171,50,171,131,78,8,21,171,171,63,10,51,170,134,7,170,170,170,81,169,8,169,7,72,169,16,164,17,7,74,21,169,2,19,14,43,166,8,12,166,7,154,165,21,164,28,164,163,15,5,4,74,38,38,163,163,163,42,162,162,23,151,161,162,161,140,135,71,161,22,124,159,138,159,159,159,158,72,158,154,45,22,157,15,157,157,2,156,122,134,156,155,155,3,56,52,155,155,17,155,7,78,155,35,89,11,94,154,149,16,115,154,129,152,9,126,151,44,24,151,50,60,7,1,15,8,85,1,4,23,149,149,50,149,149,141,148,109,148,25,33,148,43,109,59,64,25,3,1,22,2,147,147,147,3,145,145,145,7,145,28,144,19,144,144,17,63,143,18,21,12,11,143,57,5,3,4,142,142,142,96,5,19,142,4,141,116,138,33,141,141,30,141,99,113,14,10,4,140,84,22,138,138,57,35,117,46,134,138,137,137,24,137,56,11,136,137,32,57,26,135,135,71,35,124,135,18,39,134,119,36,2,134,134,134,134,134,133,133,129,133,15,19,133,36,11,3,133,29,128,10,131,121,131,5,130,72,128,130,29,35,56,2,78,64,129,129,116,129,129,73,88,129,52,129,39,128,128,73,42,10,128,128,128,25,17,7,127,127,85,127,127,107,126,5,7,22,19,124,101,121,16,92,63,123,73,23,122,122,32,53,28,117,39,19,50,21,28,120,29,120,43,120,4,119,119,117,107,5,116,116,116,39,116,116,59,116,64,92,8,18,31,115,99,43,114,52,37,114,113,113,7,113,9,113,0,113,100,84,112,112,93,29,23,112,7,112,17,110,2,0,60,107,110,46,3,35,109,32,17,45,108,3,25,4,91,107,107,24,106,106,106,106,106,106,31,106,106,106,106,106,3,8,1,105,42,2,105,63,7,103,103,3,4,30,101,101,86,38,4,24,23,63,99,10,99,99,78,85,98,98,53,32,54,2,15,98,74,96,63,5,96,16,96,2,73,43,95,95,95,2,31,94,94,0,94,93,3,28,29,10,92,92,92,92,46,91,18,44,74,10,4,91,32,89,22,31,46,89,89,89,7,89,9,9,24,89,19,89,9,81,67,81,88,88,88,4,88,5,16,19,87,46,87,32,78,70,87,87,87,87,38,42,86,1,86,12,3,21,30,86,31,35,18,72,72,86,57,64,85,85,51,52,64,31,85,2,85,11,85,15,85,77,64,84,1,21,84,3,84,84,84,24,82,17,40,64,75,5,82,28,81,23,81,81,81,81,8,14,81,60,43,81,81,81,80,80,70,79,24,80,79,50,79,16,79,79,79,79,54,79,1,10,4,74,10,78,78,50,11,11,1,17,78,23,16,11,78,10,21,5,73,64,78,78,50,46,77,77,11,73,31,77,77,77,8,77,77,50,65,77,77,77,9,4,8,70,75,4,75,5,1,26,75,75,40,75,75,75,75,75,2,10,74,74,4,74,36,74,74,74,28,74,74,0,74,57,23,73,1,73,73,73,73,2,63,35,8,23,15,72,72,1,21,72,72,64,71,71,40,71,71,21,1,9,71,71,25,71,16,71,33,14,71,16,64,66,71,66,9,50,29,1,70,70,22,70,70,70,70,68,68,5,26,19,9,51,25,64,67,22,8,36,53,21,67,67,7,66,66,8,66,66,66,66,66,66,66,65,65,3,65,25,65,65,16,65,65,65,65,5,65,65,3,65,64,64,4,64,64,9,64,64,28,64,51,64,64,23,64,2,64,64,17,64,64,64,35,63,63,63,50,63,59,1,10,63,63,7,63,11,31,7,63,57,11,63,3,61,61,61,36,26,61,61,44,61,61,61,9,61,61,61,60,60,60,14,19,60,60,1,60,32,46,2,60,60,7,60,60,35,58,43,59,5,3,44,3,59,59,14,59,57,59,7,59,51,58,58,58,9,58,58,21,57,57,1,57,57,22,57,8,57,57,57,8,57,57,36,56,40,56,28,26,56,56,53,2,33,54,54,54,3,54,9,53,53,53,53,53,53,53,53,53,53,53,53,31,53,53,53,53,53,53,29,35,52,52,52,52,52,52,52,10,52,40,52,52,8,51,4,51,23,51,51,51,51,1,51,51,39,51,51,8,51,3,50,50,50,50,50,50,50,31,50,50,50,50,50,45,3,29,49,49,49,49,4,3,17,49,49,49,49,47,47,1,47,3,33,11,47,47,4,46,46,46,44,43,46,46,46,46,25,43,46,46,46,45,35,45,19,45,45,45,22,14,45,44,44,15,10,44,5,44,44,44,44,5,44,8,44,8,43,3,9,17,21,43,43,43,43,35,43,43,4,43,43,23,43,35,38,17,42,42,4,22,42,40,2,40,40,40,16,2,12,40,40,19,5,40,40,9,40,39,39,39,39,35,38,39,39,17,38,38,2,38,7,38,38,7,38,1,2,17,37,29,3,31,3,37,37,31,37,37,1,37,37,12,37,18,36,36,36,11,36,1,36,36,31,29,3,10,7,36,23,35,35,35,35,29,35,35,35,35,26,33,9,19,28,33,33,1,33,33,33,33,33,8,2,19,33,33,33,33,32,32,32,32,18,21,22,24,32,31,31,3,31,31,31,24,31,17,31,31,31,7,30,30,10,30,30,30,30,18,30,30,30,30,5,29,30,17,30,8,17,29,29,29,22,29,29,29,29,29,29,26,9,29,29,28,28,0,28,28,28,28,2,28,28,21,26,26,9,26,7,26,26,26,2,25,21,25,25,25,25,25,25,25,8,25,7,25,25,25,25,12,24,24,24,24,24,24,24,24,24,2,24,24,24,24,24,23,23,9,23,23,23,23,23,2,23,23,22,11,22,22,22,22,22,22,22,22,21,21,21,4,21,21,21,21,21,21,4,21,19,19,19,19,19,19,19,11,8,19,8,8,17,19,18,18,18,18,18,18,18,18,18,18,18,18,17,4,16,18,18,17,17,9,17,1,17,17,17,17,17,17,17,8,4,16,16,16,3,16,15,15,9,15,10,4,15,15,15,15,15,9,15,14,14,14,14,14,14,2,10,14,14,14,5,12,12,12,12,9,11,11,11,3,11,11,11,11,11,11,11,11,10,10,10,10,10,10,7,10,10,10,1,10,9,9,9,8,9,8,8,8,1,7,7,7,7,7,7,5,5,5,5,5,4,4,4,4,4,4,4,3,3,3,3,3,3,3,3,3,2,2,2,2,2,1,1,1,1,0],\"y\":[35,18,18,5,6,20,27,15,118,86,7,1,3,76,2,18,46,3,3,1,81,52,13,10,4,22,1,8,4,6,1,17,2,3,1,2,7,60,4,28,1,18,4,21,2,2,4,1,224,2,6,4,6,4,12,4,1,4,3,7,5,1,5,12,2,2,1,248,5,169,13,16,1,6,13,50,41,2,19,3,1,2,9,4,3,41,16,11,8,20,1,13,1,128,2,12,20,1,18,15,6,8,17,1,1,8,1,7,1,7,27,15,1,49,17,23,8,8,10,10,22,16,1,2,3,13,3,8,10,2,20,1,1,7,2,2,11,19,7,30,20,31,8,2,2,7,2,1,4,8,1,4,21,2,1,10,13,7,31,2,6,2,10,55,5,17,4,6,6,8,6,7,23,3,89,6,14,11,4,1,7,66,1,2,9,31,5,1,63,3,3,2,1,2,5,1,5,12,2,9,1,10,6,2,39,13,7,8,1,4,1,1,7,17,2,2,8,26,8,5,1,5,1,23,4,5,9,15,7,7,11,54,52,12,1,4,31,6,16,8,17,13,4,3,17,2,29,2,8,1,8,15,7,21,2,30,24,11,118,27,4,10,11,7,31,27,13,16,39,28,21,22,17,2,11,5,4,11,23,31,6,3,4,4,2,2,8,5,6,9,2,13,2,1,5,12,20,3,6,2,2,12,13,7,13,2,16,5,20,2,2,10,7,29,75,11,23,2,4,14,7,2,3,7,43,3,2,33,26,2,11,4,6,11,2,3,16,1,16,6,2,6,52,2,3,8,24,10,4,8,30,8,5,14,4,4,12,1,7,38,19,1,4,4,11,2,4,7,16,5,27,10,9,11,7,1,22,10,2,13,2,7,22,7,5,3,1,8,6,7,10,4,7,15,3,19,5,5,5,2,13,4,55,10,5,3,2,27,10,19,6,4,4,15,15,5,36,2,1,11,15,2,35,5,17,3,4,4,10,41,16,16,6,1,13,2,5,1,7,8,12,14,11,9,3,8,16,1,1,6,62,9,13,1,4,43,27,28,26,10,2,27,28,33,4,11,9,5,9,13,9,1,39,18,22,5,29,15,14,4,10,3,24,21,1,12,3,10,6,4,3,26,10,5,3,5,11,10,40,14,4,24,5,18,3,7,1,2,7,14,3,6,1,35,14,3,2,8,1,4,13,4,14,2,3,3,3,2,1,16,6,7,8,1,2,17,16,8,9,14,9,5,2,3,12,12,29,11,7,23,2,20,4,29,3,2,13,25,4,1,4,2,1,8,2,5,4,2,1,2,4,1,5,31,27,4,6,16,5,5,1,1,2,4,12,10,6,4,4,5,2,2,10,5,9,3,10,2,1,6,10,4,8,1,1,9,9,6,11,7,1,5,2,9,3,5,22,12,18,15,20,10,20,14,3,5,11,1,3,14,14,6,1,6,1,21,2,3,21,4,8,10,6,15,17,19,8,8,2,1,13,2,27,14,1,10,12,7,5,2,1,1,26,14,7,3,4,11,6,8,2,2,3,3,6,29,5,9,14,6,1,1,3,1,1,22,7,4,3,11,6,8,19,8,1,2,6,11,15,5,12,18,3,3,2,10,14,11,6,5,1,8,19,3,1,20,9,2,4,3,2,34,3,5,13,12,6,1,2,2,1,3,14,5,15,9,1,4,2,12,4,18,2,1,2,18,4,11,11,1,25,4,45,3,18,6,7,18,7,2,5,8,5,3,14,10,5,4,14,18,9,2,3,4,9,4,8,11,3,5,2,1,22,16,5,6,12,3,3,2,9,5,2,3,1,1,4,1,4,3,7,3,4,5,7,3,21,1,27,4,3,1,6,19,2,2,2,1,16,9,14,11,2,9,16,3,6,17,11,29,5,8,7,12,19,9,8,3,12,4,6,8,10,7,14,5,7,12,6,1,3,43,3,2,3,1,2,2,34,6,27,6,4,31,9,19,3,5,2,1,8,9,2,4,2,22,24,20,7,1,6,10,3,12,43,5,7,1,10,7,1,5,1,6,4,6,14,3,2,6,8,2,9,8,1,1,5,2,77,2,5,12,8,6,9,6,4,8,1,10,7,1,11,9,13,6,21,3,3,1,3,1,5,6,7,9,1,14,2,4,6,1,4,1,2,4,2,1,5,9,1,12,15,6,5,13,3,5,10,10,5,2,43,4,6,4,11,6,2,3,1,7,5,4,16,10,1,14,3,26,1,9,10,14,2,9,5,2,16,2,3,2,5,6,3,10,6,1,2,3,5,3,3,4,5,2,1,2,1,2,21,8,6,7,2,1,4,2,6,5,9,6,8,15,10,11,15,1,2,2,1,7,4,9,5,12,10,2,3,1,6,9,5,13,7,4,8,51,1,5,1,4,6,5,5,6,4,12,1,3,3,4,2,1,6,1,1,8,6,2,3,8,53,3,2,13,4,7,5,4,1,11,4,10,8,6,1,2,13,6,12,7,6,16,10,4,1,19,15,2,3,2,4,6,12,2,6,8,4,3,12,2,1,1,5,5,1,4,7,11,6,10,1,1,2,14,3,7,1,11,14,20,4,6,5,3,10,4,5,7,5,17,3,6,4,13,8,6,8,12,1,2,10,8,4,15,6,1,15,3,5,1,1,14,9,1,2,2,3,2,1,3,3,3,1,2,2,35,7,6,3,2,1,11,4,6,5,8,10,3,2,5,10,2,3,7,1,1,7,1,2,2,2,14,1,24,11,10,1,10,6,2,14,2,5,4,2,17,1,5,12,3,5,3,1,8,4,14,7,9,1,2,1,3,3,3,3,1,9,1,6,1,4,5,6,3,4,8,4,8,1,5,4,1,1,1,2,5,4,6,11,7,25,2,1,5,5,9,2,5,1,3,10,1,9,5,3,4,2,1,3,1,46,2,2,3,6,4,5,2,1,3,5,5,4,41,7,1,2,2,5,2,5,7,6,7,3,5,4,1,2,8,7,4,12,5,3,11,9,3,13,5,1,4,8,4,6,2,1,3,16,9,7,5,5,28,12,6,9,2,17,2,4,3,2,6,1,1,1,6,14,8,1,11,4,4,4,4,18,13,2,10,1,7,2,2,3,1,11,6,22,4,1,1,9,4,4,18,3,1,2,7,3,6,5,1,3,6,1,8,3,2,8,3,6,2,12,7,1,4,1,5,1,4,13,6,3,3,5,5,2,9,10,3,4,2,3,3,3,1,6,7,2,14,4,2,10,5,22,1,4,1,4,8,1,3,4,3,2,2,7,3,14,5,5,3,5,2,1,1,9,11,5,2,2,1,1,4,9,32,8,1,2,1,1,4,15,1,6,17,3,2,11,5,1,4,3,8,2,6,1,6,1,7,22,4,6,2,1,1,3,1,7,2,1,4,1,1,14,7,2,6,1,3,5,7,2,1,4,10,2,10,3,10,4,2,11,4,8,1,1,2,1,1,5,4,2,3,7,6,5,3,2,1,5,4,3,7,1,4,1,7,5,4,4,4,8,1,6,10,5,1,5,7,2,3,5,3,1,2,5,2,4,7,1,1,6,6,1,2,4,4,3,5,11,3,1,5,1,10,5,12,13,29,2,8,2,2,5,3,8,8,1,2,13,1,3,2,5,11,4,4,5,2,8,1,2,3,1,25,6,3,7,8,2,4,3,2,1,9,1,7,11,3,4,4,8,6,2,3,3,7,1,2,4,2,6,3,4,6,1,1,1,1,4,4,4,4,3,2,4,12,2,7,1,1,5,2,9,2,4,3,6,2,11,4,1,11,2,1,1,6,7,15,4,7,8,3,2,2,5,8,3,2,1,1,1,1,3,1,1,2,3,2,5,2,10,4,19,5,5,2,4,7,1,3,1,2,2,9,1,2,2,2,2,2,3,3,11,5,11,3,6,9,6,5,1,10,3,2,9,2,15,6,2,7,9,17,1,1,1,2,2,29,4,3,3,1,3,3,4,4,12,1,6,5,1,9,4,2,9,1,3,2,2,6,1,2,5,5,1,17,1,4,3,3,5,5,16,2,3,6,2,4,2,1,1,4,5,7,2,5,2,1,5,6,3,4,1,1,2,1,9,18,4,1,2,16,1,3,3,1,7,2,5,2,3,2,1,2,2,6,2,3,18,1,6,10,3,5,4,7,7,1,1,3,3,1,1,3,4,5,7,1,4,1,3,1,2,4,8,2,3,1,10,3,4,3,1,7,1,9,5,2,7,8,1,19,3,11,1,10,3,4,7,3,11,4,3,2,2,12,8,1,3,9,1,4,1,5,12,10,6,2,1,6,1,4,8,1,7,2,1,2,3,3,1,2,5,2,4,5,6,1,3,6,11,2,5,8,1,2,4,3,5,2,5,1,2,10,1,3,23,7,36,2,7,4,1,3,7,1,2,1,3,1,7,3,1,11,1,7,2,4,5,1,2,3,4,1,2,2,1,2,2,5,2,2,14,3,3,12,1,1,1,7,3,15,3,4,5,1,1,1,1,6,12,6,4,14,9,1,2,13,1,23,3,2,3,1,4,20,1,3,7,4,1,1,3,7,3,1,4,2,1,8,1,9,2,2,1,5,8,1,5,4,1,16,4,8,9,7,1,1,3,4,2,1,1,5,2,1,5,1,5,2,1,1,4,1,3,5,5,5,1,1,1,6,12,2,2,4,1,6,1,4,2,1,8,1,5,1,2,7,2,2,1,3,1,5,3,1,4,1,17,3,4,3,2,5,5,3,3,1,1,2,1,7,3,1,6,1,6,9,1,1,1,5,15,5,8,2,4,1,7,2,8,2,2,3,3,4,1,2,1,5,4,1,3,1,1,15,2,4,2,2,2,2,3,3,7,2,7,18,2,1,3,8,3,1,4,13,4,13,4,8,2,1,9,4,2,5,2,3,2,2,2,3,1,5,1,4,4,2,1,4,1,2,3,12,8,13,2,6,2,1,2,1,2,1,1,9,10,2,4,3,1,1,10,6,35,2,1,1,3,1,8,2,7,1,5,1,4,3,3,2,4,1,1,4,2,6,5,1,1,9,1,4,4,7,2,4,4,1,2,2,2,2,4,1,5,3,1,11,1,2,5,5,5,1,7,1,2,1,3,4,5,6,4,4,5,4,1,2,4,3,1,2,4,4,2,6,1,3,2,12,1,5,1,2,1,3,3,2,3,3,3,1,6,4,2,1,1,1,7,1,6,2,3,2,5,4,8,8,1,12,2,2,4,2,2,2,4,2,8,3,4,2,2,2,2,8,5,15,5,6,5,1,7,4,1,2,26,2,1,1,6,6,1,3,2,8,3,2,8,7,4,1,2,10,2,4,8,7,2,6,2,3,2,5,3,5,7,2,5,2,6,4,2,1,1,4,12,2,4,3,1,1,3,4,4,1,3,6,1,1,2,4,3,1,5,5,6,1,1,1,4,1,7,1,2,3,2,2,6,8,2,6,6,5,6,3,8,3,1,5,7,1,1,3,1,3,1,3,3,1,6,7,9,2,1,1,5,1,2,2,1,6,3,3,2,8,3,1,3,12,1,2,2,3,8,1,1,5,1,2,1,1,5,10,8,1,4,1,2,2,2,1,6,1,1,3,2,3,3,4,5,2,1,1,3,1,4,2,1,1,1,4,3,5,3,1,3,2,14,6,3,2,2,2,1,3,3,5,4,8,1,1,4,5,7,2,1,2,3,1,4,2,6,1,6,1,2,1,2,5,3,2,1,2,6,4,18,1,1,2,1,3,1,5,3,4,2,3,2,1,3,1,5,5,2,4,1,6,1,4,4,5,5,4,3,1,6,3,1,3,5,1,1,6,1,1,4,6,3,4,3,1,23,3,7,2,1,2,4,1,8,2,5,2,2,2,2,2,2,3,4,18,1,2,2,4,2,7,1,3,2,2,1,4,8,1,7,3,6,3,3,3,2,2,2,2,19,1,1,4,3,4,6,1,1,3,11,1,7,1,6,7,3,2,4,1,1,3,7,2,1,3,4,7,2,2,1,3,1,5,13,1,3,3,3,2,7,2,3,4,6,2,3,1,3,1,2,3,2,10,5,7,3,7,1,1,2,3,2,1,1,4,5,1,5,2,3,3,3,4,4,2,1,2,1,5,2,2,6,1,4,1,1,1,2,3,3,1,2,6,2,1,6,2,1,4,1,2,2,19,3,4,2,1,7,2,4,1,5,1,3,1,2,2,3,5,13,3,1,1,4,1,4,2,2,1,1,2,3,2,1,1,3,2,1,1,1,2,1,2,4,2,9,3,2,2,1,3,2,5,1,4,7,6,1,2,3,3,1,2,1,1,1,7,9,4,2,5,7,1,1,16,3,4,2,1,2,4,3,2,4,1,2,1,2,5,2,3,4,2,3,1,1,1,1,9,4,2,1,2,3,3,5,5,2,3,5,3,1,12,5,4,2,5,1,2,7,3,4,1,2,5,1,3,1,7,5,7,5,1,2,2,2,3,2,4,2,9,12,2,5,2,4,5,1,4,3,2,4,1,1,1,1,6,5,9,4,4,2,2,1,2,2,1,1,3,14,1,1,11,2,1,9,1,4,2,2,2,5,3,2,1,2,3,5,1,1,1,1,8,3,2,1,4,7,3,4,1,1,3,1,3,3,1,15,2,1,5,1,1,4,7,1,2,1,2,4,2,5,1,1,3,3,2,1,4,2,1,1,1,3,1,8,1,10,4,1,6,2,3,3,3,5,1,4,2,2,3,1,3,2,1,6,2,1,5,1,3,1,2,2,9,2,12,3,3,1,1,1,10,2,1,5,2,3,1,1,3,2,3,1,4,2,1,3,1,1,1,1,2,1,3,3,4,1,2,1,1,5,1,5,2,1,1,1,7,3,7,1,2,4,1,7,3,1,3,2,2,2,1,2,3,2,4,2,3,4,3,1,3,3,1,2,3,6,2,2,6,6,5,2,3,1,1,2,1,1,2,1,2,1,2,4,1,2,2,3,3,5,6,5,3,3,1,1,1,4,1,1,1,11,1,2,1,3,1,1,4,2,1,4,5,7,2,1,3,4,18,6,1,2,3,2,14,3,1,2,1,2,2,2,1,1,3,1,2,2,2,7,5,1,2,3,1,1,4,3,2,4,2,1,1,1,2,1,3,2,3,1,5,2,3,1,1,5,2,2,1,7,5,2,2,6,5,1,1,1,2,2,1,1,2,1,4,3,1,3,6,2,1,2,2,4,1,3,1,9,1,2,2,1,2,3,4,6,5,2,1,1,2,1,1,2,2,1,2,1,5,1,1,5,3,6,1,1,1,2,3,3,1,1,3,1,2,2,1,3,3,7,4,1,2,2,5,2,4,1,3,4,1,1,2,3,3,2,2,5,2,2,4,1,5,1,4,1,6,1,1,1,2,2,1,1,1,2,1,1,7,1,3,2,5,2,2,1,2,5,1,3,3,1,1,1,2,1,4,1,4,1,2,2,1,1,2,3,2,1,4,1,4,1,4,5,3,2,1,4,5,2,2,3,4,2,1,3,3,2,2,1,1,3,1,1,1,1,1,1,2,1,1,1,1,1,6,5,10,1,3,6,1,2,8,1,1,3,34,3,1,1,2,2,2,3,3,2,1,4,1,1,2,2,1,1,2,2,2,3,7,1,2,1,2,5,1,2,2,5,2,2,1,1,1,6,4,1,1,3,1,1,5,6,4,2,1,1,1,1,2,1,2,4,2,4,8,1,9,1,2,2,5,1,1,1,3,1,6,4,4,1,5,1,3,2,2,2,1,1,1,8,1,10,2,6,1,4,1,2,2,3,1,1,1,1,3,3,1,6,1,2,5,3,3,1,2,4,4,2,2,1,2,2,1,1,3,2,4,2,1,9,1,5,1,2,1,2,2,2,2,4,1,5,1,1,1,2,1,4,2,2,3,5,1,3,1,3,1,1,1,1,4,3,1,4,2,1,1,1,1,1,2,2,3,1,1,3,1,3,1,1,1,1,2,1,3,2,5,2,3,1,1,2,5,4,5,5,1,4,3,5,1,3,2,5,3,2,1,1,2,3,1,1,2,2,3,1,1,1,5,1,1,3,2,1,1,1,3,2,4,2,1,4,1,5,7,3,1,1,3,1,1,1,1,1,8,4,2,1,2,1,2,1,1,1,2,1,1,5,1,2,2,1,4,1,1,1,1,3,2,3,2,2,4,1,1,11,6,1,1,2,1,1,2,1,1,2,11,4,1,1,5,1,3,1,2,7,1,2,2,2,2,2,3,2,2,3,1,1,3,1,1,1,1,1,1,4,3,5,4,2,4,2,1,2,2,2,2,3,1,1,4,1,1,4,1,1,1,1,2,1,1,1,1,2,1,3,1,1,3,1,1,1,1,3,1,1,5,1,1,1,4,1,1,4,1,1,3,1,2,1,1,4,1,6,1,1,2,1,1,1,3,2,1,1,2,1,2,2,4,1,1,6,1,3,3,8,1,11,5,1,10,1,1,1,2,3,1,1,2,1,2,1,4,1,1,1,1,1,1,10,2,1,1,4,1,2,2,7,1,1,2,1,1,6,2,2,1,2,6,2,3,1,1,4,5,2,1,5,1,2,1,1,1,2,1,1,3,1,1,5,1,1,4,1,2,1,1,1,4,1,1,3,1,2,1,4,4,1,1,2,7,2,1,2,1,9,1,4,1,1,1,1,1,1,1,1,1,1,1,1,2,1,1,1,1,1,1,2,3,1,1,1,1,1,1,1,4,1,2,1,1,3,1,3,1,2,1,1,1,1,5,1,1,2,1,1,5,1,6,1,1,1,1,1,1,1,2,1,1,1,1,1,2,2,2,2,1,1,1,2,4,2,1,1,1,1,1,1,4,2,2,3,4,1,1,3,1,1,1,3,2,2,1,1,1,2,2,1,1,1,1,2,1,2,1,1,1,3,2,1,1,1,2,2,1,8,1,1,1,1,3,1,10,1,2,1,2,2,2,3,1,1,1,1,3,3,1,4,1,1,2,1,3,2,4,1,1,3,2,1,1,5,1,1,1,3,3,2,1,1,2,2,1,1,2,1,1,1,1,1,2,2,1,1,2,1,1,2,1,2,1,1,2,1,2,2,2,2,2,4,2,8,1,1,2,1,1,3,1,2,2,1,2,1,1,1,2,1,2,1,1,2,2,3,2,2,2,4,1,1,1,1,2,1,1,1,2,2,1,2,2,2,1,1,3,2,2,1,1,1,2,2,2,2,1,1,1,1,1,1,1,2,2,2,3,1,1,1,3,1,1,1,2,1,2,1,1,1,4,1,1,3,1,1,1,1,4,1,1,1,1,2,2,1,2,1,2,3,1,1,1,3,1,1,1,1,1,1,2,4,1,1,1,1,3,1,1,1,1,2,1,1,2,1,1,2,1,2,1,1,1,2,1,2,1,1,1,1,1,1,1,2,1,2,1,1,1,1,3,1,1,1,1,1,1,1,1,1,3,1,1,1,2,1,1,1,3,1,1,1,1,1,3,1,1,1,2,1,1,2,1,1,1,1,1,1,1,1,6,1,2,1,2,1,1,2,1,1,1,1,1,2,1,1,4,2,1,2,2,2,1,1,1,1,1,1,1,1,1,1,1,1,1,8,2,2,1,2,1,1,2,1,3,1,1,1,1,1,1,1,3,2,3,1,1,2,2,1,1,2,1,2,2,1,1,1,1,1,2,1,1,1,1,1,2,1,2,2,1,1,1,2,1,1,1,1,2,1,2,1,3,1,1,1,1,1,1,1,1,1,1,1,1,1,2,4,2,1,1,3,1,1,1,1,4,1,1,1,1,2,1,1,1,1,1,1,1,1,1,1,1,1,1,1,1,1,1,1,1,1,1,1,1,1,1,1,1,3,1,2,1,1,1,1,1,1,1],\"z\":[5288.63,3079.1,7187.34,948.25,635.1,4596.51,5107.38,4627.62,59419.340000000004,7711.38,2005.63,489.6,598.83,50992.61,389.44,6416.39,88125.38,-141.48,711.86,79.6,27487.41,16945.71,2894.33,3465.67,832.88,14520.08,192.60000000000002,3054.87,1659.75,2995.72,243.28,4204.1,683.13,390.66,233.45,689.95,3190.55,62653.1,1475.02,7904.28,277.35,21086.3,541.1,3925.92,379.73,239.92000000000002,990.8400000000001,313.49,29072.1,423.04,1607.0600000000002,226.75000000000003,1049.37,2030.3300000000002,3817.08,811.02,161.0,800.24,2575.0,13375.87,493.67,115.65,1198.23,2888.75,363.6,379.83,487.75,132572.62,2158.37,40340.78,6229.48,2611.58,101.55,1764.3600000000001,7741.47,16389.74,5656.75,287.59,2781.5,243.69000000000003,357.95,538.8100000000001,2070.97,1388.81,357.77,25748.350000000002,4748.45,1407.29,452.63,7276.900000000001,311.81,2655.2200000000003,205.86,11713.85,180.85,2247.51,6703.3,102.78999999999999,8689.39,6423.6,1400.34,1053.94,4063.1,303.97,38.1,2628.93,208.97,1290.01,244.08,4912.41,8574.11,4690.31,350.06,18740.92,6745.36,5845.44,2423.07,958.9,3172.04,1414.99,4161.14,4389.81,106.2,1522.75,1567.48,4592.47,-95.93,1780.77,2000.86,340.93,6135.38,127.08,207.5,1064.11,318.05,363.65,3542.51,4788.77,1147.37,20272.43,1641.48,4640.77,984.91,576.26,471.7,2272.4,550.06,248.1,1251.84,247.66,353.19,907.1,33350.76,294.65,-11.8,1215.82,3991.94,3191.53,10736.11,294.12,962.39,-840.76,4012.56,54228.74,589.15,12433.34,702.25,744.9,2312.7,1906.09,644.65,1258.06,14634.640000000001,1011.9,10930.26,2084.9,2954.75,3787.09,425.14000000000004,-102.45,1400.88,113384.14,-1.25,621.23,1133.64,5585.49,848.48,50.550000000000004,36351.42,635.76,319.47,197.95000000000002,2002.4,217.9,1561.6100000000001,35.400000000000006,614.77,3471.91,52.2,4410.14,155.35,1906.07,909.96,490.86,1296.44,1603.72,1139.73,7330.8,-1192.2,1194.75,89.14,-2.55,1685.57,5361.02,721.32,276.73,3487.75,3876.4,3085.48,708.37,123.07,809.7,39.75,26932.34,717.45,11990.960000000001,1018.43,4786.99,1900.89,2494.46,2581.04,33366.25,52750.84,3868.7,230.25,1865.19,12288.22,1158.3,2295.37,3661.0699999999997,4241.63,2213.11,703.77,692.22,3744.65,545.48,51823.72,487.99,1228.32,427.8,775.07,2998.28,1841.18,27964.48,292.71999999999997,8628.55,6945.0199999999995,3329.7200000000003,57385.88,8727.61,691.73,1862.14,6752.14,665.59,7925.32,3717.82,2607.87,4236.34,15357.78,3770.6,4604.22,6500.6,5315.92,155.43,9114.94,534.47,1661.06,2087.88,6675.71,5595.77,2202.99,452.82,697.9,1118.81,734.94,114.1,1920.2,3095.04,3844.22,2299.67,154.82999999999998,4109.97,313.28000000000003,623.75,3724.77,5155.66,2941.05,1110.52,3160.0,214.65,299.6,6763.16,2633.85,1429.9,3669.92,263.55,3797.79,2012.17,4758.2,642.77,446.87,1634.53,2419.84,5713.28,33805.69,4196.01,5541.46,494.08,904.67,2622.57,1434.72,467.04,2817.03,1451.28,16219.22,1095.08,179.94000000000003,17078.45,5352.97,345.89000000000004,2019.77,1046.56,1311.79,1676.47,551.04,483.65000000000003,1708.8600000000001,56.25,2616.32,1384.68,290.40000000000003,939.32,19786.44,639.89,321.05,977.21,4604.31,680.3,701.33,889.9300000000001,7116.47,1773.92,380.57,5028.12,1096.67,444.46,2226.91,76.32000000000001,2827.93,9623.35,4435.79,252.8,971.76,627.13,2596.45,603.37,1272.61,1183.58,4711.21,495.36,9231.2,2483.04,2266.25,2816.97,2459.33,123.24,4531.34,2766.5,426.79,1446.95,799.48,2095.13,7521.17,1908.25,594.97,151.65,-7.95,1776.81,1990.1200000000001,1839.07,1960.72,732.16,1777.92,1083.63,1200.6200000000001,2242.25,2483.63,428.18,647.74,278.15,1872.28,664.54,187482.17,3802.81,1125.07,571.1999999999999,816.0,13677.59,3478.85,13110.02,1459.8600000000001,1195.94,456.26,9451.54,5145.12,574.0,10664.34,777.02,181.12,3541.92,3729.34,373.75,12396.46,1736.4,8910.61,864.86,1641.76,845.64,1661.33,20098.1,2771.87,3754.27,1119.31,230.39999999999998,3219.77,353.65,1438.85,87.5,4310.0,3899.1,2236.7400000000002,4200.97,1695.66,602.27,1178.56,2215.02,5583.62,112.6,289.35,487.35,256438.49,1540.42,1889.4,48.800000000000004,481.35,12432.28,4404.44,5684.61,9294.1,2865.64,401.9,7839.51,10454.05,5030.6,740.4,2633.0099999999998,1088.53,1928.72,2451.23,2590.46,3385.62,173.55,9803.96,2929.84,10097.37,2806.9,11895.57,7912.79,4393.61,684.4200000000001,2056.29,99.77000000000002,8257.04,6840.2300000000005,145.93,3967.78,559.51,1483.31,2380.64,990.23,781.36,15477.34,1491.24,422.13,555.89,4464.1,2741.08,2119.41,10510.0,5664.57,1007.35,1925.3600000000001,1253.3600000000001,2855.35,2338.6000000000004,1383.27,129.75,138.9,6989.63,3774.1,212.96,3755.38,-14.899999999999999,6180.49,3429.9700000000003,1333.68,346.6,1119.81,590.0,538.59,14197.45,729.27,2205.63,483.8,1255.0,423.72,346.75,382.06,201.60000000000002,11891.18,488.03,1044.78,2360.09,-295.09,250.15,5040.0,3362.71,2571.7400000000002,3278.36,2535.88,1841.03,893.66,-43.400000000000006,683.9,1552.01,9065.76,8234.8,5590.86,2628.98,13612.07,453.0,8221.09,2203.2,8025.0199999999995,194.18,263.75,1139.3500000000001,26763.34,748.94,363.53,3750.4,326.4,174.4,706.7,468.77000000000004,2357.6800000000003,663.65,316.25,372.09,265.76,1036.6200000000001,181.0,680.28,16173.67,6336.29,218.78,1719.72,2485.82,1861.11,2306.52,300.91999999999996,414.88,215.07999999999998,36.56,2584.4,2609.3,1284.08,995.6600000000001,603.71,1100.47,599.97,243.36,2716.6000000000004,319.1,937.92,1044.32,1545.14,277.40999999999997,-30.599999999999998,1682.3600000000001,2210.2599999999998,472.12,1468.1200000000001,249.86,-152.64000000000001,2171.32,3617.57,2508.89,2545.38,459.9,-7.5,1005.5,894.4100000000001,1343.34,441.59999999999997,981.65,3457.78,2664.2599999999998,3250.64,2763.41,8986.69,2385.0,5452.17,2201.05,841.0799999999999,1995.46,5423.15,458.92,534.85,1965.55,18793.41,1058.06,182.25,295.61,203.1,8568.24,147.20000000000002,935.0600000000001,2916.17,1153.62,1418.03,3450.2400000000002,1573.41,2380.08,3348.48,6854.51,2688.48,438.24,305.71,272.82,2963.19,309.04,10158.54,3198.25,173.7,7066.31,10464.85,2186.2,1483.56,375.35,147.09,283.28000000000003,6666.83,4678.3,991.85,310.48,859.71,21024.01,916.13,1342.68,804.49,343.2300000000001,341.28,407.5,1555.05,6216.07,1236.28,2275.58,4954.84,3084.17,122.7,169.47,598.2,135.39999999999998,179.1,7629.38,4301.22,1785.15,971.58,5818.7,70.02,3384.09,13309.039999999999,6083.04,418.92,254.1,2307.4500000000003,5820.16,3865.26,1957.32,2974.65,5150.2699999999995,543.05,630.84,2024.45,6612.18,3127.82,3026.08,3073.77,1382.02,250.04,2952.34,3947.87,711.79,145.0,6546.58,1875.1100000000001,602.09,372.5,423.89,228.2,18573.68,1197.42,1021.61,4221.37,7072.8,3906.27,102.0,178.46999999999997,308.26,365.27,616.79,2538.7200000000003,438.46,3622.95,1867.68,-35.400000000000006,765.19,275.64,7006.58,1065.77,3482.7400000000002,1317.62,-31.65,262.62,6147.4,522.38,5725.47,2085.65,479.35,4913.32,3545.69,50862.44,1266.97,5811.56,1281.56,1244.59,30300.82,3313.79,460.59,1421.43,2786.05,680.83,253.05,5893.32,3986.22,1515.73,847.61,4039.98,3741.98,1784.12,658.64,617.93,1158.2,2085.08,517.53,2504.86,3466.67,1548.07,1705.26,121.0,422.70000000000005,9537.92,3918.9,2735.37,459.83,3550.7000000000003,310.03,1030.14,847.41,688.04,733.4399999999999,885.47,603.69,306.84,74.4,1227.43,-227.44,1887.2,3866.33,984.12,447.22,987.86,2062.7000000000003,5178.96,811.45,7803.7699999999995,80.64,10360.04,595.4,897.4300000000001,-102.0,1242.34,3717.67,-24.05,358.63,384.40000000000003,271.05,3038.67,2140.07,1860.8600000000001,3989.57,514.15,1427.46,6568.72,855.02,3295.76,4022.46,5461.62,13946.130000000001,757.44,1485.1299999999999,1319.69,7092.06,6694.31,1485.54,2191.84,749.78,1535.77,2183.54,1765.76,3631.8900000000003,2319.68,1419.73,4911.14,1869.5,2291.08,2755.56,1524.4,351.3,816.51,5613.08,215.72,-17.45,253.04,76.55,448.65,602.51,5807.6900000000005,1423.29,6315.2300000000005,1517.08,417.06,65892.08,2539.46,4345.5,668.61,656.44,632.4,540.45,2595.0,901.1999999999999,457.91,1797.24,296.75,5613.43,2174.18,33462.81,1624.02,168.0,2273.32,10641.6,475.28000000000003,3578.8,6204.46,1651.03,2609.1,316.58,525.78,877.4300000000001,158.16,4328.46,190.55,1035.8,3104.95,2949.57,6814.24,471.51,411.6,3743.18,1936.84,365.85,3043.48,2507.56,193.64,-50.1,1824.23,1628.12,279489.02,604.51,921.1,3092.9700000000003,1377.92,1098.48,1352.91,6912.0,1336.1,2041.8500000000001,-19.9,2348.82,2692.85,216.76,4277.66,1849.11,17588.26,867.62,8600.73,1164.55,1247.5,1141.24,575.4,383.7,2129.96,3911.56,3515.68,1812.6200000000001,110.39999999999999,5842.95,379.95,932.85,1839.31,134.55,913.6800000000001,172.25,382.98,1982.81,1021.48,300.42,1555.32,2023.47,168.3,3979.04,1965.9,1539.18,2202.31,2327.13,843.05,1737.7,2686.34,3427.85,859.27,1030.4,31300.079999999998,2753.36,1209.1,195.73999999999998,7792.36,813.52,309.8,6748.8,119.3,1947.55,2246.81,1133.07,5064.01,3595.48,1048.85,5192.1,720.52,123725.45,-1126.0,1349.52,12650.08,5043.96,623.4,2361.9700000000003,1558.72,82.56,2094.88,779.5699999999999,1521.76,379.65,694.15,1611.59,814.86,3650.87,1041.83,236.02,865.6,2139.76,1623.63,922.12,1578.67,314.86,1647.26,2089.68,104.76,178.96,334.93,152.4,5083.06,4495.27,1793.17,1641.68,605.12,135.9,3281.63,765.55,1990.28,1644.99,3957.78,1088.2,11581.8,1568.39,747.22,1325.82,3085.96,157.09,255.9,483.26,114.0,2269.21,1106.53,1199.01,1515.9,4965.38,4154.64,240.22,884.14,73.5,2916.45,1272.11,3852.5,4206.27,1208.51,1496.68,4485.72,7677.71,332.41,1530.75,311.71,605.8000000000001,-71.46,1450.6,1524.07,2965.69,5305.83,2239.9500000000003,234.0,417.54,343.11,1582.6000000000001,355.11,153.9,569.5600000000001,110.95,252.42000000000002,2360.55,3344.64,154.70000000000002,437.7,4801.56,15802.14,1269.99,580.0500000000001,1911.89,21535.9,2067.13,1375.71,836.33,344.14,2462.79,1031.41,2187.31,1706.28,858.41,492.65000000000003,61.75,1745.57,3794.52,1460.3700000000001,641.55,6245.53,6102.26,1598.24,867.38,197.65,4896.66,3542.19,914.53,1055.35,1034.5,574.84,864.32,4455.73,196.15,400.86,1042.07,954.09,274.51,3409.66,386.53,155.17,226.37,1931.42,1486.9,250.0,1610.46,1922.1,2981.5,1329.66,5417.93,225.89999999999998,534.57,675.8,3652.25,325.05,3108.06,430.7,2571.02,4928.74,4061.24,537.0600000000001,912.0,929.95,330.03,2265.12,1119.49,1805.91,2021.82,1575.16,10183.82,859.35,1103.92,2881.02,6388.35,765.86,2780.66,2263.76,2644.46,165.0,610.52,3610.31,191.17000000000002,942.34,9797.92,5976.79,146.85,5288.83,802.85,838.27,201.16,248.42,4819.33,2538.75,440.0,920.1,280.55,2811.43,0.0,155.93,435.02,702.0,348.71000000000004,107.45,982.5699999999999,-32.0,7454.07,1230.14,8933.52,803.5600000000001,267.08,76.32000000000001,2422.64,747.76,1083.63,1264.84,5050.77,2803.69,292.0,289.99,404.58,5953.25,463.46000000000004,386.15,230.70000000000002,178.95000000000002,330.9,496.84000000000003,225.6,245.81,97.7,876.42,2528.67,135.75,11020.26,3320.2200000000003,2745.2799999999997,94.36,4863.88,2630.64,1065.3500000000001,50415.49,270.20000000000005,582.05,452.24,203.87,2768.98,153.0,2982.35,3960.63,483.25,981.51,1550.85,163.0,3212.16,1050.12,3102.42,1622.22,3947.7,265.85,344.0,155.0,1259.7,536.21,1140.35,190.31,200.10000000000002,2059.2,2661.24,1612.79,206.98,761.83,810.4499999999999,830.96,2614.32,1325.29,2156.45,702.79,1461.65,91.80000000000001,806.27,2207.4,215.78,483.86,585.0,399.99,2867.2,1201.06,3087.27,5756.89,970.25,4075.35,418.83,106.83000000000001,1289.15,4014.91,2116.19,97.63,999.72,99.5,557.57,9120.39,846.72,2166.38,1310.14,816.73,639.02,2003.85,302.58,1126.85,120.94999999999999,14305.66,656.6800000000001,652.8,572.451,5639.15,773.99,1801.14,271.24,157.02,406.08000000000004,1447.51,813.77,911.53,28658.88,848.59,452.84999999999997,278.74,187.15,2028.88,282.59999999999997,1219.4,1197.94,615.99,1043.34,705.12,1544.62,1562.22,1693.88,1384.85,1232.18,1161.27,1592.06,2486.2200000000003,1755.38,724.0400000000001,5580.6,1289.94,570.4,2323.5,1141.34,1308.48,1655.76,1769.7800000000002,771.17,780.38,1489.5,218.45,1140.93,3539.53,1881.7,1280.85,1484.63,590.3399999999999,9295.67,2456.53,2385.8,1330.45,806.41,6249.110000000001,523.11,554.65,213.03,348.6,1740.6,112.75,572.8100000000001,403.3,1881.36,2351.02,1922.28,494.64,2514.76,646.92,2861.55,598.76,246.0,6530.04,2195.58,161.04999999999998,2126.93,218.52,804.23,240.0,309.36,962.19,219.52,2124.9900000000002,1679.64,16989.52,1187.66,-21.85,178.22,13117.01,2612.86,556.75,7170.7,280.53999999999996,316.26000000000005,105.1,959.48,388.33,1827.8,1627.13,364.6,1396.99,1351.24,289.24,3408.48,1337.48,203.2,1452.8700000000001,319.8000000000001,1331.39,31.799999999999997,4199.85,1258.38,113.64,456.58,1063.0,854.95,154.41,383.34,3024.62,1016.14,709.71,362.95,535.97,1698.94,342.92,2298.2,2018.91,523.0,950.36,120.9,562.41,173.74,409.5,334.4,1601.8600000000001,1944.32,167.25,2385.48,381.7,312.23,2312.8,3723.87,26626.8,331.24,652.82,558.32,3106.62,1212.05,118.0,996.26,605.84,379.35,457.47,605.58,1205.9,306.6,6389.8,1903.13,2949.12,681.0799999999999,834.5,730.86,153.94,393.49,3605.08,1809.81,1456.79,1118.99,611.88,550.8000000000001,381.32,1268.7,2580.91,11216.75,2456.8,142.4,665.78,131.9,108.07,333.56,576.3,393.33000000000004,1119.93,4509.37,3536.82,322.96,1707.21,1215.46,155.05,1056.44,258.88,1583.2,375.13,799.82,148.21,1306.98,79.2,1032.58,4709.22,1262.75,287.02000000000004,109.8,133.35000000000002,118.95000000000002,1405.78,314.1,1976.12,897.62,84.3,1124.01,205.48,330.79,1983.5800000000002,5739.46,397.76,399.21,238.85,1058.6200000000001,2083.42,852.12,1106.4,302.7,1260.44,2666.61,324.14,2760.56,982.42,1781.12,3770.1199999999994,216.5,2920.04,575.63,2543.2400000000002,-4.5,530.15,197.1,-94.0,-3.75,1786.79,426.61,87.52999999999999,1703.41,1522.25,3228.84,426.81,710.29,298.41,436.18,2055.51,1258.06,1006.98,3626.81,321.05,1431.78,889.24,1432.26,1721.57,780.46,414.76,1498.51,1809.05,3.75,1612.13,1992.76,1159.52,821.1,1428.02,672.44,1021.58,642.81,657.25,1341.65,1784.71,94.35,1307.81,53.8,1366.38,1145.43,363.7,142.4,2466.86,2925.91,173.05,2209.85,6287.77,601.56,1390.5,1759.5,1545.41,1298.04,826.53,684.97,76.32000000000001,1853.1299999999999,1430.94,2265.38,5154.58,7272.75,306.55,5927.86,638.05,1250.3700000000001,601.98,272.38,5126.34,2303.75,152.65,348.1,2208.3,100.5,1624.21,299.75,3376.96,1311.6200000000001,6617.65,449.52,4708.86,332.64,2318.88,307.4,688.86,674.45,34.0,7490.17,614.01,331.0,1603.46,1667.97,289.36,618.09,845.55,1156.36,535.32,908.99,603.42,3017.3,3447.4,488.2,347.82,2650.73,1441.53,3135.98,1078.96,1313.66,320.69,988.91,560.47,381.2,653.13,270.6,629.6899999999999,908.46,1487.78,2181.21,53.5,113.44,220.1,574.02,354.09,1998.49,1340.7,648.41,1848.98,689.13,2709.12,1648.79,653.35,2635.79,622.88,94.0,1019.39,356.97999999999996,1412.06,385.1,501.56,3049.88,911.26,664.26,1421.59,1676.06,101.69999999999999,2461.85,1276.0,-30.19,224.91,2066.17,4582.64,10585.57,438.49,1125.0,3429.55,398.7,131.17,511.36,822.0600000000001,622.75,706.19,457.72,116.19999999999999,462.95,363.65,584.3199999999999,582.9,127.86,296.25,389.27,2651.46,1310.47,2140.63,377.6,2751.25,734.5699999999999,4073.28,1072.3600000000001,3085.4900000000002,461.19,1259.56,1774.62,741.26,84.65,189.9,636.51,195.55,1788.27,264.7,792.11,618.63,64.23,944.1,140.7,468.4,669.57,2702.2200000000003,768.08,1995.68,400.43,941.62,1115.43,1167.16,707.72,626.65,2140.2200000000003,212.3,947.4,3002.68,486.82000000000005,3315.71,306.71999999999997,570.13,979.72,4330.67,6841.24,109.95,176.5,154.99,578.9399999999999,241.06,8124.4,748.5,514.85,480.92,158.68,662.94,393.28000000000003,1423.21,102.0,7877.2,79.2,621.6800000000001,3324.09,133.25,1738.59,606.28,457.81,1058.67,204.5,681.19,232.14999999999998,291.05,781.3000000000001,559.12,414.7,1362.27,3974.37,162.3,3013.83,312.38,2369.16,1888.84,1744.76,1880.22,1143.27,3224.53,234.34000000000003,1002.54,647.4,110.38000000000001,668.14,724.76,374.0,207.50000000000003,259.39000000000004,1863.35,5022.26,416.64,1285.22,129.2,306.94,3029.87,1393.79,697.79,626.38,348.2,76.1,495.77,225.9,6838.34,4737.13,1092.77,166.04,231.86,3365.43,387.31,1230.93,981.18,222.99,1758.92,218.06,1163.23,584.06,674.69,207.79999999999998,96.8,233.23000000000002,126.25,946.36,411.53,323.69,1893.95,164.4,666.7,2744.48,815.32,600.07,673.26,2552.86,10380.43,136.76999999999998,217.2,258.83,709.38,180.60000000000002,315.6,2543.72,813.48,1096.32,1000.23,328.8,210.32000000000002,117.55,469.0,162.7,1110.34,1777.78,3598.26,149.64,387.68,197.0,3245.47,784.58,1905.45,134.16,325.1,10736.48,391.52,2111.08,2347.05,2791.59,2503.23,2005.06,305.1,9167.82,3312.25,3645.43,108.5,1908.25,684.41,1614.91,1368.18,1531.44,5594.78,420.29999999999995,473.02,597.09,982.07,2774.17,936.15,298.0,597.5,8117.42,380.5,999.7,122.53999999999999,1867.69,3873.3,3147.31,1284.06,388.52,223.95000000000002,600.52,660.0,2106.84,2749.89,333.08,1188.32,302.27,101.34,258.7,2372.86,176.6,268.58,245.94,499.41999999999996,288.42,544.3,2107.66,2582.51,121.17000000000002,612.0799999999999,2707.33,6654.26,1145.6,867.83,2466.4,108.21000000000001,471.57,1078.96,587.15,458.04,482.01,1026.42,296.88,334.23,2635.4900000000002,126.7,1121.59,11117.05,2761.4900000000002,16293.1,590.0,1967.25,615.39,140.54,536.99,1146.96,343.62,853.39,170.75,285.5,221.19,1407.73,1062.75,138.28,5303.97,-29.95,2201.64,254.73,275.4,902.22,1829.04,609.85,1313.55,948.96,439.03,1050.8899999999999,622.85,142.5,668.36,596.85,3683.13,518.28,7829.89,4734.26,1084.34,561.5699999999999,5505.79,71.4,62.85,333.74,1809.34,270.79,3167.64,417.87,1504.27,-1165.3,914.9300000000001,676.2,251.51999999999998,1017.68,2621.38,3021.77,4263.64,599.9,3371.13,3000.36,177.15,409.98,5669.65,183.6,8093.59,950.26,732.63,1117.13,152.55,233.81,4379.65,266.0,238.95000000000002,2456.98,826.52,141.41,234.24,719.81,4892.240000000001,841.64,118.75,1735.18,629.31,344.90000000000003,2053.7,211.5,1307.41,425.0,350.39,138.68,638.77,2043.93,172.9,1708.1200000000001,1054.67,320.62,7024.53,247.95999999999998,2350.0,1680.76,2606.53,267.18,113.5,538.73,975.23,204.41,300.52,922.1,677.69,584.5,158.95000000000002,1677.48,298.11,712.24,758.92,15.0,200.29,1503.5,114.56,740.95,1448.72,977.9300000000001,2144.53,517.55,215.05,200.16,912.74,2838.2,617.05,473.03000000000003,1797.78,237.07,3218.98,292.47,1108.65,692.19,25.5,3450.84,329.56,971.22,327.25,385.64,992.6800000000001,254.18,1517.88,207.79999999999998,2103.06,77.3,473.14,2515.84,396.87,2560.0,456.9,11341.1,711.41,813.0,942.26,384.52,1098.43,1123.8600000000001,646.3,886.63,775.85,251.21,178.96,154.95,1279.09,724.0,628.28,3093.86,380.39,1739.92,2842.57,335.32,40.5,409.57,2100.6,2504.13,737.81,5055.79,1000.39,1484.06,171.8,879.08,149.57999999999998,1340.1499999999999,336.13,425.19,204.0,633.66,2047.0,609.95,226.35,215.7,1352.3600000000001,1607.73,400.53999999999996,371.88,88.2,174.8,6657.36,286.79,588.13,674.52,553.36,388.25,511.35,631.9,881.07,1314.17,637.5,658.26,5367.8,408.36,277.07,653.38,1521.79,3665.62,283.71,313.77,2445.12,3153.89,2574.65,799.9,1744.02,993.18,56.4,4098.8,933.62,383.34,5815.49,597.48,908.03,913.19,264.65,437.96,2398.86,836.79,779.36,229.33,1631.15,1991.01,378.3,307.53,745.06,125.65,317.2,657.8,2092.32,2128.83,3214.81,1998.0,1770.34,294.4,58.49,1212.8400000000001,226.85,188.02,364.8,257.23,5450.96,10217.48,143.25,1211.08,507.05,85.0,417.95,4143.02,2836.69,4064.9900000000002,712.88,37.4,136.8,962.7,127.84,3456.7000000000003,584.07,3406.7200000000003,535.34,1789.55,183.4,1295.3,454.90000000000003,899.61,873.74,935.1,304.25,12.75,532.96,294.3,1592.18,3346.28,463.95,336.96,2487.02,594.0,579.77,2841.09,1880.4199999999998,631.57,657.9000000000001,1194.73,374.57,628.78,771.85,283.47,299.56,891.12,123.1,177.1,339.44,465.32,927.84,206.21,548.94,1426.31,1044.3799999999999,2631.7,72.9,3064.78,175.2,610.59,415.7,841.52,1502.35,728.56,1186.28,632.97,1039.58,2262.62,455.67,228.84,699.08,650.43,468.95,102.12,212.54,746.83,671.77,379.51,1383.49,487.51,1474.06,357.20000000000005,3167.73,266.4,510.54,310.05,463.75,129.45,455.88,980.98,169.55,405.62,499.68,1799.33,104.9,1353.83,763.64,682.41,110.97,476.49,239.49,1357.6,112.55000000000001,2117.02,2242.01,267.16,511.32,4595.81,981.86,3982.72,1661.44,185.65,1121.21,1231.5,229.71,289.90999999999997,377.2,797.71,618.27,559.97,552.0,916.12,774.9000000000001,869.46,671.96,166.85,416.86,932.97,3075.04,1658.3,10327.11,688.6,3518.03,1140.21,136.04,1303.63,3189.81,246.04,88.94999999999999,7076.28,429.87,313.8,112.75,964.6800000000001,882.24,350.75,-8.15,429.6,1387.99,686.67,291.41,2618.23,1740.63,2404.17,185.04999999999998,922.39,2148.47,98.8,1037.59,1698.35,1469.45,608.65,3506.54,1303.9099999999999,1179.89,885.19,530.08,1132.13,1800.07,663.5,1266.08,1740.48,1345.62,2068.15,2445.91,1260.33,116.00999999999999,579.0,591.75,1917.78,127.15,801.49,3246.091,30.599999999999998,1143.6,1389.41,574.26,3651.97,486.1,2235.3,1051.95,168.4,232.48000000000002,716.0,819.2900000000001,1037.42,314.45,1624.05,1466.8700000000001,1071.24,175.27,229.59,338.95,1169.38,406.48,3090.85,151.85,1506.1200000000001,255.12,252.24,408.57,869.35,1504.56,814.0,1000.27,2183.04,1670.22,1767.53,291.0,2766.18,1019.76,150.3,1041.68,2878.15,101.19,409.40000000000003,611.09,383.95,1122.53,113.5,700.63,599.9,157.2,1429.64,2757.07,2939.64,596.1,454.24,267.03,806.9000000000001,307.46,120.99000000000001,264.62,73.5,2986.15,1240.2,1625.97,529.41,4282.88,797.96,1079.4,528.33,5116.13,139.35,503.59999999999997,163.20000000000002,734.13,869.6800000000001,225.15,180.1,623.93,184.64,275.28,205.7,413.46,1291.75,1894.11,2042.15,358.38,1412.32,160.54000000000002,311.26,297.78000000000003,216.29999999999998,201.19,2714.27,524.52,203.95,810.5,93.35,675.27,731.9,581.8299999999999,1124.59,890.34,259.45,160.95,1314.45,112.32,806.57,308.32000000000005,112.25,440.0,331.18,1320.56,1233.3600000000001,1930.15,329.6,134.8,259.43,288.6,4660.01,1047.8400000000001,682.9100000000001,542.03,160.35000000000002,430.94,534.24,1351.09,740.79,680.1800000000001,557.3,1419.54,75.66,203.86999999999998,450.84,5203.51,1066.57,336.4,179.0,3.552713678800501e-15,418.09999999999997,134.7,512.12,252.06,2102.09,208.36,888.86,185.39999999999998,605.63,265.2,188.60999999999999,1070.71,1015.29,843.48,67.95,124.74,2043.7199999999998,663.63,2058.09,76.32000000000001,404.40000000000003,714.42,59.9,2191.22,93.75,3148.2,1796.48,666.33,1272.48,199.15,623.16,90.12,980.31,199.85000000000002,2874.72,722.74,867.11,1014.9,354.8,1550.13,141.85999999999999,2293.62,1701.94,983.23,1214.72,834.57,582.6,90.6,4867.99,149.05,239.4,1269.84,3640.67,111.15,459.4,3276.4000000000005,109.13000000000001,92.72,1201.96,1491.7,658.88,2232.4900000000002,895.13,2044.3700000000001,2556.68,270.40000000000003,2283.63,413.85,370.79999999999995,437.6,1447.14,311.3,3868.2,1038.46,2114.33,1010.6,977.77,376.64,252.49,62.0,833.78,380.02,3957.0,4670.08,348.15000000000003,715.4999999999999,604.64,1417.29,101.17000000000007,756.64,738.6,498.95,813.11,592.88,334.54,1090.03,3717.35,101.4,1155.54,1331.57,1033.31,9861.38,463.05,485.88,818.8199999999999,654.6,633.71,693.32,4227.7,582.59,1351.45,1649.3600000000001,967.45,582.1,607.71,519.68,112.8,383.68,2173.53,1028.56,1531.51,63.440000000000005,853.72,1919.31,679.83,380.64,1554.48,463.38,369.2,249.74,1737.8200000000002,152.06,357.98,635.41,1108.38,861.89,2199.31,1145.84,389.01,2.8999999999941792,157.9,1052.55,3317.97,1384.25,685.9300000000001,698.58,529.62,911.94,1625.05,640.83,1100.9,1352.75,1843.06,214.06,1180.4,171.45,478.78,155.9,307.76,1339.41,761.74,1692.98,1352.04,1383.7,1604.44,2421.47,349.55,89.0,186.23,189.49,397.29,59.8,131.7,1367.6100000000001,363.4,600.07,1364.7,172.29000000000002,1837.28,566.58,208.63,4149.28,454.33000000000004,190.25,257.7,382.14,306.13,1641.2,52.0,1316.07,1959.38,243.22,1130.57,180.94,143.1,860.12,506.8,2662.06,626.99,326.4,638.0600000000001,997.48,1339.45,339.59999999999997,1518.43,122.14,327.97,721.9599999999999,135.93,504.2,315.06,3848.55,617.99,151.23000000000002,594.9,179.0,3781.7400000000002,1063.46,974.54,188.89000000000001,1029.26,144.8,545.0,271.85,160.71,810.5699999999999,416.79,582.47,3864.44,1553.66,134.04,3096.0,537.74,559.87,554.22,626.77,2218.02,207.50000000000003,582.73,662.59,321.43,222.05,247.14000000000001,207.15,463.66,68.84,139.35,457.34,228.8,272.07,324.92,304.47,1979.3,184.19,2848.23,650.41,883.15,272.04,346.98,379.4,406.76,681.9100000000001,119.93,15.0,3408.06,2464.89,455.25,293.45,372.9,356.85,232.21,465.68,319.02,349.1,39.12,1519.08,3794.4900000000002,1039.3,554.38,1028.0,1388.37,110.55000000000001,59.5,4684.24,234.6,4067.29,473.81,124.57,412.58,612.43,598.2,716.35,783.02,394.14,353.86,103.25,775.1800000000001,2720.56,-5.329070518200751e-15,519.44,582.9,93.66,1842.56,257.68,298.89,198.57,307.72,1599.97,784.46,778.0,320.58000000000004,270.03000000000003,1080.76,680.02,2024.95,1056.54,297.95,585.79,1785.16,3280.75,213.70000000000002,3580.13,1487.8,816.88,740.78,878.2,161.38,869.67,3204.1600000000003,414.04,781.28,72.0,70.44,1717.36,149.89000000000001,780.43,506.19,11056.93,1346.38,1620.93,649.5,80.82,213.27,1312.06,562.9,544.18,1135.04,936.16,408.90000000000003,1546.91,1201.51,1070.65,2109.07,361.28,322.41,554.46,236.26000000000002,761.38,465.55,379.65,440.2,1109.53,110.75,58.08,189.47,3543.26,654.92,4122.28,1621.73,540.98,251.70000000000002,484.36,151.42,303.93,641.13,302.46000000000004,76.5,428.68,3886.67,683.17,455.3,1926.8799999999999,312.55,810.6000000000001,1674.46,46.95,1910.01,712.29,572.2,174.65,732.0699999999999,306.55,144.91000000000003,305.75,260.17,254.11,805.62,191.94,177.34,137.9,178.51999999999998,1107.38,351.67,197.88,192.85,507.29,1304.76,664.03,669.11,134.1,880.85,2940.04,336.03000000000003,974.04,345.66,170.04,2175.37,509.58,532.94,5059.32,500.0,113.12,1534.73,6748.4,492.36,526.67,290.36,765.34,409.9,221.27,5005.46,73.78,190.53,1689.46,6977.04,1537.95,135.75000000000003,140.35,360.01,237.61,114.56,180.35,850.29,142.5,1301.44,330.11,2220.84,446.18,137.45,915.3,365.29,834.99,733.89,1226.88,939.02,158.85,2291.19,238.85,411.41,1047.68,131.45000000000002,2273.1800000000003,352.69,95.19999999999999,2686.42,216.20999999999998,163.29999999999998,2588.12,339.3,1692.27,51.0,508.8,460.64,1797.57,1080.6200000000001,1511.3,1247.69,1445.0,32.65,110.92,311.65,1560.53,1760.96,127.1,722.61,291.54,86.12,203.85999999999999,345.29999999999995,207.73999999999998,752.6,459.24,405.38,992.71,260.25,99.14,644.3,384.8,155.8,156.91,289.96000000000004,801.51,101.10000000000001,431.82,95.85,512.02,160.42000000000002,500.42,214.79999999999998,642.02,766.84,197.22,133.62,529.73,39.239999999999995,361.11,781.03,1295.39,244.1,3497.14,1837.92,187.29,827.83,308.58000000000004,2362.84,1122.41,63.75,1415.29,1689.18,380.35,826.88,318.05,673.1,363.88,1610.15,167.5,1740.0,236.77999999999997,511.88,1009.5500000000001,232.6,358.61,271.40000000000003,165.07,603.71,2150.85,1133.25,1168.06,250.26000000000002,1826.21,904.33,967.22,598.57,1391.61,179.17,610.01,218.55,311.92,305.02,559.7,1710.39,530.18,309.4,841.1999999999999,492.2,98.45,329.68,608.7900000000001,1165.65,1174.35,1020.74,2313.14,1952.45,866.31,310.64,358.56000000000006,1246.32,187.92000000000002,2479.16,80.7,783.9,417.38,1811.47,152.68,646.68,-4287.63,1501.38,-1592.49,-611.86,839.14,467.66,90.0,791.33,642.17,850.63,223.65,-112.35,412.05,2101.39,2758.25,1843.75,599.68,325.7,-451.42,318.76,3047.63,1314.68,102.83,280.52,120.0,1000.16,145.79,330.45,283.12,196.0,3166.4,301.03,636.14,612.06,2906.85,4478.53,220.10000000000002,149.48,777.53,979.26,361.21999999999997,147.12,995.6500000000001,798.74,485.19,1398.96,861.74,197.9,449.73,194.9,281.85,87.4,1562.12,707.04,187.02,2007.3999999999999,747.031,337.34,572.56,60.7,259.01,1803.76,2409.9,462.65999999999997,254.82,2298.93,1353.41,0.0,645.65,616.65,987.1,707.09,425.32,244.8,182.96,546.43,337.44,115.8,343.82,375.0,258.4,348.73,520.8000000000001,343.45,1267.4099999999999,1053.49,241.62,372.21999999999997,59.5,464.57,765.3199999999999,627.15,156.57999999999998,3755.65,304.56,290.82,496.38,1089.18,325.96000000000004,1524.46,1617.63,1018.71,4392.42,689.9,1487.6,919.61,391.76,477.91,4008.62,1117.9,1586.81,122.47,924.6,111.35,1539.69,275.88,168.0,1674.69,1842.14,2420.84,114.77,208.65,594.0,1247.61,139.5,1227.3,300.36,168.31,648.8299999999999,62.63999999999999,317.62,212.82,205.1,663.81,176.6,2057.99,870.09,375.1,498.42,327.7,1521.87,193.64,1158.27,175.2,789.89,1136.77,356.0,674.7,1511.95,350.15999999999997,566.16,280.9,519.61,1382.74,123.8,1299.23,1093.68,318.65,1175.88,252.1,504.5,15.0,1803.96,138.32,156.75,193.75,632.04,247.15,213.85,411.7,508.4599999999999,251.87,234.17,1706.88,1001.8100000000001,905.5,551.54,877.4399999999999,1379.75,260.68,547.0600000000001,185.9,165.0,4834.2,85.13000000000001,650.51,531.35,312.14,4873.8099999999995,453.01,266.39,138.98,337.49,371.56,862.81,313.62,64.65,586.79,288.18,668.58,128.5,917.07,503.76,139.26,1313.1,135.95,242.21,1432.0,1542.14,2056.89,620.04,539.02,52.0,1042.19,1821.52,285.89,167.61,1770.56,1446.09,179.33999999999997,241.09,1937.25,1013.26,439.43,589.15,213.55,549.07,727.27,335.52,156.51,120.0,17.0,51.559999999999995,628.38,746.36,284.55,725.6400000000001,353.86,138.14,163.8,1355.51,2597.52,1648.95,231.10000000000002,539.0,879.0300000000001,748.87,263.21000000000004,3286.9100000000003,162.29,178.7,721.95,57120.909999999996,594.16,125.92,230.53,285.74,1079.6599999999999,239.76,665.86,537.83,590.9300000000001,509.01,712.8000000000001,305.28000000000003,207.35999999999999,1013.04,385.87,89.06,115.31,860.41,383.03,319.61,455.42,1406.57,363.79,534.24,316.62,374.7,1747.66,135.18,468.26,599.0,1282.45,417.73,324.24,205.3,497.61,82.75,2427.32,2128.23,303.93,151.74,1316.66,64.0,353.48,1249.34,2863.08,362.9,264.44,416.90000000000003,91.32000000000001,443.0,121.74000000000001,1412.94,296.64,957.66,552.5699999999999,482.47,1127.71,1510.06,337.74,652.07,252.73000000000002,276.42,276.56,2524.02,1070.48,378.64,103.3,1904.05,305.62,2255.51,2593.94,703.47,771.91,746.92,299.34000000000003,451.75,772.9,1269.1,542.77,309.05,620.4,1304.04,3411.69,303.15999999999997,2295.31,642.8,882.58,266.97,876.29,96.6,398.84,1253.22,918.98,364.5,563.15,117.35000000000001,4314.72,996.52,347.3,621.66,1240.0,112.07999999999998,417.23,2515.68,1107.46,578.45,228.96,703.36,945.58,648.6899999999999,346.7,567.36,117.24,721.94,602.97,494.25,659.4399999999999,2083.42,1992.1100000000001,1009.4499999999999,607.45,655.75,2333.42,334.53,909.23,2033.1,215.48,508.8,200.72,0.0,816.1,984.57,739.5,410.48,787.85,419.58000000000004,371.01,412.01000000000005,0.0,1708.24,501.12,874.71,896.0,303.26,798.35,115.46000000000001,814.72,675.3,1174.58,345.0,1043.1,4366.78,52.83,1131.56,541.46,358.0,666.9399999999999,712.5,75.75,228.06,-2.95,2020.52,242.35,1631.77,141.27,454.01,768.24,549.84,769.2,507.84,910.72,964.83,322.8,194.37,311.69,447.68,1862.0,815.77,763.28,2131.9,313.26,764.34,159.0,48.480000000000004,1163.45,1152.06,650.4300000000001,3563.11,1012.9,432.2,1370.8700000000001,1339.63,2919.81,118.80000000000001,2740.43,293.1,1382.8400000000001,410.72,126.30000000000001,777.2,301.71999999999997,110.80000000000001,1141.5,34.8,259.17,330.88,506.51,1048.67,773.03,344.33,505.18,3693.81,795.12,114.18,903.9,583.75,454.10999999999996,1098.78,363.65,1298.66,303.75,1822.97,294.29,769.29,781.78,272.22,2463.17,3448.29,364.90000000000003,329.34,181.09,1111.79,420.5,400.68100000000004,349.7,318.0,193.39000000000001,1603.87,1006.8,240.27,544.08,694.05,348.99,517.36,277.8,1033.34,104.35,659.4599999999999,316.68,74.9,476.58,145.67000000000002,643.59,484.82,152.20000000000002,578.66,512.31,173.9,869.87,305.54,758.29,395.8,761.3299999999999,423.36,80.2,644.24,158.04,2062.06,1682.08,1372.8,248.61,513.2,364.14,518.42,957.97,541.53,100.8,224.14,230.22,3540.1,896.66,243.56,743.53,1727.17,216.85,1166.92,451.44,659.4100000000001,1714.6,238.25,364.72,274.7,0.0,667.65,297.07,1245.96,173.16,621.75,378.59,199.8,74.39999999999999,485.24,341.36,310.62,443.05,618.59,213.5,270.8,605.06,380.55,1026.94,296.71,1047.43,826.96,351.45,1071.03,363.9,700.86,778.5,476.96,1140.27,426.63,338.71000000000004,2089.85,324.8,432.0,565.58,890.85,452.89,373.94,449.12,138.03,111.68,135.31,406.53,108.38,728.16,140.34,331.0,65.4,91.85,851.01,354.15,332.3,90.6,369.34000000000003,608.1,133.06,92.46,725.07,97.97,312.98,391.98,769.61,282.45,508.58000000000004,1328.55,428.89,219.14,556.95,295.93,2601.55,393.74,287.4,555.04,174.37,1131.28,145.35,176.97,486.71999999999997,315.06,496.44,233.76,570.46,0.0,146.87,600.39,363.34000000000003,340.84,431.26,982.3800000000001,635.04,122.7,427.6,2050.08,256.38,911.15,347.0,2162.68,221.06,6100.74,187.6900000000001,910.0,2154.68,302.36,292.32,152.94,195.15,948.05,360.16,557.62,570.96,167.67000000000002,324.24,117.88,780.58,193.14,1780.59,169.79,499.32,104.82,215.83,1465.2,759.17,202.65,206.82999999999998,1260.86,384.06,714.96,144.0,3119.44,388.28,200.14,389.28,437.23,181.09,3563.85,3.552713678800501e-15,657.3,892.47,511.12,2740.3,1887.96,593.61,81.44,397.12,606.13,1294.14,225.85,73.2,4106.82,172.25,704.25,96.12,153.12,223.92000000000002,168.24,674.68,620.13,403.70000000000005,355.56,187.82999999999998,2879.7000000000003,1002.3100000000001,640.5,775.46,279.94,1056.94,171.59,300.85,243.84,1045.74,390.07,216.17,1311.3799999999999,161.0,1441.42,262.2,899.51,1026.99,81.57,20.8,5.684341886080802e-14,389.86,409.1,1281.53,950.9300000000001,427.07,3986.7400000000002,362.06,3439.41,723.38,119.62,165.04999999999998,1077.74,342.63,546.81,351.13,151.83,384.08,223.36,173.97,417.59999999999997,760.59,204.24,131.94,161.94,109.36000000000001,197.13,954.9,277.05,235.68,223.36,281.42,352.7,917.34,396.97,208.75,125.79,2381.04,1193.32,719.78,216.39,202.68,1004.72,307.78,342.45,124.88,148.86,337.04,112.46000000000001,110.8,38.45,1250.76,341.7,298.4,192.72,415.82000000000005,502.09,1256.19,157.7,1842.73,1035.45,443.6,1393.06,430.5,749.1,331.95,56.160000000000004,823.97,214.32,321.92,311.16,157.05,259.35,117.47,274.15000000000003,183.44,409.7,463.8,240.55,155.37,1346.97,690.54,616.26,-134.8,154.88,413.59000000000003,657.23,490.52,211.88,2531.58,167.42000000000002,249.72,1483.14,905.04,248.61,110.21000000000001,939.21,388.58,255.89999999999998,731.5,62.43,250.55,0.0,498.74,160.57,422.58,290.16,537.71,415.82,130.73999999999998,492.84,1635.6599999999999,367.69,656.63,470.76,189.4,121.18,401.40000000000003,659.68,196.79000000000002,664.85,229.64000000000001,326.24,537.48,765.62,522.91,1314.73,221.97,267.13,210.35,449.45,430.15000000000003,575.41,2756.82,98.0,955.24,306.45,399.19,1270.88,992.5,323.36,239.41,379.45,389.64,193.44,1116.57,645.96,236.09,874.59,256.4,225.77,328.4,183.7,730.4,270.85999999999996,802.53,169.48000000000002,219.39000000000001,220.7,490.22,338.8,244.79999999999998,1662.3,542.73,114.11,149.31,1352.0,1479.22,302.1,507.66,316.88,90.30000000000001,632.0,396.33,215.08,1418.26,678.01,197.71,427.93,243.94,301.32,94.2,437.82,656.25,214.89999999999998,1054.73,151.29999999999998,108.97999999999999,558.96,325.91,497.56,460.40000000000003,165.75,3192.54,43.5,347.75,232.20999999999998,494.44,429.84000000000003,547.7,1839.3,609.19,1520.1200000000001,940.6700000000001,113.48000000000002,394.7,114.39,176.68,640.76,754.64,178.26,388.79,364.21999999999997,365.76,151.05,147.35,436.06,887.65,524.14,326.75,281.62,208.46,494.72999999999996,355.7,613.95,1083.71,335.13,378.2,1104.23,308.94,668.11,328.15,111.97999999999999,315.71999999999997,190.88,194.88,71.66,2949.75,589.7,125.58,1463.04,784.11,333.48,210.31,230.51,961.49,367.93,193.42,671.69,134.46,152.2,676.99,396.48,637.89,148.44,35.400000000000006,377.01,6207.67,712.78,354.09000000000003,45.599999999999994,527.0500000000001,396.92,139.54,852.15,430.9,223.88,180.48,603.75,920.05,114.23,777.6,428.89,589.4399999999999,537.0,2288.13,481.75,71.0,329.25,772.84,1764.72,188.14,102.44999999999999,270.9,349.83000000000004,112.4,147.59,114.0,101.69999999999999,125.80000000000001,168.12,76.8,163.62,1873.2,20.8,1.7763568394002505e-15,429.84,2007.44,1138.0,1013.01,439.65999999999997,91.68,757.46,106.1,126.14,288.14,355.53,266.76,373.24,398.27,689.1,363.95,110.38,197.64,139.10000000000002,1215.6200000000001,473.65000000000003,184.26,191.04,413.75,497.43,166.42,491.86,319.82,107.95,116.00999999999999,922.53,228.91,679.4399999999999,164.34,626.0699999999999,155.24,1025.44,139.56,314.11,262.68,114.14,106.56,98.42,703.37,320.72,161.64,901.21,394.38,1898.52,323.04,289.82,484.38,742.9300000000001,1261.78,346.12,135.86,308.48,205.25,440.0,718.08,195.25,160.19,213.78,1843.0,598.73,382.8,279.77,388.14,380.46999999999997,291.88,408.8,202.11,351.11,184.4,223.85000000000002,405.71,256.32,350.64,171.19,444.68,30.0,314.69,91.8,871.54,696.41,634.95,161.2,209.49,149.29,133.4,739.1999999999999,110.46,177.31,1158.77,460.89,422.88,153.92,178.92,197.63,446.94000000000005,214.14,166.08,219.0,255.4,107.6,225.36,206.05,167.62,158.03,652.74,361.25,118.98,168.62,265.93,40.949999999999996,307.09,327.3,43.2,1757.55,686.05,430.48,186.01,612.01,163.07,297.0,97.5,178.26,216.9,8393.22,716.57,185.46,340.11,971.74,309.65,75.0,292.34,161.67000000000002,440.78,322.08,199.48000000000002,131.78,320.46,164.23,95.34,243.55,977.52,547.07,428.57,138.6,604.75,525.24,370.47999999999996,122.64,220.62,574.42,316.5,77.4,272.44,271.2,415.25,282.19,49.8,93.78,1042.55,738.96,35.400000000000006,318.17,261.11,125.22,360.93,191.32,421.52,137.0,350.9,100.9,0.0,697.04,251.24,336.17,190.19,442.85,1237.8500000000001,507.08,114.34,361.62,477.3,245.1,213.3,404.66,1201.49,546.04,127.86,114.60000000000001,279.05,247.32,336.40000000000003,301.29,213.96,246.3,182.77,643.6300000000001,300.83,218.47,220.85,1093.65,133.5,170.16,329.85,160.18,303.09,366.23,353.27,164.68,80.8,1.0658141036401503e-14,77.50000000000001,144.0,174.37,538.46,204.0,104.0,486.22,635.6800000000001,389.84,593.75,126.12,248.08,120.03,90.04,348.8,89.94,168.9,199.29,680.99,41.989999999999995,312.62,336.43,244.41,172.06,124.2,314.44,168.63,12393.7,3861.0,181.67,161.03,469.48,196.89,343.5,360.0,227.39,848.55],\"type\":\"scatter3d\"}],                        {\"template\":{\"data\":{\"bar\":[{\"error_x\":{\"color\":\"#2a3f5f\"},\"error_y\":{\"color\":\"#2a3f5f\"},\"marker\":{\"line\":{\"color\":\"#E5ECF6\",\"width\":0.5},\"pattern\":{\"fillmode\":\"overlay\",\"size\":10,\"solidity\":0.2}},\"type\":\"bar\"}],\"barpolar\":[{\"marker\":{\"line\":{\"color\":\"#E5ECF6\",\"width\":0.5},\"pattern\":{\"fillmode\":\"overlay\",\"size\":10,\"solidity\":0.2}},\"type\":\"barpolar\"}],\"carpet\":[{\"aaxis\":{\"endlinecolor\":\"#2a3f5f\",\"gridcolor\":\"white\",\"linecolor\":\"white\",\"minorgridcolor\":\"white\",\"startlinecolor\":\"#2a3f5f\"},\"baxis\":{\"endlinecolor\":\"#2a3f5f\",\"gridcolor\":\"white\",\"linecolor\":\"white\",\"minorgridcolor\":\"white\",\"startlinecolor\":\"#2a3f5f\"},\"type\":\"carpet\"}],\"choropleth\":[{\"colorbar\":{\"outlinewidth\":0,\"ticks\":\"\"},\"type\":\"choropleth\"}],\"contour\":[{\"colorbar\":{\"outlinewidth\":0,\"ticks\":\"\"},\"colorscale\":[[0.0,\"#0d0887\"],[0.1111111111111111,\"#46039f\"],[0.2222222222222222,\"#7201a8\"],[0.3333333333333333,\"#9c179e\"],[0.4444444444444444,\"#bd3786\"],[0.5555555555555556,\"#d8576b\"],[0.6666666666666666,\"#ed7953\"],[0.7777777777777778,\"#fb9f3a\"],[0.8888888888888888,\"#fdca26\"],[1.0,\"#f0f921\"]],\"type\":\"contour\"}],\"contourcarpet\":[{\"colorbar\":{\"outlinewidth\":0,\"ticks\":\"\"},\"type\":\"contourcarpet\"}],\"heatmap\":[{\"colorbar\":{\"outlinewidth\":0,\"ticks\":\"\"},\"colorscale\":[[0.0,\"#0d0887\"],[0.1111111111111111,\"#46039f\"],[0.2222222222222222,\"#7201a8\"],[0.3333333333333333,\"#9c179e\"],[0.4444444444444444,\"#bd3786\"],[0.5555555555555556,\"#d8576b\"],[0.6666666666666666,\"#ed7953\"],[0.7777777777777778,\"#fb9f3a\"],[0.8888888888888888,\"#fdca26\"],[1.0,\"#f0f921\"]],\"type\":\"heatmap\"}],\"heatmapgl\":[{\"colorbar\":{\"outlinewidth\":0,\"ticks\":\"\"},\"colorscale\":[[0.0,\"#0d0887\"],[0.1111111111111111,\"#46039f\"],[0.2222222222222222,\"#7201a8\"],[0.3333333333333333,\"#9c179e\"],[0.4444444444444444,\"#bd3786\"],[0.5555555555555556,\"#d8576b\"],[0.6666666666666666,\"#ed7953\"],[0.7777777777777778,\"#fb9f3a\"],[0.8888888888888888,\"#fdca26\"],[1.0,\"#f0f921\"]],\"type\":\"heatmapgl\"}],\"histogram\":[{\"marker\":{\"pattern\":{\"fillmode\":\"overlay\",\"size\":10,\"solidity\":0.2}},\"type\":\"histogram\"}],\"histogram2d\":[{\"colorbar\":{\"outlinewidth\":0,\"ticks\":\"\"},\"colorscale\":[[0.0,\"#0d0887\"],[0.1111111111111111,\"#46039f\"],[0.2222222222222222,\"#7201a8\"],[0.3333333333333333,\"#9c179e\"],[0.4444444444444444,\"#bd3786\"],[0.5555555555555556,\"#d8576b\"],[0.6666666666666666,\"#ed7953\"],[0.7777777777777778,\"#fb9f3a\"],[0.8888888888888888,\"#fdca26\"],[1.0,\"#f0f921\"]],\"type\":\"histogram2d\"}],\"histogram2dcontour\":[{\"colorbar\":{\"outlinewidth\":0,\"ticks\":\"\"},\"colorscale\":[[0.0,\"#0d0887\"],[0.1111111111111111,\"#46039f\"],[0.2222222222222222,\"#7201a8\"],[0.3333333333333333,\"#9c179e\"],[0.4444444444444444,\"#bd3786\"],[0.5555555555555556,\"#d8576b\"],[0.6666666666666666,\"#ed7953\"],[0.7777777777777778,\"#fb9f3a\"],[0.8888888888888888,\"#fdca26\"],[1.0,\"#f0f921\"]],\"type\":\"histogram2dcontour\"}],\"mesh3d\":[{\"colorbar\":{\"outlinewidth\":0,\"ticks\":\"\"},\"type\":\"mesh3d\"}],\"parcoords\":[{\"line\":{\"colorbar\":{\"outlinewidth\":0,\"ticks\":\"\"}},\"type\":\"parcoords\"}],\"pie\":[{\"automargin\":true,\"type\":\"pie\"}],\"scatter\":[{\"marker\":{\"colorbar\":{\"outlinewidth\":0,\"ticks\":\"\"}},\"type\":\"scatter\"}],\"scatter3d\":[{\"line\":{\"colorbar\":{\"outlinewidth\":0,\"ticks\":\"\"}},\"marker\":{\"colorbar\":{\"outlinewidth\":0,\"ticks\":\"\"}},\"type\":\"scatter3d\"}],\"scattercarpet\":[{\"marker\":{\"colorbar\":{\"outlinewidth\":0,\"ticks\":\"\"}},\"type\":\"scattercarpet\"}],\"scattergeo\":[{\"marker\":{\"colorbar\":{\"outlinewidth\":0,\"ticks\":\"\"}},\"type\":\"scattergeo\"}],\"scattergl\":[{\"marker\":{\"colorbar\":{\"outlinewidth\":0,\"ticks\":\"\"}},\"type\":\"scattergl\"}],\"scattermapbox\":[{\"marker\":{\"colorbar\":{\"outlinewidth\":0,\"ticks\":\"\"}},\"type\":\"scattermapbox\"}],\"scatterpolar\":[{\"marker\":{\"colorbar\":{\"outlinewidth\":0,\"ticks\":\"\"}},\"type\":\"scatterpolar\"}],\"scatterpolargl\":[{\"marker\":{\"colorbar\":{\"outlinewidth\":0,\"ticks\":\"\"}},\"type\":\"scatterpolargl\"}],\"scatterternary\":[{\"marker\":{\"colorbar\":{\"outlinewidth\":0,\"ticks\":\"\"}},\"type\":\"scatterternary\"}],\"surface\":[{\"colorbar\":{\"outlinewidth\":0,\"ticks\":\"\"},\"colorscale\":[[0.0,\"#0d0887\"],[0.1111111111111111,\"#46039f\"],[0.2222222222222222,\"#7201a8\"],[0.3333333333333333,\"#9c179e\"],[0.4444444444444444,\"#bd3786\"],[0.5555555555555556,\"#d8576b\"],[0.6666666666666666,\"#ed7953\"],[0.7777777777777778,\"#fb9f3a\"],[0.8888888888888888,\"#fdca26\"],[1.0,\"#f0f921\"]],\"type\":\"surface\"}],\"table\":[{\"cells\":{\"fill\":{\"color\":\"#EBF0F8\"},\"line\":{\"color\":\"white\"}},\"header\":{\"fill\":{\"color\":\"#C8D4E3\"},\"line\":{\"color\":\"white\"}},\"type\":\"table\"}]},\"layout\":{\"annotationdefaults\":{\"arrowcolor\":\"#2a3f5f\",\"arrowhead\":0,\"arrowwidth\":1},\"autotypenumbers\":\"strict\",\"coloraxis\":{\"colorbar\":{\"outlinewidth\":0,\"ticks\":\"\"}},\"colorscale\":{\"diverging\":[[0,\"#8e0152\"],[0.1,\"#c51b7d\"],[0.2,\"#de77ae\"],[0.3,\"#f1b6da\"],[0.4,\"#fde0ef\"],[0.5,\"#f7f7f7\"],[0.6,\"#e6f5d0\"],[0.7,\"#b8e186\"],[0.8,\"#7fbc41\"],[0.9,\"#4d9221\"],[1,\"#276419\"]],\"sequential\":[[0.0,\"#0d0887\"],[0.1111111111111111,\"#46039f\"],[0.2222222222222222,\"#7201a8\"],[0.3333333333333333,\"#9c179e\"],[0.4444444444444444,\"#bd3786\"],[0.5555555555555556,\"#d8576b\"],[0.6666666666666666,\"#ed7953\"],[0.7777777777777778,\"#fb9f3a\"],[0.8888888888888888,\"#fdca26\"],[1.0,\"#f0f921\"]],\"sequentialminus\":[[0.0,\"#0d0887\"],[0.1111111111111111,\"#46039f\"],[0.2222222222222222,\"#7201a8\"],[0.3333333333333333,\"#9c179e\"],[0.4444444444444444,\"#bd3786\"],[0.5555555555555556,\"#d8576b\"],[0.6666666666666666,\"#ed7953\"],[0.7777777777777778,\"#fb9f3a\"],[0.8888888888888888,\"#fdca26\"],[1.0,\"#f0f921\"]]},\"colorway\":[\"#636efa\",\"#EF553B\",\"#00cc96\",\"#ab63fa\",\"#FFA15A\",\"#19d3f3\",\"#FF6692\",\"#B6E880\",\"#FF97FF\",\"#FECB52\"],\"font\":{\"color\":\"#2a3f5f\"},\"geo\":{\"bgcolor\":\"white\",\"lakecolor\":\"white\",\"landcolor\":\"#E5ECF6\",\"showlakes\":true,\"showland\":true,\"subunitcolor\":\"white\"},\"hoverlabel\":{\"align\":\"left\"},\"hovermode\":\"closest\",\"mapbox\":{\"style\":\"light\"},\"paper_bgcolor\":\"white\",\"plot_bgcolor\":\"#E5ECF6\",\"polar\":{\"angularaxis\":{\"gridcolor\":\"white\",\"linecolor\":\"white\",\"ticks\":\"\"},\"bgcolor\":\"#E5ECF6\",\"radialaxis\":{\"gridcolor\":\"white\",\"linecolor\":\"white\",\"ticks\":\"\"}},\"scene\":{\"xaxis\":{\"backgroundcolor\":\"#E5ECF6\",\"gridcolor\":\"white\",\"gridwidth\":2,\"linecolor\":\"white\",\"showbackground\":true,\"ticks\":\"\",\"zerolinecolor\":\"white\"},\"yaxis\":{\"backgroundcolor\":\"#E5ECF6\",\"gridcolor\":\"white\",\"gridwidth\":2,\"linecolor\":\"white\",\"showbackground\":true,\"ticks\":\"\",\"zerolinecolor\":\"white\"},\"zaxis\":{\"backgroundcolor\":\"#E5ECF6\",\"gridcolor\":\"white\",\"gridwidth\":2,\"linecolor\":\"white\",\"showbackground\":true,\"ticks\":\"\",\"zerolinecolor\":\"white\"}},\"shapedefaults\":{\"line\":{\"color\":\"#2a3f5f\"}},\"ternary\":{\"aaxis\":{\"gridcolor\":\"white\",\"linecolor\":\"white\",\"ticks\":\"\"},\"baxis\":{\"gridcolor\":\"white\",\"linecolor\":\"white\",\"ticks\":\"\"},\"bgcolor\":\"#E5ECF6\",\"caxis\":{\"gridcolor\":\"white\",\"linecolor\":\"white\",\"ticks\":\"\"}},\"title\":{\"x\":0.05},\"xaxis\":{\"automargin\":true,\"gridcolor\":\"white\",\"linecolor\":\"white\",\"ticks\":\"\",\"title\":{\"standoff\":15},\"zerolinecolor\":\"white\",\"zerolinewidth\":2},\"yaxis\":{\"automargin\":true,\"gridcolor\":\"white\",\"linecolor\":\"white\",\"ticks\":\"\",\"title\":{\"standoff\":15},\"zerolinecolor\":\"white\",\"zerolinewidth\":2}}},\"scene\":{\"domain\":{\"x\":[0.0,1.0],\"y\":[0.0,1.0]},\"xaxis\":{\"title\":{\"text\":\"recency_days\"}},\"yaxis\":{\"title\":{\"text\":\"invoice_no\"}},\"zaxis\":{\"title\":{\"text\":\"gross_revenue\"}}},\"coloraxis\":{\"colorbar\":{\"title\":{\"text\":\"cluster\"}},\"colorscale\":[[0.0,\"#0d0887\"],[0.1111111111111111,\"#46039f\"],[0.2222222222222222,\"#7201a8\"],[0.3333333333333333,\"#9c179e\"],[0.4444444444444444,\"#bd3786\"],[0.5555555555555556,\"#d8576b\"],[0.6666666666666666,\"#ed7953\"],[0.7777777777777778,\"#fb9f3a\"],[0.8888888888888888,\"#fdca26\"],[1.0,\"#f0f921\"]]},\"legend\":{\"tracegroupgap\":0},\"margin\":{\"t\":60}},                        {\"responsive\": true}                    ).then(function(){\n",
              "                            \n",
              "var gd = document.getElementById('18e2488d-f4f6-4637-9aa7-78999d2b2f47');\n",
              "var x = new MutationObserver(function (mutations, observer) {{\n",
              "        var display = window.getComputedStyle(gd).display;\n",
              "        if (!display || display === 'none') {{\n",
              "            console.log([gd, 'removed!']);\n",
              "            Plotly.purge(gd);\n",
              "            observer.disconnect();\n",
              "        }}\n",
              "}});\n",
              "\n",
              "// Listen for the removal of the full notebook cells\n",
              "var notebookContainer = gd.closest('#notebook-container');\n",
              "if (notebookContainer) {{\n",
              "    x.observe(notebookContainer, {childList: true});\n",
              "}}\n",
              "\n",
              "// Listen for the clearing of the current output cell\n",
              "var outputEl = gd.closest('.output');\n",
              "if (outputEl) {{\n",
              "    x.observe(outputEl, {childList: true});\n",
              "}}\n",
              "\n",
              "                        })                };                            </script>        </div>\n",
              "</body>\n",
              "</html>"
            ]
          },
          "metadata": {}
        }
      ]
    },
    {
      "cell_type": "code",
      "source": [
        "#number of customer\n",
        "df_cluster= df9[['customer_id','cluster']].groupby('cluster').count().reset_index()\n",
        "df_cluster['perc_customer']= 100*(df_cluster['customer_id']/df_cluster['customer_id'].sum())\n",
        "\n",
        "#avg gross revenue\n",
        "df_avg_gross_revenue= df9[['gross_revenue','cluster']].groupby('cluster').mean().reset_index()\n",
        "df_cluster = pd.merge(df_cluster,df_avg_gross_revenue,how='inner',on='cluster')\n",
        "\n",
        "#avg recency days\n",
        "df_avg_recency_days= df9[['recency_days','cluster']].groupby('cluster').mean().reset_index()\n",
        "df_cluster = pd.merge(df_cluster,df_avg_recency_days,how='inner',on='cluster')\n",
        "\n",
        "#avg invoice no\n",
        "df_invoice_no= df9[['invoice_no','cluster']].groupby('cluster').mean().reset_index()\n",
        "df_cluster = pd.merge(df_cluster,df_invoice_no,how='inner',on='cluster')\n"
      ],
      "metadata": {
        "id": "uU_gmmK8pd5p"
      },
      "execution_count": 44,
      "outputs": []
    },
    {
      "cell_type": "code",
      "source": [
        "df_cluster"
      ],
      "metadata": {
        "colab": {
          "base_uri": "https://localhost:8080/",
          "height": 143
        },
        "id": "Et_1EWgzspCC",
        "outputId": "97629004-81d1-4d4f-da2c-f10027060974"
      },
      "execution_count": 45,
      "outputs": [
        {
          "output_type": "execute_result",
          "data": {
            "text/plain": [
              "   cluster  customer_id  perc_customer  gross_revenue  recency_days  \\\n",
              "0        0         4335      99.153705    1372.577826     92.257901   \n",
              "1        1            6       0.137237  182181.981667      7.166667   \n",
              "2        2           31       0.709058   40543.517742     13.290323   \n",
              "\n",
              "   invoice_no  \n",
              "0    4.614533  \n",
              "1   89.000000  \n",
              "2   53.290323  "
            ],
            "text/html": [
              "\n",
              "  <div id=\"df-277a9846-c3cc-4f01-9e9b-8cc18edb3665\">\n",
              "    <div class=\"colab-df-container\">\n",
              "      <div>\n",
              "<style scoped>\n",
              "    .dataframe tbody tr th:only-of-type {\n",
              "        vertical-align: middle;\n",
              "    }\n",
              "\n",
              "    .dataframe tbody tr th {\n",
              "        vertical-align: top;\n",
              "    }\n",
              "\n",
              "    .dataframe thead th {\n",
              "        text-align: right;\n",
              "    }\n",
              "</style>\n",
              "<table border=\"1\" class=\"dataframe\">\n",
              "  <thead>\n",
              "    <tr style=\"text-align: right;\">\n",
              "      <th></th>\n",
              "      <th>cluster</th>\n",
              "      <th>customer_id</th>\n",
              "      <th>perc_customer</th>\n",
              "      <th>gross_revenue</th>\n",
              "      <th>recency_days</th>\n",
              "      <th>invoice_no</th>\n",
              "    </tr>\n",
              "  </thead>\n",
              "  <tbody>\n",
              "    <tr>\n",
              "      <th>0</th>\n",
              "      <td>0</td>\n",
              "      <td>4335</td>\n",
              "      <td>99.153705</td>\n",
              "      <td>1372.577826</td>\n",
              "      <td>92.257901</td>\n",
              "      <td>4.614533</td>\n",
              "    </tr>\n",
              "    <tr>\n",
              "      <th>1</th>\n",
              "      <td>1</td>\n",
              "      <td>6</td>\n",
              "      <td>0.137237</td>\n",
              "      <td>182181.981667</td>\n",
              "      <td>7.166667</td>\n",
              "      <td>89.000000</td>\n",
              "    </tr>\n",
              "    <tr>\n",
              "      <th>2</th>\n",
              "      <td>2</td>\n",
              "      <td>31</td>\n",
              "      <td>0.709058</td>\n",
              "      <td>40543.517742</td>\n",
              "      <td>13.290323</td>\n",
              "      <td>53.290323</td>\n",
              "    </tr>\n",
              "  </tbody>\n",
              "</table>\n",
              "</div>\n",
              "      <button class=\"colab-df-convert\" onclick=\"convertToInteractive('df-277a9846-c3cc-4f01-9e9b-8cc18edb3665')\"\n",
              "              title=\"Convert this dataframe to an interactive table.\"\n",
              "              style=\"display:none;\">\n",
              "        \n",
              "  <svg xmlns=\"http://www.w3.org/2000/svg\" height=\"24px\"viewBox=\"0 0 24 24\"\n",
              "       width=\"24px\">\n",
              "    <path d=\"M0 0h24v24H0V0z\" fill=\"none\"/>\n",
              "    <path d=\"M18.56 5.44l.94 2.06.94-2.06 2.06-.94-2.06-.94-.94-2.06-.94 2.06-2.06.94zm-11 1L8.5 8.5l.94-2.06 2.06-.94-2.06-.94L8.5 2.5l-.94 2.06-2.06.94zm10 10l.94 2.06.94-2.06 2.06-.94-2.06-.94-.94-2.06-.94 2.06-2.06.94z\"/><path d=\"M17.41 7.96l-1.37-1.37c-.4-.4-.92-.59-1.43-.59-.52 0-1.04.2-1.43.59L10.3 9.45l-7.72 7.72c-.78.78-.78 2.05 0 2.83L4 21.41c.39.39.9.59 1.41.59.51 0 1.02-.2 1.41-.59l7.78-7.78 2.81-2.81c.8-.78.8-2.07 0-2.86zM5.41 20L4 18.59l7.72-7.72 1.47 1.35L5.41 20z\"/>\n",
              "  </svg>\n",
              "      </button>\n",
              "      \n",
              "  <style>\n",
              "    .colab-df-container {\n",
              "      display:flex;\n",
              "      flex-wrap:wrap;\n",
              "      gap: 12px;\n",
              "    }\n",
              "\n",
              "    .colab-df-convert {\n",
              "      background-color: #E8F0FE;\n",
              "      border: none;\n",
              "      border-radius: 50%;\n",
              "      cursor: pointer;\n",
              "      display: none;\n",
              "      fill: #1967D2;\n",
              "      height: 32px;\n",
              "      padding: 0 0 0 0;\n",
              "      width: 32px;\n",
              "    }\n",
              "\n",
              "    .colab-df-convert:hover {\n",
              "      background-color: #E2EBFA;\n",
              "      box-shadow: 0px 1px 2px rgba(60, 64, 67, 0.3), 0px 1px 3px 1px rgba(60, 64, 67, 0.15);\n",
              "      fill: #174EA6;\n",
              "    }\n",
              "\n",
              "    [theme=dark] .colab-df-convert {\n",
              "      background-color: #3B4455;\n",
              "      fill: #D2E3FC;\n",
              "    }\n",
              "\n",
              "    [theme=dark] .colab-df-convert:hover {\n",
              "      background-color: #434B5C;\n",
              "      box-shadow: 0px 1px 3px 1px rgba(0, 0, 0, 0.15);\n",
              "      filter: drop-shadow(0px 1px 2px rgba(0, 0, 0, 0.3));\n",
              "      fill: #FFFFFF;\n",
              "    }\n",
              "  </style>\n",
              "\n",
              "      <script>\n",
              "        const buttonEl =\n",
              "          document.querySelector('#df-277a9846-c3cc-4f01-9e9b-8cc18edb3665 button.colab-df-convert');\n",
              "        buttonEl.style.display =\n",
              "          google.colab.kernel.accessAllowed ? 'block' : 'none';\n",
              "\n",
              "        async function convertToInteractive(key) {\n",
              "          const element = document.querySelector('#df-277a9846-c3cc-4f01-9e9b-8cc18edb3665');\n",
              "          const dataTable =\n",
              "            await google.colab.kernel.invokeFunction('convertToInteractive',\n",
              "                                                     [key], {});\n",
              "          if (!dataTable) return;\n",
              "\n",
              "          const docLinkHtml = 'Like what you see? Visit the ' +\n",
              "            '<a target=\"_blank\" href=https://colab.research.google.com/notebooks/data_table.ipynb>data table notebook</a>'\n",
              "            + ' to learn more about interactive tables.';\n",
              "          element.innerHTML = '';\n",
              "          dataTable['output_type'] = 'display_data';\n",
              "          await google.colab.output.renderOutput(dataTable, element);\n",
              "          const docLink = document.createElement('div');\n",
              "          docLink.innerHTML = docLinkHtml;\n",
              "          element.appendChild(docLink);\n",
              "        }\n",
              "      </script>\n",
              "    </div>\n",
              "  </div>\n",
              "  "
            ]
          },
          "metadata": {},
          "execution_count": 45
        }
      ]
    },
    {
      "cell_type": "markdown",
      "source": [
        "### Cluster 0 : \n",
        "- Número de customers : 4335 ( 99% da base)\n",
        "- Recência média : 92 dias\n",
        "- Compras em média : 5 compras\n",
        "- Receita em média : $ 1.372,57 dólars\n",
        "\n",
        "### Cluster 1 : \n",
        "- Número de customers : 6 ( 0.14% da base)\n",
        "- Recência média : 7 dias\n",
        "- Compras em média : 89 compras\n",
        "- Receita em média : $ 182.182,00 dólars\n",
        "\n",
        "### Cluster 2 : \n",
        "- Número de customers : 31 ( 0.7% da base)\n",
        "- Recência média : 14 dias\n",
        "- Compras em média : 53 compras\n",
        "- Receita em média : $ 40.543,52 dólars"
      ],
      "metadata": {
        "id": "tsEnbUNZx35Y"
      }
    },
    {
      "cell_type": "code",
      "source": [],
      "metadata": {
        "id": "Y3m6EAKhys0x"
      },
      "execution_count": null,
      "outputs": []
    }
  ]
}