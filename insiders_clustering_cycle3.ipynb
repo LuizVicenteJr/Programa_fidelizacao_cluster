{
  "nbformat": 4,
  "nbformat_minor": 0,
  "metadata": {
    "colab": {
      "provenance": [],
      "collapsed_sections": [
        "0_K-2_V9Si7c",
        "-wBXiYIUTQ72",
        "s79k-1QFb1LQ",
        "yzebGYlnFWj0",
        "6PErmvAwb4D7",
        "sXaUWGlcb8BZ",
        "aEQoWmGlcAMY",
        "E5mlN58KcGh4",
        "DTNuCDyVfniS",
        "5ef2UQJPoe4Q"
      ],
      "authorship_tag": "ABX9TyNrInx1aAxJCo8PqsG0PM7z",
      "include_colab_link": true
    },
    "kernelspec": {
      "name": "python3",
      "display_name": "Python 3"
    },
    "language_info": {
      "name": "python"
    }
  },
  "cells": [
    {
      "cell_type": "markdown",
      "metadata": {
        "id": "view-in-github",
        "colab_type": "text"
      },
      "source": [
        "<a href=\"https://colab.research.google.com/github/LuizVicenteJr/insiders_clustering/blob/main/insiders_clustering_cycle3.ipynb\" target=\"_parent\"><img src=\"https://colab.research.google.com/assets/colab-badge.svg\" alt=\"Open In Colab\"/></a>"
      ]
    },
    {
      "cell_type": "markdown",
      "source": [
        "Planejamento da solução :\n",
        "\n",
        "* Problema de negócio -> Selecionar os clientes mais valiosos para integrar um programa de fidelização\n",
        "\n",
        "*Dataset -> Vendas de um e-commerce durante o período de um ano\n",
        "\n",
        "#Perguntas da equipe de negócios :    \n",
        "* Quantos clientes farão parte do grupo?\n",
        "* Quais as principais características desses clientes?\n",
        "* Qual a porcentagem de contribuição do faturamento vinda dos Insiders?\n",
        "* Qual a expectativa de faturamente deste grupo para os próximos meses?\n",
        "* Quais as condições para uma pessoa ser elegível ao Insiders?\n",
        "*  Quais as condições para uma pessoa ser removida do Insiders?\n",
        "* Qual a garantia que o programa Insiders é melhor que o restante da base?\n",
        "* Quais ações o time de marketing pode realizar para aumentar o faturamento\n",
        "\n",
        "\n"
      ],
      "metadata": {
        "id": "bHNJwogZMW4j"
      }
    },
    {
      "cell_type": "markdown",
      "source": [
        "# 0.0 IMPORTS"
      ],
      "metadata": {
        "id": "0_K-2_V9Si7c"
      }
    },
    {
      "cell_type": "code",
      "source": [
        "pip install umap-learn"
      ],
      "metadata": {
        "colab": {
          "base_uri": "https://localhost:8080/"
        },
        "id": "c8WwKkjIbaMb",
        "outputId": "c0d28b5d-ca0a-4a8f-f653-b449e857e52d"
      },
      "execution_count": 100,
      "outputs": [
        {
          "output_type": "stream",
          "name": "stdout",
          "text": [
            "Looking in indexes: https://pypi.org/simple, https://us-python.pkg.dev/colab-wheels/public/simple/\n",
            "Requirement already satisfied: umap-learn in /usr/local/lib/python3.8/dist-packages (0.5.3)\n",
            "Requirement already satisfied: scikit-learn>=0.22 in /usr/local/lib/python3.8/dist-packages (from umap-learn) (1.0.2)\n",
            "Requirement already satisfied: scipy>=1.0 in /usr/local/lib/python3.8/dist-packages (from umap-learn) (1.7.3)\n",
            "Requirement already satisfied: numba>=0.49 in /usr/local/lib/python3.8/dist-packages (from umap-learn) (0.56.4)\n",
            "Requirement already satisfied: pynndescent>=0.5 in /usr/local/lib/python3.8/dist-packages (from umap-learn) (0.5.8)\n",
            "Requirement already satisfied: tqdm in /usr/local/lib/python3.8/dist-packages (from umap-learn) (4.64.1)\n",
            "Requirement already satisfied: numpy>=1.17 in /usr/local/lib/python3.8/dist-packages (from umap-learn) (1.21.6)\n",
            "Requirement already satisfied: llvmlite<0.40,>=0.39.0dev0 in /usr/local/lib/python3.8/dist-packages (from numba>=0.49->umap-learn) (0.39.1)\n",
            "Requirement already satisfied: importlib-metadata in /usr/local/lib/python3.8/dist-packages (from numba>=0.49->umap-learn) (6.0.0)\n",
            "Requirement already satisfied: setuptools in /usr/local/lib/python3.8/dist-packages (from numba>=0.49->umap-learn) (57.4.0)\n",
            "Requirement already satisfied: joblib>=0.11 in /usr/local/lib/python3.8/dist-packages (from pynndescent>=0.5->umap-learn) (1.2.0)\n",
            "Requirement already satisfied: threadpoolctl>=2.0.0 in /usr/local/lib/python3.8/dist-packages (from scikit-learn>=0.22->umap-learn) (3.1.0)\n",
            "Requirement already satisfied: zipp>=0.5 in /usr/local/lib/python3.8/dist-packages (from importlib-metadata->numba>=0.49->umap-learn) (3.11.0)\n"
          ]
        }
      ]
    },
    {
      "cell_type": "code",
      "execution_count": 189,
      "metadata": {
        "id": "Xh0HaTXrC0Rv"
      },
      "outputs": [],
      "source": [
        "import pandas as pd\n",
        "import numpy as np\n",
        "import seaborn as sns\n",
        "import umap.umap_ as umap \n",
        "import regex as re\n",
        "\n",
        "from matplotlib import pyplot as plt\n",
        "from IPython.display import Image\n",
        "from IPython.core.display import HTML\n",
        "\n",
        "from sklearn import cluster as c\n",
        "from sklearn import metrics as m\n",
        "from sklearn import preprocessing as pp\n",
        "from plotly import express as px\n",
        "from yellowbrick.cluster import KElbowVisualizer, SilhouetteVisualizer\n"
      ]
    },
    {
      "cell_type": "markdown",
      "source": [
        "## 0.1 HELPER FUNCTIONS"
      ],
      "metadata": {
        "id": "-wBXiYIUTQ72"
      }
    },
    {
      "cell_type": "code",
      "source": [
        "def jupyter_settings():\n",
        "  %matplotlib inline\n",
        "  %pylab inline\n",
        "  plt.style.use( 'bmh' )\n",
        "  plt.rcParams['figure.figsize'] = [25, 12]\n",
        "  plt.rcParams['font.size'] = 24\n",
        "  display( HTML( '') )\n",
        "  pd.options.display.max_columns = None\n",
        "  pd.options.display.max_rows = None\n",
        "  pd.set_option( 'display.expand_frame_repr', False )\n",
        "  sns.set()"
      ],
      "metadata": {
        "id": "khWSAC0zC5iP"
      },
      "execution_count": 102,
      "outputs": []
    },
    {
      "cell_type": "markdown",
      "source": [
        "## 0.2 LOAD DATASET"
      ],
      "metadata": {
        "id": "vGi_LC-zTa4-"
      }
    },
    {
      "cell_type": "code",
      "source": [
        "df_raw = pd.read_csv('/content/Ecommerce.csv',encoding='unicode_escape')\n",
        "\n",
        "#drop extra column\n",
        "df_raw= df_raw.drop(columns=['Unnamed: 8'],axis=1)"
      ],
      "metadata": {
        "id": "bKLRZokCTS3f"
      },
      "execution_count": 103,
      "outputs": []
    },
    {
      "cell_type": "markdown",
      "source": [
        "# 1.0 DATA DESCRIPTION"
      ],
      "metadata": {
        "id": "Y64lCSbeWyFs"
      }
    },
    {
      "cell_type": "code",
      "source": [
        "df1 = df_raw.copy()"
      ],
      "metadata": {
        "id": "evkinoFgdAYT"
      },
      "execution_count": 104,
      "outputs": []
    },
    {
      "cell_type": "markdown",
      "source": [
        "## 1.1 RENAME COLUMNS"
      ],
      "metadata": {
        "id": "iNZO8s6Yan3U"
      }
    },
    {
      "cell_type": "code",
      "source": [
        "df_raw.columns"
      ],
      "metadata": {
        "colab": {
          "base_uri": "https://localhost:8080/"
        },
        "id": "IujWtDoobE7n",
        "outputId": "aaf1646b-28c1-458c-ac8d-9734aae4e0b0"
      },
      "execution_count": 105,
      "outputs": [
        {
          "output_type": "execute_result",
          "data": {
            "text/plain": [
              "Index(['InvoiceNo', 'StockCode', 'Description', 'Quantity', 'InvoiceDate',\n",
              "       'UnitPrice', 'CustomerID', 'Country'],\n",
              "      dtype='object')"
            ]
          },
          "metadata": {},
          "execution_count": 105
        }
      ]
    },
    {
      "cell_type": "code",
      "source": [
        "cols_new =['invoice_no', 'stock_code', 'description', 'quantity', 'invoice_date',\n",
        "       'unit_price', 'customer_id', 'country']\n",
        "\n",
        "df1.columns = cols_new"
      ],
      "metadata": {
        "id": "KqMvRkVPcaH1"
      },
      "execution_count": 106,
      "outputs": []
    },
    {
      "cell_type": "markdown",
      "source": [
        "## 1.2 DATA DIMENSIONS"
      ],
      "metadata": {
        "id": "VXNcaCgIasWl"
      }
    },
    {
      "cell_type": "code",
      "source": [
        "print('Number of rows : {}'.format(df1.shape[0]))\n",
        "print('Number of rows : {}'.format(df1.shape[1]))"
      ],
      "metadata": {
        "colab": {
          "base_uri": "https://localhost:8080/"
        },
        "id": "X3NTM7z5c8q7",
        "outputId": "b6d23365-ce9c-4d7a-a326-c141b3ba72af"
      },
      "execution_count": 107,
      "outputs": [
        {
          "output_type": "stream",
          "name": "stdout",
          "text": [
            "Number of rows : 541909\n",
            "Number of rows : 8\n"
          ]
        }
      ]
    },
    {
      "cell_type": "markdown",
      "source": [
        "## 1.3 DATA TYPES"
      ],
      "metadata": {
        "id": "OwBM9FsvauHo"
      }
    },
    {
      "cell_type": "code",
      "source": [
        "df1.dtypes"
      ],
      "metadata": {
        "colab": {
          "base_uri": "https://localhost:8080/"
        },
        "id": "_9j9dBwedco-",
        "outputId": "c91be49c-26b9-4e82-e771-869b41e3185b"
      },
      "execution_count": 108,
      "outputs": [
        {
          "output_type": "execute_result",
          "data": {
            "text/plain": [
              "invoice_no       object\n",
              "stock_code       object\n",
              "description      object\n",
              "quantity          int64\n",
              "invoice_date     object\n",
              "unit_price      float64\n",
              "customer_id     float64\n",
              "country          object\n",
              "dtype: object"
            ]
          },
          "metadata": {},
          "execution_count": 108
        }
      ]
    },
    {
      "cell_type": "markdown",
      "source": [
        "## 1.4 CHECK NA"
      ],
      "metadata": {
        "id": "TkDK7c7Oa0h-"
      }
    },
    {
      "cell_type": "code",
      "source": [
        "df1.isna().sum()"
      ],
      "metadata": {
        "colab": {
          "base_uri": "https://localhost:8080/"
        },
        "id": "576nw2ZPd3wZ",
        "outputId": "61578260-8dc4-4fbb-9b3b-0490cb7ea06e"
      },
      "execution_count": 109,
      "outputs": [
        {
          "output_type": "execute_result",
          "data": {
            "text/plain": [
              "invoice_no           0\n",
              "stock_code           0\n",
              "description       1454\n",
              "quantity             0\n",
              "invoice_date         0\n",
              "unit_price           0\n",
              "customer_id     135080\n",
              "country              0\n",
              "dtype: int64"
            ]
          },
          "metadata": {},
          "execution_count": 109
        }
      ]
    },
    {
      "cell_type": "markdown",
      "source": [
        "## 1.5 REPLACE NA"
      ],
      "metadata": {
        "id": "oOGn18_Xa2XM"
      }
    },
    {
      "cell_type": "code",
      "source": [
        "df1 = df1.dropna(subset=['description','customer_id'])\n",
        "\n",
        "print('Removed data: {:.2f}'.format(1-(df1.shape[0]/df_raw.shape[0])))\n"
      ],
      "metadata": {
        "colab": {
          "base_uri": "https://localhost:8080/"
        },
        "id": "SGXZadFR_Z3l",
        "outputId": "b9b21ed0-6ef4-42d3-c724-aa02c9e9d4b2"
      },
      "execution_count": 110,
      "outputs": [
        {
          "output_type": "stream",
          "name": "stdout",
          "text": [
            "Removed data: 0.25\n"
          ]
        }
      ]
    },
    {
      "cell_type": "markdown",
      "source": [
        "## 1.6 CHANGE DTYPES"
      ],
      "metadata": {
        "id": "7vi8g8M9a4s9"
      }
    },
    {
      "cell_type": "code",
      "source": [
        "df1.dtypes"
      ],
      "metadata": {
        "colab": {
          "base_uri": "https://localhost:8080/"
        },
        "id": "TWxX7wZu_btG",
        "outputId": "cbef9ddf-435a-4ab6-b8c2-c744815facaf"
      },
      "execution_count": 111,
      "outputs": [
        {
          "output_type": "execute_result",
          "data": {
            "text/plain": [
              "invoice_no       object\n",
              "stock_code       object\n",
              "description      object\n",
              "quantity          int64\n",
              "invoice_date     object\n",
              "unit_price      float64\n",
              "customer_id     float64\n",
              "country          object\n",
              "dtype: object"
            ]
          },
          "metadata": {},
          "execution_count": 111
        }
      ]
    },
    {
      "cell_type": "code",
      "source": [
        "df1.head()"
      ],
      "metadata": {
        "colab": {
          "base_uri": "https://localhost:8080/",
          "height": 206
        },
        "id": "2bSYUaFXAHNV",
        "outputId": "be45cb9e-90ae-43aa-b211-1aefdfdcaa9e"
      },
      "execution_count": 112,
      "outputs": [
        {
          "output_type": "execute_result",
          "data": {
            "text/plain": [
              "  invoice_no stock_code                          description  quantity  \\\n",
              "0     536365     85123A   WHITE HANGING HEART T-LIGHT HOLDER         6   \n",
              "1     536365      71053                  WHITE METAL LANTERN         6   \n",
              "2     536365     84406B       CREAM CUPID HEARTS COAT HANGER         8   \n",
              "3     536365     84029G  KNITTED UNION FLAG HOT WATER BOTTLE         6   \n",
              "4     536365     84029E       RED WOOLLY HOTTIE WHITE HEART.         6   \n",
              "\n",
              "  invoice_date  unit_price  customer_id         country  \n",
              "0    29-Nov-16        2.55      17850.0  United Kingdom  \n",
              "1    29-Nov-16        3.39      17850.0  United Kingdom  \n",
              "2    29-Nov-16        2.75      17850.0  United Kingdom  \n",
              "3    29-Nov-16        3.39      17850.0  United Kingdom  \n",
              "4    29-Nov-16        3.39      17850.0  United Kingdom  "
            ],
            "text/html": [
              "\n",
              "  <div id=\"df-b5d7017c-f000-4dcd-80aa-993b4e337dfc\">\n",
              "    <div class=\"colab-df-container\">\n",
              "      <div>\n",
              "<style scoped>\n",
              "    .dataframe tbody tr th:only-of-type {\n",
              "        vertical-align: middle;\n",
              "    }\n",
              "\n",
              "    .dataframe tbody tr th {\n",
              "        vertical-align: top;\n",
              "    }\n",
              "\n",
              "    .dataframe thead th {\n",
              "        text-align: right;\n",
              "    }\n",
              "</style>\n",
              "<table border=\"1\" class=\"dataframe\">\n",
              "  <thead>\n",
              "    <tr style=\"text-align: right;\">\n",
              "      <th></th>\n",
              "      <th>invoice_no</th>\n",
              "      <th>stock_code</th>\n",
              "      <th>description</th>\n",
              "      <th>quantity</th>\n",
              "      <th>invoice_date</th>\n",
              "      <th>unit_price</th>\n",
              "      <th>customer_id</th>\n",
              "      <th>country</th>\n",
              "    </tr>\n",
              "  </thead>\n",
              "  <tbody>\n",
              "    <tr>\n",
              "      <th>0</th>\n",
              "      <td>536365</td>\n",
              "      <td>85123A</td>\n",
              "      <td>WHITE HANGING HEART T-LIGHT HOLDER</td>\n",
              "      <td>6</td>\n",
              "      <td>29-Nov-16</td>\n",
              "      <td>2.55</td>\n",
              "      <td>17850.0</td>\n",
              "      <td>United Kingdom</td>\n",
              "    </tr>\n",
              "    <tr>\n",
              "      <th>1</th>\n",
              "      <td>536365</td>\n",
              "      <td>71053</td>\n",
              "      <td>WHITE METAL LANTERN</td>\n",
              "      <td>6</td>\n",
              "      <td>29-Nov-16</td>\n",
              "      <td>3.39</td>\n",
              "      <td>17850.0</td>\n",
              "      <td>United Kingdom</td>\n",
              "    </tr>\n",
              "    <tr>\n",
              "      <th>2</th>\n",
              "      <td>536365</td>\n",
              "      <td>84406B</td>\n",
              "      <td>CREAM CUPID HEARTS COAT HANGER</td>\n",
              "      <td>8</td>\n",
              "      <td>29-Nov-16</td>\n",
              "      <td>2.75</td>\n",
              "      <td>17850.0</td>\n",
              "      <td>United Kingdom</td>\n",
              "    </tr>\n",
              "    <tr>\n",
              "      <th>3</th>\n",
              "      <td>536365</td>\n",
              "      <td>84029G</td>\n",
              "      <td>KNITTED UNION FLAG HOT WATER BOTTLE</td>\n",
              "      <td>6</td>\n",
              "      <td>29-Nov-16</td>\n",
              "      <td>3.39</td>\n",
              "      <td>17850.0</td>\n",
              "      <td>United Kingdom</td>\n",
              "    </tr>\n",
              "    <tr>\n",
              "      <th>4</th>\n",
              "      <td>536365</td>\n",
              "      <td>84029E</td>\n",
              "      <td>RED WOOLLY HOTTIE WHITE HEART.</td>\n",
              "      <td>6</td>\n",
              "      <td>29-Nov-16</td>\n",
              "      <td>3.39</td>\n",
              "      <td>17850.0</td>\n",
              "      <td>United Kingdom</td>\n",
              "    </tr>\n",
              "  </tbody>\n",
              "</table>\n",
              "</div>\n",
              "      <button class=\"colab-df-convert\" onclick=\"convertToInteractive('df-b5d7017c-f000-4dcd-80aa-993b4e337dfc')\"\n",
              "              title=\"Convert this dataframe to an interactive table.\"\n",
              "              style=\"display:none;\">\n",
              "        \n",
              "  <svg xmlns=\"http://www.w3.org/2000/svg\" height=\"24px\"viewBox=\"0 0 24 24\"\n",
              "       width=\"24px\">\n",
              "    <path d=\"M0 0h24v24H0V0z\" fill=\"none\"/>\n",
              "    <path d=\"M18.56 5.44l.94 2.06.94-2.06 2.06-.94-2.06-.94-.94-2.06-.94 2.06-2.06.94zm-11 1L8.5 8.5l.94-2.06 2.06-.94-2.06-.94L8.5 2.5l-.94 2.06-2.06.94zm10 10l.94 2.06.94-2.06 2.06-.94-2.06-.94-.94-2.06-.94 2.06-2.06.94z\"/><path d=\"M17.41 7.96l-1.37-1.37c-.4-.4-.92-.59-1.43-.59-.52 0-1.04.2-1.43.59L10.3 9.45l-7.72 7.72c-.78.78-.78 2.05 0 2.83L4 21.41c.39.39.9.59 1.41.59.51 0 1.02-.2 1.41-.59l7.78-7.78 2.81-2.81c.8-.78.8-2.07 0-2.86zM5.41 20L4 18.59l7.72-7.72 1.47 1.35L5.41 20z\"/>\n",
              "  </svg>\n",
              "      </button>\n",
              "      \n",
              "  <style>\n",
              "    .colab-df-container {\n",
              "      display:flex;\n",
              "      flex-wrap:wrap;\n",
              "      gap: 12px;\n",
              "    }\n",
              "\n",
              "    .colab-df-convert {\n",
              "      background-color: #E8F0FE;\n",
              "      border: none;\n",
              "      border-radius: 50%;\n",
              "      cursor: pointer;\n",
              "      display: none;\n",
              "      fill: #1967D2;\n",
              "      height: 32px;\n",
              "      padding: 0 0 0 0;\n",
              "      width: 32px;\n",
              "    }\n",
              "\n",
              "    .colab-df-convert:hover {\n",
              "      background-color: #E2EBFA;\n",
              "      box-shadow: 0px 1px 2px rgba(60, 64, 67, 0.3), 0px 1px 3px 1px rgba(60, 64, 67, 0.15);\n",
              "      fill: #174EA6;\n",
              "    }\n",
              "\n",
              "    [theme=dark] .colab-df-convert {\n",
              "      background-color: #3B4455;\n",
              "      fill: #D2E3FC;\n",
              "    }\n",
              "\n",
              "    [theme=dark] .colab-df-convert:hover {\n",
              "      background-color: #434B5C;\n",
              "      box-shadow: 0px 1px 3px 1px rgba(0, 0, 0, 0.15);\n",
              "      filter: drop-shadow(0px 1px 2px rgba(0, 0, 0, 0.3));\n",
              "      fill: #FFFFFF;\n",
              "    }\n",
              "  </style>\n",
              "\n",
              "      <script>\n",
              "        const buttonEl =\n",
              "          document.querySelector('#df-b5d7017c-f000-4dcd-80aa-993b4e337dfc button.colab-df-convert');\n",
              "        buttonEl.style.display =\n",
              "          google.colab.kernel.accessAllowed ? 'block' : 'none';\n",
              "\n",
              "        async function convertToInteractive(key) {\n",
              "          const element = document.querySelector('#df-b5d7017c-f000-4dcd-80aa-993b4e337dfc');\n",
              "          const dataTable =\n",
              "            await google.colab.kernel.invokeFunction('convertToInteractive',\n",
              "                                                     [key], {});\n",
              "          if (!dataTable) return;\n",
              "\n",
              "          const docLinkHtml = 'Like what you see? Visit the ' +\n",
              "            '<a target=\"_blank\" href=https://colab.research.google.com/notebooks/data_table.ipynb>data table notebook</a>'\n",
              "            + ' to learn more about interactive tables.';\n",
              "          element.innerHTML = '';\n",
              "          dataTable['output_type'] = 'display_data';\n",
              "          await google.colab.output.renderOutput(dataTable, element);\n",
              "          const docLink = document.createElement('div');\n",
              "          docLink.innerHTML = docLinkHtml;\n",
              "          element.appendChild(docLink);\n",
              "        }\n",
              "      </script>\n",
              "    </div>\n",
              "  </div>\n",
              "  "
            ]
          },
          "metadata": {},
          "execution_count": 112
        }
      ]
    },
    {
      "cell_type": "code",
      "source": [
        "#invoice date\n",
        "df1['invoice_date']= pd.to_datetime(df1['invoice_date'],format= '%d-%b-%y')\n",
        "\n",
        "#customer_id\n",
        "df1['customer_id'] = df1['customer_id'].astype(int)\n",
        "\n",
        "df1.head()"
      ],
      "metadata": {
        "colab": {
          "base_uri": "https://localhost:8080/",
          "height": 206
        },
        "id": "DISdNhMMAIxF",
        "outputId": "d2c5838a-2330-475a-c7ba-dca815a29f5b"
      },
      "execution_count": 113,
      "outputs": [
        {
          "output_type": "execute_result",
          "data": {
            "text/plain": [
              "  invoice_no stock_code                          description  quantity  \\\n",
              "0     536365     85123A   WHITE HANGING HEART T-LIGHT HOLDER         6   \n",
              "1     536365      71053                  WHITE METAL LANTERN         6   \n",
              "2     536365     84406B       CREAM CUPID HEARTS COAT HANGER         8   \n",
              "3     536365     84029G  KNITTED UNION FLAG HOT WATER BOTTLE         6   \n",
              "4     536365     84029E       RED WOOLLY HOTTIE WHITE HEART.         6   \n",
              "\n",
              "  invoice_date  unit_price  customer_id         country  \n",
              "0   2016-11-29        2.55        17850  United Kingdom  \n",
              "1   2016-11-29        3.39        17850  United Kingdom  \n",
              "2   2016-11-29        2.75        17850  United Kingdom  \n",
              "3   2016-11-29        3.39        17850  United Kingdom  \n",
              "4   2016-11-29        3.39        17850  United Kingdom  "
            ],
            "text/html": [
              "\n",
              "  <div id=\"df-fa34c842-976e-4608-b7bf-bb7fb2d971fa\">\n",
              "    <div class=\"colab-df-container\">\n",
              "      <div>\n",
              "<style scoped>\n",
              "    .dataframe tbody tr th:only-of-type {\n",
              "        vertical-align: middle;\n",
              "    }\n",
              "\n",
              "    .dataframe tbody tr th {\n",
              "        vertical-align: top;\n",
              "    }\n",
              "\n",
              "    .dataframe thead th {\n",
              "        text-align: right;\n",
              "    }\n",
              "</style>\n",
              "<table border=\"1\" class=\"dataframe\">\n",
              "  <thead>\n",
              "    <tr style=\"text-align: right;\">\n",
              "      <th></th>\n",
              "      <th>invoice_no</th>\n",
              "      <th>stock_code</th>\n",
              "      <th>description</th>\n",
              "      <th>quantity</th>\n",
              "      <th>invoice_date</th>\n",
              "      <th>unit_price</th>\n",
              "      <th>customer_id</th>\n",
              "      <th>country</th>\n",
              "    </tr>\n",
              "  </thead>\n",
              "  <tbody>\n",
              "    <tr>\n",
              "      <th>0</th>\n",
              "      <td>536365</td>\n",
              "      <td>85123A</td>\n",
              "      <td>WHITE HANGING HEART T-LIGHT HOLDER</td>\n",
              "      <td>6</td>\n",
              "      <td>2016-11-29</td>\n",
              "      <td>2.55</td>\n",
              "      <td>17850</td>\n",
              "      <td>United Kingdom</td>\n",
              "    </tr>\n",
              "    <tr>\n",
              "      <th>1</th>\n",
              "      <td>536365</td>\n",
              "      <td>71053</td>\n",
              "      <td>WHITE METAL LANTERN</td>\n",
              "      <td>6</td>\n",
              "      <td>2016-11-29</td>\n",
              "      <td>3.39</td>\n",
              "      <td>17850</td>\n",
              "      <td>United Kingdom</td>\n",
              "    </tr>\n",
              "    <tr>\n",
              "      <th>2</th>\n",
              "      <td>536365</td>\n",
              "      <td>84406B</td>\n",
              "      <td>CREAM CUPID HEARTS COAT HANGER</td>\n",
              "      <td>8</td>\n",
              "      <td>2016-11-29</td>\n",
              "      <td>2.75</td>\n",
              "      <td>17850</td>\n",
              "      <td>United Kingdom</td>\n",
              "    </tr>\n",
              "    <tr>\n",
              "      <th>3</th>\n",
              "      <td>536365</td>\n",
              "      <td>84029G</td>\n",
              "      <td>KNITTED UNION FLAG HOT WATER BOTTLE</td>\n",
              "      <td>6</td>\n",
              "      <td>2016-11-29</td>\n",
              "      <td>3.39</td>\n",
              "      <td>17850</td>\n",
              "      <td>United Kingdom</td>\n",
              "    </tr>\n",
              "    <tr>\n",
              "      <th>4</th>\n",
              "      <td>536365</td>\n",
              "      <td>84029E</td>\n",
              "      <td>RED WOOLLY HOTTIE WHITE HEART.</td>\n",
              "      <td>6</td>\n",
              "      <td>2016-11-29</td>\n",
              "      <td>3.39</td>\n",
              "      <td>17850</td>\n",
              "      <td>United Kingdom</td>\n",
              "    </tr>\n",
              "  </tbody>\n",
              "</table>\n",
              "</div>\n",
              "      <button class=\"colab-df-convert\" onclick=\"convertToInteractive('df-fa34c842-976e-4608-b7bf-bb7fb2d971fa')\"\n",
              "              title=\"Convert this dataframe to an interactive table.\"\n",
              "              style=\"display:none;\">\n",
              "        \n",
              "  <svg xmlns=\"http://www.w3.org/2000/svg\" height=\"24px\"viewBox=\"0 0 24 24\"\n",
              "       width=\"24px\">\n",
              "    <path d=\"M0 0h24v24H0V0z\" fill=\"none\"/>\n",
              "    <path d=\"M18.56 5.44l.94 2.06.94-2.06 2.06-.94-2.06-.94-.94-2.06-.94 2.06-2.06.94zm-11 1L8.5 8.5l.94-2.06 2.06-.94-2.06-.94L8.5 2.5l-.94 2.06-2.06.94zm10 10l.94 2.06.94-2.06 2.06-.94-2.06-.94-.94-2.06-.94 2.06-2.06.94z\"/><path d=\"M17.41 7.96l-1.37-1.37c-.4-.4-.92-.59-1.43-.59-.52 0-1.04.2-1.43.59L10.3 9.45l-7.72 7.72c-.78.78-.78 2.05 0 2.83L4 21.41c.39.39.9.59 1.41.59.51 0 1.02-.2 1.41-.59l7.78-7.78 2.81-2.81c.8-.78.8-2.07 0-2.86zM5.41 20L4 18.59l7.72-7.72 1.47 1.35L5.41 20z\"/>\n",
              "  </svg>\n",
              "      </button>\n",
              "      \n",
              "  <style>\n",
              "    .colab-df-container {\n",
              "      display:flex;\n",
              "      flex-wrap:wrap;\n",
              "      gap: 12px;\n",
              "    }\n",
              "\n",
              "    .colab-df-convert {\n",
              "      background-color: #E8F0FE;\n",
              "      border: none;\n",
              "      border-radius: 50%;\n",
              "      cursor: pointer;\n",
              "      display: none;\n",
              "      fill: #1967D2;\n",
              "      height: 32px;\n",
              "      padding: 0 0 0 0;\n",
              "      width: 32px;\n",
              "    }\n",
              "\n",
              "    .colab-df-convert:hover {\n",
              "      background-color: #E2EBFA;\n",
              "      box-shadow: 0px 1px 2px rgba(60, 64, 67, 0.3), 0px 1px 3px 1px rgba(60, 64, 67, 0.15);\n",
              "      fill: #174EA6;\n",
              "    }\n",
              "\n",
              "    [theme=dark] .colab-df-convert {\n",
              "      background-color: #3B4455;\n",
              "      fill: #D2E3FC;\n",
              "    }\n",
              "\n",
              "    [theme=dark] .colab-df-convert:hover {\n",
              "      background-color: #434B5C;\n",
              "      box-shadow: 0px 1px 3px 1px rgba(0, 0, 0, 0.15);\n",
              "      filter: drop-shadow(0px 1px 2px rgba(0, 0, 0, 0.3));\n",
              "      fill: #FFFFFF;\n",
              "    }\n",
              "  </style>\n",
              "\n",
              "      <script>\n",
              "        const buttonEl =\n",
              "          document.querySelector('#df-fa34c842-976e-4608-b7bf-bb7fb2d971fa button.colab-df-convert');\n",
              "        buttonEl.style.display =\n",
              "          google.colab.kernel.accessAllowed ? 'block' : 'none';\n",
              "\n",
              "        async function convertToInteractive(key) {\n",
              "          const element = document.querySelector('#df-fa34c842-976e-4608-b7bf-bb7fb2d971fa');\n",
              "          const dataTable =\n",
              "            await google.colab.kernel.invokeFunction('convertToInteractive',\n",
              "                                                     [key], {});\n",
              "          if (!dataTable) return;\n",
              "\n",
              "          const docLinkHtml = 'Like what you see? Visit the ' +\n",
              "            '<a target=\"_blank\" href=https://colab.research.google.com/notebooks/data_table.ipynb>data table notebook</a>'\n",
              "            + ' to learn more about interactive tables.';\n",
              "          element.innerHTML = '';\n",
              "          dataTable['output_type'] = 'display_data';\n",
              "          await google.colab.output.renderOutput(dataTable, element);\n",
              "          const docLink = document.createElement('div');\n",
              "          docLink.innerHTML = docLinkHtml;\n",
              "          element.appendChild(docLink);\n",
              "        }\n",
              "      </script>\n",
              "    </div>\n",
              "  </div>\n",
              "  "
            ]
          },
          "metadata": {},
          "execution_count": 113
        }
      ]
    },
    {
      "cell_type": "markdown",
      "source": [
        "## 1.7 DESCRIPTIVE STATISTICS"
      ],
      "metadata": {
        "id": "Wi0yHCjNa60M"
      }
    },
    {
      "cell_type": "code",
      "source": [
        "num_attributes= df1.select_dtypes(include=['int64','float64'])\n",
        "cat_attributes= df1.select_dtypes(exclude=['int64','float64','datetime64[ns]'])"
      ],
      "metadata": {
        "id": "opoKoBHxGwLO"
      },
      "execution_count": 114,
      "outputs": []
    },
    {
      "cell_type": "markdown",
      "source": [
        "### 1.7.1 Numerical Attributes"
      ],
      "metadata": {
        "id": "olWyoAD_HQLT"
      }
    },
    {
      "cell_type": "code",
      "source": [
        "#central tendency\n",
        "ct1= pd.DataFrame(num_attributes.apply(np.mean)).T\n",
        "ct2= pd.DataFrame(num_attributes.apply(np.median)).T\n",
        "\n",
        "#dispersion\n",
        "d1= pd.DataFrame(num_attributes.apply(np.std)).T\n",
        "d2= pd.DataFrame(num_attributes.apply(np.min)).T\n",
        "d3= pd.DataFrame(num_attributes.apply(np.max)).T\n",
        "d4= pd.DataFrame(num_attributes.apply(lambda x: x.max() - x.min())).T\n",
        "d5= pd.DataFrame(num_attributes.apply(lambda x: x.skew())).T\n",
        "d6= pd.DataFrame(num_attributes.apply(lambda x: x.kurtosis())).T\n",
        "\n",
        "#concatenate\n",
        "m=pd.concat([d2,d3,d4,ct1,ct2,d1,d5,d6]).T.reset_index()\n",
        "m.columns=['attributes','min','max','range','mean','median','std','skew','kurtosis']"
      ],
      "metadata": {
        "id": "4TyBIQeHHZ8F"
      },
      "execution_count": 115,
      "outputs": []
    },
    {
      "cell_type": "code",
      "source": [
        "m"
      ],
      "metadata": {
        "colab": {
          "base_uri": "https://localhost:8080/",
          "height": 143
        },
        "id": "cc54IPKkIvj7",
        "outputId": "32d772e0-3adc-4fca-bb91-eb1e9e6d3230"
      },
      "execution_count": 116,
      "outputs": [
        {
          "output_type": "execute_result",
          "data": {
            "text/plain": [
              "    attributes      min      max     range          mean    median  \\\n",
              "0     quantity -80995.0  80995.0  161990.0     12.061303      5.00   \n",
              "1   unit_price      0.0  38970.0   38970.0      3.460471      1.95   \n",
              "2  customer_id  12346.0  18287.0    5941.0  15287.690570  15152.00   \n",
              "\n",
              "           std        skew       kurtosis  \n",
              "0   248.693064    0.182663   94317.563673  \n",
              "1    69.315077  452.219019  246924.542988  \n",
              "2  1713.598197    0.029835      -1.179982  "
            ],
            "text/html": [
              "\n",
              "  <div id=\"df-622e3c16-b147-44aa-8ea1-8c7acb9b4e63\">\n",
              "    <div class=\"colab-df-container\">\n",
              "      <div>\n",
              "<style scoped>\n",
              "    .dataframe tbody tr th:only-of-type {\n",
              "        vertical-align: middle;\n",
              "    }\n",
              "\n",
              "    .dataframe tbody tr th {\n",
              "        vertical-align: top;\n",
              "    }\n",
              "\n",
              "    .dataframe thead th {\n",
              "        text-align: right;\n",
              "    }\n",
              "</style>\n",
              "<table border=\"1\" class=\"dataframe\">\n",
              "  <thead>\n",
              "    <tr style=\"text-align: right;\">\n",
              "      <th></th>\n",
              "      <th>attributes</th>\n",
              "      <th>min</th>\n",
              "      <th>max</th>\n",
              "      <th>range</th>\n",
              "      <th>mean</th>\n",
              "      <th>median</th>\n",
              "      <th>std</th>\n",
              "      <th>skew</th>\n",
              "      <th>kurtosis</th>\n",
              "    </tr>\n",
              "  </thead>\n",
              "  <tbody>\n",
              "    <tr>\n",
              "      <th>0</th>\n",
              "      <td>quantity</td>\n",
              "      <td>-80995.0</td>\n",
              "      <td>80995.0</td>\n",
              "      <td>161990.0</td>\n",
              "      <td>12.061303</td>\n",
              "      <td>5.00</td>\n",
              "      <td>248.693064</td>\n",
              "      <td>0.182663</td>\n",
              "      <td>94317.563673</td>\n",
              "    </tr>\n",
              "    <tr>\n",
              "      <th>1</th>\n",
              "      <td>unit_price</td>\n",
              "      <td>0.0</td>\n",
              "      <td>38970.0</td>\n",
              "      <td>38970.0</td>\n",
              "      <td>3.460471</td>\n",
              "      <td>1.95</td>\n",
              "      <td>69.315077</td>\n",
              "      <td>452.219019</td>\n",
              "      <td>246924.542988</td>\n",
              "    </tr>\n",
              "    <tr>\n",
              "      <th>2</th>\n",
              "      <td>customer_id</td>\n",
              "      <td>12346.0</td>\n",
              "      <td>18287.0</td>\n",
              "      <td>5941.0</td>\n",
              "      <td>15287.690570</td>\n",
              "      <td>15152.00</td>\n",
              "      <td>1713.598197</td>\n",
              "      <td>0.029835</td>\n",
              "      <td>-1.179982</td>\n",
              "    </tr>\n",
              "  </tbody>\n",
              "</table>\n",
              "</div>\n",
              "      <button class=\"colab-df-convert\" onclick=\"convertToInteractive('df-622e3c16-b147-44aa-8ea1-8c7acb9b4e63')\"\n",
              "              title=\"Convert this dataframe to an interactive table.\"\n",
              "              style=\"display:none;\">\n",
              "        \n",
              "  <svg xmlns=\"http://www.w3.org/2000/svg\" height=\"24px\"viewBox=\"0 0 24 24\"\n",
              "       width=\"24px\">\n",
              "    <path d=\"M0 0h24v24H0V0z\" fill=\"none\"/>\n",
              "    <path d=\"M18.56 5.44l.94 2.06.94-2.06 2.06-.94-2.06-.94-.94-2.06-.94 2.06-2.06.94zm-11 1L8.5 8.5l.94-2.06 2.06-.94-2.06-.94L8.5 2.5l-.94 2.06-2.06.94zm10 10l.94 2.06.94-2.06 2.06-.94-2.06-.94-.94-2.06-.94 2.06-2.06.94z\"/><path d=\"M17.41 7.96l-1.37-1.37c-.4-.4-.92-.59-1.43-.59-.52 0-1.04.2-1.43.59L10.3 9.45l-7.72 7.72c-.78.78-.78 2.05 0 2.83L4 21.41c.39.39.9.59 1.41.59.51 0 1.02-.2 1.41-.59l7.78-7.78 2.81-2.81c.8-.78.8-2.07 0-2.86zM5.41 20L4 18.59l7.72-7.72 1.47 1.35L5.41 20z\"/>\n",
              "  </svg>\n",
              "      </button>\n",
              "      \n",
              "  <style>\n",
              "    .colab-df-container {\n",
              "      display:flex;\n",
              "      flex-wrap:wrap;\n",
              "      gap: 12px;\n",
              "    }\n",
              "\n",
              "    .colab-df-convert {\n",
              "      background-color: #E8F0FE;\n",
              "      border: none;\n",
              "      border-radius: 50%;\n",
              "      cursor: pointer;\n",
              "      display: none;\n",
              "      fill: #1967D2;\n",
              "      height: 32px;\n",
              "      padding: 0 0 0 0;\n",
              "      width: 32px;\n",
              "    }\n",
              "\n",
              "    .colab-df-convert:hover {\n",
              "      background-color: #E2EBFA;\n",
              "      box-shadow: 0px 1px 2px rgba(60, 64, 67, 0.3), 0px 1px 3px 1px rgba(60, 64, 67, 0.15);\n",
              "      fill: #174EA6;\n",
              "    }\n",
              "\n",
              "    [theme=dark] .colab-df-convert {\n",
              "      background-color: #3B4455;\n",
              "      fill: #D2E3FC;\n",
              "    }\n",
              "\n",
              "    [theme=dark] .colab-df-convert:hover {\n",
              "      background-color: #434B5C;\n",
              "      box-shadow: 0px 1px 3px 1px rgba(0, 0, 0, 0.15);\n",
              "      filter: drop-shadow(0px 1px 2px rgba(0, 0, 0, 0.3));\n",
              "      fill: #FFFFFF;\n",
              "    }\n",
              "  </style>\n",
              "\n",
              "      <script>\n",
              "        const buttonEl =\n",
              "          document.querySelector('#df-622e3c16-b147-44aa-8ea1-8c7acb9b4e63 button.colab-df-convert');\n",
              "        buttonEl.style.display =\n",
              "          google.colab.kernel.accessAllowed ? 'block' : 'none';\n",
              "\n",
              "        async function convertToInteractive(key) {\n",
              "          const element = document.querySelector('#df-622e3c16-b147-44aa-8ea1-8c7acb9b4e63');\n",
              "          const dataTable =\n",
              "            await google.colab.kernel.invokeFunction('convertToInteractive',\n",
              "                                                     [key], {});\n",
              "          if (!dataTable) return;\n",
              "\n",
              "          const docLinkHtml = 'Like what you see? Visit the ' +\n",
              "            '<a target=\"_blank\" href=https://colab.research.google.com/notebooks/data_table.ipynb>data table notebook</a>'\n",
              "            + ' to learn more about interactive tables.';\n",
              "          element.innerHTML = '';\n",
              "          dataTable['output_type'] = 'display_data';\n",
              "          await google.colab.output.renderOutput(dataTable, element);\n",
              "          const docLink = document.createElement('div');\n",
              "          docLink.innerHTML = docLinkHtml;\n",
              "          element.appendChild(docLink);\n",
              "        }\n",
              "      </script>\n",
              "    </div>\n",
              "  </div>\n",
              "  "
            ]
          },
          "metadata": {},
          "execution_count": 116
        }
      ]
    },
    {
      "cell_type": "markdown",
      "source": [
        "### <font color='red'> 1.7.1.1 Investigating</font>\n",
        "* \"quantity\" negativa(pode ser devolução)\n",
        "* \"preço unitário igual a zero(pode ser algum tipo de promoção)"
      ],
      "metadata": {
        "id": "JT42x6A0JJrG"
      }
    },
    {
      "cell_type": "markdown",
      "source": [
        "### 1.7.2 Categorical Attributes"
      ],
      "metadata": {
        "id": "IPkYtco8HVsi"
      }
    },
    {
      "cell_type": "markdown",
      "source": [
        "### invoice_no"
      ],
      "metadata": {
        "id": "1aNNPwd_1qQT"
      }
    },
    {
      "cell_type": "code",
      "source": [
        "df_letter_invoices= df1.loc[df1['invoice_no'].apply(lambda x: bool(re.search('[^0-9]+',x))),:]\n",
        "df_letter_invoices.head()\n",
        "\n",
        "print('Total number of invoices: {}'.format( len(df_letter_invoices)))\n",
        "print('Total number of negative quantity: {}'.format(len(df_letter_invoices[df_letter_invoices['quantity']< 0])))"
      ],
      "metadata": {
        "colab": {
          "base_uri": "https://localhost:8080/"
        },
        "id": "D54azmgR1spE",
        "outputId": "eb41c0e6-f2ae-4545-f26b-3ebc8f460757"
      },
      "execution_count": 117,
      "outputs": [
        {
          "output_type": "stream",
          "name": "stdout",
          "text": [
            "Total number of invoices: 8905\n",
            "Total number of negative quantity: 8905\n"
          ]
        }
      ]
    },
    {
      "cell_type": "markdown",
      "source": [
        "### stock code"
      ],
      "metadata": {
        "id": "Ylwa7Vdp3kXW"
      }
    },
    {
      "cell_type": "code",
      "source": [
        "#check stock code only characters\n",
        "df1.loc[df1['stock_code'].apply(lambda x: bool(re.search('^[a-zA-Z]+$',x) ) ),'stock_code'].unique()\n",
        "\n",
        "#Remove stock code in ['POST', 'D', 'M', 'PADS', 'DOT', 'CRUK']"
      ],
      "metadata": {
        "colab": {
          "base_uri": "https://localhost:8080/"
        },
        "id": "J75ec6LD3mff",
        "outputId": "48334451-0323-4c31-eff7-d6a5f87b8ed2"
      },
      "execution_count": 118,
      "outputs": [
        {
          "output_type": "execute_result",
          "data": {
            "text/plain": [
              "array(['POST', 'D', 'M', 'PADS', 'DOT', 'CRUK'], dtype=object)"
            ]
          },
          "metadata": {},
          "execution_count": 118
        }
      ]
    },
    {
      "cell_type": "markdown",
      "source": [
        "### description"
      ],
      "metadata": {
        "id": "5HQSYRtH5rQ4"
      }
    },
    {
      "cell_type": "code",
      "source": [
        "#ação: delete description"
      ],
      "metadata": {
        "id": "gIux8iE3RpFx"
      },
      "execution_count": 119,
      "outputs": []
    },
    {
      "cell_type": "markdown",
      "source": [
        "### country"
      ],
      "metadata": {
        "id": "WqeeMPOFT_2e"
      }
    },
    {
      "cell_type": "code",
      "source": [
        "df1['country'].unique()"
      ],
      "metadata": {
        "colab": {
          "base_uri": "https://localhost:8080/"
        },
        "id": "D3M1Q7V4UDUK",
        "outputId": "5e8c407b-8594-4d20-c0d0-5d60b9cba419"
      },
      "execution_count": 120,
      "outputs": [
        {
          "output_type": "execute_result",
          "data": {
            "text/plain": [
              "array(['United Kingdom', 'France', 'Australia', 'Netherlands', 'Germany',\n",
              "       'Norway', 'EIRE', 'Switzerland', 'Spain', 'Poland', 'Portugal',\n",
              "       'Italy', 'Belgium', 'Lithuania', 'Japan', 'Iceland',\n",
              "       'Channel Islands', 'Denmark', 'Cyprus', 'Sweden', 'Austria',\n",
              "       'Israel', 'Finland', 'Greece', 'Singapore', 'Lebanon',\n",
              "       'United Arab Emirates', 'Saudi Arabia', 'Czech Republic', 'Canada',\n",
              "       'Unspecified', 'Brazil', 'USA', 'European Community', 'Bahrain',\n",
              "       'Malta', 'RSA'], dtype=object)"
            ]
          },
          "metadata": {},
          "execution_count": 120
        }
      ]
    },
    {
      "cell_type": "code",
      "source": [
        "df1['country'].value_counts(normalize=True)"
      ],
      "metadata": {
        "colab": {
          "base_uri": "https://localhost:8080/"
        },
        "id": "3j_7o4MqUdEB",
        "outputId": "ccf6e13d-5420-4063-acdb-b6e1d6bd4333"
      },
      "execution_count": 121,
      "outputs": [
        {
          "output_type": "execute_result",
          "data": {
            "text/plain": [
              "United Kingdom          0.889509\n",
              "Germany                 0.023339\n",
              "France                  0.020871\n",
              "EIRE                    0.018398\n",
              "Spain                   0.006226\n",
              "Netherlands             0.005828\n",
              "Belgium                 0.005086\n",
              "Switzerland             0.004614\n",
              "Portugal                0.003638\n",
              "Australia               0.003095\n",
              "Norway                  0.002669\n",
              "Italy                   0.001974\n",
              "Channel Islands         0.001863\n",
              "Finland                 0.001708\n",
              "Cyprus                  0.001529\n",
              "Sweden                  0.001136\n",
              "Austria                 0.000986\n",
              "Denmark                 0.000956\n",
              "Japan                   0.000880\n",
              "Poland                  0.000838\n",
              "USA                     0.000715\n",
              "Israel                  0.000615\n",
              "Unspecified             0.000600\n",
              "Singapore               0.000563\n",
              "Iceland                 0.000447\n",
              "Canada                  0.000371\n",
              "Greece                  0.000359\n",
              "Malta                   0.000312\n",
              "United Arab Emirates    0.000167\n",
              "European Community      0.000150\n",
              "RSA                     0.000143\n",
              "Lebanon                 0.000111\n",
              "Lithuania               0.000086\n",
              "Brazil                  0.000079\n",
              "Czech Republic          0.000074\n",
              "Bahrain                 0.000042\n",
              "Saudi Arabia            0.000025\n",
              "Name: country, dtype: float64"
            ]
          },
          "metadata": {},
          "execution_count": 121
        }
      ]
    },
    {
      "cell_type": "code",
      "source": [
        "df1[['customer_id','country']].drop_duplicates().groupby('country').count().reset_index().sort_values('customer_id',ascending=False)"
      ],
      "metadata": {
        "colab": {
          "base_uri": "https://localhost:8080/",
          "height": 1000
        },
        "id": "EqUm9vFtU5Ji",
        "outputId": "d2b46a19-00bc-4f2d-e95f-2d905e77fe53"
      },
      "execution_count": 122,
      "outputs": [
        {
          "output_type": "execute_result",
          "data": {
            "text/plain": [
              "                 country  customer_id\n",
              "35        United Kingdom         3950\n",
              "14               Germany           95\n",
              "13                France           87\n",
              "30                 Spain           31\n",
              "3                Belgium           25\n",
              "32           Switzerland           21\n",
              "26              Portugal           19\n",
              "18                 Italy           15\n",
              "12               Finland           12\n",
              "1                Austria           11\n",
              "24                Norway           10\n",
              "23           Netherlands            9\n",
              "0              Australia            9\n",
              "9                Denmark            9\n",
              "6        Channel Islands            9\n",
              "7                 Cyprus            8\n",
              "31                Sweden            8\n",
              "19                 Japan            8\n",
              "25                Poland            6\n",
              "33                   USA            4\n",
              "5                 Canada            4\n",
              "36           Unspecified            4\n",
              "17                Israel            4\n",
              "15                Greece            4\n",
              "10                  EIRE            3\n",
              "22                 Malta            2\n",
              "34  United Arab Emirates            2\n",
              "2                Bahrain            2\n",
              "8         Czech Republic            1\n",
              "21             Lithuania            1\n",
              "20               Lebanon            1\n",
              "27                   RSA            1\n",
              "28          Saudi Arabia            1\n",
              "29             Singapore            1\n",
              "16               Iceland            1\n",
              "4                 Brazil            1\n",
              "11    European Community            1"
            ],
            "text/html": [
              "\n",
              "  <div id=\"df-9e19d4dc-e35e-4a52-93d4-7f6650e27b29\">\n",
              "    <div class=\"colab-df-container\">\n",
              "      <div>\n",
              "<style scoped>\n",
              "    .dataframe tbody tr th:only-of-type {\n",
              "        vertical-align: middle;\n",
              "    }\n",
              "\n",
              "    .dataframe tbody tr th {\n",
              "        vertical-align: top;\n",
              "    }\n",
              "\n",
              "    .dataframe thead th {\n",
              "        text-align: right;\n",
              "    }\n",
              "</style>\n",
              "<table border=\"1\" class=\"dataframe\">\n",
              "  <thead>\n",
              "    <tr style=\"text-align: right;\">\n",
              "      <th></th>\n",
              "      <th>country</th>\n",
              "      <th>customer_id</th>\n",
              "    </tr>\n",
              "  </thead>\n",
              "  <tbody>\n",
              "    <tr>\n",
              "      <th>35</th>\n",
              "      <td>United Kingdom</td>\n",
              "      <td>3950</td>\n",
              "    </tr>\n",
              "    <tr>\n",
              "      <th>14</th>\n",
              "      <td>Germany</td>\n",
              "      <td>95</td>\n",
              "    </tr>\n",
              "    <tr>\n",
              "      <th>13</th>\n",
              "      <td>France</td>\n",
              "      <td>87</td>\n",
              "    </tr>\n",
              "    <tr>\n",
              "      <th>30</th>\n",
              "      <td>Spain</td>\n",
              "      <td>31</td>\n",
              "    </tr>\n",
              "    <tr>\n",
              "      <th>3</th>\n",
              "      <td>Belgium</td>\n",
              "      <td>25</td>\n",
              "    </tr>\n",
              "    <tr>\n",
              "      <th>32</th>\n",
              "      <td>Switzerland</td>\n",
              "      <td>21</td>\n",
              "    </tr>\n",
              "    <tr>\n",
              "      <th>26</th>\n",
              "      <td>Portugal</td>\n",
              "      <td>19</td>\n",
              "    </tr>\n",
              "    <tr>\n",
              "      <th>18</th>\n",
              "      <td>Italy</td>\n",
              "      <td>15</td>\n",
              "    </tr>\n",
              "    <tr>\n",
              "      <th>12</th>\n",
              "      <td>Finland</td>\n",
              "      <td>12</td>\n",
              "    </tr>\n",
              "    <tr>\n",
              "      <th>1</th>\n",
              "      <td>Austria</td>\n",
              "      <td>11</td>\n",
              "    </tr>\n",
              "    <tr>\n",
              "      <th>24</th>\n",
              "      <td>Norway</td>\n",
              "      <td>10</td>\n",
              "    </tr>\n",
              "    <tr>\n",
              "      <th>23</th>\n",
              "      <td>Netherlands</td>\n",
              "      <td>9</td>\n",
              "    </tr>\n",
              "    <tr>\n",
              "      <th>0</th>\n",
              "      <td>Australia</td>\n",
              "      <td>9</td>\n",
              "    </tr>\n",
              "    <tr>\n",
              "      <th>9</th>\n",
              "      <td>Denmark</td>\n",
              "      <td>9</td>\n",
              "    </tr>\n",
              "    <tr>\n",
              "      <th>6</th>\n",
              "      <td>Channel Islands</td>\n",
              "      <td>9</td>\n",
              "    </tr>\n",
              "    <tr>\n",
              "      <th>7</th>\n",
              "      <td>Cyprus</td>\n",
              "      <td>8</td>\n",
              "    </tr>\n",
              "    <tr>\n",
              "      <th>31</th>\n",
              "      <td>Sweden</td>\n",
              "      <td>8</td>\n",
              "    </tr>\n",
              "    <tr>\n",
              "      <th>19</th>\n",
              "      <td>Japan</td>\n",
              "      <td>8</td>\n",
              "    </tr>\n",
              "    <tr>\n",
              "      <th>25</th>\n",
              "      <td>Poland</td>\n",
              "      <td>6</td>\n",
              "    </tr>\n",
              "    <tr>\n",
              "      <th>33</th>\n",
              "      <td>USA</td>\n",
              "      <td>4</td>\n",
              "    </tr>\n",
              "    <tr>\n",
              "      <th>5</th>\n",
              "      <td>Canada</td>\n",
              "      <td>4</td>\n",
              "    </tr>\n",
              "    <tr>\n",
              "      <th>36</th>\n",
              "      <td>Unspecified</td>\n",
              "      <td>4</td>\n",
              "    </tr>\n",
              "    <tr>\n",
              "      <th>17</th>\n",
              "      <td>Israel</td>\n",
              "      <td>4</td>\n",
              "    </tr>\n",
              "    <tr>\n",
              "      <th>15</th>\n",
              "      <td>Greece</td>\n",
              "      <td>4</td>\n",
              "    </tr>\n",
              "    <tr>\n",
              "      <th>10</th>\n",
              "      <td>EIRE</td>\n",
              "      <td>3</td>\n",
              "    </tr>\n",
              "    <tr>\n",
              "      <th>22</th>\n",
              "      <td>Malta</td>\n",
              "      <td>2</td>\n",
              "    </tr>\n",
              "    <tr>\n",
              "      <th>34</th>\n",
              "      <td>United Arab Emirates</td>\n",
              "      <td>2</td>\n",
              "    </tr>\n",
              "    <tr>\n",
              "      <th>2</th>\n",
              "      <td>Bahrain</td>\n",
              "      <td>2</td>\n",
              "    </tr>\n",
              "    <tr>\n",
              "      <th>8</th>\n",
              "      <td>Czech Republic</td>\n",
              "      <td>1</td>\n",
              "    </tr>\n",
              "    <tr>\n",
              "      <th>21</th>\n",
              "      <td>Lithuania</td>\n",
              "      <td>1</td>\n",
              "    </tr>\n",
              "    <tr>\n",
              "      <th>20</th>\n",
              "      <td>Lebanon</td>\n",
              "      <td>1</td>\n",
              "    </tr>\n",
              "    <tr>\n",
              "      <th>27</th>\n",
              "      <td>RSA</td>\n",
              "      <td>1</td>\n",
              "    </tr>\n",
              "    <tr>\n",
              "      <th>28</th>\n",
              "      <td>Saudi Arabia</td>\n",
              "      <td>1</td>\n",
              "    </tr>\n",
              "    <tr>\n",
              "      <th>29</th>\n",
              "      <td>Singapore</td>\n",
              "      <td>1</td>\n",
              "    </tr>\n",
              "    <tr>\n",
              "      <th>16</th>\n",
              "      <td>Iceland</td>\n",
              "      <td>1</td>\n",
              "    </tr>\n",
              "    <tr>\n",
              "      <th>4</th>\n",
              "      <td>Brazil</td>\n",
              "      <td>1</td>\n",
              "    </tr>\n",
              "    <tr>\n",
              "      <th>11</th>\n",
              "      <td>European Community</td>\n",
              "      <td>1</td>\n",
              "    </tr>\n",
              "  </tbody>\n",
              "</table>\n",
              "</div>\n",
              "      <button class=\"colab-df-convert\" onclick=\"convertToInteractive('df-9e19d4dc-e35e-4a52-93d4-7f6650e27b29')\"\n",
              "              title=\"Convert this dataframe to an interactive table.\"\n",
              "              style=\"display:none;\">\n",
              "        \n",
              "  <svg xmlns=\"http://www.w3.org/2000/svg\" height=\"24px\"viewBox=\"0 0 24 24\"\n",
              "       width=\"24px\">\n",
              "    <path d=\"M0 0h24v24H0V0z\" fill=\"none\"/>\n",
              "    <path d=\"M18.56 5.44l.94 2.06.94-2.06 2.06-.94-2.06-.94-.94-2.06-.94 2.06-2.06.94zm-11 1L8.5 8.5l.94-2.06 2.06-.94-2.06-.94L8.5 2.5l-.94 2.06-2.06.94zm10 10l.94 2.06.94-2.06 2.06-.94-2.06-.94-.94-2.06-.94 2.06-2.06.94z\"/><path d=\"M17.41 7.96l-1.37-1.37c-.4-.4-.92-.59-1.43-.59-.52 0-1.04.2-1.43.59L10.3 9.45l-7.72 7.72c-.78.78-.78 2.05 0 2.83L4 21.41c.39.39.9.59 1.41.59.51 0 1.02-.2 1.41-.59l7.78-7.78 2.81-2.81c.8-.78.8-2.07 0-2.86zM5.41 20L4 18.59l7.72-7.72 1.47 1.35L5.41 20z\"/>\n",
              "  </svg>\n",
              "      </button>\n",
              "      \n",
              "  <style>\n",
              "    .colab-df-container {\n",
              "      display:flex;\n",
              "      flex-wrap:wrap;\n",
              "      gap: 12px;\n",
              "    }\n",
              "\n",
              "    .colab-df-convert {\n",
              "      background-color: #E8F0FE;\n",
              "      border: none;\n",
              "      border-radius: 50%;\n",
              "      cursor: pointer;\n",
              "      display: none;\n",
              "      fill: #1967D2;\n",
              "      height: 32px;\n",
              "      padding: 0 0 0 0;\n",
              "      width: 32px;\n",
              "    }\n",
              "\n",
              "    .colab-df-convert:hover {\n",
              "      background-color: #E2EBFA;\n",
              "      box-shadow: 0px 1px 2px rgba(60, 64, 67, 0.3), 0px 1px 3px 1px rgba(60, 64, 67, 0.15);\n",
              "      fill: #174EA6;\n",
              "    }\n",
              "\n",
              "    [theme=dark] .colab-df-convert {\n",
              "      background-color: #3B4455;\n",
              "      fill: #D2E3FC;\n",
              "    }\n",
              "\n",
              "    [theme=dark] .colab-df-convert:hover {\n",
              "      background-color: #434B5C;\n",
              "      box-shadow: 0px 1px 3px 1px rgba(0, 0, 0, 0.15);\n",
              "      filter: drop-shadow(0px 1px 2px rgba(0, 0, 0, 0.3));\n",
              "      fill: #FFFFFF;\n",
              "    }\n",
              "  </style>\n",
              "\n",
              "      <script>\n",
              "        const buttonEl =\n",
              "          document.querySelector('#df-9e19d4dc-e35e-4a52-93d4-7f6650e27b29 button.colab-df-convert');\n",
              "        buttonEl.style.display =\n",
              "          google.colab.kernel.accessAllowed ? 'block' : 'none';\n",
              "\n",
              "        async function convertToInteractive(key) {\n",
              "          const element = document.querySelector('#df-9e19d4dc-e35e-4a52-93d4-7f6650e27b29');\n",
              "          const dataTable =\n",
              "            await google.colab.kernel.invokeFunction('convertToInteractive',\n",
              "                                                     [key], {});\n",
              "          if (!dataTable) return;\n",
              "\n",
              "          const docLinkHtml = 'Like what you see? Visit the ' +\n",
              "            '<a target=\"_blank\" href=https://colab.research.google.com/notebooks/data_table.ipynb>data table notebook</a>'\n",
              "            + ' to learn more about interactive tables.';\n",
              "          element.innerHTML = '';\n",
              "          dataTable['output_type'] = 'display_data';\n",
              "          await google.colab.output.renderOutput(dataTable, element);\n",
              "          const docLink = document.createElement('div');\n",
              "          docLink.innerHTML = docLinkHtml;\n",
              "          element.appendChild(docLink);\n",
              "        }\n",
              "      </script>\n",
              "    </div>\n",
              "  </div>\n",
              "  "
            ]
          },
          "metadata": {},
          "execution_count": 122
        }
      ]
    },
    {
      "cell_type": "markdown",
      "source": [
        "# 2.0 DATA FILTER"
      ],
      "metadata": {
        "id": "s79k-1QFb1LQ"
      }
    },
    {
      "cell_type": "code",
      "source": [
        "df2 = df1.copy()"
      ],
      "metadata": {
        "id": "I3eP7gqWaD2n"
      },
      "execution_count": 123,
      "outputs": []
    },
    {
      "cell_type": "code",
      "source": [
        "###====  Numerical Attributes====###\n",
        "#unit_price\n",
        "df2= df2.loc[df2['unit_price']> 0.04,:]\n",
        "\n",
        "###====Categorical Attributes====###\n",
        "#stock code\n",
        "df2= df2[~df2['stock_code'].isin(['POST','D','M','DOT','CRUK','C2'])]\n",
        "\n",
        "#description\n",
        "df2= df2.drop(columns='description',axis=1)\n",
        "\n",
        "#map\n",
        "df2=df2[~df2['country'].isin(['European Community','Unspecified'])]\n",
        "\n",
        "#quantity\n",
        "df2_returns= df2.loc[df2['quantity']< 0, :]\n",
        "df2_purchases= df2.loc[df2['quantity']> 0, :]"
      ],
      "metadata": {
        "id": "taN5IfkMENhQ"
      },
      "execution_count": 124,
      "outputs": []
    },
    {
      "cell_type": "markdown",
      "source": [
        "# 3.0 FEATURE ENGINEERING"
      ],
      "metadata": {
        "id": "yzebGYlnFWj0"
      }
    },
    {
      "cell_type": "code",
      "source": [
        "df3 = df2.copy()"
      ],
      "metadata": {
        "id": "0mL5qRKO_WGs"
      },
      "execution_count": 158,
      "outputs": []
    },
    {
      "cell_type": "code",
      "source": [
        "df_ref= df3.drop(['invoice_no','stock_code','quantity',\n",
        "                  'invoice_date','unit_price','country'],axis=1).drop_duplicates(ignore_index=True)"
      ],
      "metadata": {
        "id": "UfRA5uzIFb_7"
      },
      "execution_count": 159,
      "outputs": []
    },
    {
      "cell_type": "code",
      "source": [
        "#gross revenue \n",
        "df2_purchases.loc[:,'gross_revenue'] = df2_purchases.loc[:,'quantity'] * df2_purchases.loc[:,'unit_price']\n",
        "\n",
        "#monetary\n",
        "df_monetary= df2_purchases.loc[:,['customer_id','gross_revenue']].groupby('customer_id').sum().reset_index()\n",
        "\n",
        "df_ref= pd.merge(df_ref,df_monetary,on='customer_id',how='left')\n"
      ],
      "metadata": {
        "colab": {
          "base_uri": "https://localhost:8080/"
        },
        "id": "K3IEchm4JdRa",
        "outputId": "41bca070-27d2-40bf-aa36-46c532f359b2"
      },
      "execution_count": 160,
      "outputs": [
        {
          "output_type": "stream",
          "name": "stderr",
          "text": [
            "/usr/local/lib/python3.8/dist-packages/pandas/core/indexing.py:1773: SettingWithCopyWarning: \n",
            "A value is trying to be set on a copy of a slice from a DataFrame.\n",
            "Try using .loc[row_indexer,col_indexer] = value instead\n",
            "\n",
            "See the caveats in the documentation: https://pandas.pydata.org/pandas-docs/stable/user_guide/indexing.html#returning-a-view-versus-a-copy\n",
            "  self._setitem_single_column(ilocs[0], value, pi)\n"
          ]
        }
      ]
    },
    {
      "cell_type": "code",
      "source": [
        "#recency\n",
        "df_recency= df2_purchases.loc[:,['customer_id','invoice_date']].groupby('customer_id').max().reset_index()\n",
        "df_recency['recency_days']= (df2['invoice_date'].max() - df_recency['invoice_date']).dt.days\n",
        "df_recency= df_recency[['customer_id','recency_days']].copy()\n",
        "\n",
        "df_ref= pd.merge(df_ref,df_recency,on='customer_id',how='left')\n"
      ],
      "metadata": {
        "id": "afvyuBHkKcWC"
      },
      "execution_count": 161,
      "outputs": []
    },
    {
      "cell_type": "code",
      "source": [
        "#frequency\n",
        "df_freq= df2_purchases.loc[:,['customer_id','invoice_no']].drop_duplicates().groupby('customer_id').count().reset_index()\n",
        "\n",
        "df_ref= pd.merge(df_ref,df_freq,on='customer_id',how='left')\n"
      ],
      "metadata": {
        "id": "qcDaDdjgKdwI"
      },
      "execution_count": 162,
      "outputs": []
    },
    {
      "cell_type": "code",
      "source": [
        "#average ticket\n",
        "df_avg_ticket= df2_purchases.loc[:,['customer_id','gross_revenue']].groupby('customer_id').mean().reset_index().rename(columns={'gross_revenue':'avg_ticket'})\n",
        "\n",
        "df_ref= pd.merge(df_ref,df_avg_ticket,on='customer_id',how='left')\n"
      ],
      "metadata": {
        "id": "5YZtnB78KfA4"
      },
      "execution_count": 163,
      "outputs": []
    },
    {
      "cell_type": "code",
      "source": [
        "df_ref.head()"
      ],
      "metadata": {
        "colab": {
          "base_uri": "https://localhost:8080/",
          "height": 206
        },
        "id": "CugFfhnBQItB",
        "outputId": "ace9939c-bd92-45d3-8189-ed114ba60590"
      },
      "execution_count": 164,
      "outputs": [
        {
          "output_type": "execute_result",
          "data": {
            "text/plain": [
              "   customer_id  gross_revenue  recency_days  invoice_no  avg_ticket\n",
              "0        17850        5391.21         372.0        34.0   18.152222\n",
              "1        13047        3232.59          56.0         9.0   18.904035\n",
              "2        12583        6705.38           2.0        15.0   28.902500\n",
              "3        13748         948.25          95.0         5.0   33.866071\n",
              "4        15100         876.00         333.0         3.0  292.000000"
            ],
            "text/html": [
              "\n",
              "  <div id=\"df-c61cdfe8-1807-4399-a8df-d42814274924\">\n",
              "    <div class=\"colab-df-container\">\n",
              "      <div>\n",
              "<style scoped>\n",
              "    .dataframe tbody tr th:only-of-type {\n",
              "        vertical-align: middle;\n",
              "    }\n",
              "\n",
              "    .dataframe tbody tr th {\n",
              "        vertical-align: top;\n",
              "    }\n",
              "\n",
              "    .dataframe thead th {\n",
              "        text-align: right;\n",
              "    }\n",
              "</style>\n",
              "<table border=\"1\" class=\"dataframe\">\n",
              "  <thead>\n",
              "    <tr style=\"text-align: right;\">\n",
              "      <th></th>\n",
              "      <th>customer_id</th>\n",
              "      <th>gross_revenue</th>\n",
              "      <th>recency_days</th>\n",
              "      <th>invoice_no</th>\n",
              "      <th>avg_ticket</th>\n",
              "    </tr>\n",
              "  </thead>\n",
              "  <tbody>\n",
              "    <tr>\n",
              "      <th>0</th>\n",
              "      <td>17850</td>\n",
              "      <td>5391.21</td>\n",
              "      <td>372.0</td>\n",
              "      <td>34.0</td>\n",
              "      <td>18.152222</td>\n",
              "    </tr>\n",
              "    <tr>\n",
              "      <th>1</th>\n",
              "      <td>13047</td>\n",
              "      <td>3232.59</td>\n",
              "      <td>56.0</td>\n",
              "      <td>9.0</td>\n",
              "      <td>18.904035</td>\n",
              "    </tr>\n",
              "    <tr>\n",
              "      <th>2</th>\n",
              "      <td>12583</td>\n",
              "      <td>6705.38</td>\n",
              "      <td>2.0</td>\n",
              "      <td>15.0</td>\n",
              "      <td>28.902500</td>\n",
              "    </tr>\n",
              "    <tr>\n",
              "      <th>3</th>\n",
              "      <td>13748</td>\n",
              "      <td>948.25</td>\n",
              "      <td>95.0</td>\n",
              "      <td>5.0</td>\n",
              "      <td>33.866071</td>\n",
              "    </tr>\n",
              "    <tr>\n",
              "      <th>4</th>\n",
              "      <td>15100</td>\n",
              "      <td>876.00</td>\n",
              "      <td>333.0</td>\n",
              "      <td>3.0</td>\n",
              "      <td>292.000000</td>\n",
              "    </tr>\n",
              "  </tbody>\n",
              "</table>\n",
              "</div>\n",
              "      <button class=\"colab-df-convert\" onclick=\"convertToInteractive('df-c61cdfe8-1807-4399-a8df-d42814274924')\"\n",
              "              title=\"Convert this dataframe to an interactive table.\"\n",
              "              style=\"display:none;\">\n",
              "        \n",
              "  <svg xmlns=\"http://www.w3.org/2000/svg\" height=\"24px\"viewBox=\"0 0 24 24\"\n",
              "       width=\"24px\">\n",
              "    <path d=\"M0 0h24v24H0V0z\" fill=\"none\"/>\n",
              "    <path d=\"M18.56 5.44l.94 2.06.94-2.06 2.06-.94-2.06-.94-.94-2.06-.94 2.06-2.06.94zm-11 1L8.5 8.5l.94-2.06 2.06-.94-2.06-.94L8.5 2.5l-.94 2.06-2.06.94zm10 10l.94 2.06.94-2.06 2.06-.94-2.06-.94-.94-2.06-.94 2.06-2.06.94z\"/><path d=\"M17.41 7.96l-1.37-1.37c-.4-.4-.92-.59-1.43-.59-.52 0-1.04.2-1.43.59L10.3 9.45l-7.72 7.72c-.78.78-.78 2.05 0 2.83L4 21.41c.39.39.9.59 1.41.59.51 0 1.02-.2 1.41-.59l7.78-7.78 2.81-2.81c.8-.78.8-2.07 0-2.86zM5.41 20L4 18.59l7.72-7.72 1.47 1.35L5.41 20z\"/>\n",
              "  </svg>\n",
              "      </button>\n",
              "      \n",
              "  <style>\n",
              "    .colab-df-container {\n",
              "      display:flex;\n",
              "      flex-wrap:wrap;\n",
              "      gap: 12px;\n",
              "    }\n",
              "\n",
              "    .colab-df-convert {\n",
              "      background-color: #E8F0FE;\n",
              "      border: none;\n",
              "      border-radius: 50%;\n",
              "      cursor: pointer;\n",
              "      display: none;\n",
              "      fill: #1967D2;\n",
              "      height: 32px;\n",
              "      padding: 0 0 0 0;\n",
              "      width: 32px;\n",
              "    }\n",
              "\n",
              "    .colab-df-convert:hover {\n",
              "      background-color: #E2EBFA;\n",
              "      box-shadow: 0px 1px 2px rgba(60, 64, 67, 0.3), 0px 1px 3px 1px rgba(60, 64, 67, 0.15);\n",
              "      fill: #174EA6;\n",
              "    }\n",
              "\n",
              "    [theme=dark] .colab-df-convert {\n",
              "      background-color: #3B4455;\n",
              "      fill: #D2E3FC;\n",
              "    }\n",
              "\n",
              "    [theme=dark] .colab-df-convert:hover {\n",
              "      background-color: #434B5C;\n",
              "      box-shadow: 0px 1px 3px 1px rgba(0, 0, 0, 0.15);\n",
              "      filter: drop-shadow(0px 1px 2px rgba(0, 0, 0, 0.3));\n",
              "      fill: #FFFFFF;\n",
              "    }\n",
              "  </style>\n",
              "\n",
              "      <script>\n",
              "        const buttonEl =\n",
              "          document.querySelector('#df-c61cdfe8-1807-4399-a8df-d42814274924 button.colab-df-convert');\n",
              "        buttonEl.style.display =\n",
              "          google.colab.kernel.accessAllowed ? 'block' : 'none';\n",
              "\n",
              "        async function convertToInteractive(key) {\n",
              "          const element = document.querySelector('#df-c61cdfe8-1807-4399-a8df-d42814274924');\n",
              "          const dataTable =\n",
              "            await google.colab.kernel.invokeFunction('convertToInteractive',\n",
              "                                                     [key], {});\n",
              "          if (!dataTable) return;\n",
              "\n",
              "          const docLinkHtml = 'Like what you see? Visit the ' +\n",
              "            '<a target=\"_blank\" href=https://colab.research.google.com/notebooks/data_table.ipynb>data table notebook</a>'\n",
              "            + ' to learn more about interactive tables.';\n",
              "          element.innerHTML = '';\n",
              "          dataTable['output_type'] = 'display_data';\n",
              "          await google.colab.output.renderOutput(dataTable, element);\n",
              "          const docLink = document.createElement('div');\n",
              "          docLink.innerHTML = docLinkHtml;\n",
              "          element.appendChild(docLink);\n",
              "        }\n",
              "      </script>\n",
              "    </div>\n",
              "  </div>\n",
              "  "
            ]
          },
          "metadata": {},
          "execution_count": 164
        }
      ]
    },
    {
      "cell_type": "markdown",
      "source": [
        "# 4.0 EDA\n"
      ],
      "metadata": {
        "id": "6PErmvAwb4D7"
      }
    },
    {
      "cell_type": "code",
      "source": [
        "df4= df_ref.dropna().copy()"
      ],
      "metadata": {
        "id": "LQi_hT19b3ZM"
      },
      "execution_count": 166,
      "outputs": []
    },
    {
      "cell_type": "markdown",
      "source": [
        "# 5.0 DATA PREPARATION"
      ],
      "metadata": {
        "id": "sXaUWGlcb8BZ"
      }
    },
    {
      "cell_type": "code",
      "source": [
        "df5 = df4.copy()"
      ],
      "metadata": {
        "id": "Dk8GjxwUb7Xg"
      },
      "execution_count": 187,
      "outputs": []
    },
    {
      "cell_type": "code",
      "source": [
        "## Standard Scaler\n",
        "ss= pp.StandardScaler()\n",
        "\n",
        "df5['gross_revenue']= ss.fit_transform(df5[['gross_revenue']])\n",
        "df5['recency_days']= ss.fit_transform(df5[['recency_days']])\n",
        "df5['invoice_no']= ss.fit_transform(df5[['invoice_no']])\n",
        "df5['avg_ticket']= ss.fit_transform(df5[['avg_ticket']])\n"
      ],
      "metadata": {
        "id": "msJGQFpXnV8K"
      },
      "execution_count": 190,
      "outputs": []
    },
    {
      "cell_type": "code",
      "source": [
        "df5.head()"
      ],
      "metadata": {
        "colab": {
          "base_uri": "https://localhost:8080/",
          "height": 206
        },
        "id": "XlR-VApypBhx",
        "outputId": "df39780f-6752-4e7e-caa5-6981c5b892e0"
      },
      "execution_count": 191,
      "outputs": [
        {
          "output_type": "execute_result",
          "data": {
            "text/plain": [
              "   customer_id  gross_revenue  recency_days  invoice_no  avg_ticket\n",
              "0        17850       0.378073      2.791512    3.893141   -0.033934\n",
              "1        13047       0.135815     -0.361004    0.621632   -0.033422\n",
              "2        12583       0.525560     -0.899726    1.406794   -0.026617\n",
              "3        13748      -0.120552      0.028072    0.098191   -0.023239\n",
              "4        15100      -0.128660      2.402435   -0.163530    0.152448"
            ],
            "text/html": [
              "\n",
              "  <div id=\"df-13841bf8-9efe-474e-a639-bbac6f43ea6e\">\n",
              "    <div class=\"colab-df-container\">\n",
              "      <div>\n",
              "<style scoped>\n",
              "    .dataframe tbody tr th:only-of-type {\n",
              "        vertical-align: middle;\n",
              "    }\n",
              "\n",
              "    .dataframe tbody tr th {\n",
              "        vertical-align: top;\n",
              "    }\n",
              "\n",
              "    .dataframe thead th {\n",
              "        text-align: right;\n",
              "    }\n",
              "</style>\n",
              "<table border=\"1\" class=\"dataframe\">\n",
              "  <thead>\n",
              "    <tr style=\"text-align: right;\">\n",
              "      <th></th>\n",
              "      <th>customer_id</th>\n",
              "      <th>gross_revenue</th>\n",
              "      <th>recency_days</th>\n",
              "      <th>invoice_no</th>\n",
              "      <th>avg_ticket</th>\n",
              "    </tr>\n",
              "  </thead>\n",
              "  <tbody>\n",
              "    <tr>\n",
              "      <th>0</th>\n",
              "      <td>17850</td>\n",
              "      <td>0.378073</td>\n",
              "      <td>2.791512</td>\n",
              "      <td>3.893141</td>\n",
              "      <td>-0.033934</td>\n",
              "    </tr>\n",
              "    <tr>\n",
              "      <th>1</th>\n",
              "      <td>13047</td>\n",
              "      <td>0.135815</td>\n",
              "      <td>-0.361004</td>\n",
              "      <td>0.621632</td>\n",
              "      <td>-0.033422</td>\n",
              "    </tr>\n",
              "    <tr>\n",
              "      <th>2</th>\n",
              "      <td>12583</td>\n",
              "      <td>0.525560</td>\n",
              "      <td>-0.899726</td>\n",
              "      <td>1.406794</td>\n",
              "      <td>-0.026617</td>\n",
              "    </tr>\n",
              "    <tr>\n",
              "      <th>3</th>\n",
              "      <td>13748</td>\n",
              "      <td>-0.120552</td>\n",
              "      <td>0.028072</td>\n",
              "      <td>0.098191</td>\n",
              "      <td>-0.023239</td>\n",
              "    </tr>\n",
              "    <tr>\n",
              "      <th>4</th>\n",
              "      <td>15100</td>\n",
              "      <td>-0.128660</td>\n",
              "      <td>2.402435</td>\n",
              "      <td>-0.163530</td>\n",
              "      <td>0.152448</td>\n",
              "    </tr>\n",
              "  </tbody>\n",
              "</table>\n",
              "</div>\n",
              "      <button class=\"colab-df-convert\" onclick=\"convertToInteractive('df-13841bf8-9efe-474e-a639-bbac6f43ea6e')\"\n",
              "              title=\"Convert this dataframe to an interactive table.\"\n",
              "              style=\"display:none;\">\n",
              "        \n",
              "  <svg xmlns=\"http://www.w3.org/2000/svg\" height=\"24px\"viewBox=\"0 0 24 24\"\n",
              "       width=\"24px\">\n",
              "    <path d=\"M0 0h24v24H0V0z\" fill=\"none\"/>\n",
              "    <path d=\"M18.56 5.44l.94 2.06.94-2.06 2.06-.94-2.06-.94-.94-2.06-.94 2.06-2.06.94zm-11 1L8.5 8.5l.94-2.06 2.06-.94-2.06-.94L8.5 2.5l-.94 2.06-2.06.94zm10 10l.94 2.06.94-2.06 2.06-.94-2.06-.94-.94-2.06-.94 2.06-2.06.94z\"/><path d=\"M17.41 7.96l-1.37-1.37c-.4-.4-.92-.59-1.43-.59-.52 0-1.04.2-1.43.59L10.3 9.45l-7.72 7.72c-.78.78-.78 2.05 0 2.83L4 21.41c.39.39.9.59 1.41.59.51 0 1.02-.2 1.41-.59l7.78-7.78 2.81-2.81c.8-.78.8-2.07 0-2.86zM5.41 20L4 18.59l7.72-7.72 1.47 1.35L5.41 20z\"/>\n",
              "  </svg>\n",
              "      </button>\n",
              "      \n",
              "  <style>\n",
              "    .colab-df-container {\n",
              "      display:flex;\n",
              "      flex-wrap:wrap;\n",
              "      gap: 12px;\n",
              "    }\n",
              "\n",
              "    .colab-df-convert {\n",
              "      background-color: #E8F0FE;\n",
              "      border: none;\n",
              "      border-radius: 50%;\n",
              "      cursor: pointer;\n",
              "      display: none;\n",
              "      fill: #1967D2;\n",
              "      height: 32px;\n",
              "      padding: 0 0 0 0;\n",
              "      width: 32px;\n",
              "    }\n",
              "\n",
              "    .colab-df-convert:hover {\n",
              "      background-color: #E2EBFA;\n",
              "      box-shadow: 0px 1px 2px rgba(60, 64, 67, 0.3), 0px 1px 3px 1px rgba(60, 64, 67, 0.15);\n",
              "      fill: #174EA6;\n",
              "    }\n",
              "\n",
              "    [theme=dark] .colab-df-convert {\n",
              "      background-color: #3B4455;\n",
              "      fill: #D2E3FC;\n",
              "    }\n",
              "\n",
              "    [theme=dark] .colab-df-convert:hover {\n",
              "      background-color: #434B5C;\n",
              "      box-shadow: 0px 1px 3px 1px rgba(0, 0, 0, 0.15);\n",
              "      filter: drop-shadow(0px 1px 2px rgba(0, 0, 0, 0.3));\n",
              "      fill: #FFFFFF;\n",
              "    }\n",
              "  </style>\n",
              "\n",
              "      <script>\n",
              "        const buttonEl =\n",
              "          document.querySelector('#df-13841bf8-9efe-474e-a639-bbac6f43ea6e button.colab-df-convert');\n",
              "        buttonEl.style.display =\n",
              "          google.colab.kernel.accessAllowed ? 'block' : 'none';\n",
              "\n",
              "        async function convertToInteractive(key) {\n",
              "          const element = document.querySelector('#df-13841bf8-9efe-474e-a639-bbac6f43ea6e');\n",
              "          const dataTable =\n",
              "            await google.colab.kernel.invokeFunction('convertToInteractive',\n",
              "                                                     [key], {});\n",
              "          if (!dataTable) return;\n",
              "\n",
              "          const docLinkHtml = 'Like what you see? Visit the ' +\n",
              "            '<a target=\"_blank\" href=https://colab.research.google.com/notebooks/data_table.ipynb>data table notebook</a>'\n",
              "            + ' to learn more about interactive tables.';\n",
              "          element.innerHTML = '';\n",
              "          dataTable['output_type'] = 'display_data';\n",
              "          await google.colab.output.renderOutput(dataTable, element);\n",
              "          const docLink = document.createElement('div');\n",
              "          docLink.innerHTML = docLinkHtml;\n",
              "          element.appendChild(docLink);\n",
              "        }\n",
              "      </script>\n",
              "    </div>\n",
              "  </div>\n",
              "  "
            ]
          },
          "metadata": {},
          "execution_count": 191
        }
      ]
    },
    {
      "cell_type": "code",
      "source": [
        "sns.distplot(np.log(df5['gross_revenue']))"
      ],
      "metadata": {
        "colab": {
          "base_uri": "https://localhost:8080/",
          "height": 468
        },
        "id": "fC0qv4C5pJ-x",
        "outputId": "788209e9-3ec3-46bb-ecfd-ed701eade766"
      },
      "execution_count": 195,
      "outputs": [
        {
          "output_type": "stream",
          "name": "stderr",
          "text": [
            "/usr/local/lib/python3.8/dist-packages/pandas/core/arraylike.py:364: RuntimeWarning: invalid value encountered in log\n",
            "  result = getattr(ufunc, method)(*inputs, **kwargs)\n",
            "/usr/local/lib/python3.8/dist-packages/seaborn/distributions.py:2619: FutureWarning: `distplot` is a deprecated function and will be removed in a future version. Please adapt your code to use either `displot` (a figure-level function with similar flexibility) or `histplot` (an axes-level function for histograms).\n",
            "  warnings.warn(msg, FutureWarning)\n"
          ]
        },
        {
          "output_type": "execute_result",
          "data": {
            "text/plain": [
              "<matplotlib.axes._subplots.AxesSubplot at 0x7f3c33ae6100>"
            ]
          },
          "metadata": {},
          "execution_count": 195
        },
        {
          "output_type": "display_data",
          "data": {
            "text/plain": [
              "<Figure size 576x396 with 1 Axes>"
            ],
            "image/png": "[encoded data removed]"
          },
          "metadata": {}
        }
      ]
    },
    {
      "cell_type": "markdown",
      "source": [
        "# 6.0 FEATURE SELECTION"
      ],
      "metadata": {
        "id": "aEQoWmGlcAMY"
      }
    },
    {
      "cell_type": "code",
      "source": [
        "df6= df5.copy()"
      ],
      "metadata": {
        "id": "XZfp9dl8b_E2"
      },
      "execution_count": 196,
      "outputs": []
    },
    {
      "cell_type": "markdown",
      "source": [
        "#7.0 Hyperparameter Fine-Tuning"
      ],
      "metadata": {
        "id": "E5mlN58KcGh4"
      }
    },
    {
      "cell_type": "code",
      "source": [
        "X= df6.drop(columns=['customer_id'])"
      ],
      "metadata": {
        "id": "dwx9dRNHcDpu"
      },
      "execution_count": 197,
      "outputs": []
    },
    {
      "cell_type": "code",
      "source": [
        "X.head()"
      ],
      "metadata": {
        "colab": {
          "base_uri": "https://localhost:8080/",
          "height": 206
        },
        "id": "p_tFcKTISdgC",
        "outputId": "bd1b5782-ec0c-46cd-cabc-60e96d2f6377"
      },
      "execution_count": 198,
      "outputs": [
        {
          "output_type": "execute_result",
          "data": {
            "text/plain": [
              "   gross_revenue  recency_days  invoice_no  avg_ticket\n",
              "0       0.378073      2.791512    3.893141   -0.033934\n",
              "1       0.135815     -0.361004    0.621632   -0.033422\n",
              "2       0.525560     -0.899726    1.406794   -0.026617\n",
              "3      -0.120552      0.028072    0.098191   -0.023239\n",
              "4      -0.128660      2.402435   -0.163530    0.152448"
            ],
            "text/html": [
              "\n",
              "  <div id=\"df-af230511-5437-4bd1-80f5-bdf8f1d31e72\">\n",
              "    <div class=\"colab-df-container\">\n",
              "      <div>\n",
              "<style scoped>\n",
              "    .dataframe tbody tr th:only-of-type {\n",
              "        vertical-align: middle;\n",
              "    }\n",
              "\n",
              "    .dataframe tbody tr th {\n",
              "        vertical-align: top;\n",
              "    }\n",
              "\n",
              "    .dataframe thead th {\n",
              "        text-align: right;\n",
              "    }\n",
              "</style>\n",
              "<table border=\"1\" class=\"dataframe\">\n",
              "  <thead>\n",
              "    <tr style=\"text-align: right;\">\n",
              "      <th></th>\n",
              "      <th>gross_revenue</th>\n",
              "      <th>recency_days</th>\n",
              "      <th>invoice_no</th>\n",
              "      <th>avg_ticket</th>\n",
              "    </tr>\n",
              "  </thead>\n",
              "  <tbody>\n",
              "    <tr>\n",
              "      <th>0</th>\n",
              "      <td>0.378073</td>\n",
              "      <td>2.791512</td>\n",
              "      <td>3.893141</td>\n",
              "      <td>-0.033934</td>\n",
              "    </tr>\n",
              "    <tr>\n",
              "      <th>1</th>\n",
              "      <td>0.135815</td>\n",
              "      <td>-0.361004</td>\n",
              "      <td>0.621632</td>\n",
              "      <td>-0.033422</td>\n",
              "    </tr>\n",
              "    <tr>\n",
              "      <th>2</th>\n",
              "      <td>0.525560</td>\n",
              "      <td>-0.899726</td>\n",
              "      <td>1.406794</td>\n",
              "      <td>-0.026617</td>\n",
              "    </tr>\n",
              "    <tr>\n",
              "      <th>3</th>\n",
              "      <td>-0.120552</td>\n",
              "      <td>0.028072</td>\n",
              "      <td>0.098191</td>\n",
              "      <td>-0.023239</td>\n",
              "    </tr>\n",
              "    <tr>\n",
              "      <th>4</th>\n",
              "      <td>-0.128660</td>\n",
              "      <td>2.402435</td>\n",
              "      <td>-0.163530</td>\n",
              "      <td>0.152448</td>\n",
              "    </tr>\n",
              "  </tbody>\n",
              "</table>\n",
              "</div>\n",
              "      <button class=\"colab-df-convert\" onclick=\"convertToInteractive('df-af230511-5437-4bd1-80f5-bdf8f1d31e72')\"\n",
              "              title=\"Convert this dataframe to an interactive table.\"\n",
              "              style=\"display:none;\">\n",
              "        \n",
              "  <svg xmlns=\"http://www.w3.org/2000/svg\" height=\"24px\"viewBox=\"0 0 24 24\"\n",
              "       width=\"24px\">\n",
              "    <path d=\"M0 0h24v24H0V0z\" fill=\"none\"/>\n",
              "    <path d=\"M18.56 5.44l.94 2.06.94-2.06 2.06-.94-2.06-.94-.94-2.06-.94 2.06-2.06.94zm-11 1L8.5 8.5l.94-2.06 2.06-.94-2.06-.94L8.5 2.5l-.94 2.06-2.06.94zm10 10l.94 2.06.94-2.06 2.06-.94-2.06-.94-.94-2.06-.94 2.06-2.06.94z\"/><path d=\"M17.41 7.96l-1.37-1.37c-.4-.4-.92-.59-1.43-.59-.52 0-1.04.2-1.43.59L10.3 9.45l-7.72 7.72c-.78.78-.78 2.05 0 2.83L4 21.41c.39.39.9.59 1.41.59.51 0 1.02-.2 1.41-.59l7.78-7.78 2.81-2.81c.8-.78.8-2.07 0-2.86zM5.41 20L4 18.59l7.72-7.72 1.47 1.35L5.41 20z\"/>\n",
              "  </svg>\n",
              "      </button>\n",
              "      \n",
              "  <style>\n",
              "    .colab-df-container {\n",
              "      display:flex;\n",
              "      flex-wrap:wrap;\n",
              "      gap: 12px;\n",
              "    }\n",
              "\n",
              "    .colab-df-convert {\n",
              "      background-color: #E8F0FE;\n",
              "      border: none;\n",
              "      border-radius: 50%;\n",
              "      cursor: pointer;\n",
              "      display: none;\n",
              "      fill: #1967D2;\n",
              "      height: 32px;\n",
              "      padding: 0 0 0 0;\n",
              "      width: 32px;\n",
              "    }\n",
              "\n",
              "    .colab-df-convert:hover {\n",
              "      background-color: #E2EBFA;\n",
              "      box-shadow: 0px 1px 2px rgba(60, 64, 67, 0.3), 0px 1px 3px 1px rgba(60, 64, 67, 0.15);\n",
              "      fill: #174EA6;\n",
              "    }\n",
              "\n",
              "    [theme=dark] .colab-df-convert {\n",
              "      background-color: #3B4455;\n",
              "      fill: #D2E3FC;\n",
              "    }\n",
              "\n",
              "    [theme=dark] .colab-df-convert:hover {\n",
              "      background-color: #434B5C;\n",
              "      box-shadow: 0px 1px 3px 1px rgba(0, 0, 0, 0.15);\n",
              "      filter: drop-shadow(0px 1px 2px rgba(0, 0, 0, 0.3));\n",
              "      fill: #FFFFFF;\n",
              "    }\n",
              "  </style>\n",
              "\n",
              "      <script>\n",
              "        const buttonEl =\n",
              "          document.querySelector('#df-af230511-5437-4bd1-80f5-bdf8f1d31e72 button.colab-df-convert');\n",
              "        buttonEl.style.display =\n",
              "          google.colab.kernel.accessAllowed ? 'block' : 'none';\n",
              "\n",
              "        async function convertToInteractive(key) {\n",
              "          const element = document.querySelector('#df-af230511-5437-4bd1-80f5-bdf8f1d31e72');\n",
              "          const dataTable =\n",
              "            await google.colab.kernel.invokeFunction('convertToInteractive',\n",
              "                                                     [key], {});\n",
              "          if (!dataTable) return;\n",
              "\n",
              "          const docLinkHtml = 'Like what you see? Visit the ' +\n",
              "            '<a target=\"_blank\" href=https://colab.research.google.com/notebooks/data_table.ipynb>data table notebook</a>'\n",
              "            + ' to learn more about interactive tables.';\n",
              "          element.innerHTML = '';\n",
              "          dataTable['output_type'] = 'display_data';\n",
              "          await google.colab.output.renderOutput(dataTable, element);\n",
              "          const docLink = document.createElement('div');\n",
              "          docLink.innerHTML = docLinkHtml;\n",
              "          element.appendChild(docLink);\n",
              "        }\n",
              "      </script>\n",
              "    </div>\n",
              "  </div>\n",
              "  "
            ]
          },
          "metadata": {},
          "execution_count": 198
        }
      ]
    },
    {
      "cell_type": "code",
      "source": [
        "clusters= [2,3,4,5,6,7]"
      ],
      "metadata": {
        "id": "o2asHxjNiYw6"
      },
      "execution_count": 199,
      "outputs": []
    },
    {
      "cell_type": "code",
      "source": [
        "#wss=[]\n",
        "#for k in clusters:\n",
        "  ##model definition\n",
        "  #kmeans= c.KMeans(init='random',n_clusters=k,n_init=10,max_iter=300,random_state=42)\n",
        "\n",
        "  ##model training\n",
        "  #kmeans.fit(X)\n",
        "\n",
        "  ##validation\n",
        "  #wss.append(kmeans.inertia_)\n",
        "\n",
        "##plot wss - elbow method\n",
        "#plt.plot(clusters,wss,linestyle='--',marker= 'o',color= 'b')\n",
        "#plt.xlabel('K');\n",
        "#plt.ylabel('Within-Cluster Sum of Square'); \n",
        "#plt.title('WSS vs K');"
      ],
      "metadata": {
        "id": "IfSBvQc-knBb"
      },
      "execution_count": 38,
      "outputs": []
    },
    {
      "cell_type": "code",
      "source": [
        "from yellowbrick.cluster import KElbowVisualizer\n",
        "\n",
        "kmeans= KElbowVisualizer(c.KMeans(), k=clusters,timings=False)\n",
        "kmeans.fit(X)\n",
        "kmeans.show()"
      ],
      "metadata": {
        "colab": {
          "base_uri": "https://localhost:8080/",
          "height": 393
        },
        "id": "Yy8mc0e1r8-4",
        "outputId": "5ea45000-a1ea-4938-80d4-4352d2101828"
      },
      "execution_count": 200,
      "outputs": [
        {
          "output_type": "display_data",
          "data": {
            "text/plain": [
              "<Figure size 576x396 with 1 Axes>"
            ],
            "image/png": "[encoded data removed]"
          },
          "metadata": {}
        },
        {
          "output_type": "execute_result",
          "data": {
            "text/plain": [
              "<matplotlib.axes._subplots.AxesSubplot at 0x7f3c33acd520>"
            ]
          },
          "metadata": {},
          "execution_count": 200
        }
      ]
    },
    {
      "cell_type": "code",
      "source": [
        "from yellowbrick.cluster import KElbowVisualizer\n",
        "kmeans= KElbowVisualizer(c.KMeans(),k=clusters,metric='silhouette',timings=False)\n",
        "kmeans.fit(X)\n",
        "kmeans.show()"
      ],
      "metadata": {
        "colab": {
          "base_uri": "https://localhost:8080/",
          "height": 393
        },
        "id": "oA5cbd3x2Mzl",
        "outputId": "0042c858-1252-403c-92df-1d502fe4e79b"
      },
      "execution_count": 201,
      "outputs": [
        {
          "output_type": "display_data",
          "data": {
            "text/plain": [
              "<Figure size 576x396 with 1 Axes>"
            ],
            "image/png": "[encoded data removed]"
          },
          "metadata": {}
        },
        {
          "output_type": "execute_result",
          "data": {
            "text/plain": [
              "<matplotlib.axes._subplots.AxesSubplot at 0x7f3c2a292f70>"
            ]
          },
          "metadata": {},
          "execution_count": 201
        }
      ]
    },
    {
      "cell_type": "markdown",
      "source": [
        "## 7.1 Silhouette Analysis"
      ],
      "metadata": {
        "id": "E_Pt99g3JGk9"
      }
    },
    {
      "cell_type": "code",
      "source": [
        "fig,ax= plt.subplots(3,2,figsize=(25,18))\n",
        "for k in clusters: \n",
        "  km= c.KMeans(n_clusters= k, init='random',n_init=10, max_iter=100, random_state=42)\n",
        "  q,mod= divmod(k,2)\n",
        "  visualizer= SilhouetteVisualizer(km, colors='yellowbrick',ax= ax[q-1][mod])\n",
        "  visualizer.fit(X)\n",
        "  visualizer.finalize()"
      ],
      "metadata": {
        "colab": {
          "base_uri": "https://localhost:8080/",
          "height": 859
        },
        "id": "qvgccKoBJOrM",
        "outputId": "04136e5c-e168-44be-c6fc-5ddccae34ff2"
      },
      "execution_count": 202,
      "outputs": [
        {
          "output_type": "display_data",
          "data": {
            "text/plain": [
              "<Figure size 1800x1296 with 6 Axes>"
            ],
            "image/png": "[encoded data removed]"
          },
          "metadata": {}
        }
      ]
    },
    {
      "cell_type": "markdown",
      "source": [
        "# 8.0 MODEL TRAINING"
      ],
      "metadata": {
        "id": "DTNuCDyVfniS"
      }
    },
    {
      "cell_type": "markdown",
      "source": [
        "## 8.1 K-MEANS"
      ],
      "metadata": {
        "id": "2-1W44EDKk96"
      }
    },
    {
      "cell_type": "code",
      "source": [
        "#model definition\n",
        "k=3\n",
        "kmeans= c.KMeans(init='random', n_clusters= k, n_init= 10, max_iter= 300)\n",
        "#model training\n",
        "kmeans.fit(X)\n",
        "\n",
        "#clustering\n",
        "labels= kmeans.labels_"
      ],
      "metadata": {
        "id": "XYt8G1eccbyZ"
      },
      "execution_count": 203,
      "outputs": []
    },
    {
      "cell_type": "markdown",
      "source": [
        "## 8.2 Cluster Validation"
      ],
      "metadata": {
        "id": "Yls19dVRUKQ6"
      }
    },
    {
      "cell_type": "code",
      "source": [
        "from sklearn import metrics as m"
      ],
      "metadata": {
        "id": "43x3TyUEURwK"
      },
      "execution_count": 205,
      "outputs": []
    },
    {
      "cell_type": "code",
      "source": [
        "#WSS\n",
        "print('WSS value: {}'.format(kmeans.inertia_))\n",
        " \n",
        "#SS\n",
        "print('SS value: {}'.format(m.silhouette_score(X,labels,metric='euclidean')))"
      ],
      "metadata": {
        "colab": {
          "base_uri": "https://localhost:8080/"
        },
        "id": "OWQiSJVIKdkF",
        "outputId": "0a4adea9-d52a-45e0-c74b-7e684b3086e2"
      },
      "execution_count": 206,
      "outputs": [
        {
          "output_type": "stream",
          "name": "stdout",
          "text": [
            "WSS value: 9408.255050647289\n",
            "SS value: 0.5893633811956627\n"
          ]
        }
      ]
    },
    {
      "cell_type": "markdown",
      "source": [
        "# 9.0 Cluster Analysis"
      ],
      "metadata": {
        "id": "5ef2UQJPoe4Q"
      }
    },
    {
      "cell_type": "code",
      "source": [
        "df9 = df6.copy()\n",
        "df9['cluster']= labels\n",
        "df9.head()"
      ],
      "metadata": {
        "id": "l2FXANpyLhkA",
        "colab": {
          "base_uri": "https://localhost:8080/",
          "height": 206
        },
        "outputId": "95428762-44e8-4ab8-8f38-78aefc09bbc0"
      },
      "execution_count": 207,
      "outputs": [
        {
          "output_type": "execute_result",
          "data": {
            "text/plain": [
              "   customer_id  gross_revenue  recency_days  invoice_no  avg_ticket  cluster\n",
              "0        17850       0.378073      2.791512    3.893141   -0.033934        1\n",
              "1        13047       0.135815     -0.361004    0.621632   -0.033422        2\n",
              "2        12583       0.525560     -0.899726    1.406794   -0.026617        2\n",
              "3        13748      -0.120552      0.028072    0.098191   -0.023239        2\n",
              "4        15100      -0.128660      2.402435   -0.163530    0.152448        1"
            ],
            "text/html": [
              "\n",
              "  <div id=\"df-4c7e73c3-7052-4d60-9503-f7b96156ed1d\">\n",
              "    <div class=\"colab-df-container\">\n",
              "      <div>\n",
              "<style scoped>\n",
              "    .dataframe tbody tr th:only-of-type {\n",
              "        vertical-align: middle;\n",
              "    }\n",
              "\n",
              "    .dataframe tbody tr th {\n",
              "        vertical-align: top;\n",
              "    }\n",
              "\n",
              "    .dataframe thead th {\n",
              "        text-align: right;\n",
              "    }\n",
              "</style>\n",
              "<table border=\"1\" class=\"dataframe\">\n",
              "  <thead>\n",
              "    <tr style=\"text-align: right;\">\n",
              "      <th></th>\n",
              "      <th>customer_id</th>\n",
              "      <th>gross_revenue</th>\n",
              "      <th>recency_days</th>\n",
              "      <th>invoice_no</th>\n",
              "      <th>avg_ticket</th>\n",
              "      <th>cluster</th>\n",
              "    </tr>\n",
              "  </thead>\n",
              "  <tbody>\n",
              "    <tr>\n",
              "      <th>0</th>\n",
              "      <td>17850</td>\n",
              "      <td>0.378073</td>\n",
              "      <td>2.791512</td>\n",
              "      <td>3.893141</td>\n",
              "      <td>-0.033934</td>\n",
              "      <td>1</td>\n",
              "    </tr>\n",
              "    <tr>\n",
              "      <th>1</th>\n",
              "      <td>13047</td>\n",
              "      <td>0.135815</td>\n",
              "      <td>-0.361004</td>\n",
              "      <td>0.621632</td>\n",
              "      <td>-0.033422</td>\n",
              "      <td>2</td>\n",
              "    </tr>\n",
              "    <tr>\n",
              "      <th>2</th>\n",
              "      <td>12583</td>\n",
              "      <td>0.525560</td>\n",
              "      <td>-0.899726</td>\n",
              "      <td>1.406794</td>\n",
              "      <td>-0.026617</td>\n",
              "      <td>2</td>\n",
              "    </tr>\n",
              "    <tr>\n",
              "      <th>3</th>\n",
              "      <td>13748</td>\n",
              "      <td>-0.120552</td>\n",
              "      <td>0.028072</td>\n",
              "      <td>0.098191</td>\n",
              "      <td>-0.023239</td>\n",
              "      <td>2</td>\n",
              "    </tr>\n",
              "    <tr>\n",
              "      <th>4</th>\n",
              "      <td>15100</td>\n",
              "      <td>-0.128660</td>\n",
              "      <td>2.402435</td>\n",
              "      <td>-0.163530</td>\n",
              "      <td>0.152448</td>\n",
              "      <td>1</td>\n",
              "    </tr>\n",
              "  </tbody>\n",
              "</table>\n",
              "</div>\n",
              "      <button class=\"colab-df-convert\" onclick=\"convertToInteractive('df-4c7e73c3-7052-4d60-9503-f7b96156ed1d')\"\n",
              "              title=\"Convert this dataframe to an interactive table.\"\n",
              "              style=\"display:none;\">\n",
              "        \n",
              "  <svg xmlns=\"http://www.w3.org/2000/svg\" height=\"24px\"viewBox=\"0 0 24 24\"\n",
              "       width=\"24px\">\n",
              "    <path d=\"M0 0h24v24H0V0z\" fill=\"none\"/>\n",
              "    <path d=\"M18.56 5.44l.94 2.06.94-2.06 2.06-.94-2.06-.94-.94-2.06-.94 2.06-2.06.94zm-11 1L8.5 8.5l.94-2.06 2.06-.94-2.06-.94L8.5 2.5l-.94 2.06-2.06.94zm10 10l.94 2.06.94-2.06 2.06-.94-2.06-.94-.94-2.06-.94 2.06-2.06.94z\"/><path d=\"M17.41 7.96l-1.37-1.37c-.4-.4-.92-.59-1.43-.59-.52 0-1.04.2-1.43.59L10.3 9.45l-7.72 7.72c-.78.78-.78 2.05 0 2.83L4 21.41c.39.39.9.59 1.41.59.51 0 1.02-.2 1.41-.59l7.78-7.78 2.81-2.81c.8-.78.8-2.07 0-2.86zM5.41 20L4 18.59l7.72-7.72 1.47 1.35L5.41 20z\"/>\n",
              "  </svg>\n",
              "      </button>\n",
              "      \n",
              "  <style>\n",
              "    .colab-df-container {\n",
              "      display:flex;\n",
              "      flex-wrap:wrap;\n",
              "      gap: 12px;\n",
              "    }\n",
              "\n",
              "    .colab-df-convert {\n",
              "      background-color: #E8F0FE;\n",
              "      border: none;\n",
              "      border-radius: 50%;\n",
              "      cursor: pointer;\n",
              "      display: none;\n",
              "      fill: #1967D2;\n",
              "      height: 32px;\n",
              "      padding: 0 0 0 0;\n",
              "      width: 32px;\n",
              "    }\n",
              "\n",
              "    .colab-df-convert:hover {\n",
              "      background-color: #E2EBFA;\n",
              "      box-shadow: 0px 1px 2px rgba(60, 64, 67, 0.3), 0px 1px 3px 1px rgba(60, 64, 67, 0.15);\n",
              "      fill: #174EA6;\n",
              "    }\n",
              "\n",
              "    [theme=dark] .colab-df-convert {\n",
              "      background-color: #3B4455;\n",
              "      fill: #D2E3FC;\n",
              "    }\n",
              "\n",
              "    [theme=dark] .colab-df-convert:hover {\n",
              "      background-color: #434B5C;\n",
              "      box-shadow: 0px 1px 3px 1px rgba(0, 0, 0, 0.15);\n",
              "      filter: drop-shadow(0px 1px 2px rgba(0, 0, 0, 0.3));\n",
              "      fill: #FFFFFF;\n",
              "    }\n",
              "  </style>\n",
              "\n",
              "      <script>\n",
              "        const buttonEl =\n",
              "          document.querySelector('#df-4c7e73c3-7052-4d60-9503-f7b96156ed1d button.colab-df-convert');\n",
              "        buttonEl.style.display =\n",
              "          google.colab.kernel.accessAllowed ? 'block' : 'none';\n",
              "\n",
              "        async function convertToInteractive(key) {\n",
              "          const element = document.querySelector('#df-4c7e73c3-7052-4d60-9503-f7b96156ed1d');\n",
              "          const dataTable =\n",
              "            await google.colab.kernel.invokeFunction('convertToInteractive',\n",
              "                                                     [key], {});\n",
              "          if (!dataTable) return;\n",
              "\n",
              "          const docLinkHtml = 'Like what you see? Visit the ' +\n",
              "            '<a target=\"_blank\" href=https://colab.research.google.com/notebooks/data_table.ipynb>data table notebook</a>'\n",
              "            + ' to learn more about interactive tables.';\n",
              "          element.innerHTML = '';\n",
              "          dataTable['output_type'] = 'display_data';\n",
              "          await google.colab.output.renderOutput(dataTable, element);\n",
              "          const docLink = document.createElement('div');\n",
              "          docLink.innerHTML = docLinkHtml;\n",
              "          element.appendChild(docLink);\n",
              "        }\n",
              "      </script>\n",
              "    </div>\n",
              "  </div>\n",
              "  "
            ]
          },
          "metadata": {},
          "execution_count": 207
        }
      ]
    },
    {
      "cell_type": "markdown",
      "source": [
        "## 9.1 Visualization Inspection"
      ],
      "metadata": {
        "id": "FOFcPAYwoiiH"
      }
    },
    {
      "cell_type": "code",
      "source": [
        "visualizer= SilhouetteVisualizer(kmeans,colors='yellowbrick')\n",
        "visualizer.fit(X)\n",
        "visualizer.finalize()"
      ],
      "metadata": {
        "id": "q7TudPVt0J32",
        "colab": {
          "base_uri": "https://localhost:8080/",
          "height": 431
        },
        "outputId": "10028449-18a5-4ffa-d1ed-f8bb78d5f5b2"
      },
      "execution_count": 208,
      "outputs": [
        {
          "output_type": "stream",
          "name": "stderr",
          "text": [
            "/usr/local/lib/python3.8/dist-packages/sklearn/base.py:450: UserWarning: X does not have valid feature names, but KMeans was fitted with feature names\n",
            "  warnings.warn(\n"
          ]
        },
        {
          "output_type": "display_data",
          "data": {
            "text/plain": [
              "<Figure size 576x396 with 1 Axes>"
            ],
            "image/png": "[encoded data removed]"
          },
          "metadata": {}
        }
      ]
    },
    {
      "cell_type": "markdown",
      "source": [
        "## 9.2 2dplot"
      ],
      "metadata": {
        "id": "-orVU8GO1Z9V"
      }
    },
    {
      "cell_type": "code",
      "source": [
        "df_viz= df9.drop(columns='customer_id',axis=1)\n",
        "sns.pairplot(df_viz,hue='cluster')"
      ],
      "metadata": {
        "id": "6GDxpuAR1dx3",
        "colab": {
          "base_uri": "https://localhost:8080/",
          "height": 741
        },
        "outputId": "0d823832-e48a-4a60-b18e-767c36092c71"
      },
      "execution_count": 209,
      "outputs": [
        {
          "output_type": "execute_result",
          "data": {
            "text/plain": [
              "<seaborn.axisgrid.PairGrid at 0x7f3c2df029d0>"
            ]
          },
          "metadata": {},
          "execution_count": 209
        },
        {
          "output_type": "display_data",
          "data": {
            "text/plain": [
              "<Figure size 763.375x720 with 20 Axes>"
            ],
            "image/png": "[encoded data removed]"
          },
          "metadata": {}
        }
      ]
    },
    {
      "cell_type": "markdown",
      "source": [
        "## 9.3 UMAP"
      ],
      "metadata": {
        "id": "VQwIGG5gZjKG"
      }
    },
    {
      "cell_type": "code",
      "source": [
        "reducer= umap.UMAP(n_neighbors=35,random_state=42)\n",
        "embedding= reducer.fit_transform(X)\n",
        "\n",
        "#embedding\n",
        "df_viz['embedding_x']= embedding[:,0]\n",
        "df_viz['embedding_y']= embedding[:,1]\n",
        "\n",
        "#plot UMAP\n",
        "sns.scatterplot(x='embedding_x',y='embedding_y',\n",
        "                hue='cluster',\n",
        "                palette=sns.color_palette('hls',n_colors=len(df_viz['cluster'].unique())),\n",
        "                data= df_viz)"
      ],
      "metadata": {
        "id": "WCGvjde1ZrKU",
        "colab": {
          "base_uri": "https://localhost:8080/",
          "height": 379
        },
        "outputId": "c9f3e4f1-443f-40d4-ba1c-f36afb26b376"
      },
      "execution_count": 211,
      "outputs": [
        {
          "output_type": "execute_result",
          "data": {
            "text/plain": [
              "<matplotlib.axes._subplots.AxesSubplot at 0x7f3c296f6940>"
            ]
          },
          "metadata": {},
          "execution_count": 211
        },
        {
          "output_type": "display_data",
          "data": {
            "text/plain": [
              "<Figure size 576x396 with 1 Axes>"
            ],
            "image/png": "[encoded data removed]"
          },
          "metadata": {}
        }
      ]
    },
    {
      "cell_type": "code",
      "source": [],
      "metadata": {
        "id": "-ADCGDhGl4IX"
      },
      "execution_count": null,
      "outputs": []
    }
  ]
}